{
 "cells": [
  {
   "cell_type": "code",
   "execution_count": 7,
   "metadata": {
    "collapsed": true
   },
   "outputs": [],
   "source": [
    "from sympy import *\n",
    "init_printing() #muestra símbolos más agradab\n",
    "R=lambda n,d: Rational(n,d)\n",
    "\n"
   ]
  },
  {
   "cell_type": "code",
   "execution_count": 8,
   "metadata": {
    "collapsed": true
   },
   "outputs": [],
   "source": [
    "x,y,t=symbols('x,y,t')"
   ]
  },
  {
   "cell_type": "markdown",
   "metadata": {},
   "source": [
    "<h1> Ejercicio 1  <h1>"
   ]
  },
  {
   "cell_type": "code",
   "execution_count": 2,
   "metadata": {
    "collapsed": true
   },
   "outputs": [],
   "source": []
  },
  {
   "cell_type": "markdown",
   "metadata": {},
   "source": [
    "Si uno plantea el sistema queda de esta forma"
   ]
  },
  {
   "cell_type": "code",
   "execution_count": 5,
   "metadata": {
    "collapsed": false
   },
   "outputs": [
    {
     "data": {
      "image/png": "[encoded data removed]",
      "text/latex": [
       "$$\\left ( \\left[\\begin{matrix}- \\frac{t}{50} & 0 & 0\\\\\\frac{t}{50} & - \\frac{t}{25} & 0\\\\0 & \\frac{t}{25} & - \\frac{3 t}{50}\\end{matrix}\\right], \\quad \\left[\\begin{matrix}10\\\\10\\\\10\\end{matrix}\\right]\\right )$$"
      ],
      "text/plain": [
       "⎛⎡-t             ⎤      ⎞\n",
       "⎜⎢───   0     0  ⎥, ⎡10⎤⎟\n",
       "⎜⎢ 50            ⎥  ⎢  ⎥⎟\n",
       "⎜⎢               ⎥  ⎢10⎥⎟\n",
       "⎜⎢t    -t        ⎥  ⎢  ⎥⎟\n",
       "⎜⎢──   ───    0  ⎥  ⎣10⎦⎟\n",
       "⎜⎢50    25       ⎥      ⎟\n",
       "⎜⎢               ⎥      ⎟\n",
       "⎜⎢     t    -3⋅t ⎥      ⎟\n",
       "⎜⎢ 0   ──   ─────⎥      ⎟\n",
       "⎝⎣     25     50 ⎦      ⎠"
      ]
     },
     "execution_count": 5,
     "metadata": {},
     "output_type": "execute_result"
    }
   ],
   "source": [
    "t=symbols('t')\n",
    "A=Matrix([[-R(1,50),0,0],[R(1,50),-R(2,50),0],[0, +R(2,50),-R(3,50)]])*t\n",
    "A\n",
    "x0=Matrix([[10],[10],[10]])\n",
    "A, x0"
   ]
  },
  {
   "cell_type": "markdown",
   "metadata": {},
   "source": [
    "\"Resolvamoslo\""
   ]
  },
  {
   "cell_type": "code",
   "execution_count": 6,
   "metadata": {
    "collapsed": false
   },
   "outputs": [
    {
     "data": {
      "image/png": "[encoded data removed]",
      "text/latex": [
       "$$\\left[\\begin{matrix}\\frac{t^{10}}{9765625000000000} - \\frac{t^{9}}{195312500000000} + \\frac{t^{8}}{3906250000000} - \\frac{t^{7}}{78125000000} + \\frac{t^{6}}{1562500000} - \\frac{t^{5}}{31250000} + \\frac{t^{4}}{625000} - \\frac{t^{3}}{12500} + \\frac{t^{2}}{250} - \\frac{t}{5} + 10\\\\\\frac{t^{10}}{9765625000000000} - \\frac{t^{9}}{195312500000000} + \\frac{t^{8}}{3906250000000} - \\frac{t^{7}}{78125000000} + \\frac{t^{6}}{1562500000} - \\frac{t^{5}}{31250000} + \\frac{t^{4}}{625000} - \\frac{t^{3}}{12500} + \\frac{t^{2}}{250} - \\frac{t}{5} + 10\\\\\\frac{t^{10}}{9765625000000000} - \\frac{t^{9}}{195312500000000} + \\frac{t^{8}}{3906250000000} - \\frac{t^{7}}{78125000000} + \\frac{t^{6}}{1562500000} - \\frac{t^{5}}{31250000} + \\frac{t^{4}}{625000} - \\frac{t^{3}}{12500} + \\frac{t^{2}}{250} - \\frac{t}{5} + 10\\end{matrix}\\right]$$"
      ],
      "text/plain": [
       "⎡       10                  9                8              7            6    \n",
       "⎢      t                   t                t              t            t     \n",
       "⎢──────────────── - ─────────────── + ───────────── - ─────────── + ──────────\n",
       "⎢9765625000000000   195312500000000   3906250000000   78125000000   1562500000\n",
       "⎢                                                                             \n",
       "⎢       10                  9                8              7            6    \n",
       "⎢      t                   t                t              t            t     \n",
       "⎢──────────────── - ─────────────── + ───────────── - ─────────── + ──────────\n",
       "⎢9765625000000000   195312500000000   3906250000000   78125000000   1562500000\n",
       "⎢                                                                             \n",
       "⎢       10                  9                8              7            6    \n",
       "⎢      t                   t                t              t            t     \n",
       "⎢──────────────── - ─────────────── + ───────────── - ─────────── + ──────────\n",
       "⎣9765625000000000   195312500000000   3906250000000   78125000000   1562500000\n",
       "\n",
       "       5         4        3      2         ⎤\n",
       "      t         t        t      t    t     ⎥\n",
       " - ──────── + ────── - ───── + ─── - ─ + 10⎥\n",
       "   31250000   625000   12500   250   5     ⎥\n",
       "                                           ⎥\n",
       "       5         4        3      2         ⎥\n",
       "      t         t        t      t    t     ⎥\n",
       " - ──────── + ────── - ───── + ─── - ─ + 10⎥\n",
       "   31250000   625000   12500   250   5     ⎥\n",
       "                                           ⎥\n",
       "       5         4        3      2         ⎥\n",
       "      t         t        t      t    t     ⎥\n",
       " - ──────── + ────── - ───── + ─── - ─ + 10⎥\n",
       "   31250000   625000   12500   250   5     ⎦"
      ]
     },
     "execution_count": 6,
     "metadata": {},
     "output_type": "execute_result"
    }
   ],
   "source": [
    "n=10\n",
    "g=Matrix([[0],[0],[0]])\n",
    "for i in range(n+1):\n",
    "    g=g+A**i*x0\n",
    "g"
   ]
  },
  {
   "cell_type": "markdown",
   "metadata": {},
   "source": [
    "\"las soluciones son iguales\""
   ]
  },
  {
   "cell_type": "markdown",
   "metadata": {},
   "source": [
    "<h1>  Ejercicio 2 <h1>"
   ]
  },
  {
   "cell_type": "markdown",
   "metadata": {},
   "source": [
    " Reslover el problema \n",
    "\n",
    "\\begin{equation*}\n",
    "\\left\\{ \\begin{array}{cc}\n",
    "-u_{x}+u_{y}=u^2 & (x,y)\\in\\mathbb{R}^{2}\\\\\n",
    "u(x,0)=\\frac{1}{2}e^{-x} & x\\in \\mathbb{R}\n",
    "\\end{array}\n",
    "\\right.\n",
    "\\end{equation*}\n",
    "\n",
    "La solucion del problema es $u(x,t)=\\frac{1}{2e^{x+y}-y}$. Verifiquemoslo"
   ]
  },
  {
   "cell_type": "code",
   "execution_count": 9,
   "metadata": {
    "collapsed": false
   },
   "outputs": [
    {
     "data": {
      "image/png": "[encoded data removed]",
      "text/latex": [
       "$$\\frac{1}{- y + 2 e^{x + y}}$$"
      ],
      "text/plain": [
       "      1      \n",
       "─────────────\n",
       "        x + y\n",
       "-y + 2⋅ℯ     "
      ]
     },
     "execution_count": 9,
     "metadata": {},
     "output_type": "execute_result"
    }
   ],
   "source": [
    "u=(2*exp(x+y)-y)**(-1)\n",
    "u"
   ]
  },
  {
   "cell_type": "code",
   "execution_count": 11,
   "metadata": {
    "collapsed": false
   },
   "outputs": [
    {
     "data": {
      "image/png": "[encoded data removed]",
      "text/latex": [
       "$$0$$"
      ],
      "text/plain": [
       "0"
      ]
     },
     "execution_count": 11,
     "metadata": {},
     "output_type": "execute_result"
    }
   ],
   "source": [
    "((-u.diff(x)+u.diff(y))-u**2).factor()"
   ]
  },
  {
   "cell_type": "code",
   "execution_count": 12,
   "metadata": {
    "collapsed": false
   },
   "outputs": [
    {
     "data": {
      "image/png": "[encoded data removed]",
      "text/latex": [
       "$$\\frac{e^{- x}}{2}$$"
      ],
      "text/plain": [
       " -x\n",
       "ℯ  \n",
       "───\n",
       " 2 "
      ]
     },
     "execution_count": 12,
     "metadata": {},
     "output_type": "execute_result"
    }
   ],
   "source": [
    "u.subs(y,0)"
   ]
  },
  {
   "cell_type": "markdown",
   "metadata": {},
   "source": [
    "<h1>  Ejercicio 3 <h1>"
   ]
  },
  {
   "cell_type": "markdown",
   "metadata": {},
   "source": [
    "Sea $y=ax$ una recta que pasa por el origen. Sea $(x_0,y_0):=(x_0,y (x_0))$ el punto de corte entre la recta $y=ax$ y una solución de la ecuación $y'(x)=f(x,y)$, y sea $\\alpha$ el ángulo que forman las rectas $y=ax$  con la recta tangente $y=y'(x_0)(x-x_0)+y_0$ a la curva $(x,y(x))$ en el punto $(x_0,y_0)$.  Luego, el $\\cos (\\alpha)$ se puede calcular de esta manera\n",
    "\n",
    "$$  \\cos (\\alpha)=\\frac{u}{|| u||} \\cdot \\frac{v}{|| v||}$$\n",
    "donde $u$ y $v$ son vectores paralelos a las rectas $y=ax$ e $y=y'(x_0)(x-x_0)+y_0$ respectivamente.\n",
    "\n",
    "En la igualdad anterior podemos tomar $u=(x-x0,ax-ax_0)$ y $v=(x-x_0,y'(x_0)(x-x_0)+y_0-y_0)$, para algún $x\\neq x_0$. Luego, \n",
    "\n",
    "\\begin{equation*}\n",
    "\\begin{split}\n",
    "\\cos (\\alpha)&=\\frac{(x-x0,ax-ax_0)}{\\sqrt{1+a^2}|x-x_0 |}\\cdot \\frac{(x-x_0,y'(x_0)(x-x_0))}{\\sqrt{1+(y'(x_0))^2}|x-x_0 |}\\\\\n",
    "&=\\frac{(x-x_0)^2+(a+y'(x_0))(x-x_0)^2}{\\sqrt{(1+a^2)(1+(y'(x_0))^2)}(x-x_0)^2}\\\\\n",
    "&=\\frac{1+(a+y'(x_0))}{\\sqrt{(1+a^2)(1+(y'(x_0))^2)}}\\\\\n",
    "&=\\frac{1+(a+f(x_0,y_0))}{\\sqrt{(1+a^2)(1+(f(x_0,y_0))^2)}}\\\\\n",
    "&=\\frac{1+(a+f(1,\\frac{y_0}{x_0}))}{\\sqrt{(1+a^2)(1+(f(1,\\frac{y_0}{x_0}))^2)}}\\\\\n",
    "&=\\frac{1+(a+f(1,a))}{\\sqrt{(1+a^2)(1+(f(1,a))^2)}}.\n",
    "\\end{split}\n",
    "\\end{equation*}\n",
    "Y esta última expresión es independiente del punto $(x_0,y_0)$ donde la recta interseca a la curva solución de $y'=f(x,y)$.\n",
    "\n",
    "\n",
    "\n"
   ]
  },
  {
   "cell_type": "code",
   "execution_count": null,
   "metadata": {
    "collapsed": true
   },
   "outputs": [],
   "source": []
  },
  {
   "cell_type": "code",
   "execution_count": null,
   "metadata": {
    "collapsed": true
   },
   "outputs": [],
   "source": []
  },
  {
   "cell_type": "code",
   "execution_count": null,
   "metadata": {
    "collapsed": true
   },
   "outputs": [],
   "source": []
  },
  {
   "cell_type": "code",
   "execution_count": null,
   "metadata": {
    "collapsed": true
   },
   "outputs": [],
   "source": []
  }
 ],
 "metadata": {
  "kernelspec": {
   "display_name": "Python 2",
   "language": "python",
   "name": "python2"
  },
  "language_info": {
   "codemirror_mode": {
    "name": "ipython",
    "version": 2
   },
   "file_extension": ".py",
   "mimetype": "text/x-python",
   "name": "python",
   "nbconvert_exporter": "python",
   "pygments_lexer": "ipython2",
   "version": "2.7.11"
  }
 },
 "nbformat": 4,
 "nbformat_minor": 2
}
