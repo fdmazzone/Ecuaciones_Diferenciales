{
 "cells": [
  {
   "cell_type": "code",
   "execution_count": null,
   "metadata": {},
   "outputs": [],
   "source": []
  },
  {
   "cell_type": "code",
   "execution_count": 120,
   "metadata": {
    "collapsed": false
   },
   "outputs": [
    {
     "data": {
      "image/png": "[encoded data removed]",
      "text/latex": [
       "$$- \\eta_{1}{\\left (x \\right )} \\eta_{2}{\\left (y \\right )} \\frac{\\partial}{\\partial x} f{\\left (x,y \\right )} - \\eta_{1}{\\left (x \\right )} \\eta_{2}{\\left (y \\right )} \\frac{\\partial}{\\partial y} f{\\left (x,y \\right )} - \\eta_{1}{\\left (x \\right )} f^{2}{\\left (x,y \\right )} \\frac{d}{d y} \\eta_{2}{\\left (y \\right )} + \\eta_{1}{\\left (x \\right )} f{\\left (x,y \\right )} \\frac{d}{d y} \\eta_{2}{\\left (y \\right )} - \\eta_{2}{\\left (y \\right )} f{\\left (x,y \\right )} \\frac{d}{d x} \\eta_{1}{\\left (x \\right )} + \\eta_{2}{\\left (y \\right )} \\frac{d}{d x} \\eta_{1}{\\left (x \\right )}$$"
      ],
      "text/plain": [
       "              ∂                         ∂                    2       d        \n",
       "- η₁(x)⋅η₂(y)⋅──(f(x, y)) - η₁(x)⋅η₂(y)⋅──(f(x, y)) - η₁(x)⋅f (x, y)⋅──(η₂(y))\n",
       "              ∂x                        ∂y                           dy       \n",
       "\n",
       "                 d                         d                 d        \n",
       " + η₁(x)⋅f(x, y)⋅──(η₂(y)) - η₂(y)⋅f(x, y)⋅──(η₁(x)) + η₂(y)⋅──(η₁(x))\n",
       "                 dy                        dx                dx       "
      ]
     },
     "execution_count": 120,
     "metadata": {},
     "output_type": "execute_result"
    }
   ],
   "source": [
    "x,y=symbols('x,y')\n",
    "f=Function('f')(x,y)\n",
    "eta1=Function('eta_1')(x)\n",
    "eta2=Function('eta_2')(y)\n",
    "xi=0\n",
    "eta=eta1*eta2\n",
    "Q=eta-eta*f\n",
    "condSim=Q.diff(x)+f*Q.diff(y)-f.diff(y)*Q\n",
    "condSim.simplify()"
   ]
  },
  {
   "cell_type": "code",
   "execution_count": 123,
   "metadata": {},
   "outputs": [],
   "source": [
    "Q=(x+y)\n",
    "EcuaQ=simplify(Q.diff(x)+f*Q.diff(y)-f.diff(y)*Q)\n"
   ]
  },
  {
   "cell_type": "code",
   "execution_count": 124,
   "metadata": {},
   "outputs": [
    {
     "data": {
      "image/png": "[encoded data removed]",
      "text/latex": [
       "$$C_{1} x + C_{1} y - 1$$"
      ],
      "text/plain": [
       "C₁⋅x + C₁⋅y - 1"
      ]
     },
     "execution_count": 124,
     "metadata": {},
     "output_type": "execute_result"
    }
   ],
   "source": [
    "h=Function('h')(y)\n",
    "sol=dsolve( EcuaQ.subs(f,h),h).rhs\n",
    "sol"
   ]
  },
  {
   "cell_type": "code",
   "execution_count": 125,
   "metadata": {},
   "outputs": [
    {
     "data": {
      "image/png": "[encoded data removed]",
      "text/latex": [
       "$$x^{2} + x y - 1$$"
      ],
      "text/plain": [
       " 2          \n",
       "x  + x⋅y - 1"
      ]
     },
     "execution_count": 125,
     "metadata": {},
     "output_type": "execute_result"
    }
   ],
   "source": [
    "C1=symbols('C1')\n",
    "f=sol.subs(C1,x)\n",
    "f.simplify()"
   ]
  },
  {
   "cell_type": "code",
   "execution_count": 129,
   "metadata": {},
   "outputs": [
    {
     "data": {
      "image/png": "[encoded data removed]",
      "text/latex": [
       "$$\\left ( - \\frac{1}{x}, \\quad \\frac{1}{x}\\right )$$"
      ],
      "text/plain": [
       "⎛-1   1⎞\n",
       "⎜───, ─⎟\n",
       "⎝ x   x⎠"
      ]
     },
     "execution_count": 129,
     "metadata": {},
     "output_type": "execute_result"
    }
   ],
   "source": [
    "xi=-1/x\n",
    "eta=simplify(Q+f*xi)\n",
    "xi,eta"
   ]
  },
  {
   "cell_type": "code",
   "execution_count": 167,
   "metadata": {},
   "outputs": [
    {
     "data": {
      "image/png": "[encoded data removed]",
      "text/latex": [
       "$$- a x^{2} + a + b x^{2} - b - c x$$"
      ],
      "text/plain": [
       "     2          2          \n",
       "- a⋅x  + a + b⋅x  - b - c⋅x"
      ]
     },
     "execution_count": 167,
     "metadata": {},
     "output_type": "execute_result"
    }
   ],
   "source": [
    "f=x**2+x*y-1\n",
    "a,b,c=symbols('a,b,c')\n",
    "Q=(a*x+b*y+c)\n",
    "condSim=Q.diff(x)+f*Q.diff(y)-f.diff(y)*Q\n",
    "condSim=condSim.factor()\n",
    "condSim,nada=fraction(condSim)\n",
    "condSim \n"
   ]
  },
  {
   "cell_type": "code",
   "execution_count": 156,
   "metadata": {},
   "outputs": [
    {
     "data": {
      "image/png": "[encoded data removed]",
      "text/latex": [
       "$$a d y + a k - b c y - b k - c h + d h + x^{3} \\left(- a c - a d + b c\\right) + x^{2} \\left(- 2 a d y - a k + b k - c h - d h\\right) + x \\left(a d - b c - b d y^{2} - 2 d h y - h k\\right)$$"
      ],
      "text/plain": [
       "                                         3                       2            \n",
       "a⋅d⋅y + a⋅k - b⋅c⋅y - b⋅k - c⋅h + d⋅h + x ⋅(-a⋅c - a⋅d + b⋅c) + x ⋅(-2⋅a⋅d⋅y -\n",
       "\n",
       "                            ⎛                 2                ⎞\n",
       " a⋅k + b⋅k - c⋅h - d⋅h) + x⋅⎝a⋅d - b⋅c - b⋅d⋅y  - 2⋅d⋅h⋅y - h⋅k⎠"
      ]
     },
     "execution_count": 156,
     "metadata": {},
     "output_type": "execute_result"
    }
   ],
   "source": [
    "L =[-a*c-a*d+b*c, -2*a*d,a*d-b*c-h*k,a*d]"
   ]
  },
  {
   "cell_type": "code",
   "execution_count": 166,
   "metadata": {},
   "outputs": [
    {
     "data": {
      "image/png": "[encoded data removed]",
      "text/latex": [
       "$$\\left [ - b c - h k, \\quad - a k + b k - c h, \\quad - a c + b c\\right ]$$"
      ],
      "text/plain": [
       "[-b⋅c - h⋅k, -a⋅k + b⋅k - c⋅h, -a⋅c + b⋅c]"
      ]
     },
     "execution_count": 166,
     "metadata": {},
     "output_type": "execute_result"
    }
   ],
   "source": [
    "condSim.subs(d,0)\n",
    "\n",
    "L=[condSim.subs(d,0).coeff(x**i) for i in [1,2,3]]\n",
    "\n",
    "L"
   ]
  },
  {
   "cell_type": "code",
   "execution_count": 146,
   "metadata": {},
   "outputs": [
    {
     "data": {
      "image/png": "[encoded data removed]",
      "text/latex": [
       "$$a c - a d - b c + b d$$"
      ],
      "text/plain": [
       "a⋅c - a⋅d - b⋅c + b⋅d"
      ]
     },
     "execution_count": 146,
     "metadata": {},
     "output_type": "execute_result"
    }
   ],
   "source": [
    "eq4=condSim.subs({x:-1,y:1})\n",
    "eq4"
   ]
  },
  {
   "cell_type": "code",
   "execution_count": 147,
   "metadata": {},
   "outputs": [
    {
     "data": {
      "image/png": "[encoded data removed]",
      "text/latex": [
       "$$\\left [ \\left ( 0, \\quad 0, \\quad 0, \\quad d\\right ), \\quad \\left ( 0, \\quad 0, \\quad 0, \\quad d\\right ), \\quad \\left ( 0, \\quad 0, \\quad c, \\quad d\\right ), \\quad \\left ( 0, \\quad b, \\quad 0, \\quad 0\\right ), \\quad \\left ( 0, \\quad b, \\quad 0, \\quad 0\\right ), \\quad \\left ( a, \\quad b, \\quad 0, \\quad 0\\right )\\right ]$$"
      ],
      "text/plain": [
       "[(0, 0, 0, d), (0, 0, 0, d), (0, 0, c, d), (0, b, 0, 0), (0, b, 0, 0), (a, b, \n",
       "0, 0)]"
      ]
     },
     "execution_count": 147,
     "metadata": {},
     "output_type": "execute_result"
    }
   ],
   "source": [
    "solve([eq1,eq2,eq3,eq4],[a,b,c,d])"
   ]
  }
 ],
 "metadata": {
  "kernelspec": {
   "display_name": "Python 2",
   "language": "python",
   "name": "python2"
  },
  "language_info": {
   "codemirror_mode": {
    "name": "ipython",
    "version": 2
   },
   "file_extension": ".py",
   "mimetype": "text/x-python",
   "name": "python",
   "nbconvert_exporter": "python",
   "pygments_lexer": "ipython2",
   "version": "2.7.15"
  }
 },
 "nbformat": 4,
 "nbformat_minor": 2
}
