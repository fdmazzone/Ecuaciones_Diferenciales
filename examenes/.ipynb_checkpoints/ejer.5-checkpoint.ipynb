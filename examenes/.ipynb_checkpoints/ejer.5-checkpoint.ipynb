{
 "cells": [
  {
   "cell_type": "code",
   "execution_count": 1,
   "metadata": {
    "collapsed": true
   },
   "outputs": [],
   "source": [
    "from sympy import *\n",
    "init_printing() #muestra símbolos más agradab\n",
    "R=lambda n,d: Rational(n,d)"
   ]
  },
  {
   "cell_type": "code",
   "execution_count": 2,
   "metadata": {
    "collapsed": false
   },
   "outputs": [],
   "source": [
    "x,y,a,b,c,d,xi,eta=symbols('x,y,a,b,c,d,xi,eta',real=true)"
   ]
  },
  {
   "cell_type": "markdown",
   "metadata": {},
   "source": [
    "<h1>Ejercicio parcial:<h1>  Resolver $\\frac{dy}{dx}=\\frac{x y^{4}}{3} - \\frac{2 y}{3 x} + \\frac{1}{3 x^{3} y^{2}}$. Ayuda: hace el anzats $\\xi=ax+c$ y $\\eta=bx+d$ para encontrar las simetrías"
   ]
  },
  {
   "cell_type": "code",
   "execution_count": 4,
   "metadata": {
    "collapsed": false
   },
   "outputs": [
    {
     "data": {
      "image/png": "[encoded data removed]",
      "text/latex": [
       "$$\\frac{x y^{4}}{3} - \\frac{2 y}{3 x} + \\frac{1}{3 x^{3} y^{2}}$$"
      ],
      "text/plain": [
       "   4                \n",
       "x⋅y    2⋅y      1   \n",
       "──── - ─── + ───────\n",
       " 3     3⋅x      3  2\n",
       "             3⋅x ⋅y "
      ]
     },
     "execution_count": 4,
     "metadata": {},
     "output_type": "execute_result"
    }
   ],
   "source": [
    "#cargamos la función\n",
    "f=x*y**4/3-R(2,3)*y/x+R(1,3)/x**3/y**2\n",
    "f"
   ]
  },
  {
   "cell_type": "markdown",
   "metadata": {},
   "source": [
    "Hacemos el anzats para encontrar $\\xi=ax+c$ y $\\eta=bx+d$"
   ]
  },
  {
   "cell_type": "code",
   "execution_count": 5,
   "metadata": {
    "collapsed": false
   },
   "outputs": [
    {
     "data": {
      "image/png": "[encoded data removed]",
      "text/latex": [
       "$$\\left ( a x + c, \\quad b y + d\\right )$$"
      ],
      "text/plain": [
       "(a⋅x + c, b⋅y + d)"
      ]
     },
     "execution_count": 5,
     "metadata": {},
     "output_type": "execute_result"
    }
   ],
   "source": [
    "xi=a*x+c\n",
    "eta=b*y+d\n",
    "xi, eta"
   ]
  },
  {
   "cell_type": "code",
   "execution_count": 6,
   "metadata": {
    "collapsed": false
   },
   "outputs": [
    {
     "data": {
      "image/png": "[encoded data removed]",
      "text/latex": [
       "$$- \\frac{1}{3 x^{4} y^{3}} \\left(x^{2} y^{3} - 1\\right) \\left(2 a x^{3} y^{4} + 2 a x y + 3 b x^{3} y^{4} + 3 b x y + c x^{2} y^{4} + 3 c y + 4 d x^{3} y^{3} + 2 d x\\right)$$"
      ],
      "text/plain": [
       " ⎛ 2  3    ⎞ ⎛     3  4                  3  4                2  4             \n",
       "-⎝x ⋅y  - 1⎠⋅⎝2⋅a⋅x ⋅y  + 2⋅a⋅x⋅y + 3⋅b⋅x ⋅y  + 3⋅b⋅x⋅y + c⋅x ⋅y  + 3⋅c⋅y + 4⋅\n",
       "──────────────────────────────────────────────────────────────────────────────\n",
       "                                               4  3                           \n",
       "                                            3⋅x ⋅y                            \n",
       "\n",
       "   3  3        ⎞ \n",
       "d⋅x ⋅y  + 2⋅d⋅x⎠ \n",
       "─────────────────\n",
       "                 \n",
       "                 "
      ]
     },
     "execution_count": 6,
     "metadata": {},
     "output_type": "execute_result"
    }
   ],
   "source": [
    "(eta.diff(x)+(eta.diff(y)-xi.diff(x))*f-xi*f.diff(x)-eta*f.diff(y)).factor()"
   ]
  },
  {
   "cell_type": "markdown",
   "metadata": {},
   "source": [
    "Luego, $c=d=0$, $b=-\\frac23 a$, podemos tomar $a=1$"
   ]
  },
  {
   "cell_type": "code",
   "execution_count": null,
   "metadata": {
    "collapsed": true
   },
   "outputs": [],
   "source": []
  },
  {
   "cell_type": "markdown",
   "metadata": {},
   "source": [
    "Encontremos las coordenadas polares"
   ]
  },
  {
   "cell_type": "code",
   "execution_count": 6,
   "metadata": {
    "collapsed": false
   },
   "outputs": [
    {
     "data": {
      "image/png": "[encoded data removed]",
      "text/latex": [
       "$$\\left ( x, \\quad - \\frac{2}{3} y{\\left (x \\right )}\\right )$$"
      ],
      "text/plain": [
       "⎛   -2⋅y(x) ⎞\n",
       "⎜x, ────────⎟\n",
       "⎝      3    ⎠"
      ]
     },
     "execution_count": 6,
     "metadata": {},
     "output_type": "execute_result"
    }
   ],
   "source": [
    "y=Function('y')(x)\n",
    "xi=x\n",
    "eta=-R(2,3)*y\n",
    "xi, eta"
   ]
  },
  {
   "cell_type": "code",
   "execution_count": 7,
   "metadata": {
    "collapsed": false
   },
   "outputs": [
    {
     "data": {
      "image/png": "[encoded data removed]",
      "text/latex": [
       "$$y{\\left (x \\right )} = \\frac{C_{1}}{x^{\\frac{2}{3}}}$$"
      ],
      "text/plain": [
       "        C₁ \n",
       "y(x) = ────\n",
       "        2/3\n",
       "       x   "
      ]
     },
     "execution_count": 7,
     "metadata": {},
     "output_type": "execute_result"
    }
   ],
   "source": [
    "dsolve(Eq(y.diff(x),eta/xi),y)"
   ]
  },
  {
   "cell_type": "code",
   "execution_count": 8,
   "metadata": {
    "collapsed": false
   },
   "outputs": [
    {
     "data": {
      "image/png": "[encoded data removed]",
      "text/latex": [
       "$$x^{2} y^{3}$$"
      ],
      "text/plain": [
       " 2  3\n",
       "x ⋅y "
      ]
     },
     "execution_count": 8,
     "metadata": {},
     "output_type": "execute_result"
    }
   ],
   "source": [
    "y=symbols('y')\n",
    "r=x**2*y**3\n",
    "r"
   ]
  },
  {
   "cell_type": "code",
   "execution_count": 9,
   "metadata": {
    "collapsed": false
   },
   "outputs": [
    {
     "data": {
      "image/png": "[encoded data removed]",
      "text/latex": [
       "$$\\log{\\left (x \\right )}$$"
      ],
      "text/plain": [
       "log(x)"
      ]
     },
     "execution_count": 9,
     "metadata": {},
     "output_type": "execute_result"
    }
   ],
   "source": [
    "s=integrate(xi**(-1),x)\n",
    "s"
   ]
  },
  {
   "cell_type": "code",
   "execution_count": 10,
   "metadata": {
    "collapsed": false
   },
   "outputs": [
    {
     "data": {
      "image/png": "[encoded data removed]",
      "text/latex": [
       "$$\\left ( x^{2} y^{3}, \\quad \\log{\\left (\\left|{x}\\right| \\right )}\\right )$$"
      ],
      "text/plain": [
       "⎛ 2  3          ⎞\n",
       "⎝x ⋅y , log(│x│)⎠"
      ]
     },
     "execution_count": 10,
     "metadata": {},
     "output_type": "execute_result"
    }
   ],
   "source": [
    "s=log(abs(x))\n",
    "r, s"
   ]
  },
  {
   "cell_type": "markdown",
   "metadata": {},
   "source": [
    "Encontremos la ecuación $\\frac{dr}{ds}=??$"
   ]
  },
  {
   "cell_type": "code",
   "execution_count": 11,
   "metadata": {
    "collapsed": false
   },
   "outputs": [
    {
     "data": {
      "image/png": "[encoded data removed]",
      "text/latex": [
       "$$\\left ( x^{2} y^{3}{\\left (x \\right )}, \\quad \\log{\\left (\\left|{x}\\right| \\right )}, \\quad \\frac{x}{3} y^{4}{\\left (x \\right )} - \\frac{2}{3 x} y{\\left (x \\right )} + \\frac{1}{3 x^{3} y^{2}{\\left (x \\right )}}\\right )$$"
      ],
      "text/plain": [
       "⎛                       4                         ⎞\n",
       "⎜ 2  3               x⋅y (x)   2⋅y(x)       1     ⎟\n",
       "⎜x ⋅y (x), log(│x│), ─────── - ────── + ──────────⎟\n",
       "⎜                       3       3⋅x        3  2   ⎟\n",
       "⎝                                       3⋅x ⋅y (x)⎠"
      ]
     },
     "execution_count": 11,
     "metadata": {},
     "output_type": "execute_result"
    }
   ],
   "source": [
    "y=Function('y')(x)\n",
    "r=x**2*y**3\n",
    "s=log(abs(x))\n",
    "f=x*y**4/3-R(2,3)*y/x+R(1,3)/x**3/y**2\n",
    "r,s,f "
   ]
  },
  {
   "cell_type": "code",
   "execution_count": 12,
   "metadata": {
    "collapsed": false
   },
   "outputs": [
    {
     "data": {
      "image/png": "[encoded data removed]",
      "text/latex": [
       "$$\\frac{\\left(x^{4} y^{6}{\\left (x \\right )} + 1\\right) \\left|{x}\\right|}{x \\operatorname{sign}{\\left (x \\right )}}$$"
      ],
      "text/plain": [
       "⎛ 4  6       ⎞    \n",
       "⎝x ⋅y (x) + 1⎠⋅│x│\n",
       "──────────────────\n",
       "    x⋅sign(x)     "
      ]
     },
     "execution_count": 12,
     "metadata": {},
     "output_type": "execute_result"
    }
   ],
   "source": [
    "(r.diff(x)/s.diff(x)).subs(y.diff(x),f).simplify()"
   ]
  },
  {
   "cell_type": "markdown",
   "metadata": {},
   "source": [
    "Resolvamos $\\frac{dr}{ds}=1+r^2$"
   ]
  },
  {
   "cell_type": "code",
   "execution_count": 13,
   "metadata": {
    "collapsed": false
   },
   "outputs": [
    {
     "data": {
      "image/png": "[encoded data removed]",
      "text/latex": [
       "$$\\operatorname{atan}{\\left (r \\right )} = C + s$$"
      ],
      "text/plain": [
       "atan(r) = C + s"
      ]
     },
     "execution_count": 13,
     "metadata": {},
     "output_type": "execute_result"
    }
   ],
   "source": [
    "r=symbols('r')\n",
    "s=symbols('s')\n",
    "C=symbols('C')\n",
    "solEcuacionPolares=Eq(integrate((1+r**2)**(-1),r),s+C)\n",
    "solEcuacionPolares"
   ]
  },
  {
   "cell_type": "markdown",
   "metadata": {},
   "source": [
    "Expresemos la ecuación en coordenadas cartesianas"
   ]
  },
  {
   "cell_type": "code",
   "execution_count": 14,
   "metadata": {
    "collapsed": false
   },
   "outputs": [
    {
     "data": {
      "image/png": "[encoded data removed]",
      "text/latex": [
       "$$\\operatorname{atan}{\\left (x^{2} y^{3}{\\left (x \\right )} \\right )} = C + \\log{\\left (\\left|{x}\\right| \\right )}$$"
      ],
      "text/plain": [
       "    ⎛ 2  3   ⎞               \n",
       "atan⎝x ⋅y (x)⎠ = C + log(│x│)"
      ]
     },
     "execution_count": 14,
     "metadata": {},
     "output_type": "execute_result"
    }
   ],
   "source": [
    "solEcuacionCart=solEcuacionPolares.subs(r,x**2*y**3).subs(s,log(abs(x)))\n",
    "solEcuacionCart"
   ]
  },
  {
   "cell_type": "raw",
   "metadata": {},
   "source": [
    "verifiquemos que, derivando respecto de $x$, los puntos que stisfacen esta igualdad resuelven la  ecuación original "
   ]
  },
  {
   "cell_type": "code",
   "execution_count": 15,
   "metadata": {
    "collapsed": false
   },
   "outputs": [
    {
     "data": {
      "image/png": "[encoded data removed]",
      "text/latex": [
       "$$\\frac{1}{x^{4} y^{6}{\\left (x \\right )} + 1} \\left(3 x^{2} y^{2}{\\left (x \\right )} \\frac{d}{d x} y{\\left (x \\right )} + 2 x y^{3}{\\left (x \\right )}\\right) = \\frac{1}{\\left|{x}\\right|} \\operatorname{sign}{\\left (x \\right )}$$"
      ],
      "text/plain": [
       "   2  2    d               3             \n",
       "3⋅x ⋅y (x)⋅──(y(x)) + 2⋅x⋅y (x)          \n",
       "           dx                     sign(x)\n",
       "─────────────────────────────── = ───────\n",
       "           4  6                     │x│  \n",
       "          x ⋅y (x) + 1                   "
      ]
     },
     "execution_count": 15,
     "metadata": {},
     "output_type": "execute_result"
    }
   ],
   "source": [
    "ec1=Eq(solEcuacionCart.lhs.diff(x),solEcuacionCart.rhs.diff(x))\n",
    "ec1"
   ]
  },
  {
   "cell_type": "code",
   "execution_count": 16,
   "metadata": {
    "collapsed": false
   },
   "outputs": [
    {
     "data": {
      "image/png": "[encoded data removed]",
      "text/latex": [
       "$$\\frac{1}{x^{4} y^{6}{\\left (x \\right )} + 1} \\left(3 x^{2} y^{2}{\\left (x \\right )} \\frac{d}{d x} y{\\left (x \\right )} + 2 x y^{3}{\\left (x \\right )}\\right) = \\frac{1}{x}$$"
      ],
      "text/plain": [
       "   2  2    d               3       \n",
       "3⋅x ⋅y (x)⋅──(y(x)) + 2⋅x⋅y (x)    \n",
       "           dx                     1\n",
       "─────────────────────────────── = ─\n",
       "           4  6                   x\n",
       "          x ⋅y (x) + 1             "
      ]
     },
     "execution_count": 16,
     "metadata": {},
     "output_type": "execute_result"
    }
   ],
   "source": [
    "ec2=Eq(ec1.lhs,1/x)\n",
    "ec2"
   ]
  },
  {
   "cell_type": "code",
   "execution_count": 17,
   "metadata": {
    "collapsed": false
   },
   "outputs": [
    {
     "data": {
      "image/png": "[encoded data removed]",
      "text/latex": [
       "$$\\left [ \\frac{x}{3} y^{4}{\\left (x \\right )} - \\frac{2}{3 x} y{\\left (x \\right )} + \\frac{1}{3 x^{3} y^{2}{\\left (x \\right )}}\\right ]$$"
      ],
      "text/plain": [
       "⎡   4                         ⎤\n",
       "⎢x⋅y (x)   2⋅y(x)       1     ⎥\n",
       "⎢─────── - ────── + ──────────⎥\n",
       "⎢   3       3⋅x        3  2   ⎥\n",
       "⎣                   3⋅x ⋅y (x)⎦"
      ]
     },
     "execution_count": 17,
     "metadata": {},
     "output_type": "execute_result"
    }
   ],
   "source": [
    "solve(ec2,y.diff(x))"
   ]
  },
  {
   "cell_type": "code",
   "execution_count": null,
   "metadata": {
    "collapsed": false
   },
   "outputs": [],
   "source": []
  }
 ],
 "metadata": {
  "kernelspec": {
   "display_name": "Python 2",
   "language": "python",
   "name": "python2"
  },
  "language_info": {
   "codemirror_mode": {
    "name": "ipython",
    "version": 2
   },
   "file_extension": ".py",
   "mimetype": "text/x-python",
   "name": "python",
   "nbconvert_exporter": "python",
   "pygments_lexer": "ipython2",
   "version": "2.7.11"
  }
 },
 "nbformat": 4,
 "nbformat_minor": 2
}
