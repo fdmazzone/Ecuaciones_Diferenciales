{
 "cells": [
  {
   "cell_type": "code",
   "execution_count": 1,
   "metadata": {
    "collapsed": true
   },
   "outputs": [],
   "source": [
    "from sympy import *\n",
    "init_printing() #muestra símbolos más agradab\n",
    "R=lambda n,d: Rational(n,d)"
   ]
  },
  {
   "cell_type": "code",
   "execution_count": 2,
   "metadata": {
    "collapsed": true
   },
   "outputs": [],
   "source": [
    "x,y,C=symbols('x,y,C')"
   ]
  },
  {
   "cell_type": "markdown",
   "metadata": {},
   "source": [
    "<h1>Ejercicio 4:<h1> "
   ]
  },
  {
   "cell_type": "markdown",
   "metadata": {},
   "source": [
    "$\\textrm{a)}$ De mostrar que si $\\frac{\\frac{\\partial N}{\\partial x}-\\frac{\\partial M}{\\partial y}}{xN-My}$ es una función radial entonces la ecuacion $M(x,y)dx+N(x,y)dy=0$ tiene un factor integrante radial.\n",
    "\n",
    "Supomgamos que $\\mu(x,y)=\\mu(x^2+y^2)$ como candidato a ser un factor integrante. Luego, tenemos que tener que\n",
    "$$ \\frac{\\partial (\\mu(x^2+y^2) M(x,y))}{\\partial y}= \\frac{\\partial (\\mu(x^2+y^2) N(x,y))}{\\partial x}, $$ o equivalentemente\n",
    "\n",
    "$$ \\mu'(x^2+y^2)M(x,y)2y+\\frac{\\partial M(x,y)}{\\partial y}\\mu(x^2+y^2)=  \\mu'(x^2+y^2)N(x,y)2x+\\frac{\\partial N(x,y)}{\\partial x}\\mu(x^2+y^2)$$.\n",
    "\n",
    "Luego,\n",
    "\n",
    "$$ \\mu'(x^2+y^2)=\\frac{1}{2}\\frac{\\frac{\\partial N(x,y)}{\\partial x}-\\frac{\\partial M(x,y)}{\\partial y}}{xN(x,y)-M(x,y)y} \\mu(x^2+y^2)$$.\n",
    "\n",
    "Entonces si $g(x,y):=\\frac{\\frac{\\partial N}{\\partial x}-\\frac{\\partial M}{\\partial y}}{xN-My}$ es una función de $x^2+y^2$ (es decir radial) el factor integrante $\\mu$ es tal  que  $\\mu(z)=e^{\\left(\\frac{1}{2}\\int h(z)dz\\right)}=1/z$, donde $h(z)=g(x^2+y^2)$.\n",
    "\n",
    "\n",
    "\n"
   ]
  },
  {
   "cell_type": "code",
   "execution_count": null,
   "metadata": {
    "collapsed": true
   },
   "outputs": [],
   "source": []
  },
  {
   "cell_type": "markdown",
   "metadata": {},
   "source": [
    "$\\textrm{b)}$ Resolver la ecuación $(y^3+x^2y)dx+(x^3+y^2x)dy=0$"
   ]
  },
  {
   "cell_type": "code",
   "execution_count": 3,
   "metadata": {
    "collapsed": false
   },
   "outputs": [
    {
     "data": {
      "image/png": "[encoded data removed]",
      "text/latex": [
       "$$- 2 x^{2} + 2 y^{2}$$"
      ],
      "text/plain": [
       "     2      2\n",
       "- 2⋅x  + 2⋅y "
      ]
     },
     "execution_count": 3,
     "metadata": {},
     "output_type": "execute_result"
    }
   ],
   "source": [
    "# Observemos primero que la ecuacion no es exacta\n",
    "M=y**3+x**2*y\n",
    "N=x**3+y**2*x\n",
    "M.diff(y)-N.diff(x)"
   ]
  },
  {
   "cell_type": "code",
   "execution_count": 6,
   "metadata": {
    "collapsed": false
   },
   "outputs": [
    {
     "data": {
      "image/png": "[encoded data removed]",
      "text/latex": [
       "$$- \\frac{2}{x^{2} + y^{2}}$$"
      ],
      "text/plain": [
       "  -2   \n",
       "───────\n",
       " 2    2\n",
       "x  + y "
      ]
     },
     "execution_count": 6,
     "metadata": {},
     "output_type": "execute_result"
    }
   ],
   "source": [
    "# Aplicamos el item a) para ver si se cumple la condicion para multiplicar por un factor integrante radial\n",
    "M, N\n",
    "((N.diff(x)-M.diff(y))/(y*M-x*N)).simplify()"
   ]
  },
  {
   "cell_type": "markdown",
   "metadata": {},
   "source": [
    "El factor integrante es $\\mu(x^2+y^2)$, donde  $\\mu(z)=e^{\\left(\\frac{1}{2}\\int -\\frac{2}{z}dz\\right)}=1/z$"
   ]
  },
  {
   "cell_type": "code",
   "execution_count": 8,
   "metadata": {
    "collapsed": false
   },
   "outputs": [
    {
     "data": {
      "image/png": "[encoded data removed]",
      "text/latex": [
       "$$0$$"
      ],
      "text/plain": [
       "0"
      ]
     },
     "execution_count": 8,
     "metadata": {},
     "output_type": "execute_result"
    }
   ],
   "source": [
    "# veamos ahora que la ecuación multiplicada por el factor integrante es exacta\n",
    "MM=(x**2+y**2)**(-1)*M\n",
    "NN=(x**2+y**2)**(-1)*N\n",
    "((MM).diff(y)- (NN).diff(x)).factor()"
   ]
  },
  {
   "cell_type": "code",
   "execution_count": 10,
   "metadata": {
    "collapsed": false
   },
   "outputs": [
    {
     "data": {
      "image/png": "[encoded data removed]",
      "text/latex": [
       "$$x y$$"
      ],
      "text/plain": [
       "x⋅y"
      ]
     },
     "execution_count": 10,
     "metadata": {},
     "output_type": "execute_result"
    }
   ],
   "source": [
    "# Resolvamos la ecuación. Encontremos $f$\n",
    "f=integrate(MM,x) + integrate(NN-integrate(MM,x).diff(y),y) \n",
    "f"
   ]
  },
  {
   "cell_type": "markdown",
   "metadata": {},
   "source": [
    "Luego las soluciones son $xy=C$ donde $C\\in \\mathbb{R}$. Verifiqueoms esto"
   ]
  },
  {
   "cell_type": "code",
   "execution_count": 11,
   "metadata": {
    "collapsed": false
   },
   "outputs": [
    {
     "data": {
      "image/png": "[encoded data removed]",
      "text/latex": [
       "$$\\frac{1}{x} \\left(- C + x y\\right) \\left(x^{2} + y^{2}\\right)$$"
      ],
      "text/plain": [
       "           ⎛ 2    2⎞\n",
       "(-C + x⋅y)⋅⎝x  + y ⎠\n",
       "────────────────────\n",
       "         x          "
      ]
     },
     "execution_count": 11,
     "metadata": {},
     "output_type": "execute_result"
    }
   ],
   "source": [
    "C=symbols('C')\n",
    "((y**3+y*x**2)+(x**3+y**2*x)*(-C/x**2)).factor()"
   ]
  },
  {
   "cell_type": "markdown",
   "metadata": {},
   "source": [
    "La expresión anterior es igual a $0$ porque $C=xy$. "
   ]
  },
  {
   "cell_type": "code",
   "execution_count": null,
   "metadata": {
    "collapsed": true
   },
   "outputs": [],
   "source": []
  }
 ],
 "metadata": {
  "kernelspec": {
   "display_name": "Python 2",
   "language": "python",
   "name": "python2"
  },
  "language_info": {
   "codemirror_mode": {
    "name": "ipython",
    "version": 2
   },
   "file_extension": ".py",
   "mimetype": "text/x-python",
   "name": "python",
   "nbconvert_exporter": "python",
   "pygments_lexer": "ipython2",
   "version": "2.7.15"
  }
 },
 "nbformat": 4,
 "nbformat_minor": 2
}
