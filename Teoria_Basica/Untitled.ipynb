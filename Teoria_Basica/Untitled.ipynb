{
 "cells": [
  {
   "cell_type": "code",
   "execution_count": 36,
   "metadata": {},
   "outputs": [
    {
     "name": "stdout",
     "output_type": "stream",
     "text": [
      "Processing Sage code for LibroEcuaciones.tex...\n",
      "Code block (line 281) begin...end\n",
      "Inline formula 0 (line 288)\n",
      "Code block (line 290) begin...end\n",
      "Inline formula 1 (line 296)\n",
      "Code block (line 301) begin...end\n",
      "Initializing plots directory\n",
      "Plot 0 (line 306)\n",
      "Code block (line 313) begin...end\n",
      "Inline formula 2 (line 317)\n",
      "Code block (line 320) begin...end\n",
      "Plot 1 (line 326)\n",
      "Code block (line 331) begin...end\n",
      "Inline formula 3 (line 339)\n",
      "Code block (line 341) begin...end\n",
      "Inline formula 4 (line 346)\n",
      "Code block (line 351) begin...end\n",
      "Inline formula 5 (line 355)\n",
      "Code block (line 357) begin...end\n",
      "Plot 2 (line 388)\n",
      "Code block (line 465) begin...end\n",
      "Inline formula 6 (line 472)\n",
      "Code block (line 475) begin...end\n",
      "Inline formula 7 (line 478)\n",
      "Code block (line 480) begin...end\n",
      "Inline formula 8 (line 483)\n",
      "Code block (line 486) begin...end\n",
      "Inline formula 9 (line 493)\n",
      "Code block (line 494) begin...end\n",
      "Inline formula 10 (line 502)\n",
      "Inline formula 11 (line 503)\n",
      "Code block (line 507) begin...end\n",
      "Inline formula 12 (line 520)\n",
      "Code block (line 523) begin...end\n",
      "Inline formula 13 (line 526)\n",
      "Code block (line 537) begin...end\n",
      "Code block (line 543) begin...end\n",
      "Code block (line 550) begin...end\n",
      "Inline formula 14 (line 553)\n",
      "Code block (line 556) begin...end\n",
      "Inline formula 15 (line 560)\n",
      "Code block (line 565) begin...end\n",
      "Inline formula 16 (line 568)\n",
      "Code block (line 806) begin...end\n",
      "Inline formula 17 (line 827)\n",
      "Inline formula 18 (line 828)\n",
      "Code block (line 834) begin...end\n",
      "Inline formula 19 (line 840)\n",
      "Inline formula 20 (line 841)\n",
      "Code block (line 862) begin...end\n",
      "Sage processing complete. Run LaTeX on LibroEcuaciones.tex again.\n"
     ]
    }
   ],
   "source": [
    "load(\"LibroEcuaciones.sagetex.sage\")"
   ]
  },
  {
   "cell_type": "code",
   "execution_count": null,
   "metadata": {},
   "outputs": [],
   "source": []
  }
 ],
 "metadata": {
  "kernelspec": {
   "display_name": "SageMath 9.0",
   "language": "sage",
   "name": "sagemath"
  },
  "language_info": {
   "codemirror_mode": {
    "name": "ipython",
    "version": 3
   },
   "file_extension": ".py",
   "mimetype": "text/x-python",
   "name": "python",
   "nbconvert_exporter": "python",
   "pygments_lexer": "ipython3",
   "version": "3.8.10"
  }
 },
 "nbformat": 4,
 "nbformat_minor": 4
}
