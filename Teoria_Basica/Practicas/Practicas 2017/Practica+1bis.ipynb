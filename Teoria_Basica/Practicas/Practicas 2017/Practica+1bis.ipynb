{
 "cells": [
  {
   "cell_type": "code",
   "execution_count": 1,
   "metadata": {
    "collapsed": true
   },
   "outputs": [],
   "source": [
    "from sympy import *\n",
    "init_printing() #muestra símbolos más agradab\n",
    "import matplotlib.pyplot as plt\n",
    "from mpl_toolkits.mplot3d import Axes3D\n",
    "from matplotlib import cm\n",
    "import numpy as np\n",
    "R=lambda n,d: Rational(n,d)"
   ]
  },
  {
   "cell_type": "code",
   "execution_count": 2,
   "metadata": {
    "collapsed": true
   },
   "outputs": [],
   "source": [
    "x,y,t=symbols('x,y,t')"
   ]
  },
  {
   "cell_type": "markdown",
   "metadata": {},
   "source": [
    "<h1> PRACTICA 2  </h1>"
   ]
  },
  {
   "cell_type": "markdown",
   "metadata": {},
   "source": [
    "<h1> Ejercicio 1 a) </h1>"
   ]
  },
  {
   "cell_type": "markdown",
   "metadata": {},
   "source": [
    "y=Function('y')(x)\n",
    "Ecuacion=Eq(y.diff(),-((x**2-2*y**2)/(x*y)))\n",
    "sol=dsolve(Ecuacion,y)\n",
    "Ecuacion,sol"
   ]
  },
  {
   "cell_type": "code",
   "execution_count": 3,
   "metadata": {
    "collapsed": false
   },
   "outputs": [
    {
     "data": {
      "image/png": "[encoded data removed]",
      "text/latex": [
       "$$\\left ( \\frac{d}{d x} z{\\left (x \\right )} = \\frac{z^{2}{\\left (x \\right )} - 1}{x z{\\left (x \\right )}}, \\quad \\left [ z{\\left (x \\right )} = - \\sqrt{C_{1} x^{2} + 1}, \\quad z{\\left (x \\right )} = \\sqrt{C_{1} x^{2} + 1}\\right ]\\right )$$"
      ],
      "text/plain": [
       "⎛            2         ⎡           ___________            ___________⎤⎞\n",
       "⎜d          z (x) - 1  ⎢          ╱     2                ╱     2     ⎥⎟\n",
       "⎜──(z(x)) = ─────────, ⎣z(x) = -╲╱  C₁⋅x  + 1 , z(x) = ╲╱  C₁⋅x  + 1 ⎦⎟\n",
       "⎝dx           x⋅z(x)                                                  ⎠"
      ]
     },
     "execution_count": 3,
     "metadata": {},
     "output_type": "execute_result"
    }
   ],
   "source": [
    "z=Function('z')(x)\n",
    "Ecuacionz=Eq(z.diff(),-(1-z**2)/(x*z))\n",
    "solz=dsolve(Ecuacionz,z)\n",
    "Ecuacionz,solz"
   ]
  },
  {
   "cell_type": "markdown",
   "metadata": {},
   "source": [
    "<h1> Ejercicio 1 c) </h1>"
   ]
  },
  {
   "cell_type": "code",
   "execution_count": 4,
   "metadata": {
    "collapsed": false
   },
   "outputs": [],
   "source": [
    "y=Function('y')(x)\n",
    "#Ecuacion=Eq(y.diff(),((3*(1+(y/x)**2)*atan(y/x))+y/x)/(x**2))\n",
    "#sol=dsolve(Ecuacion,y)\n",
    "#Ecuacion,sol"
   ]
  },
  {
   "cell_type": "code",
   "execution_count": 5,
   "metadata": {
    "collapsed": false
   },
   "outputs": [
    {
     "data": {
      "image/png": "[encoded data removed]",
      "text/latex": [
       "$$\\left ( \\frac{d}{d x} z{\\left (x \\right )} = \\frac{1}{x} \\left(3 z^{2}{\\left (x \\right )} + 3\\right) \\operatorname{atan}{\\left (z{\\left (x \\right )} \\right )}, \\quad z{\\left (x \\right )} = \\tan{\\left (C_{1} x^{3} \\right )}\\right )$$"
      ],
      "text/plain": [
       "⎛           ⎛   2       ⎞                              ⎞\n",
       "⎜d          ⎝3⋅z (x) + 3⎠⋅atan(z(x))            ⎛    3⎞⎟\n",
       "⎜──(z(x)) = ────────────────────────, z(x) = tan⎝C₁⋅x ⎠⎟\n",
       "⎝dx                    x                               ⎠"
      ]
     },
     "execution_count": 5,
     "metadata": {},
     "output_type": "execute_result"
    }
   ],
   "source": [
    "z=Function('z')(x)\n",
    "Ecuacionz=Eq(z.diff(),3*(1+z**2)*atan(z)/x)\n",
    "solz=dsolve(Ecuacionz,z)\n",
    "Ecuacionz,solz"
   ]
  },
  {
   "cell_type": "markdown",
   "metadata": {},
   "source": [
    "<h1> Ejercicio 1 h) </h1>"
   ]
  },
  {
   "cell_type": "code",
   "execution_count": 6,
   "metadata": {
    "collapsed": false
   },
   "outputs": [
    {
     "data": {
      "image/png": "[encoded data removed]",
      "text/latex": [
       "$$\\frac{d}{d x} y{\\left (x \\right )} = \\frac{1}{x} \\sqrt{x^{2} + y^{2}{\\left (x \\right )}}$$"
      ],
      "text/plain": [
       "              ____________\n",
       "             ╱  2    2    \n",
       "d          ╲╱  x  + y (x) \n",
       "──(y(x)) = ───────────────\n",
       "dx                x       "
      ]
     },
     "execution_count": 6,
     "metadata": {},
     "output_type": "execute_result"
    }
   ],
   "source": [
    "y=Function('y')(x)\n",
    "Ecuacion=Eq(y.diff(),(sqrt(x**2+y**2)/x))\n",
    "#sol=dsolve(Ecuacion,y)\n",
    "#Ecuacion,sol\n",
    "Ecuacion"
   ]
  },
  {
   "cell_type": "code",
   "execution_count": 14,
   "metadata": {
    "collapsed": false
   },
   "outputs": [
    {
     "data": {
      "image/png": "[encoded data removed]",
      "text/latex": [
       "$$\\left ( \\frac{d}{d x} z{\\left (x \\right )} = \\frac{1}{x \\left(\\sqrt{z^{2}{\\left (x \\right )} + 1} + z{\\left (x \\right )}\\right)}, \\quad \\frac{1}{2} \\sqrt{z^{2}{\\left (x \\right )} + 1} z{\\left (x \\right )} + \\frac{1}{2} z^{2}{\\left (x \\right )} - \\log{\\left (x \\right )} + \\frac{1}{2} \\operatorname{asinh}{\\left (z{\\left (x \\right )} \\right )} = C_{1}\\right )$$"
      ],
      "text/plain": [
       "⎛                                         ___________                         \n",
       "⎜                                        ╱  2                 2               \n",
       "⎜d                      1              ╲╱  z (x) + 1 ⋅z(x)   z (x)            \n",
       "⎜──(z(x)) = ─────────────────────────, ─────────────────── + ───── - log(x) + \n",
       "⎜dx           ⎛   ___________       ⎞           2              2              \n",
       "⎜             ⎜  ╱  2               ⎟                                         \n",
       "⎝           x⋅⎝╲╱  z (x) + 1  + z(x)⎠                                         \n",
       "\n",
       "                ⎞\n",
       "                ⎟\n",
       "asinh(z(x))     ⎟\n",
       "─────────── = C₁⎟\n",
       "     2          ⎟\n",
       "                ⎟\n",
       "                ⎠"
      ]
     },
     "execution_count": 14,
     "metadata": {},
     "output_type": "execute_result"
    }
   ],
   "source": [
    "z=Function('z')(x)\n",
    "Ecuacionz=Eq(z.diff(),(sqrt(1+z**2)+z)**(-1)/x)\n",
    "solz=dsolve(Ecuacionz,z)\n",
    "Ecuacionz, solz"
   ]
  },
  {
   "cell_type": "code",
   "execution_count": 15,
   "metadata": {
    "collapsed": false
   },
   "outputs": [
    {
     "data": {
      "image/png": "[encoded data removed]",
      "text/latex": [
       "$$C_{1} = \\frac{x^{2}}{2} y^{2}{\\left (x \\right )} + \\frac{x}{2} \\sqrt{x^{2} y^{2}{\\left (x \\right )} + 1} y{\\left (x \\right )} - \\log{\\left (x \\right )} + \\frac{1}{2} \\operatorname{asinh}{\\left (x y{\\left (x \\right )} \\right )}$$"
      ],
      "text/plain": [
       "                     ______________                              \n",
       "      2  2          ╱  2  2                                      \n",
       "     x ⋅y (x)   x⋅╲╱  x ⋅y (x) + 1 ⋅y(x)            asinh(x⋅y(x))\n",
       "C₁ = ──────── + ──────────────────────── - log(x) + ─────────────\n",
       "        2                  2                              2      "
      ]
     },
     "execution_count": 15,
     "metadata": {},
     "output_type": "execute_result"
    }
   ],
   "source": [
    "solz.subs(z,x*y).simplify()"
   ]
  },
  {
   "cell_type": "code",
   "execution_count": null,
   "metadata": {
    "collapsed": false
   },
   "outputs": [],
   "source": []
  },
  {
   "cell_type": "markdown",
   "metadata": {},
   "source": [
    "<h1> Ejercicio 1 ejer2 libro </h1>"
   ]
  },
  {
   "cell_type": "markdown",
   "metadata": {},
   "source": [
    "supongamos $y_{0}=1$"
   ]
  },
  {
   "cell_type": "code",
   "execution_count": 16,
   "metadata": {
    "collapsed": false
   },
   "outputs": [
    {
     "data": {
      "image/png": "[encoded data removed]",
      "text/plain": [
       "<matplotlib.figure.Figure at 0x7af9630>"
      ]
     },
     "metadata": {},
     "output_type": "display_data"
    }
   ],
   "source": [
    "x,y=symbols('x,y')\n",
    "# Gráfica de ecuaciones implícitas\n",
    "grafa=plot_implicit(Eq(x*y,0),show=False,aspect_ratio=(1,1))\n",
    "for r in range(1,5):\n",
    "    ecuaaux=plot_implicit(Eq(x**2+(y-1)**2,0.2*r**2),show=False,aspect_ratio=(1,1))\n",
    "    grafa.append(ecuaaux[0])\n",
    "for k in range(10):\n",
    "    grafaaux=plot((-1)**k*k*x+1,(x,-5,5),show=False,aspect_ratio=(1,1))\n",
    "    grafa.append(grafaaux[0])\n",
    "grafa.show()"
   ]
  },
  {
   "cell_type": "markdown",
   "metadata": {},
   "source": [
    "<h1> Ejercicio 1 ejer5 libro  </h1>"
   ]
  },
  {
   "cell_type": "code",
   "execution_count": 17,
   "metadata": {
    "collapsed": false
   },
   "outputs": [
    {
     "data": {
      "image/png": "[encoded data removed]",
      "text/latex": [
       "$$\\left ( \\frac{d}{d x} y{\\left (x \\right )} = \\frac{x + y{\\left (x \\right )} + 4}{x - y{\\left (x \\right )} - 6}, \\quad \\log{\\left (x - 1 \\right )} = C_{1} - \\log{\\left (\\sqrt{1 + \\frac{\\left(y{\\left (x \\right )} + 5\\right)^{2}}{\\left(x - 1\\right)^{2}}} \\right )} + \\operatorname{atan}{\\left (\\frac{y{\\left (x \\right )} + 5}{x - 1} \\right )}\\right )$$"
      ],
      "text/plain": [
       "⎛                                              ⎛      _________________⎞      \n",
       "⎜                                              ⎜     ╱               2 ⎟      \n",
       "⎜d          x + y(x) + 4                       ⎜    ╱      (y(x) + 5)  ⎟      \n",
       "⎜──(y(x)) = ────────────, log(x - 1) = C₁ - log⎜   ╱   1 + ─────────── ⎟ + ata\n",
       "⎜dx         x - y(x) - 6                       ⎜  ╱                 2  ⎟      \n",
       "⎝                                              ⎝╲╱           (x - 1)   ⎠      \n",
       "\n",
       "           ⎞\n",
       "           ⎟\n",
       " ⎛y(x) + 5⎞⎟\n",
       "n⎜────────⎟⎟\n",
       " ⎝ x - 1  ⎠⎟\n",
       "           ⎠"
      ]
     },
     "execution_count": 17,
     "metadata": {},
     "output_type": "execute_result"
    }
   ],
   "source": [
    "y=Function('y')(x)\n",
    "Ecuacion=Eq(y.diff(),(x+y+4)/(x-y-6))\n",
    "sol=dsolve(Ecuacion,y)\n",
    "Ecuacion,sol"
   ]
  },
  {
   "cell_type": "markdown",
   "metadata": {},
   "source": [
    "<h1> Ejercicio 2 ejer1 libro  </h1>"
   ]
  },
  {
   "cell_type": "code",
   "execution_count": 18,
   "metadata": {
    "collapsed": false
   },
   "outputs": [
    {
     "data": {
      "image/png": "[encoded data removed]",
      "text/latex": [
       "$$\\left ( \\frac{d}{d x} y{\\left (x \\right )} = - \\frac{y{\\left (x \\right )}}{x + \\frac{2}{y{\\left (x \\right )}}}, \\quad y{\\left (x \\right )} = \\frac{2}{x} \\operatorname{LambertW}{\\left (C_{1} x \\right )}\\right )$$"
      ],
      "text/plain": [
       "⎛d           -y(x)           2⋅LambertW(C₁⋅x)⎞\n",
       "⎜──(y(x)) = ────────, y(x) = ────────────────⎟\n",
       "⎜dx              2                  x        ⎟\n",
       "⎜           x + ────                         ⎟\n",
       "⎝               y(x)                         ⎠"
      ]
     },
     "execution_count": 18,
     "metadata": {},
     "output_type": "execute_result"
    }
   ],
   "source": [
    "y=Function('y')(x)\n",
    "Ecuacion=Eq(y.diff(),-y*(x+2/y)**(-1))\n",
    "sol=dsolve(Ecuacion,y)\n",
    "Ecuacion,sol"
   ]
  },
  {
   "cell_type": "markdown",
   "metadata": {},
   "source": [
    "<h1> Ejercicio 2 ejer3 libro  </h1>"
   ]
  },
  {
   "cell_type": "code",
   "execution_count": 19,
   "metadata": {
    "collapsed": false
   },
   "outputs": [
    {
     "data": {
      "image/png": "[encoded data removed]",
      "text/latex": [
       "$$\\left ( \\left(x + y^{3}{\\left (x \\right )}\\right) \\frac{d}{d x} y{\\left (x \\right )} = x^{3} - y{\\left (x \\right )}, \\quad \\mathrm{False}\\right )$$"
      ],
      "text/plain": [
       "⎛⎛     3   ⎞ d           3              ⎞\n",
       "⎜⎝x + y (x)⎠⋅──(y(x)) = x  - y(x), False⎟\n",
       "⎝            dx                         ⎠"
      ]
     },
     "execution_count": 19,
     "metadata": {},
     "output_type": "execute_result"
    }
   ],
   "source": [
    "y=Function('y')(x)\n",
    "Ecuacion=Eq((x+y**3)*y.diff(),-(y-x**3))\n",
    "sol=dsolve(Ecuacion,y)\n",
    "Ecuacion,sol"
   ]
  },
  {
   "cell_type": "markdown",
   "metadata": {},
   "source": [
    "<h1> Ejercicio 2 ejer5 libro  </h1>"
   ]
  },
  {
   "cell_type": "code",
   "execution_count": 20,
   "metadata": {
    "collapsed": false
   },
   "outputs": [
    {
     "data": {
      "image/png": "[encoded data removed]",
      "text/latex": [
       "$$\\left ( \\left(x \\cos{\\left (x y{\\left (x \\right )} \\right )} + x\\right) \\frac{d}{d x} y{\\left (x \\right )} = - y{\\left (x \\right )} \\cos{\\left (x y{\\left (x \\right )} \\right )} - y{\\left (x \\right )}, \\quad x y{\\left (x \\right )} + \\left(\\begin{cases} x & \\text{for}\\: y{\\left (x \\right )} = 0 \\\\\\frac{\\sin{\\left (x y{\\left (x \\right )} \\right )}}{y{\\left (x \\right )}} & \\text{otherwise} \\end{cases}\\right) y{\\left (x \\right )} + \\int^{y{\\left (x \\right )}} \\begin{cases} x \\cos{\\left (y x \\right )} - x & \\text{for}\\: y = 0 \\\\y \\left(- y x \\cos{\\left (y x \\right )} + \\frac{1}{y^{2}} \\sin{\\left (y x \\right )}\\right) - y \\sin{\\left (y x \\right )} + x \\cos{\\left (y x \\right )} & \\text{otherwise} \\end{cases}\\, dy = C_{1}\\right )$$"
      ],
      "text/plain": [
       "⎛                                                                             \n",
       "⎜                                                                             \n",
       "⎜                                                                             \n",
       "⎜                                                                  ⎛⎧     x   \n",
       "⎜                    d                                             ⎜⎪         \n",
       "⎜(x⋅cos(x⋅y(x)) + x)⋅──(y(x)) = -y(x)⋅cos(x⋅y(x)) - y(x), x⋅y(x) + ⎜⎨sin(x⋅y(x\n",
       "⎜                    dx                                            ⎜⎪─────────\n",
       "⎜                                                                  ⎝⎩    y(x) \n",
       "⎜                                                                             \n",
       "⎜                                                                             \n",
       "⎝                                                                             \n",
       "\n",
       "                         y(x)                                                 \n",
       "                          ⌠                                                   \n",
       "                          ⎮   ⎧                    x⋅cos(y⋅x) - x             \n",
       "    for y(x) = 0⎞         ⎮   ⎪                                               \n",
       "                ⎟         ⎮   ⎪  ⎛                sin(y⋅x)⎞                   \n",
       "))              ⎟⋅y(x) +  ⎮   ⎨y⋅⎜-y⋅x⋅cos(y⋅x) + ────────⎟ - y⋅sin(y⋅x) + x⋅c\n",
       "──   otherwise  ⎟         ⎮   ⎪  ⎜                    2   ⎟                   \n",
       "                ⎠         ⎮   ⎪  ⎝                   y    ⎠                   \n",
       "                          ⎮   ⎩                                               \n",
       "                          ⌡                                                   \n",
       "                                                                              \n",
       "\n",
       "                          ⎞\n",
       "                          ⎟\n",
       "         for y = 0        ⎟\n",
       "                          ⎟\n",
       "                          ⎟\n",
       "os(y⋅x)  otherwise dy = C₁⎟\n",
       "                          ⎟\n",
       "                          ⎟\n",
       "                          ⎟\n",
       "                          ⎟\n",
       "                          ⎠"
      ]
     },
     "execution_count": 20,
     "metadata": {},
     "output_type": "execute_result"
    }
   ],
   "source": [
    "y=Function('y')(x)\n",
    "Ecuacion=Eq(((x+x*cos(x*y)))*y.diff(),-(y+y*cos(x*y)))\n",
    "sol=dsolve(Ecuacion,y)\n",
    "Ecuacion,sol"
   ]
  },
  {
   "cell_type": "markdown",
   "metadata": {},
   "source": [
    "<h1> Ejercicio 2 ejer7 libro  </h1>"
   ]
  },
  {
   "cell_type": "code",
   "execution_count": 21,
   "metadata": {
    "collapsed": false
   },
   "outputs": [
    {
     "data": {
      "image/png": "[encoded data removed]",
      "text/latex": [
       "$$\\left ( \\left(- x e^{y{\\left (x \\right )}} + \\sin{\\left (x \\right )} \\sin{\\left (y{\\left (x \\right )} \\right )}\\right) \\frac{d}{d x} y{\\left (x \\right )} = e^{y{\\left (x \\right )}} + \\cos{\\left (x \\right )} \\cos{\\left (y{\\left (x \\right )} \\right )}, \\quad - x e^{y{\\left (x \\right )}} - \\sin{\\left (x \\right )} \\cos{\\left (y{\\left (x \\right )} \\right )} = C_{1}\\right )$$"
      ],
      "text/plain": [
       "⎛⎛     y(x)                   ⎞ d           y(x)                          y(x)\n",
       "⎜⎝- x⋅ℯ     + sin(x)⋅sin(y(x))⎠⋅──(y(x)) = ℯ     + cos(x)⋅cos(y(x)), - x⋅ℯ    \n",
       "⎝                               dx                                            \n",
       "\n",
       "                        ⎞\n",
       " - sin(x)⋅cos(y(x)) = C₁⎟\n",
       "                        ⎠"
      ]
     },
     "execution_count": 21,
     "metadata": {},
     "output_type": "execute_result"
    }
   ],
   "source": [
    "y=Function('y')(x)\n",
    "Ecuacion=Eq(((sin(x)*sin(y)-x*exp(y)))*y.diff(),(exp(y)+cos(x)*cos(y))/1)\n",
    "sol=dsolve(Ecuacion,y)\n",
    "Ecuacion,sol"
   ]
  },
  {
   "cell_type": "markdown",
   "metadata": {},
   "source": [
    "<h1> Ejercicio 3 ejer2(a) libro  </h1>"
   ]
  },
  {
   "cell_type": "code",
   "execution_count": 22,
   "metadata": {
    "collapsed": false
   },
   "outputs": [
    {
     "data": {
      "image/png": "[encoded data removed]",
      "text/latex": [
       "$$\\left(3 x^{2} - y^{2}{\\left (x \\right )}\\right) \\frac{d}{d x} y{\\left (x \\right )} = 2 x y{\\left (x \\right )}$$"
      ],
      "text/plain": [
       "⎛   2    2   ⎞ d                  \n",
       "⎝3⋅x  - y (x)⎠⋅──(y(x)) = 2⋅x⋅y(x)\n",
       "               dx                 "
      ]
     },
     "execution_count": 22,
     "metadata": {},
     "output_type": "execute_result"
    }
   ],
   "source": [
    "y=Function('y')(x)\n",
    "Ecuacion=Eq((3*x**2-y**2)*y.diff(),2*x*y)\n",
    "sol=dsolve(Ecuacion,y)\n",
    "Ecuacion\n",
    "#sol"
   ]
  },
  {
   "cell_type": "code",
   "execution_count": 23,
   "metadata": {
    "collapsed": false
   },
   "outputs": [
    {
     "data": {
      "image/png": "[encoded data removed]",
      "text/latex": [
       "$$\\frac{\\frac{d}{d x} y{\\left (x \\right )}}{y^{4}{\\left (x \\right )}} \\left(3 x^{2} - y^{2}{\\left (x \\right )}\\right) = \\frac{2 x}{y^{3}{\\left (x \\right )}}$$"
      ],
      "text/plain": [
       "⎛   2    2   ⎞ d               \n",
       "⎝3⋅x  - y (x)⎠⋅──(y(x))        \n",
       "               dx          2⋅x \n",
       "─────────────────────── = ─────\n",
       "          4                3   \n",
       "         y (x)            y (x)"
      ]
     },
     "execution_count": 23,
     "metadata": {},
     "output_type": "execute_result"
    }
   ],
   "source": [
    "#multiplico por el factor integrante\n",
    "y=Function('y')(x)\n",
    "Ecuacion=Eq(y**(-4)*(3*x**2-y**2)*y.diff(),2*x*y**(-3))\n",
    "sol=dsolve(Ecuacion,y)\n",
    "Ecuacion\n",
    "#sol"
   ]
  },
  {
   "cell_type": "code",
   "execution_count": 24,
   "metadata": {
    "collapsed": false
   },
   "outputs": [
    {
     "ename": "NameError",
     "evalue": "name 'c' is not defined",
     "output_type": "error",
     "traceback": [
      "\u001b[0;31m---------------------------------------------------------------------------\u001b[0m",
      "\u001b[0;31mNameError\u001b[0m                                 Traceback (most recent call last)",
      "\u001b[0;32m<ipython-input-24-634ab159ff2c>\u001b[0m in \u001b[0;36m<module>\u001b[0;34m()\u001b[0m\n\u001b[1;32m      1\u001b[0m \u001b[1;31m#corroboramos la solución\u001b[0m\u001b[1;33m\u001b[0m\u001b[1;33m\u001b[0m\u001b[0m\n\u001b[1;32m      2\u001b[0m \u001b[0my\u001b[0m\u001b[1;33m=\u001b[0m\u001b[0msymbols\u001b[0m\u001b[1;33m(\u001b[0m\u001b[1;34m'y'\u001b[0m\u001b[1;33m)\u001b[0m\u001b[1;33m\u001b[0m\u001b[0m\n\u001b[0;32m----> 3\u001b[0;31m \u001b[0mequ\u001b[0m\u001b[1;33m=\u001b[0m\u001b[0mEq\u001b[0m\u001b[1;33m(\u001b[0m\u001b[1;33m-\u001b[0m\u001b[0mx\u001b[0m\u001b[1;33m**\u001b[0m\u001b[1;36m2\u001b[0m\u001b[1;33m/\u001b[0m\u001b[0my\u001b[0m\u001b[1;33m**\u001b[0m\u001b[1;36m3\u001b[0m\u001b[1;33m+\u001b[0m\u001b[1;36m1\u001b[0m\u001b[1;33m/\u001b[0m\u001b[0my\u001b[0m\u001b[1;33m,\u001b[0m\u001b[0mc\u001b[0m\u001b[1;33m)\u001b[0m\u001b[1;33m\u001b[0m\u001b[0m\n\u001b[0m\u001b[1;32m      4\u001b[0m \u001b[0mexpr\u001b[0m\u001b[1;33m=\u001b[0m\u001b[1;33m-\u001b[0m\u001b[0mx\u001b[0m\u001b[1;33m**\u001b[0m\u001b[1;36m2\u001b[0m\u001b[1;33m/\u001b[0m\u001b[0my\u001b[0m\u001b[1;33m**\u001b[0m\u001b[1;36m3\u001b[0m\u001b[1;33m+\u001b[0m\u001b[1;36m1\u001b[0m\u001b[1;33m/\u001b[0m\u001b[0my\u001b[0m\u001b[1;33m\u001b[0m\u001b[0m\n\u001b[1;32m      5\u001b[0m \u001b[0mfunx\u001b[0m\u001b[1;33m=\u001b[0m\u001b[0mdiff\u001b[0m\u001b[1;33m(\u001b[0m\u001b[0mexpr\u001b[0m\u001b[1;33m,\u001b[0m\u001b[0mx\u001b[0m\u001b[1;33m,\u001b[0m\u001b[1;36m1\u001b[0m\u001b[1;33m)\u001b[0m\u001b[1;33m.\u001b[0m\u001b[0msimplify\u001b[0m\u001b[1;33m(\u001b[0m\u001b[1;33m)\u001b[0m\u001b[1;33m\u001b[0m\u001b[0m\n",
      "\u001b[0;31mNameError\u001b[0m: name 'c' is not defined"
     ]
    }
   ],
   "source": [
    "#corroboramos la solución\n",
    "y=symbols('y')\n",
    "equ=Eq(-x**2/y**3+1/y,c)\n",
    "expr=-x**2/y**3+1/y\n",
    "funx=diff(expr,x,1).simplify()\n",
    "funy=diff(expr,y,1).simplify()\n",
    "funx,funy"
   ]
  },
  {
   "cell_type": "markdown",
   "metadata": {},
   "source": [
    "<h1> Ejercicio 3 ejer2(c) libro  </h1>"
   ]
  },
  {
   "cell_type": "code",
   "execution_count": null,
   "metadata": {
    "collapsed": false
   },
   "outputs": [],
   "source": [
    "y=Function('y')(x)\n",
    "Ecuacion=Eq(y+(x+3*x**3*y**4)*y.diff(),)\n",
    "sol=dsolve(Ecuacion,y)\n",
    "Ecuacion\n",
    "#sol"
   ]
  },
  {
   "cell_type": "code",
   "execution_count": null,
   "metadata": {
    "collapsed": false
   },
   "outputs": [],
   "source": []
  },
  {
   "cell_type": "markdown",
   "metadata": {},
   "source": [
    "<h1> Ejercicio 3 ejer2(h) libro  </h1>"
   ]
  },
  {
   "cell_type": "code",
   "execution_count": null,
   "metadata": {
    "collapsed": false
   },
   "outputs": [],
   "source": [
    "y=Function('y')(x)\n",
    "Ecuacion=Eq(y+(2*x-y*exp(y))*y.diff(),)\n",
    "sol=dsolve(Ecuacion,y)\n",
    "Ecuacion,sol"
   ]
  },
  {
   "cell_type": "markdown",
   "metadata": {},
   "source": [
    "<h1> Ejercicio 4 ejer2(a) libro  </h1>"
   ]
  },
  {
   "cell_type": "code",
   "execution_count": 25,
   "metadata": {
    "collapsed": false
   },
   "outputs": [
    {
     "data": {
      "image/png": "[encoded data removed]",
      "text/latex": [
       "$$\\left ( x \\frac{d}{d x} y{\\left (x \\right )} - 3 y{\\left (x \\right )} = x^{4}, \\quad y{\\left (x \\right )} = x^{3} \\left(C_{1} + x\\right)\\right )$$"
      ],
      "text/plain": [
       "⎛  d                    4          3         ⎞\n",
       "⎜x⋅──(y(x)) - 3⋅y(x) = x , y(x) = x ⋅(C₁ + x)⎟\n",
       "⎝  dx                                        ⎠"
      ]
     },
     "execution_count": 25,
     "metadata": {},
     "output_type": "execute_result"
    }
   ],
   "source": [
    "y=Function('y')(x)\n",
    "Ecuacion=Eq(x*y.diff()-3*y,x**4)\n",
    "sol=dsolve(Ecuacion,y)\n",
    "Ecuacion,sol"
   ]
  },
  {
   "cell_type": "markdown",
   "metadata": {},
   "source": [
    "<h1> Ejercicio 4 ejer2(c) libro  </h1>"
   ]
  },
  {
   "cell_type": "code",
   "execution_count": 28,
   "metadata": {
    "collapsed": false
   },
   "outputs": [
    {
     "data": {
      "image/png": "[encoded data removed]",
      "text/latex": [
       "$$\\left ( 2 x y{\\left (x \\right )} + \\left(x^{2} + 1\\right) \\frac{d}{d x} y{\\left (x \\right )} = \\frac{\\cos{\\left (x \\right )}}{\\sin{\\left (x \\right )}}, \\quad y{\\left (x \\right )} = \\frac{1}{x^{2} + 1} \\left(C_{1} + \\frac{1}{2} \\log{\\left (- \\sin^{2}{\\left (x \\right )} \\right )}\\right)\\right )$$"
      ],
      "text/plain": [
       "⎛                                                      ⎛    2   ⎞⎞\n",
       "⎜                                                   log⎝-sin (x)⎠⎟\n",
       "⎜                                              C₁ + ─────────────⎟\n",
       "⎜           ⎛ 2    ⎞ d          cos(x)                    2      ⎟\n",
       "⎜2⋅x⋅y(x) + ⎝x  + 1⎠⋅──(y(x)) = ──────, y(x) = ──────────────────⎟\n",
       "⎜                    dx         sin(x)                2          ⎟\n",
       "⎝                                                    x  + 1      ⎠"
      ]
     },
     "execution_count": 28,
     "metadata": {},
     "output_type": "execute_result"
    }
   ],
   "source": [
    "y=Function('y')(x)\n",
    "Ecuacion=Eq((1+x**2)*y.diff()+2*x*y,cos(x)/sin(x))\n",
    "sol=dsolve(Ecuacion,y)\n",
    "Ecuacion,sol"
   ]
  },
  {
   "cell_type": "markdown",
   "metadata": {},
   "source": [
    "<h1> Ejercicio 4 ejer2(h) libro  </h1>"
   ]
  },
  {
   "cell_type": "code",
   "execution_count": 30,
   "metadata": {
    "collapsed": false
   },
   "outputs": [
    {
     "data": {
      "image/png": "[encoded data removed]",
      "text/latex": [
       "$$\\left ( - 2 x y{\\left (x \\right )} + \\frac{d}{d x} y{\\left (x \\right )} = 6 x e^{x^{2}}, \\quad y{\\left (x \\right )} = \\left(C_{1} + 3 x^{2}\\right) e^{x^{2}}\\right )$$"
      ],
      "text/plain": [
       "⎛                            ⎛ 2⎞                      ⎛ 2⎞⎞\n",
       "⎜            d               ⎝x ⎠         ⎛        2⎞  ⎝x ⎠⎟\n",
       "⎜-2⋅x⋅y(x) + ──(y(x)) = 6⋅x⋅ℯ    , y(x) = ⎝C₁ + 3⋅x ⎠⋅ℯ    ⎟\n",
       "⎝            dx                                            ⎠"
      ]
     },
     "execution_count": 30,
     "metadata": {},
     "output_type": "execute_result"
    }
   ],
   "source": [
    "y=Function('y')(x)\n",
    "Ecuacion=Eq(y.diff()-2*x*y,6*x*exp(x**2))\n",
    "sol=dsolve(Ecuacion,y)\n",
    "Ecuacion,sol"
   ]
  },
  {
   "cell_type": "code",
   "execution_count": null,
   "metadata": {
    "collapsed": true
   },
   "outputs": [],
   "source": []
  },
  {
   "cell_type": "code",
   "execution_count": null,
   "metadata": {
    "collapsed": true
   },
   "outputs": [],
   "source": []
  }
 ],
 "metadata": {
  "kernelspec": {
   "display_name": "Python 3",
   "language": "python",
   "name": "python3"
  },
  "language_info": {
   "codemirror_mode": {
    "name": "ipython",
    "version": 3
   },
   "file_extension": ".py",
   "mimetype": "text/x-python",
   "name": "python",
   "nbconvert_exporter": "python",
   "pygments_lexer": "ipython3",
   "version": "3.6.0"
  }
 },
 "nbformat": 4,
 "nbformat_minor": 2
}
