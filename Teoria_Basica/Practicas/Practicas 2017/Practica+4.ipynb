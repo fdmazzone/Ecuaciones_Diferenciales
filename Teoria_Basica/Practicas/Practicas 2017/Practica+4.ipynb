{
 "cells": [
  {
   "cell_type": "code",
   "execution_count": 1,
   "metadata": {
    "collapsed": false
   },
   "outputs": [],
   "source": [
    "from sympy import *"
   ]
  },
  {
   "cell_type": "code",
   "execution_count": 2,
   "metadata": {
    "collapsed": true
   },
   "outputs": [],
   "source": [
    "init_printing()"
   ]
  },
  {
   "cell_type": "code",
   "execution_count": 3,
   "metadata": {
    "collapsed": false
   },
   "outputs": [
    {
     "data": {
      "image/png": "[encoded data removed]",
      "text/latex": [
       "$$\\left ( x, \\quad k, \\quad c_{1}, \\quad c_{2}, \\quad y{\\left (x \\right )}\\right )$$"
      ],
      "text/plain": [
       "(x, k, c₁, c₂, y(x))"
      ]
     },
     "execution_count": 3,
     "metadata": {},
     "output_type": "execute_result"
    }
   ],
   "source": [
    "x,k,c1,c2=symbols('x,k,c_1,c_2')\n",
    "y=Function('y')(x)\n",
    "x,k,c1,c2,y"
   ]
  },
  {
   "cell_type": "markdown",
   "metadata": {},
   "source": [
    "<h1>  Ejercicio 1 <h1>"
   ]
  },
  {
   "cell_type": "markdown",
   "metadata": {},
   "source": [
    "<h2> Ejer 6a  <h2>"
   ]
  },
  {
   "cell_type": "code",
   "execution_count": 4,
   "metadata": {
    "collapsed": false
   },
   "outputs": [
    {
     "data": {
      "image/png": "[encoded data removed]",
      "text/latex": [
       "$$y{\\left (x \\right )} = \\frac{x}{2} \\left(- x \\frac{d^{2}}{d x^{2}}  y{\\left (x \\right )} + 2 \\frac{d}{d x} y{\\left (x \\right )}\\right)$$"
      ],
      "text/plain": [
       "         ⎛      2                   ⎞\n",
       "         ⎜     d            d       ⎟\n",
       "       x⋅⎜- x⋅───(y(x)) + 2⋅──(y(x))⎟\n",
       "         ⎜      2           dx      ⎟\n",
       "         ⎝    dx                    ⎠\n",
       "y(x) = ──────────────────────────────\n",
       "                     2               "
      ]
     },
     "execution_count": 4,
     "metadata": {},
     "output_type": "execute_result"
    }
   ],
   "source": [
    "ecu6a=Eq(y,c1*x+c2*x**2)\n",
    "ecu6a\n",
    "z=ecu6a.rhs\n",
    "z\n",
    "ec1=Eq(y.diff(x),z.diff(x))\n",
    "ec2=Eq(y.diff(x,2),z.diff(x,2))\n",
    "subs1=solve([ec1,ec2],[c1,c2])\n",
    "(ecu6a.subs(subs1)).simplify()"
   ]
  },
  {
   "cell_type": "markdown",
   "metadata": {},
   "source": [
    "<h2> Ejer 6b  <h2>"
   ]
  },
  {
   "cell_type": "code",
   "execution_count": 5,
   "metadata": {
    "collapsed": false
   },
   "outputs": [
    {
     "data": {
      "image/png": "[encoded data removed]",
      "text/latex": [
       "$$y{\\left (x \\right )} = c_{1} e^{k x} + c_{2} e^{- k x}$$"
      ],
      "text/plain": [
       "           k⋅x       -k⋅x\n",
       "y(x) = c₁⋅ℯ    + c₂⋅ℯ    "
      ]
     },
     "execution_count": 5,
     "metadata": {},
     "output_type": "execute_result"
    }
   ],
   "source": [
    "ecu6b=Eq(y,c1*exp(k*x)+c2*exp(-k*x))\n",
    "ecu6b"
   ]
  },
  {
   "cell_type": "code",
   "execution_count": 6,
   "metadata": {
    "collapsed": false
   },
   "outputs": [
    {
     "data": {
      "image/png": "[encoded data removed]",
      "text/latex": [
       "$$c_{1} e^{k x} + c_{2} e^{- k x}$$"
      ],
      "text/plain": [
       "    k⋅x       -k⋅x\n",
       "c₁⋅ℯ    + c₂⋅ℯ    "
      ]
     },
     "execution_count": 6,
     "metadata": {},
     "output_type": "execute_result"
    }
   ],
   "source": [
    "z=c1*exp(k*x)+c2*exp(-k*x)\n",
    "z"
   ]
  },
  {
   "cell_type": "code",
   "execution_count": 7,
   "metadata": {
    "collapsed": false
   },
   "outputs": [
    {
     "data": {
      "image/png": "[encoded data removed]",
      "text/latex": [
       "$$c_{1} k e^{k x} - c_{2} k e^{- k x}$$"
      ],
      "text/plain": [
       "      k⋅x         -k⋅x\n",
       "c₁⋅k⋅ℯ    - c₂⋅k⋅ℯ    "
      ]
     },
     "execution_count": 7,
     "metadata": {},
     "output_type": "execute_result"
    }
   ],
   "source": [
    "z.diff(x)"
   ]
  },
  {
   "cell_type": "code",
   "execution_count": 8,
   "metadata": {
    "collapsed": false
   },
   "outputs": [
    {
     "data": {
      "image/png": "[encoded data removed]",
      "text/latex": [
       "$$\\left ( \\frac{d}{d x} y{\\left (x \\right )} = c_{1} k e^{k x} - c_{2} k e^{- k x}, \\quad \\frac{d^{2}}{d x^{2}}  y{\\left (x \\right )} = k^{2} \\left(c_{1} e^{k x} + c_{2} e^{- k x}\\right)\\right )$$"
      ],
      "text/plain": [
       "⎛                                     2                                ⎞\n",
       "⎜d                k⋅x         -k⋅x   d           2 ⎛    k⋅x       -k⋅x⎞⎟\n",
       "⎜──(y(x)) = c₁⋅k⋅ℯ    - c₂⋅k⋅ℯ    , ───(y(x)) = k ⋅⎝c₁⋅ℯ    + c₂⋅ℯ    ⎠⎟\n",
       "⎜dx                                   2                                ⎟\n",
       "⎝                                   dx                                 ⎠"
      ]
     },
     "execution_count": 8,
     "metadata": {},
     "output_type": "execute_result"
    }
   ],
   "source": [
    "ec1=Eq(y.diff(x),z.diff(x))\n",
    "ec2=Eq(y.diff(x,2),z.diff(x,2))\n",
    "ec1, ec2"
   ]
  },
  {
   "cell_type": "code",
   "execution_count": 9,
   "metadata": {
    "collapsed": false
   },
   "outputs": [
    {
     "data": {
      "image/png": "[encoded data removed]",
      "text/latex": [
       "$$\\left \\{ c_{1} : \\frac{e^{- k x}}{2 k^{2}} \\left(k \\frac{d}{d x} y{\\left (x \\right )} + \\frac{d^{2}}{d x^{2}}  y{\\left (x \\right )}\\right), \\quad c_{2} : \\frac{e^{k x}}{2 k^{2}} \\left(- k \\frac{d}{d x} y{\\left (x \\right )} + \\frac{d^{2}}{d x^{2}}  y{\\left (x \\right )}\\right)\\right \\}$$"
      ],
      "text/plain": [
       "⎧    ⎛               2      ⎞            ⎛                 2      ⎞     ⎫\n",
       "⎪    ⎜  d           d       ⎟  -k⋅x      ⎜    d           d       ⎟  k⋅x⎪\n",
       "⎪    ⎜k⋅──(y(x)) + ───(y(x))⎟⋅ℯ          ⎜- k⋅──(y(x)) + ───(y(x))⎟⋅ℯ   ⎪\n",
       "⎪    ⎜  dx           2      ⎟            ⎜    dx           2      ⎟     ⎪\n",
       "⎨    ⎝             dx       ⎠            ⎝               dx       ⎠     ⎬\n",
       "⎪c₁: ──────────────────────────────, c₂: ───────────────────────────────⎪\n",
       "⎪                    2                                    2             ⎪\n",
       "⎪                 2⋅k                                  2⋅k              ⎪\n",
       "⎩                                                                       ⎭"
      ]
     },
     "execution_count": 9,
     "metadata": {},
     "output_type": "execute_result"
    }
   ],
   "source": [
    "subs1=solve([ec1,ec2],[c1,c2])\n",
    "subs1\n"
   ]
  },
  {
   "cell_type": "code",
   "execution_count": 10,
   "metadata": {
    "collapsed": false
   },
   "outputs": [
    {
     "data": {
      "image/png": "[encoded data removed]",
      "text/latex": [
       "$$y{\\left (x \\right )} = \\frac{1}{k^{2}} \\frac{d^{2}}{d x^{2}}  y{\\left (x \\right )}$$"
      ],
      "text/plain": [
       "         2      \n",
       "        d       \n",
       "       ───(y(x))\n",
       "         2      \n",
       "       dx       \n",
       "y(x) = ─────────\n",
       "            2   \n",
       "           k    "
      ]
     },
     "execution_count": 10,
     "metadata": {},
     "output_type": "execute_result"
    }
   ],
   "source": [
    "(ecu6b.subs(subs1)).simplify()"
   ]
  },
  {
   "cell_type": "markdown",
   "metadata": {},
   "source": [
    "<h2> Ejer 6c  <h2>"
   ]
  },
  {
   "cell_type": "code",
   "execution_count": 11,
   "metadata": {
    "collapsed": false
   },
   "outputs": [
    {
     "data": {
      "image/png": "[encoded data removed]",
      "text/latex": [
       "$$y{\\left (x \\right )} = c_{1} \\sin{\\left (k x \\right )} + c_{2} \\cos{\\left (k x \\right )}$$"
      ],
      "text/plain": [
       "y(x) = c₁⋅sin(k⋅x) + c₂⋅cos(k⋅x)"
      ]
     },
     "execution_count": 11,
     "metadata": {},
     "output_type": "execute_result"
    }
   ],
   "source": [
    "ecu6c=Eq(y,c1*sin(k*x)+c2*cos(-k*x))\n",
    "ecu6c"
   ]
  },
  {
   "cell_type": "code",
   "execution_count": 12,
   "metadata": {
    "collapsed": false
   },
   "outputs": [
    {
     "data": {
      "image/png": "[encoded data removed]",
      "text/latex": [
       "$$c_{1} \\sin{\\left (k x \\right )} + c_{2} \\cos{\\left (k x \\right )}$$"
      ],
      "text/plain": [
       "c₁⋅sin(k⋅x) + c₂⋅cos(k⋅x)"
      ]
     },
     "execution_count": 12,
     "metadata": {},
     "output_type": "execute_result"
    }
   ],
   "source": [
    "z=ecu6c.rhs\n",
    "z"
   ]
  },
  {
   "cell_type": "code",
   "execution_count": 13,
   "metadata": {
    "collapsed": false
   },
   "outputs": [
    {
     "data": {
      "image/png": "[encoded data removed]",
      "text/latex": [
       "$$\\left ( \\frac{d}{d x} y{\\left (x \\right )} = c_{1} k \\cos{\\left (k x \\right )} - c_{2} k \\sin{\\left (k x \\right )}, \\quad \\frac{d^{2}}{d x^{2}}  y{\\left (x \\right )} = - k^{2} \\left(c_{1} \\sin{\\left (k x \\right )} + c_{2} \\cos{\\left (k x \\right )}\\right)\\right )$$"
      ],
      "text/plain": [
       "⎛                                            2                                \n",
       "⎜d                                          d            2                    \n",
       "⎜──(y(x)) = c₁⋅k⋅cos(k⋅x) - c₂⋅k⋅sin(k⋅x), ───(y(x)) = -k ⋅(c₁⋅sin(k⋅x) + c₂⋅c\n",
       "⎜dx                                          2                                \n",
       "⎝                                          dx                                 \n",
       "\n",
       "        ⎞\n",
       "        ⎟\n",
       "os(k⋅x))⎟\n",
       "        ⎟\n",
       "        ⎠"
      ]
     },
     "execution_count": 13,
     "metadata": {},
     "output_type": "execute_result"
    }
   ],
   "source": [
    "ec1=Eq(y.diff(x),z.diff(x))\n",
    "ec2=Eq(y.diff(x,2),z.diff(x,2))\n",
    "ec1, ec2"
   ]
  },
  {
   "cell_type": "code",
   "execution_count": 14,
   "metadata": {
    "collapsed": false
   },
   "outputs": [
    {
     "data": {
      "image/png": "[encoded data removed]",
      "text/latex": [
       "$$\\left \\{ c_{1} : \\frac{1}{k^{2}} \\left(k \\cos{\\left (k x \\right )} \\frac{d}{d x} y{\\left (x \\right )} - \\sin{\\left (k x \\right )} \\frac{d^{2}}{d x^{2}}  y{\\left (x \\right )}\\right), \\quad c_{2} : - \\frac{1}{k^{2}} \\left(k \\sin{\\left (k x \\right )} \\frac{d}{d x} y{\\left (x \\right )} + \\cos{\\left (k x \\right )} \\frac{d^{2}}{d x^{2}}  y{\\left (x \\right )}\\right)\\right \\}$$"
      ],
      "text/plain": [
       "⎧                                     2             ⎛                         \n",
       "⎪               d                    d              ⎜           d             \n",
       "⎪    k⋅cos(k⋅x)⋅──(y(x)) - sin(k⋅x)⋅───(y(x))      -⎜k⋅sin(k⋅x)⋅──(y(x)) + cos\n",
       "⎪               dx                    2             ⎜           dx            \n",
       "⎨                                   dx              ⎝                         \n",
       "⎪c₁: ────────────────────────────────────────, c₂: ───────────────────────────\n",
       "⎪                        2                                               2    \n",
       "⎪                       k                                               k     \n",
       "⎩                                                                             \n",
       "\n",
       "        2      ⎞ ⎫\n",
       "       d       ⎟ ⎪\n",
       "(k⋅x)⋅───(y(x))⎟ ⎪\n",
       "        2      ⎟ ⎪\n",
       "      dx       ⎠ ⎬\n",
       "─────────────────⎪\n",
       "                 ⎪\n",
       "                 ⎪\n",
       "                 ⎭"
      ]
     },
     "execution_count": 14,
     "metadata": {},
     "output_type": "execute_result"
    }
   ],
   "source": [
    "subs1=solve([ec1,ec2],[c1,c2])\n",
    "subs1"
   ]
  },
  {
   "cell_type": "code",
   "execution_count": 15,
   "metadata": {
    "collapsed": false
   },
   "outputs": [
    {
     "data": {
      "image/png": "[encoded data removed]",
      "text/latex": [
       "$$y{\\left (x \\right )} = - \\frac{1}{k^{2}} \\frac{d^{2}}{d x^{2}}  y{\\left (x \\right )}$$"
      ],
      "text/plain": [
       "          2       \n",
       "         d        \n",
       "       -───(y(x)) \n",
       "          2       \n",
       "        dx        \n",
       "y(x) = ───────────\n",
       "             2    \n",
       "            k     "
      ]
     },
     "execution_count": 15,
     "metadata": {},
     "output_type": "execute_result"
    }
   ],
   "source": [
    "(ecu6c.subs(subs1)).simplify()"
   ]
  },
  {
   "cell_type": "markdown",
   "metadata": {},
   "source": [
    "<h1> Ejercicio 2 <h1>"
   ]
  },
  {
   "cell_type": "markdown",
   "metadata": {},
   "source": [
    "<h2>  Ejer. 2 <h2>"
   ]
  },
  {
   "cell_type": "code",
   "execution_count": 16,
   "metadata": {
    "collapsed": false
   },
   "outputs": [
    {
     "data": {
      "image/png": "[encoded data removed]",
      "text/latex": [
       "$$\\left ( 0, \\quad 0\\right )$$"
      ],
      "text/plain": [
       "(0, 0)"
      ]
     },
     "execution_count": 16,
     "metadata": {},
     "output_type": "execute_result"
    }
   ],
   "source": [
    "z1=x\n",
    "z2=x**2\n",
    "((z1.diff(x,2)-(2/x)*z1.diff(x)+(2/(x**2))*z1)).simplify(), ((z2.diff(x,2)-(2/x)*z2.diff(x)+(2/(x**2))*z2)).simplify()\n"
   ]
  },
  {
   "cell_type": "code",
   "execution_count": 17,
   "metadata": {
    "collapsed": false
   },
   "outputs": [
    {
     "data": {
      "image/png": "[encoded data removed]",
      "text/latex": [
       "$$\\left \\{ c_{1} : 1, \\quad c_{2} : 2\\right \\}$$"
      ],
      "text/plain": [
       "{c₁: 1, c₂: 2}"
      ]
     },
     "execution_count": 17,
     "metadata": {},
     "output_type": "execute_result"
    }
   ],
   "source": [
    "solve([Eq(3,c1+c2), Eq(5,c1+2*c2)],[c1, c2])"
   ]
  },
  {
   "cell_type": "markdown",
   "metadata": {},
   "source": [
    "<h1> Ejercicio 3 <h1>"
   ]
  },
  {
   "cell_type": "markdown",
   "metadata": {},
   "source": [
    "<h2> Ejer. 5 <h2>"
   ]
  },
  {
   "cell_type": "code",
   "execution_count": 18,
   "metadata": {
    "collapsed": false
   },
   "outputs": [
    {
     "data": {
      "image/png": "[encoded data removed]",
      "text/latex": [
       "$$\\left ( x v{\\left (x \\right )}, \\quad - 2 x \\frac{d}{d x} y{\\left (x \\right )} + \\left(- x^{2} + 1\\right) \\frac{d^{2}}{d x^{2}}  y{\\left (x \\right )} + 2 y{\\left (x \\right )}\\right )$$"
      ],
      "text/plain": [
       "⎛                                      2               ⎞\n",
       "⎜              d          ⎛   2    ⎞  d                ⎟\n",
       "⎜x⋅v(x), - 2⋅x⋅──(y(x)) + ⎝- x  + 1⎠⋅───(y(x)) + 2⋅y(x)⎟\n",
       "⎜              dx                      2               ⎟\n",
       "⎝                                    dx                ⎠"
      ]
     },
     "execution_count": 18,
     "metadata": {},
     "output_type": "execute_result"
    }
   ],
   "source": [
    "v=Function('v')(x)\n",
    "y2=v*x\n",
    "y2, (1-x**2)*y.diff(x,2)-2*x*y.diff(x)+2*y"
   ]
  },
  {
   "cell_type": "code",
   "execution_count": 19,
   "metadata": {
    "collapsed": false
   },
   "outputs": [
    {
     "data": {
      "image/png": "[encoded data removed]",
      "text/latex": [
       "$$- x^{3} \\frac{d^{2}}{d x^{2}}  v{\\left (x \\right )} - 4 x^{2} \\frac{d}{d x} v{\\left (x \\right )} + x \\frac{d^{2}}{d x^{2}}  v{\\left (x \\right )} + 2 \\frac{d}{d x} v{\\left (x \\right )}$$"
      ],
      "text/plain": [
       "       2                             2                   \n",
       "   3  d             2 d             d            d       \n",
       "- x ⋅───(v(x)) - 4⋅x ⋅──(v(x)) + x⋅───(v(x)) + 2⋅──(v(x))\n",
       "       2              dx             2           dx      \n",
       "     dx                            dx                    "
      ]
     },
     "execution_count": 19,
     "metadata": {},
     "output_type": "execute_result"
    }
   ],
   "source": [
    "ecv=((1-x**2)*y2.diff(x,2)-2*x*y2.diff(x)+2*y2).simplify()\n",
    "ecv"
   ]
  },
  {
   "cell_type": "code",
   "execution_count": 20,
   "metadata": {
    "collapsed": false
   },
   "outputs": [
    {
     "data": {
      "image/png": "[encoded data removed]",
      "text/latex": [
       "$$\\left(- \\frac{2 x}{- x^{2} + 1} + \\frac{2}{x}\\right) u{\\left (x \\right )} + \\frac{d}{d x} u{\\left (x \\right )} = 0$$"
      ],
      "text/plain": [
       "⎛    2⋅x      2⎞        d           \n",
       "⎜- ──────── + ─⎟⋅u(x) + ──(u(x)) = 0\n",
       "⎜     2       x⎟        dx          \n",
       "⎝  - x  + 1    ⎠                    "
      ]
     },
     "execution_count": 20,
     "metadata": {},
     "output_type": "execute_result"
    }
   ],
   "source": [
    "u=Function('u')(x)\n",
    "ecu=Eq(u.diff(x)+2*(1/x-x/(1-x**2))*u)\n",
    "ecu"
   ]
  },
  {
   "cell_type": "code",
   "execution_count": 21,
   "metadata": {
    "collapsed": false
   },
   "outputs": [
    {
     "data": {
      "image/png": "[encoded data removed]",
      "text/latex": [
       "$$u{\\left (x \\right )} = \\frac{C_{1}}{x^{2} \\left(x^{2} - 1\\right)}$$"
      ],
      "text/plain": [
       "            C₁    \n",
       "u(x) = ───────────\n",
       "        2 ⎛ 2    ⎞\n",
       "       x ⋅⎝x  - 1⎠"
      ]
     },
     "execution_count": 21,
     "metadata": {},
     "output_type": "execute_result"
    }
   ],
   "source": [
    "dsolve(ecu,u)"
   ]
  },
  {
   "cell_type": "code",
   "execution_count": 22,
   "metadata": {
    "collapsed": false
   },
   "outputs": [
    {
     "data": {
      "image/png": "[encoded data removed]",
      "text/latex": [
       "$$C_{1} \\left(\\frac{1}{2} \\log{\\left (x - 1 \\right )} - \\frac{1}{2} \\log{\\left (x + 1 \\right )} + \\frac{1}{x}\\right)$$"
      ],
      "text/plain": [
       "   ⎛log(x - 1)   log(x + 1)   1⎞\n",
       "C₁⋅⎜────────── - ────────── + ─⎟\n",
       "   ⎝    2            2        x⎠"
      ]
     },
     "execution_count": 22,
     "metadata": {},
     "output_type": "execute_result"
    }
   ],
   "source": [
    "V=integrate(dsolve(ecu,u).rhs,x)\n",
    "V"
   ]
  },
  {
   "cell_type": "code",
   "execution_count": 23,
   "metadata": {
    "collapsed": false
   },
   "outputs": [
    {
     "data": {
      "image/png": "[encoded data removed]",
      "text/latex": [
       "$$\\left ( \\frac{C_{1}}{2} \\left(x \\left(\\log{\\left (x - 1 \\right )} - \\log{\\left (x + 1 \\right )}\\right) + 2\\right), \\quad 0\\right )$$"
      ],
      "text/plain": [
       "⎛C₁⋅(x⋅(log(x - 1) - log(x + 1)) + 2)   ⎞\n",
       "⎜────────────────────────────────────, 0⎟\n",
       "⎝                 2                     ⎠"
      ]
     },
     "execution_count": 23,
     "metadata": {},
     "output_type": "execute_result"
    }
   ],
   "source": [
    "#Luego y_3=V*x resuelve (1-x^2)y''-2xy'+2y=0\n",
    "y3=V*x\n",
    "y3.simplify(), ((1-x**2)*y3.diff(x,2)-2*x*y3.diff(x)+2*y3).simplify()"
   ]
  },
  {
   "cell_type": "markdown",
   "metadata": {},
   "source": [
    "<h2> Ejer. 6 <h2>"
   ]
  },
  {
   "cell_type": "code",
   "execution_count": 53,
   "metadata": {
    "collapsed": false
   },
   "outputs": [
    {
     "data": {
      "image/png": "[encoded data removed]",
      "text/latex": [
       "$$\\left ( \\frac{1}{\\sqrt{x}} \\sin{\\left (x \\right )}, \\quad 0\\right )$$"
      ],
      "text/plain": [
       "⎛sin(x)   ⎞\n",
       "⎜──────, 0⎟\n",
       "⎝  √x     ⎠"
      ]
     },
     "execution_count": 53,
     "metadata": {},
     "output_type": "execute_result"
    }
   ],
   "source": [
    "#verifiquemos que 1/\\sqrt(x) es solucion de x^2y''+xy'+(x^2-1/4)y=0\n",
    "x=symbols('x')\n",
    "y1=(x)**(-Rational(1,2))*sin(x)\n",
    "yy=(x**2*(y1.diff(x,2))+x*y1.diff(x)+(x**2-Rational(1,4))*y1).simplify()\n",
    "y1, yy"
   ]
  },
  {
   "cell_type": "code",
   "execution_count": 56,
   "metadata": {
    "collapsed": false
   },
   "outputs": [
    {
     "data": {
      "image/png": "[encoded data removed]",
      "text/latex": [
       "$$\\left ( \\frac{1}{\\sqrt{x}} v{\\left (x \\right )} \\sin{\\left (x \\right )}, \\quad x^{\\frac{3}{2}} \\left(\\sin{\\left (x \\right )} \\frac{d^{2}}{d x^{2}}  v{\\left (x \\right )} + 2 \\cos{\\left (x \\right )} \\frac{d}{d x} v{\\left (x \\right )}\\right)\\right )$$"
      ],
      "text/plain": [
       "⎛                  ⎛         2                          ⎞⎞\n",
       "⎜v(x)⋅sin(x)   3/2 ⎜        d                   d       ⎟⎟\n",
       "⎜───────────, x   ⋅⎜sin(x)⋅───(v(x)) + 2⋅cos(x)⋅──(v(x))⎟⎟\n",
       "⎜     √x           ⎜         2                  dx      ⎟⎟\n",
       "⎝                  ⎝       dx                           ⎠⎠"
      ]
     },
     "execution_count": 56,
     "metadata": {},
     "output_type": "execute_result"
    }
   ],
   "source": [
    "v=Function('v')(x)\n",
    "y2=v*y1\n",
    "ecc=(x**2*(y2.diff(x,2))+x*y2.diff(x)+(x**2-Rational(1,4))*y2).simplify()\n",
    "y2, ecc"
   ]
  },
  {
   "cell_type": "code",
   "execution_count": 58,
   "metadata": {
    "collapsed": false
   },
   "outputs": [
    {
     "data": {
      "image/png": "[encoded data removed]",
      "text/latex": [
       "$$2 u{\\left (x \\right )} \\cos{\\left (x \\right )} + \\sin{\\left (x \\right )} \\frac{d}{d x} u{\\left (x \\right )} = 0$$"
      ],
      "text/plain": [
       "                       d           \n",
       "2⋅u(x)⋅cos(x) + sin(x)⋅──(u(x)) = 0\n",
       "                       dx          "
      ]
     },
     "execution_count": 58,
     "metadata": {},
     "output_type": "execute_result"
    }
   ],
   "source": [
    "u=Function('u')(x)\n",
    "ecu=Eq(sin(x)*u.diff(x)+2*cos(x)*u)\n",
    "ecu"
   ]
  },
  {
   "cell_type": "code",
   "execution_count": 62,
   "metadata": {
    "collapsed": false
   },
   "outputs": [
    {
     "data": {
      "image/png": "[encoded data removed]",
      "text/latex": [
       "$$u{\\left (x \\right )} = \\frac{C_{1}}{\\sin^{2}{\\left (x \\right )}}$$"
      ],
      "text/plain": [
       "          C₁  \n",
       "u(x) = ───────\n",
       "          2   \n",
       "       sin (x)"
      ]
     },
     "execution_count": 62,
     "metadata": {},
     "output_type": "execute_result"
    }
   ],
   "source": [
    "sol=dsolve(ecu,u)\n",
    "sol"
   ]
  },
  {
   "cell_type": "code",
   "execution_count": 64,
   "metadata": {
    "collapsed": false
   },
   "outputs": [
    {
     "data": {
      "image/png": "[encoded data removed]",
      "text/latex": [
       "$$- \\frac{C_{1} \\cos{\\left (x \\right )}}{\\sin{\\left (x \\right )}}$$"
      ],
      "text/plain": [
       "-C₁⋅cos(x) \n",
       "───────────\n",
       "   sin(x)  "
      ]
     },
     "execution_count": 64,
     "metadata": {},
     "output_type": "execute_result"
    }
   ],
   "source": [
    "integrate(sol.rhs,x)"
   ]
  },
  {
   "cell_type": "code",
   "execution_count": null,
   "metadata": {
    "collapsed": true
   },
   "outputs": [],
   "source": []
  },
  {
   "cell_type": "code",
   "execution_count": null,
   "metadata": {
    "collapsed": true
   },
   "outputs": [],
   "source": []
  },
  {
   "cell_type": "code",
   "execution_count": null,
   "metadata": {
    "collapsed": true
   },
   "outputs": [],
   "source": []
  },
  {
   "cell_type": "markdown",
   "metadata": {},
   "source": [
    "<h2> Ejer. 8 <h2>"
   ]
  },
  {
   "cell_type": "code",
   "execution_count": 45,
   "metadata": {
    "collapsed": false
   },
   "outputs": [
    {
     "data": {
      "image/png": "[encoded data removed]",
      "text/latex": [
       "$$\\left(C_{1} \\cos{\\left (\\sqrt{C} t \\right )} + C_{2} \\sin{\\left (\\sqrt{C} t \\right )} + L - \\frac{g}{C}\\right) v{\\left (C_{1} \\cos{\\left (\\sqrt{C} t \\right )} + C_{2} \\sin{\\left (\\sqrt{C} t \\right )} + L - \\frac{g}{C} \\right )}$$"
      ],
      "text/plain": [
       "⎛                                  g⎞  ⎛                                  g⎞\n",
       "⎜C₁⋅cos(√C⋅t) + C₂⋅sin(√C⋅t) + L - ─⎟⋅v⎜C₁⋅cos(√C⋅t) + C₂⋅sin(√C⋅t) + L - ─⎟\n",
       "⎝                                  C⎠  ⎝                                  C⎠"
      ]
     },
     "execution_count": 45,
     "metadata": {},
     "output_type": "execute_result"
    }
   ],
   "source": [
    "f=Function('f')(x)\n",
    "v=Function('v')(x)\n",
    "y2=v*x\n",
    "y2"
   ]
  },
  {
   "cell_type": "code",
   "execution_count": 26,
   "metadata": {
    "collapsed": false
   },
   "outputs": [
    {
     "data": {
      "image/png": "[encoded data removed]",
      "text/latex": [
       "$$- x^{2} f{\\left (x \\right )} \\frac{d}{d x} v{\\left (x \\right )} + x \\frac{d^{2}}{d x^{2}}  v{\\left (x \\right )} + 2 \\frac{d}{d x} v{\\left (x \\right )}$$"
      ],
      "text/plain": [
       "                         2                   \n",
       "   2      d             d            d       \n",
       "- x ⋅f(x)⋅──(v(x)) + x⋅───(v(x)) + 2⋅──(v(x))\n",
       "          dx             2           dx      \n",
       "                       dx                    "
      ]
     },
     "execution_count": 26,
     "metadata": {},
     "output_type": "execute_result"
    }
   ],
   "source": [
    "(y2.diff(x,2)-x*f*y2.diff(x)+f*y2).simplify()"
   ]
  },
  {
   "cell_type": "code",
   "execution_count": 27,
   "metadata": {
    "collapsed": true
   },
   "outputs": [],
   "source": [
    "u=Function('u')(x)"
   ]
  },
  {
   "cell_type": "markdown",
   "metadata": {},
   "source": [
    "<h1>  Ejercicio 4 <h1>"
   ]
  },
  {
   "cell_type": "markdown",
   "metadata": {},
   "source": [
    "<h2>  Ejer. 2f) <h2>"
   ]
  },
  {
   "cell_type": "code",
   "execution_count": 28,
   "metadata": {
    "collapsed": false
   },
   "outputs": [
    {
     "data": {
      "image/png": "[encoded data removed]",
      "text/latex": [
       "$$\\left \\{ c_{1} : \\frac{9}{5 e}, \\quad c_{2} : \\frac{e^{9}}{5}\\right \\}$$"
      ],
      "text/plain": [
       "⎧       -1       9⎫\n",
       "⎪    9⋅ℯ        ℯ ⎪\n",
       "⎨c₁: ─────, c₂: ──⎬\n",
       "⎪      5        5 ⎪\n",
       "⎩                 ⎭"
      ]
     },
     "execution_count": 28,
     "metadata": {},
     "output_type": "execute_result"
    }
   ],
   "source": [
    "c1,c2=symbols('c_1,c_2')\n",
    "solve([Eq(2,c1*exp(1)+c2*exp(-9)),Eq(0,c1*exp(1)-9*c2*exp(-9))],[c1,c2])"
   ]
  },
  {
   "cell_type": "markdown",
   "metadata": {},
   "source": [
    "<h2> Ejer. 5 a) <h2>"
   ]
  },
  {
   "cell_type": "code",
   "execution_count": 29,
   "metadata": {
    "collapsed": false
   },
   "outputs": [
    {
     "data": {
      "image/png": "[encoded data removed]",
      "text/latex": [
       "$$\\frac{1}{x} \\left(c_{1} \\cos{\\left (3 \\log{\\left (x \\right )} \\right )} + c_{2} \\sin{\\left (3 \\log{\\left (x \\right )} \\right )}\\right)$$"
      ],
      "text/plain": [
       "c₁⋅cos(3⋅log(x)) + c₂⋅sin(3⋅log(x))\n",
       "───────────────────────────────────\n",
       "                 x                 "
      ]
     },
     "execution_count": 29,
     "metadata": {},
     "output_type": "execute_result"
    }
   ],
   "source": [
    "c1,c2=symbols('c_1,c_2')\n",
    "z=1/x*(c1*cos(3*log(x))+c2*sin(3*log(x)))\n",
    "z"
   ]
  },
  {
   "cell_type": "code",
   "execution_count": 30,
   "metadata": {
    "collapsed": false
   },
   "outputs": [
    {
     "data": {
      "image/png": "[encoded data removed]",
      "text/latex": [
       "$$0$$"
      ],
      "text/plain": [
       "0"
      ]
     },
     "execution_count": 30,
     "metadata": {},
     "output_type": "execute_result"
    }
   ],
   "source": [
    "(x**2*z.diff(x,2)+3*x*z.diff(x)+10*z).simplify()"
   ]
  },
  {
   "cell_type": "markdown",
   "metadata": {},
   "source": [
    "<h2> Ejer. 5 b) <h2>"
   ]
  },
  {
   "cell_type": "code",
   "execution_count": 31,
   "metadata": {
    "collapsed": false
   },
   "outputs": [
    {
     "data": {
      "image/png": "[encoded data removed]",
      "text/latex": [
       "$$\\frac{1}{x^{2}} \\left(c_{1} \\log{\\left (x \\right )} + c_{2}\\right)$$"
      ],
      "text/plain": [
       "c₁⋅log(x) + c₂\n",
       "──────────────\n",
       "       2      \n",
       "      x       "
      ]
     },
     "execution_count": 31,
     "metadata": {},
     "output_type": "execute_result"
    }
   ],
   "source": [
    "c1,c2=symbols('c_1,c_2')\n",
    "z=1/(x**2)*(c1*log(x)+c2)\n",
    "z"
   ]
  },
  {
   "cell_type": "code",
   "execution_count": 32,
   "metadata": {
    "collapsed": false
   },
   "outputs": [
    {
     "data": {
      "image/png": "[encoded data removed]",
      "text/latex": [
       "$$0$$"
      ],
      "text/plain": [
       "0"
      ]
     },
     "execution_count": 32,
     "metadata": {},
     "output_type": "execute_result"
    }
   ],
   "source": [
    "(2*x**2*z.diff(x,2)+10*x*z.diff(x)+8*z).simplify()"
   ]
  },
  {
   "cell_type": "markdown",
   "metadata": {},
   "source": [
    "<h1>  Ejercicio 5 <h1>"
   ]
  },
  {
   "cell_type": "code",
   "execution_count": 33,
   "metadata": {
    "collapsed": false
   },
   "outputs": [
    {
     "data": {
      "image/png": "[encoded data removed]",
      "text/latex": [
       "$$\\frac{\\sin{\\left (b x \\right )}}{- b^{2} + k^{2}}$$"
      ],
      "text/plain": [
       " sin(b⋅x)\n",
       "─────────\n",
       "   2    2\n",
       "- b  + k "
      ]
     },
     "execution_count": 33,
     "metadata": {},
     "output_type": "execute_result"
    }
   ],
   "source": [
    "b,k=symbols('b,k')\n",
    "z=1/(k**2-b**2)*sin(b*x)\n",
    "z"
   ]
  },
  {
   "cell_type": "code",
   "execution_count": 34,
   "metadata": {
    "collapsed": false
   },
   "outputs": [
    {
     "data": {
      "image/png": "[encoded data removed]",
      "text/latex": [
       "$$0$$"
      ],
      "text/plain": [
       "0"
      ]
     },
     "execution_count": 34,
     "metadata": {},
     "output_type": "execute_result"
    }
   ],
   "source": [
    "((z.diff(x,2)+k**2*z)-sin(b*x)).simplify()"
   ]
  },
  {
   "cell_type": "code",
   "execution_count": 35,
   "metadata": {
    "collapsed": false
   },
   "outputs": [
    {
     "data": {
      "image/png": "[encoded data removed]",
      "text/latex": [
       "$$\\left ( \\left(- x - 1\\right) e^{- x}, \\quad \\left(- x^{2} - 2 x - 2\\right) e^{- x}\\right )$$"
      ],
      "text/plain": [
       "⎛          -x  ⎛   2          ⎞  -x⎞\n",
       "⎝(-x - 1)⋅ℯ  , ⎝- x  - 2⋅x - 2⎠⋅ℯ  ⎠"
      ]
     },
     "execution_count": 35,
     "metadata": {},
     "output_type": "execute_result"
    }
   ],
   "source": [
    "integrate(x*exp(-x),x), integrate(x**2*exp(-x),x)"
   ]
  },
  {
   "cell_type": "markdown",
   "metadata": {},
   "source": [
    "<h1>  Ejercicio 6 <h1>"
   ]
  },
  {
   "cell_type": "markdown",
   "metadata": {},
   "source": [
    "<h2> Ejer. 3a) <h2>"
   ]
  },
  {
   "cell_type": "code",
   "execution_count": 36,
   "metadata": {
    "collapsed": false
   },
   "outputs": [
    {
     "data": {
      "image/png": "[encoded data removed]",
      "text/latex": [
       "$$\\left ( \\frac{1}{8} \\log{\\left (\\sin{\\left (2 x \\right )} - 1 \\right )} - \\frac{1}{8} \\log{\\left (\\sin{\\left (2 x \\right )} + 1 \\right )} + \\frac{1}{4} \\sin{\\left (2 x \\right )}, \\quad - \\frac{1}{4} \\cos{\\left (2 x \\right )}\\right )$$"
      ],
      "text/plain": [
       "⎛log(sin(2⋅x) - 1)   log(sin(2⋅x) + 1)   sin(2⋅x)  -cos(2⋅x) ⎞\n",
       "⎜───────────────── - ───────────────── + ────────, ──────────⎟\n",
       "⎝        8                   8              4          4     ⎠"
      ]
     },
     "execution_count": 36,
     "metadata": {},
     "output_type": "execute_result"
    }
   ],
   "source": [
    "C1=-integrate(Rational(1,2)*tan(2*x)*sin(2*x),x).simplify()\n",
    "C2=integrate(Rational(1,2)*tan(2*x)*cos(2*x),x).simplify()\n",
    "C1, C2"
   ]
  },
  {
   "cell_type": "code",
   "execution_count": 37,
   "metadata": {
    "collapsed": false
   },
   "outputs": [
    {
     "data": {
      "image/png": "[encoded data removed]",
      "text/latex": [
       "$$\\frac{1}{8} \\left(\\log{\\left (\\sin{\\left (2 x \\right )} - 1 \\right )} - \\log{\\left (\\sin{\\left (2 x \\right )} + 1 \\right )}\\right) \\cos{\\left (2 x \\right )}$$"
      ],
      "text/plain": [
       "(log(sin(2⋅x) - 1) - log(sin(2⋅x) + 1))⋅cos(2⋅x)\n",
       "────────────────────────────────────────────────\n",
       "                       8                        "
      ]
     },
     "execution_count": 37,
     "metadata": {},
     "output_type": "execute_result"
    }
   ],
   "source": [
    "Y=(C1*cos(2*x)+C2*sin(2*x)).simplify()\n",
    "Y"
   ]
  },
  {
   "cell_type": "code",
   "execution_count": 38,
   "metadata": {
    "collapsed": false
   },
   "outputs": [
    {
     "data": {
      "image/png": "[encoded data removed]",
      "text/latex": [
       "$$\\tan{\\left (2 x \\right )}$$"
      ],
      "text/plain": [
       "tan(2⋅x)"
      ]
     },
     "execution_count": 38,
     "metadata": {},
     "output_type": "execute_result"
    }
   ],
   "source": [
    "(Y.diff(x,2)+4*Y).simplify()"
   ]
  },
  {
   "cell_type": "markdown",
   "metadata": {},
   "source": [
    "<h1>  Ejercicio 7 <h1>"
   ]
  },
  {
   "cell_type": "markdown",
   "metadata": {},
   "source": [
    " <h2> Ejer. 3 <h2>"
   ]
  },
  {
   "cell_type": "code",
   "execution_count": 39,
   "metadata": {
    "collapsed": false
   },
   "outputs": [],
   "source": [
    "m,g,L,r,rhoa,C=symbols('m,g,L,r,rho_a,C',positive=true)\n",
    "C1,C2,t=symbols('C_1,C_2,t')\n",
    "x=Function('x')(t)\n"
   ]
  },
  {
   "cell_type": "code",
   "execution_count": 40,
   "metadata": {
    "collapsed": false
   },
   "outputs": [
    {
     "data": {
      "image/png": "[encoded data removed]",
      "text/latex": [
       "$$C_{1} \\cos{\\left (\\sqrt{C} t \\right )} + C_{2} \\sin{\\left (\\sqrt{C} t \\right )} + L - \\frac{g}{C}$$"
      ],
      "text/plain": [
       "                                  g\n",
       "C₁⋅cos(√C⋅t) + C₂⋅sin(√C⋅t) + L - ─\n",
       "                                  C"
      ]
     },
     "execution_count": 40,
     "metadata": {},
     "output_type": "execute_result"
    }
   ],
   "source": [
    "x=C1*cos(sqrt(C)*t)+C2*sin(sqrt(C)*t)-g/C+L\n",
    "x"
   ]
  },
  {
   "cell_type": "code",
   "execution_count": 41,
   "metadata": {
    "collapsed": false
   },
   "outputs": [
    {
     "data": {
      "image/png": "[encoded data removed]",
      "text/latex": [
       "$$\\left ( C_{1} + L - \\frac{g}{C} = 0, \\quad \\sqrt{C} C_{2} = 0\\right )$$"
      ],
      "text/plain": [
       "⎛         g               ⎞\n",
       "⎜C₁ + L - ─ = 0, √C⋅C₂ = 0⎟\n",
       "⎝         C               ⎠"
      ]
     },
     "execution_count": 41,
     "metadata": {},
     "output_type": "execute_result"
    }
   ],
   "source": [
    "ec1=Eq(x.subs(t,0),0)\n",
    "ec2=Eq(x.diff(t).subs(t,0),0)\n",
    "ec1, ec2"
   ]
  }
 ],
 "metadata": {
  "kernelspec": {
   "display_name": "Python 3",
   "language": "python",
   "name": "python3"
  },
  "language_info": {
   "codemirror_mode": {
    "name": "ipython",
    "version": 3
   },
   "file_extension": ".py",
   "mimetype": "text/x-python",
   "name": "python",
   "nbconvert_exporter": "python",
   "pygments_lexer": "ipython3",
   "version": "3.6.0"
  }
 },
 "nbformat": 4,
 "nbformat_minor": 2
}
