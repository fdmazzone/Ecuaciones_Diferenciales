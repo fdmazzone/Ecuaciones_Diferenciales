{
 "cells": [
  {
   "cell_type": "code",
   "execution_count": 1,
   "metadata": {
    "collapsed": true
   },
   "outputs": [],
   "source": [
    "from sympy import *\n",
    "init_printing() #muestra símbolos más agradab\n",
    "import matplotlib.pyplot as plt\n",
    "from mpl_toolkits.mplot3d import Axes3D\n",
    "from matplotlib import cm\n",
    "import numpy as np\n",
    "R=lambda n,d: Rational(n,d)"
   ]
  },
  {
   "cell_type": "markdown",
   "metadata": {},
   "source": [
    "<h2> Ejercicio 2. Encntrar coordenadas canónicas para las simetrías </h2>"
   ]
  },
  {
   "cell_type": "markdown",
   "metadata": {},
   "source": [
    " <h2> Inciso $a)$ </h2>"
   ]
  },
  {
   "cell_type": "code",
   "execution_count": 2,
   "metadata": {
    "collapsed": false
   },
   "outputs": [
    {
     "data": {
      "image/png": "[encoded data removed]",
      "text/latex": [
       "$$\\left ( y, \\quad x\\right )$$"
      ],
      "text/plain": [
       "(y, x)"
      ]
     },
     "execution_count": 2,
     "metadata": {},
     "output_type": "execute_result"
    }
   ],
   "source": [
    "x,y,epsilon=symbols('x,y,epsilon',real=true)\n",
    "xc,yc=symbols('\\hat{x},\\hat{y}')\n",
    "xi,eta=symbols('xi,eta')\n",
    "C=symbols('C')\n",
    "\n",
    "simetrias=(x+epsilon,y)\n",
    "\n",
    "xi=simetrias[0].diff(epsilon).subs(epsilon,0) \n",
    "eta=simetrias[1].diff(epsilon).subs(epsilon,0) \n",
    "xi, eta\n",
    "\n",
    "yaux=integrate(eta/xi,y)+C\n",
    "r=solve(y-yaux,C)[0]\n",
    "\n",
    "s=integrate(1/(xi),x).subs(y,r)\n",
    "r, s\n",
    "\n"
   ]
  },
  {
   "cell_type": "code",
   "execution_count": 3,
   "metadata": {
    "collapsed": false
   },
   "outputs": [
    {
     "data": {
      "image/png": "[encoded data removed]",
      "text/latex": [
       "$$\\left ( \\left ( y, \\quad x\\right ), \\quad \\left ( y, \\quad \\epsilon + x\\right )\\right )$$"
      ],
      "text/plain": [
       "((y, x), (y, ε + x))"
      ]
     },
     "execution_count": 3,
     "metadata": {},
     "output_type": "execute_result"
    }
   ],
   "source": [
    "#VERIFICAMOS QUE SEAN CANONICAS\n",
    "\n",
    "\n",
    "(r,s), (r.subs(x,simetrias[0]).subs(y,simetrias[1]),s.subs(x,simetrias[0]).subs(y,simetrias[1]))\n"
   ]
  },
  {
   "cell_type": "markdown",
   "metadata": {
    "collapsed": false
   },
   "source": [
    " <h2> Inciso $b)$ </h2>"
   ]
  },
  {
   "cell_type": "code",
   "execution_count": 4,
   "metadata": {
    "collapsed": false
   },
   "outputs": [
    {
     "data": {
      "image/png": "[encoded data removed]",
      "text/latex": [
       "$$\\left ( y, \\quad \\log{\\left (x \\right )}\\right )$$"
      ],
      "text/plain": [
       "(y, log(x))"
      ]
     },
     "execution_count": 4,
     "metadata": {},
     "output_type": "execute_result"
    }
   ],
   "source": [
    "simetrias=(exp(epsilon)*x,y)\n",
    "\n",
    "xi=simetrias[0].diff(epsilon).subs(epsilon,0) \n",
    "eta=simetrias[1].diff(epsilon).subs(epsilon,0) \n",
    "xi, eta\n",
    "\n",
    "yaux=integrate(eta/xi,y)+C\n",
    "r=solve(y-yaux,C)[0]\n",
    "\n",
    "s=integrate(1/(xi),x)\n",
    "r, s"
   ]
  },
  {
   "cell_type": "code",
   "execution_count": 5,
   "metadata": {
    "collapsed": false
   },
   "outputs": [
    {
     "data": {
      "image/png": "[encoded data removed]",
      "text/latex": [
       "$$\\left ( \\left ( y, \\quad \\log{\\left (x \\right )}\\right ), \\quad \\left ( y, \\quad \\log{\\left (x e^{\\epsilon} \\right )}\\right )\\right )$$"
      ],
      "text/plain": [
       "⎛             ⎛      ⎛   ε⎞⎞⎞\n",
       "⎝(y, log(x)), ⎝y, log⎝x⋅ℯ ⎠⎠⎠"
      ]
     },
     "execution_count": 5,
     "metadata": {},
     "output_type": "execute_result"
    }
   ],
   "source": [
    "#VERIFICAMOS QUE SEAN CANONICAS\n",
    "\n",
    "\n",
    "(r,s), (r.subs(x,simetrias[0]).subs(y,simetrias[1]),s.subs(x,simetrias[0]).subs(y,simetrias[1]))\n"
   ]
  },
  {
   "cell_type": "markdown",
   "metadata": {},
   "source": [
    " <h2> Inciso $c)$ </h2>"
   ]
  },
  {
   "cell_type": "code",
   "execution_count": 6,
   "metadata": {
    "collapsed": false
   },
   "outputs": [
    {
     "data": {
      "image/png": "[encoded data removed]",
      "text/latex": [
       "$$\\left ( x^{2}, \\quad x y\\right )$$"
      ],
      "text/plain": [
       "⎛ 2     ⎞\n",
       "⎝x , x⋅y⎠"
      ]
     },
     "execution_count": 6,
     "metadata": {},
     "output_type": "execute_result"
    }
   ],
   "source": [
    "xc=x/(1-epsilon*x)\n",
    "yc=y/(1-epsilon*x)\n",
    "simetrias=(xc,yc)\n",
    "\n",
    "\n",
    "xi=simetrias[0].diff(epsilon).subs(epsilon,0) \n",
    "eta=simetrias[1].diff(epsilon).subs(epsilon,0) \n",
    "xi, eta\n",
    "\n",
    "\n"
   ]
  },
  {
   "cell_type": "code",
   "execution_count": 7,
   "metadata": {
    "collapsed": false
   },
   "outputs": [
    {
     "data": {
      "image/png": "[encoded data removed]",
      "text/latex": [
       "$$\\left ( \\frac{y}{x}, \\quad - \\frac{1}{x}\\right )$$"
      ],
      "text/plain": [
       "⎛y  -1 ⎞\n",
       "⎜─, ───⎟\n",
       "⎝x   x ⎠"
      ]
     },
     "execution_count": 7,
     "metadata": {},
     "output_type": "execute_result"
    }
   ],
   "source": [
    "#entontramos r\n",
    "z=Function('z')(x)\n",
    "dsolve(Eq(z.diff(x),z/x),z)\n",
    "#r=y/x\n",
    "\n",
    "r=y/x\n",
    "\n",
    "s=integrate(1/(xi),x)\n",
    "\n",
    "r,s\n",
    "\n"
   ]
  },
  {
   "cell_type": "code",
   "execution_count": 8,
   "metadata": {
    "collapsed": false
   },
   "outputs": [
    {
     "data": {
      "image/png": "[encoded data removed]",
      "text/latex": [
       "$$\\left ( \\frac{y}{x}, \\quad - \\frac{1}{x}, \\quad \\frac{y \\left(- \\epsilon x + 1\\right)}{x \\left(- \\frac{\\epsilon x}{- \\epsilon x + 1} + 1\\right)}, \\quad \\epsilon - \\frac{1}{x}\\right )$$"
      ],
      "text/plain": [
       "⎛y  -1      y⋅(-ε⋅x + 1)         1⎞\n",
       "⎜─, ───, ──────────────────, ε - ─⎟\n",
       "⎜x   x     ⎛    ε⋅x       ⎞      x⎟\n",
       "⎜        x⋅⎜- ──────── + 1⎟       ⎟\n",
       "⎝          ⎝  -ε⋅x + 1    ⎠       ⎠"
      ]
     },
     "execution_count": 8,
     "metadata": {},
     "output_type": "execute_result"
    }
   ],
   "source": [
    "#VERIFICAMOS QUE SEAN CANONICAS\n",
    "rr=r.subs(y,yc).subs(x,xc)\n",
    "ss=s.subs(y,yc).subs(x,xc).simplify()\n",
    "r, s, rr, ss"
   ]
  },
  {
   "cell_type": "markdown",
   "metadata": {},
   "source": [
    " <h2> Inciso $d)$ </h2>"
   ]
  },
  {
   "cell_type": "code",
   "execution_count": 9,
   "metadata": {
    "collapsed": false
   },
   "outputs": [
    {
     "data": {
      "image/png": "[encoded data removed]",
      "text/latex": [
       "$$\\left ( - y, \\quad x\\right )$$"
      ],
      "text/plain": [
       "(-y, x)"
      ]
     },
     "execution_count": 9,
     "metadata": {},
     "output_type": "execute_result"
    }
   ],
   "source": [
    "x,y,epsilon=symbols('x,y,epsilon')\n",
    "xc,yc=symbols('\\hat{x},\\hat{y}')\n",
    "xi,eta=symbols('xi,eta')\n",
    "C=symbols('C')\n",
    "\n",
    "\n",
    "xc=cos(epsilon)*x-sin(epsilon)*y\n",
    "yc=sin(epsilon)*x+cos(epsilon)*y\n",
    "simetrias=(xc,yc)\n",
    "\n",
    "xi=simetrias[0].diff(epsilon).subs(epsilon,0) \n",
    "eta=simetrias[1].diff(epsilon).subs(epsilon,0) \n",
    "xi, eta\n",
    "\n"
   ]
  },
  {
   "cell_type": "code",
   "execution_count": 10,
   "metadata": {
    "collapsed": false
   },
   "outputs": [
    {
     "data": {
      "image/png": "[encoded data removed]",
      "text/latex": [
       "$$\\left ( \\sqrt{x^{2} + y^{2}}, \\quad - \\operatorname{asin}{\\left (\\frac{x}{r} \\right )}\\right )$$"
      ],
      "text/plain": [
       "⎛   _________          ⎞\n",
       "⎜  ╱  2    2        ⎛x⎞⎟\n",
       "⎜╲╱  x  + y  , -asin⎜─⎟⎟\n",
       "⎝                   ⎝r⎠⎠"
      ]
     },
     "execution_count": 10,
     "metadata": {},
     "output_type": "execute_result"
    }
   ],
   "source": [
    "#buscamos r\n",
    "z=Function('z')(x)\n",
    "ecuacion=Eq(z.diff(x)+x/z,0)\n",
    "\n",
    "zz=dsolve(ecuacion,z)\n",
    "\n",
    "y=symbols('y')\n",
    "r=sqrt(x**2+y**2)\n",
    "r\n",
    "\n",
    "r0=symbols('r',positive=true)\n",
    "s=integrate(-1/sqrt(r0**2-x**2),x)\n",
    "r, s\n",
    "#RESUELVO SÓLO CON LA COMPU\n",
    "#ecuacion=Eq(y.diff(x)-eta/xi,0)\n",
    "#ecuacion\n",
    "#r=dsolve(ecuacion,y)\n",
    "#r\n",
    "\n",
    "#s=integrate(1/(r[1].rhs),x)\n",
    "#r,s\n",
    "##########################################\n",
    "\n",
    "\n",
    "#yaux=integrate(eta/xi,y)+C\n",
    "#r=solve(y-yaux,C)[0]\n",
    "#xi,eta,yaux\n",
    "#s=integrate(1/(xi),x).subs(y,r)\n",
    "#r,s"
   ]
  },
  {
   "cell_type": "code",
   "execution_count": 11,
   "metadata": {
    "collapsed": false
   },
   "outputs": [
    {
     "data": {
      "image/png": "[encoded data removed]",
      "text/latex": [
       "$$\\left [ z{\\left (x \\right )} = - \\sqrt{C_{1} - x^{2}}, \\quad z{\\left (x \\right )} = \\sqrt{C_{1} - x^{2}}\\right ]$$"
      ],
      "text/plain": [
       "⎡           _________            _________⎤\n",
       "⎢          ╱       2            ╱       2 ⎥\n",
       "⎣z(x) = -╲╱  C₁ - x  , z(x) = ╲╱  C₁ - x  ⎦"
      ]
     },
     "execution_count": 11,
     "metadata": {},
     "output_type": "execute_result"
    }
   ],
   "source": [
    "zz"
   ]
  },
  {
   "cell_type": "code",
   "execution_count": 12,
   "metadata": {
    "collapsed": false
   },
   "outputs": [
    {
     "data": {
      "image/png": "[encoded data removed]",
      "text/latex": [
       "$$\\left ( x^{2} + y^{2}, \\quad - \\operatorname{asin}{\\left (\\frac{x}{r} \\right )}, \\quad \\left(x \\cos{\\left (\\epsilon \\right )} - y \\sin{\\left (\\epsilon \\right )}\\right)^{2} + \\left(y \\cos{\\left (\\epsilon \\right )} + \\left(x \\cos{\\left (\\epsilon \\right )} - y \\sin{\\left (\\epsilon \\right )}\\right) \\sin{\\left (\\epsilon \\right )}\\right)^{2}, \\quad - \\operatorname{asin}{\\left (\\frac{1}{r} \\left(x \\cos{\\left (\\epsilon \\right )} - y \\sin{\\left (\\epsilon \\right )}\\right) \\right )}\\right )$$"
      ],
      "text/plain": [
       "⎛ 2    2       ⎛x⎞                       2                                    \n",
       "⎜x  + y , -asin⎜─⎟, (x⋅cos(ε) - y⋅sin(ε))  + (y⋅cos(ε) + (x⋅cos(ε) - y⋅sin(ε))\n",
       "⎝              ⎝r⎠                                                            \n",
       "\n",
       "        2       ⎛x⋅cos(ε) - y⋅sin(ε)⎞⎞\n",
       "⋅sin(ε)) , -asin⎜───────────────────⎟⎟\n",
       "                ⎝         r         ⎠⎠"
      ]
     },
     "execution_count": 12,
     "metadata": {},
     "output_type": "execute_result"
    }
   ],
   "source": [
    "#VERIFICAMOS QUE SEAN CANONICAS\n",
    "rr=r.subs(y,yc).subs(x,xc)\n",
    "ss=s.subs(y,yc).subs(x,xc).simplify()\n",
    "r**2, s, rr**2, ss"
   ]
  },
  {
   "cell_type": "markdown",
   "metadata": {},
   "source": [
    "<h2> Ejercicio 2 </h2>"
   ]
  },
  {
   "cell_type": "code",
   "execution_count": 13,
   "metadata": {
    "collapsed": false
   },
   "outputs": [
    {
     "data": {
      "image/png": "[encoded data removed]",
      "text/latex": [
       "$$\\frac{y}{- x \\sin{\\left (\\epsilon \\right )} + \\cos{\\left (\\epsilon \\right )}}$$"
      ],
      "text/plain": [
       "        y         \n",
       "──────────────────\n",
       "-x⋅sin(ε) + cos(ε)"
      ]
     },
     "execution_count": 13,
     "metadata": {},
     "output_type": "execute_result"
    }
   ],
   "source": [
    "x,y,epsilon=symbols('x,y,epsilon',real=true)\n",
    "xc,yc=symbols('\\hat{x},\\hat{y}')\n",
    "xi,eta=symbols('xi,eta')\n",
    "C=symbols('C')\n",
    "\n",
    "\n",
    "sin(epsilon+atan(x))/(cos(epsilon+atan(x)))\n",
    "\n",
    "(sin(epsilon)*cos(atan(x))+cos(epsilon)*sin(atan(x)))/(cos(epsilon)*cos(atan(x))-sin(epsilon)*sin(atan(x))).simplify().factor()\n",
    "\n",
    "y/((cos(epsilon)*cos(atan(x))-sin(epsilon)*sin(atan(x)))*sqrt(1+x**2)).expand()"
   ]
  },
  {
   "cell_type": "markdown",
   "metadata": {},
   "source": [
    "<h2> Ejercicio 3 </h2> Ejercicio 1.1"
   ]
  },
  {
   "cell_type": "code",
   "execution_count": 14,
   "metadata": {
    "collapsed": false
   },
   "outputs": [
    {
     "data": {
      "image/png": "[encoded data removed]",
      "text/latex": [
       "$$\\frac{x \\sin{\\left (\\epsilon \\right )} + y \\cos{\\left (\\epsilon \\right )}}{x \\cos{\\left (\\epsilon \\right )} - y \\sin{\\left (\\epsilon \\right )}}$$"
      ],
      "text/plain": [
       "x⋅sin(ε) + y⋅cos(ε)\n",
       "───────────────────\n",
       "x⋅cos(ε) - y⋅sin(ε)"
      ]
     },
     "execution_count": 14,
     "metadata": {},
     "output_type": "execute_result"
    }
   ],
   "source": [
    "x,y,epsilon=symbols('x,y,epsilon')\n",
    "xc,yc=symbols('\\hat{x},\\hat{y}')\n",
    "xi,eta=symbols('xi,eta')\n",
    "C=symbols('C')\n",
    "y=Function('y')(x)\n",
    "\n",
    "xc=cos(epsilon)*x-sin(epsilon)*y\n",
    "yc=sin(epsilon)*x+cos(epsilon)*y\n",
    "simetrias=(xc,yc)\n",
    "simetrias\n",
    "\n",
    "exp0=(yc.diff(x)/xc.diff(x)).subs(y.diff(x),y/x)\n",
    "y=symbols('y')\n",
    "(exp0.subs(y(x),y)).factor()"
   ]
  },
  {
   "cell_type": "markdown",
   "metadata": {
    "collapsed": false
   },
   "source": [
    "Ejercicio 1.2"
   ]
  },
  {
   "cell_type": "code",
   "execution_count": 15,
   "metadata": {
    "collapsed": false
   },
   "outputs": [
    {
     "data": {
      "image/png": "[encoded data removed]",
      "text/latex": [
       "$$Y{\\left (x \\right )} = \\frac{C_{1} + x^{2}}{- C_{1} + x^{2}}$$"
      ],
      "text/plain": [
       "             2 \n",
       "       C₁ + x  \n",
       "Y(x) = ────────\n",
       "              2\n",
       "       -C₁ + x "
      ]
     },
     "execution_count": 15,
     "metadata": {},
     "output_type": "execute_result"
    }
   ],
   "source": [
    "x,y,epsilon=symbols('x,y,epsilon',real=true)\n",
    "Y=Function('Y')(x)\n",
    "sol=dsolve(Eq(Y.diff(x)-(1-Y**2)/x),Y)\n",
    "sol"
   ]
  },
  {
   "cell_type": "markdown",
   "metadata": {},
   "source": [
    "Ejercicio 1.5 "
   ]
  },
  {
   "cell_type": "code",
   "execution_count": 16,
   "metadata": {
    "collapsed": false
   },
   "outputs": [
    {
     "data": {
      "image/png": "[encoded data removed]",
      "text/latex": [
       "$$\\frac{1}{\\frac{x^{3}}{x^{3} + 2 y} + \\frac{3 y}{x^{3}} - \\frac{3}{x^{3}} y{\\left (x \\right )}}$$"
      ],
      "text/plain": [
       "           1           \n",
       "───────────────────────\n",
       "    3                  \n",
       "   x       3⋅y   3⋅y(x)\n",
       "──────── + ─── - ──────\n",
       " 3           3      3  \n",
       "x  + 2⋅y    x      x   "
      ]
     },
     "execution_count": 16,
     "metadata": {},
     "output_type": "execute_result"
    }
   ],
   "source": [
    "f=3*y/x+x**5/(x**3+2*y)\n",
    "y=Function('y')(x)\n",
    "r=y/x**3 \n",
    "s=log(x)\n",
    "r, s\n",
    "exp0=s.diff(x)/r.diff(x)\n",
    "exp1=exp0.subs(y.diff(x), f)\n",
    "exp1.expand()"
   ]
  },
  {
   "cell_type": "markdown",
   "metadata": {},
   "source": [
    "Ejercicio 1.6"
   ]
  },
  {
   "cell_type": "code",
   "execution_count": 17,
   "metadata": {
    "collapsed": false
   },
   "outputs": [
    {
     "data": {
      "image/png": "[encoded data removed]",
      "text/latex": [
       "$$\\left ( \\left(- b y^{4} - b e^{4 x} + \\left(- a x - a - 3 b y + d\\right) e^{3 x} + \\left(- a y - 3 b y^{2} - c x + c\\right) e^{2 x} + \\left(a x y^{2} - a y^{2} - b y^{3} - 2 c x y - d y^{2}\\right) e^{x}\\right) e^{- 2 x}, \\quad y^{2} e^{- x} + y + e^{x}\\right )$$"
      ],
      "text/plain": [
       "⎛⎛     4      4⋅x                           3⋅x   ⎛            2          ⎞  2\n",
       "⎝⎝- b⋅y  - b⋅ℯ    + (-a⋅x - a - 3⋅b⋅y + d)⋅ℯ    + ⎝-a⋅y - 3⋅b⋅y  - c⋅x + c⎠⋅ℯ \n",
       "\n",
       "⋅x   ⎛     2      2      3                2⎞  x⎞  -2⋅x   2  -x        x⎞\n",
       "   + ⎝a⋅x⋅y  - a⋅y  - b⋅y  - 2⋅c⋅x⋅y - d⋅y ⎠⋅ℯ ⎠⋅ℯ    , y ⋅ℯ   + y + ℯ ⎠"
      ]
     },
     "execution_count": 17,
     "metadata": {},
     "output_type": "execute_result"
    }
   ],
   "source": [
    "a,b,c,d=symbols('a,b,c,d',real=true)\n",
    "x,y=symbols('x,y',real=true)\n",
    "#f=exp(-x)*y**2+y+exp(x)\n",
    "xi=a*x+b*y\n",
    "eta=c*x+d*y\n",
    "xi, eta\n",
    "f=exp(-x)*y**2+y+exp(x)\n",
    "expr0=eta.diff(x)+(eta.diff(y)-xi.diff(x))*f-xi.diff(y)*f**2-xi*f.diff(x)-eta*f.diff(y)\n",
    "expr1=expr0.expand().factor().collect(exp(x))\n",
    "expr1, f"
   ]
  },
  {
   "cell_type": "markdown",
   "metadata": {
    "collapsed": true
   },
   "source": [
    " Ejercicio 2.2 "
   ]
  },
  {
   "cell_type": "code",
   "execution_count": 18,
   "metadata": {
    "collapsed": false
   },
   "outputs": [
    {
     "data": {
      "image/png": "[encoded data removed]",
      "text/latex": [
       "$$\\left ( x + \\frac{y^{2}}{x}, \\quad - \\frac{y}{x^{2} + y^{2}}\\right )$$"
      ],
      "text/plain": [
       "⎛     2         ⎞\n",
       "⎜    y     -y   ⎟\n",
       "⎜x + ──, ───────⎟\n",
       "⎜    x    2    2⎟\n",
       "⎝        x  + y ⎠"
      ]
     },
     "execution_count": 18,
     "metadata": {},
     "output_type": "execute_result"
    }
   ],
   "source": [
    "#SUPONEMOS x>0 y>0\n",
    "\n",
    "#CALCULAMOS r Y s\n",
    "\n",
    "\n",
    "\n",
    "#y>0 x>0\n",
    "y=symbols('y',positive=true)\n",
    "x=symbols('x',positive=true)\n",
    "\n",
    "\n",
    "r=y**2/x+x\n",
    "#r\n",
    "s=-1/r*sqrt((r-x)/x)\n",
    "#r.factor(),s.expand()\n",
    "r,s.factor()\n"
   ]
  },
  {
   "cell_type": "code",
   "execution_count": 19,
   "metadata": {
    "collapsed": false
   },
   "outputs": [
    {
     "data": {
      "image/png": "[encoded data removed]",
      "text/latex": [
       "$$\\left [ \\left ( \\frac{x}{\\epsilon^{2} x^{2} + \\epsilon^{2} y^{2} - 2 \\epsilon y + 1}, \\quad \\frac{- \\epsilon x^{2} - \\epsilon y^{2} + y}{\\epsilon^{2} x^{2} + \\epsilon^{2} y^{2} - 2 \\epsilon y + 1}\\right )\\right ]$$"
      ],
      "text/plain": [
       "⎡⎛                                    2      2        ⎞⎤\n",
       "⎢⎜            x                  - ε⋅x  - ε⋅y  + y    ⎟⎥\n",
       "⎢⎜─────────────────────────, ─────────────────────────⎟⎥\n",
       "⎢⎜ 2  2    2  2               2  2    2  2            ⎟⎥\n",
       "⎣⎝ε ⋅x  + ε ⋅y  - 2⋅ε⋅y + 1  ε ⋅x  + ε ⋅y  - 2⋅ε⋅y + 1⎠⎦"
      ]
     },
     "execution_count": 19,
     "metadata": {},
     "output_type": "execute_result"
    }
   ],
   "source": [
    "#resolvemos la ecuacion de las coordenadas canónicas para encontrar las simetrías ( es decir xc e yc)\n",
    "#reiniciamos el valor de x,y,xc,yc por las dudas que tengan otros valores que prvengan de otros ejercicios\n",
    "\n",
    "\n",
    "\n",
    "\n",
    "xc,yc=symbols('\\hat{x},\\hat{y}')\n",
    "eq1=Eq(r.subs(x,xc).subs(y,yc),r)\n",
    "eq2=Eq(s.subs(x,xc).subs(y,yc),s+epsilon)\n",
    "\n",
    "\n",
    "sol=solve([eq1,eq2],[xc,yc])\n",
    "\n",
    "sol"
   ]
  },
  {
   "cell_type": "code",
   "execution_count": 20,
   "metadata": {
    "collapsed": false
   },
   "outputs": [
    {
     "data": {
      "image/png": "[encoded data removed]",
      "text/latex": [
       "$$\\left ( 2 x y, \\quad - x^{2} + y^{2}\\right )$$"
      ],
      "text/plain": [
       "⎛          2    2⎞\n",
       "⎝2⋅x⋅y, - x  + y ⎠"
      ]
     },
     "execution_count": 20,
     "metadata": {},
     "output_type": "execute_result"
    }
   ],
   "source": [
    "#VERIFICAMOS QUE SON REALMENTE LAS SIMETRÍAS\n",
    "sol[0][0].diff(epsilon).subs(epsilon,0), sol[0][1].diff(epsilon).subs(epsilon,0)"
   ]
  },
  {
   "cell_type": "code",
   "execution_count": null,
   "metadata": {
    "collapsed": false
   },
   "outputs": [],
   "source": [
    "\n"
   ]
  },
  {
   "cell_type": "code",
   "execution_count": null,
   "metadata": {
    "collapsed": false
   },
   "outputs": [],
   "source": []
  },
  {
   "cell_type": "code",
   "execution_count": null,
   "metadata": {
    "collapsed": false
   },
   "outputs": [],
   "source": [
    "\n"
   ]
  },
  {
   "cell_type": "code",
   "execution_count": null,
   "metadata": {
    "collapsed": false
   },
   "outputs": [],
   "source": []
  },
  {
   "cell_type": "code",
   "execution_count": null,
   "metadata": {
    "collapsed": false
   },
   "outputs": [],
   "source": [
    "\n"
   ]
  },
  {
   "cell_type": "code",
   "execution_count": null,
   "metadata": {
    "collapsed": false
   },
   "outputs": [],
   "source": []
  },
  {
   "cell_type": "code",
   "execution_count": null,
   "metadata": {
    "collapsed": false
   },
   "outputs": [],
   "source": []
  },
  {
   "cell_type": "code",
   "execution_count": null,
   "metadata": {
    "collapsed": false
   },
   "outputs": [],
   "source": []
  }
 ],
 "metadata": {
  "kernelspec": {
   "display_name": "Python 3",
   "language": "python",
   "name": "python3"
  },
  "language_info": {
   "codemirror_mode": {
    "name": "ipython",
    "version": 3
   },
   "file_extension": ".py",
   "mimetype": "text/x-python",
   "name": "python",
   "nbconvert_exporter": "python",
   "pygments_lexer": "ipython3",
   "version": "3.6.0"
  }
 },
 "nbformat": 4,
 "nbformat_minor": 2
}
