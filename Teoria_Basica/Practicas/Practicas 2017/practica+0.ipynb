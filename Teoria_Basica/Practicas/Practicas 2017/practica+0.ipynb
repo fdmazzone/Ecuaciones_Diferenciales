{
 "cells": [
  {
   "cell_type": "code",
   "execution_count": 1,
   "metadata": {
    "collapsed": true
   },
   "outputs": [],
   "source": [
    "from sympy import *\n",
    "init_printing() #muestra símbolos más agradab\n",
    "import matplotlib.pyplot as plt\n",
    "from mpl_toolkits.mplot3d import Axes3D\n",
    "from matplotlib import cm\n",
    "import numpy as np\n",
    "R=lambda n,d: Rational(n,d)"
   ]
  },
  {
   "cell_type": "markdown",
   "metadata": {},
   "source": [
    "<h2> Verificar si un número es o no primo </h2>"
   ]
  },
  {
   "cell_type": "code",
   "execution_count": 2,
   "metadata": {
    "collapsed": false
   },
   "outputs": [
    {
     "data": {
      "text/plain": [
       "False"
      ]
     },
     "execution_count": 2,
     "metadata": {},
     "output_type": "execute_result"
    }
   ],
   "source": [
    "def testprimo(n):\n",
    "    z=True\n",
    "    i=3\n",
    "    if n % 2==0 and n>2:\n",
    "        i=sqrt(n)+1\n",
    "        z=False\n",
    "    while i<=sqrt(n) and z==True:\n",
    "        r=n % i\n",
    "        if r==0:\n",
    "            z=False\n",
    "        else:\n",
    "            i=i+2\n",
    "    \n",
    "    return(z)    \n",
    "        \n",
    "        \n",
    "testprimo(6)\n",
    "\n",
    "\n"
   ]
  },
  {
   "cell_type": "code",
   "execution_count": 46,
   "metadata": {
    "collapsed": false
   },
   "outputs": [
    {
     "data": {
      "text/plain": [
       "True"
      ]
     },
     "execution_count": 46,
     "metadata": {},
     "output_type": "execute_result"
    }
   ],
   "source": [
    "testprimo(127)"
   ]
  },
  {
   "cell_type": "markdown",
   "metadata": {},
   "source": [
    "<h2> Congetura de Goldbach </h2>"
   ]
  },
  {
   "cell_type": "code",
   "execution_count": 30,
   "metadata": {
    "collapsed": false
   },
   "outputs": [
    {
     "data": {
      "text/plain": [
       "['El número es menor que 4 o el número no es par', 0]"
      ]
     },
     "execution_count": 30,
     "metadata": {},
     "output_type": "execute_result"
    }
   ],
   "source": [
    "def conjGoldbach(n):\n",
    "    salida=0\n",
    "    a=0\n",
    "    b=0\n",
    "    if n<4 or (n % 2)==1:\n",
    "        salida=1\n",
    "        a=\"El número es menor que 4 o el número no es par\"\n",
    "        b=0\n",
    "    else:\n",
    "        j=2\n",
    "        while salida==0 and j<=n/(2.0):\n",
    "            if testprimo(j)==True and testprimo(n-j)==True:\n",
    "                a=j\n",
    "                b=n-j\n",
    "                salida=1\n",
    "            j=j+1    \n",
    "    return([a,b])\n",
    "            \n",
    "conjGoldbach(137)"
   ]
  },
  {
   "cell_type": "code",
   "execution_count": 40,
   "metadata": {
    "collapsed": false
   },
   "outputs": [
    {
     "data": {
      "image/png": "[encoded data removed]",
      "text/latex": [
       "$$\\left [ 3, \\quad 19\\right ]$$"
      ],
      "text/plain": [
       "[3, 19]"
      ]
     },
     "execution_count": 40,
     "metadata": {},
     "output_type": "execute_result"
    }
   ],
   "source": [
    "conjGoldbach(22)"
   ]
  }
 ],
 "metadata": {
  "kernelspec": {
   "display_name": "Python 3",
   "language": "python",
   "name": "python3"
  },
  "language_info": {
   "codemirror_mode": {
    "name": "ipython",
    "version": 3
   },
   "file_extension": ".py",
   "mimetype": "text/x-python",
   "name": "python",
   "nbconvert_exporter": "python",
   "pygments_lexer": "ipython3",
   "version": "3.6.0"
  }
 },
 "nbformat": 4,
 "nbformat_minor": 2
}
