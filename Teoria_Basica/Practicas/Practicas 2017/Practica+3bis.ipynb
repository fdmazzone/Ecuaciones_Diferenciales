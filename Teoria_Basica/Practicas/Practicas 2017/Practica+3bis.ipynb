{
 "cells": [
  {
   "cell_type": "code",
   "execution_count": 1,
   "metadata": {
    "collapsed": true
   },
   "outputs": [],
   "source": [
    "from sympy import *\n",
    "init_printing()"
   ]
  },
  {
   "cell_type": "code",
   "execution_count": 74,
   "metadata": {
    "collapsed": false
   },
   "outputs": [
    {
     "data": {
      "image/png": "[encoded data removed]",
      "text/latex": [
       "$$\\left[\\begin{matrix}\\frac{d}{d t} x{\\left (t \\right )} = x{\\left (t \\right )} + z{\\left (t \\right )}\\\\\\frac{d}{d t} y{\\left (t \\right )} = t x{\\left (t \\right )} - z{\\left (t \\right )}\\\\\\frac{d}{d t} z{\\left (t \\right )} = t^{2} x{\\left (t \\right )} + y{\\left (t \\right )}\\end{matrix}\\right]$$"
      ],
      "text/plain": [
       "⎡ d                       ⎤\n",
       "⎢ ──(x(t)) = x(t) + z(t)  ⎥\n",
       "⎢ dt                      ⎥\n",
       "⎢                         ⎥\n",
       "⎢d                        ⎥\n",
       "⎢──(y(t)) = t⋅x(t) - z(t) ⎥\n",
       "⎢dt                       ⎥\n",
       "⎢                         ⎥\n",
       "⎢d           2            ⎥\n",
       "⎢──(z(t)) = t ⋅x(t) + y(t)⎥\n",
       "⎣dt                       ⎦"
      ]
     },
     "execution_count": 74,
     "metadata": {},
     "output_type": "execute_result"
    }
   ],
   "source": [
    "t=symbols('t')\n",
    "x=Function('x')(t)\n",
    "y=Function('y')(t)\n",
    "z=Function('z')(t)\n",
    "ec1=Eq(x.diff(t),x+z)\n",
    "ec2=Eq(y.diff(t),x*t-z)\n",
    "ec3=Eq(z.diff(t),y+x*t**2)\n",
    "Matrix([ec1, ec2, ec3])"
   ]
  },
  {
   "cell_type": "code",
   "execution_count": 75,
   "metadata": {
    "collapsed": false
   },
   "outputs": [
    {
     "data": {
      "image/png": "[encoded data removed]",
      "text/latex": [
       "$$\\frac{d^{2}}{d t^{2}}  x{\\left (t \\right )} = t^{2} x{\\left (t \\right )} + x{\\left (t \\right )} + y{\\left (t \\right )} + z{\\left (t \\right )}$$"
      ],
      "text/plain": [
       "  2                                     \n",
       " d           2                          \n",
       "───(x(t)) = t ⋅x(t) + x(t) + y(t) + z(t)\n",
       "  2                                     \n",
       "dt                                      "
      ]
     },
     "execution_count": 75,
     "metadata": {},
     "output_type": "execute_result"
    }
   ],
   "source": [
    "ec21=Eq(ec1.lhs.diff(t),ec1.rhs.diff(t))\n",
    "ec21.rhs.subs({x.diff(t):ec1.rhs,y.diff(t):ec2.rhs,z.diff(t):ec3.rhs})\n",
    "ec21=Eq(ec1.lhs.diff(t),ec21.rhs.subs({x.diff(t):ec1.rhs,y.diff(t):ec2.rhs,z.diff(t):ec3.rhs}))\n",
    "ec21"
   ]
  },
  {
   "cell_type": "code",
   "execution_count": 76,
   "metadata": {
    "collapsed": false
   },
   "outputs": [
    {
     "data": {
      "image/png": "[encoded data removed]",
      "text/latex": [
       "$$\\frac{d^{3}}{d t^{3}}  x{\\left (t \\right )} = 2 t^{2} x{\\left (t \\right )} + t^{2} z{\\left (t \\right )} + 3 t x{\\left (t \\right )} + x{\\left (t \\right )} + y{\\left (t \\right )}$$"
      ],
      "text/plain": [
       "  3                                                     \n",
       " d             2         2                              \n",
       "───(x(t)) = 2⋅t ⋅x(t) + t ⋅z(t) + 3⋅t⋅x(t) + x(t) + y(t)\n",
       "  3                                                     \n",
       "dt                                                      "
      ]
     },
     "execution_count": 76,
     "metadata": {},
     "output_type": "execute_result"
    }
   ],
   "source": [
    "ec31=Eq(ec21.lhs.diff(t),ec21.rhs.diff(t))\n",
    "ec31\n",
    "ec31.rhs.subs({x.diff(t):ec1.rhs,y.diff(t):ec2.rhs,z.diff(t):ec3.rhs})\n",
    "ec31=Eq(ec21.lhs.diff(t),ec31.rhs.subs({x.diff(t):ec1.rhs,y.diff(t):ec2.rhs,z.diff(t):ec3.rhs}))\n",
    "ec31.simplify()"
   ]
  },
  {
   "cell_type": "code",
   "execution_count": 77,
   "metadata": {
    "collapsed": false
   },
   "outputs": [
    {
     "data": {
      "image/png": "[encoded data removed]",
      "text/latex": [
       "$$\\left \\{ x{\\left (t \\right )} : \\frac{1}{3 t + 1} \\left(- \\left(t^{2} - 1\\right) \\frac{d}{d t} x{\\left (t \\right )} - \\frac{d^{2}}{d t^{2}}  x{\\left (t \\right )} + \\frac{d^{3}}{d t^{3}}  x{\\left (t \\right )}\\right), \\quad y{\\left (t \\right )} : \\frac{1}{3 t + 1} \\left(t^{4} \\frac{d}{d t} x{\\left (t \\right )} - t^{2} \\frac{d}{d t} x{\\left (t \\right )} + t^{2} \\frac{d^{2}}{d t^{2}}  x{\\left (t \\right )} - t^{2} \\frac{d^{3}}{d t^{3}}  x{\\left (t \\right )} - 3 t \\frac{d}{d t} x{\\left (t \\right )} + 3 t \\frac{d^{2}}{d t^{2}}  x{\\left (t \\right )} - \\frac{d}{d t} x{\\left (t \\right )} + \\frac{d^{2}}{d t^{2}}  x{\\left (t \\right )}\\right), \\quad z{\\left (t \\right )} : \\frac{1}{3 t + 1} \\left(t \\left(t + 3\\right) \\frac{d}{d t} x{\\left (t \\right )} + \\frac{d^{2}}{d t^{2}}  x{\\left (t \\right )} - \\frac{d^{3}}{d t^{3}}  x{\\left (t \\right )}\\right)\\right \\}$$"
      ],
      "text/plain": [
       "⎧                              2           3                                  \n",
       "⎪        ⎛ 2    ⎞ d           d           d                4 d           2 d  \n",
       "⎪      - ⎝t  - 1⎠⋅──(x(t)) - ───(x(t)) + ───(x(t))        t ⋅──(x(t)) - t ⋅──(\n",
       "⎨                 dt           2           3                 dt            dt \n",
       "⎪                            dt          dt                                   \n",
       "⎪x(t): ───────────────────────────────────────────, y(t): ────────────────────\n",
       "⎩                        3⋅t + 1                                              \n",
       "\n",
       "             2              3                              2                  \n",
       "         2  d           2  d              d               d          d        \n",
       "x(t)) + t ⋅───(x(t)) - t ⋅───(x(t)) - 3⋅t⋅──(x(t)) + 3⋅t⋅───(x(t)) - ──(x(t)) \n",
       "             2              3             dt               2         dt       \n",
       "           dt             dt                             dt                   \n",
       "──────────────────────────────────────────────────────────────────────────────\n",
       "                               3⋅t + 1                                        \n",
       "\n",
       "    2                                     2           3      ⎫\n",
       "   d                         d           d           d       ⎪\n",
       "+ ───(x(t))        t⋅(t + 3)⋅──(x(t)) + ───(x(t)) - ───(x(t))⎪\n",
       "    2                        dt           2           3      ⎬\n",
       "  dt                                    dt          dt       ⎪\n",
       "───────────, z(t): ──────────────────────────────────────────⎪\n",
       "                                    3⋅t + 1                  ⎭"
      ]
     },
     "execution_count": 77,
     "metadata": {},
     "output_type": "execute_result"
    }
   ],
   "source": [
    "solve([ec1,ec21,ec31],[x,y,z])"
   ]
  },
  {
   "cell_type": "code",
   "execution_count": null,
   "metadata": {
    "collapsed": false
   },
   "outputs": [],
   "source": []
  },
  {
   "cell_type": "code",
   "execution_count": 88,
   "metadata": {
    "collapsed": false
   },
   "outputs": [
    {
     "data": {
      "image/png": "[encoded data removed]",
      "text/latex": [
       "$$\\left[\\begin{matrix}\\frac{d}{d t} \\operatorname{xx}{\\left (t \\right )} = \\operatorname{xx}{\\left (t \\right )} + \\operatorname{yy}{\\left (t \\right )}\\\\\\frac{d}{d t} \\operatorname{yy}{\\left (t \\right )} = \\operatorname{xx}{\\left (t \\right )} \\operatorname{yy}{\\left (t \\right )}\\end{matrix}\\right]$$"
      ],
      "text/plain": [
       "⎡d                        ⎤\n",
       "⎢──(xx(t)) = xx(t) + yy(t)⎥\n",
       "⎢dt                       ⎥\n",
       "⎢                         ⎥\n",
       "⎢ d                       ⎥\n",
       "⎢ ──(yy(t)) = xx(t)⋅yy(t) ⎥\n",
       "⎣ dt                      ⎦"
      ]
     },
     "execution_count": 88,
     "metadata": {},
     "output_type": "execute_result"
    }
   ],
   "source": [
    "t=symbols('t')\n",
    "xx=Function('xx')(t)\n",
    "yy=Function('yy')(t)\n",
    "\n",
    "ec1=Eq(xx.diff(t),xx+yy)\n",
    "ec2=Eq(yy.diff(t),xx*yy)\n",
    "\n",
    "Matrix([ec1, ec2])"
   ]
  },
  {
   "cell_type": "code",
   "execution_count": 89,
   "metadata": {
    "collapsed": false
   },
   "outputs": [
    {
     "data": {
      "image/png": "[encoded data removed]",
      "text/latex": [
       "$$\\frac{d^{2}}{d t^{2}}  \\operatorname{xx}{\\left (t \\right )} = \\operatorname{xx}{\\left (t \\right )} \\operatorname{yy}{\\left (t \\right )} + \\operatorname{xx}{\\left (t \\right )} + \\operatorname{yy}{\\left (t \\right )}$$"
      ],
      "text/plain": [
       "  2                                     \n",
       " d                                      \n",
       "───(xx(t)) = xx(t)⋅yy(t) + xx(t) + yy(t)\n",
       "  2                                     \n",
       "dt                                      "
      ]
     },
     "execution_count": 89,
     "metadata": {},
     "output_type": "execute_result"
    }
   ],
   "source": [
    "ec21=Eq(ec1.lhs.diff(t),ec1.rhs.diff(t))\n",
    "ec21.rhs.subs({xx.diff(t):ec1.rhs,yy.diff(t):ec2.rhs})\n",
    "ec21=Eq(ec1.lhs.diff(t),ec21.rhs.subs({xx.diff(t):ec1.rhs,yy.diff(t):ec2.rhs}))\n",
    "ec21"
   ]
  },
  {
   "cell_type": "code",
   "execution_count": 90,
   "metadata": {
    "collapsed": false
   },
   "outputs": [
    {
     "data": {
      "image/png": "[encoded data removed]",
      "text/latex": [
       "$$\\left [ \\left ( - \\frac{1}{2} \\sqrt{\\frac{d}{d t}\\left(- \\frac{1}{2} \\sqrt{\\frac{d}{d t} \\operatorname{xx}{\\left (t \\right )}^{2} + 4 \\frac{d}{d t} \\operatorname{xx}{\\left (t \\right )} - 4 \\frac{d^{2}}{d t^{2}}  \\operatorname{xx}{\\left (t \\right )}} + \\frac{1}{2} \\frac{d}{d t} \\operatorname{xx}{\\left (t \\right )}\\right)^{2} + 4 \\frac{d}{d t}\\left(- \\frac{1}{2} \\sqrt{\\frac{d}{d t} \\operatorname{xx}{\\left (t \\right )}^{2} + 4 \\frac{d}{d t} \\operatorname{xx}{\\left (t \\right )} - 4 \\frac{d^{2}}{d t^{2}}  \\operatorname{xx}{\\left (t \\right )}} + \\frac{1}{2} \\frac{d}{d t} \\operatorname{xx}{\\left (t \\right )}\\right) - 4 \\frac{d^{2}}{d t^{2}} \\left(- \\frac{1}{2} \\sqrt{\\frac{d}{d t} \\operatorname{xx}{\\left (t \\right )}^{2} + 4 \\frac{d}{d t} \\operatorname{xx}{\\left (t \\right )} - 4 \\frac{d^{2}}{d t^{2}}  \\operatorname{xx}{\\left (t \\right )}} + \\frac{1}{2} \\frac{d}{d t} \\operatorname{xx}{\\left (t \\right )}\\right)} + \\frac{1}{2} \\frac{d}{d t}\\left(- \\frac{1}{2} \\sqrt{\\frac{d}{d t} \\operatorname{xx}{\\left (t \\right )}^{2} + 4 \\frac{d}{d t} \\operatorname{xx}{\\left (t \\right )} - 4 \\frac{d^{2}}{d t^{2}}  \\operatorname{xx}{\\left (t \\right )}} + \\frac{1}{2} \\frac{d}{d t} \\operatorname{xx}{\\left (t \\right )}\\right), \\quad \\frac{1}{2} \\sqrt{\\frac{d}{d t}\\left(- \\frac{1}{2} \\sqrt{\\frac{d}{d t} \\operatorname{xx}{\\left (t \\right )}^{2} + 4 \\frac{d}{d t} \\operatorname{xx}{\\left (t \\right )} - 4 \\frac{d^{2}}{d t^{2}}  \\operatorname{xx}{\\left (t \\right )}} + \\frac{1}{2} \\frac{d}{d t} \\operatorname{xx}{\\left (t \\right )}\\right)^{2} + 4 \\frac{d}{d t}\\left(- \\frac{1}{2} \\sqrt{\\frac{d}{d t} \\operatorname{xx}{\\left (t \\right )}^{2} + 4 \\frac{d}{d t} \\operatorname{xx}{\\left (t \\right )} - 4 \\frac{d^{2}}{d t^{2}}  \\operatorname{xx}{\\left (t \\right )}} + \\frac{1}{2} \\frac{d}{d t} \\operatorname{xx}{\\left (t \\right )}\\right) - 4 \\frac{d^{2}}{d t^{2}} \\left(- \\frac{1}{2} \\sqrt{\\frac{d}{d t} \\operatorname{xx}{\\left (t \\right )}^{2} + 4 \\frac{d}{d t} \\operatorname{xx}{\\left (t \\right )} - 4 \\frac{d^{2}}{d t^{2}}  \\operatorname{xx}{\\left (t \\right )}} + \\frac{1}{2} \\frac{d}{d t} \\operatorname{xx}{\\left (t \\right )}\\right)} + \\frac{1}{2} \\frac{d}{d t}\\left(- \\frac{1}{2} \\sqrt{\\frac{d}{d t} \\operatorname{xx}{\\left (t \\right )}^{2} + 4 \\frac{d}{d t} \\operatorname{xx}{\\left (t \\right )} - 4 \\frac{d^{2}}{d t^{2}}  \\operatorname{xx}{\\left (t \\right )}} + \\frac{1}{2} \\frac{d}{d t} \\operatorname{xx}{\\left (t \\right )}\\right)\\right ), \\quad \\left ( \\frac{1}{2} \\sqrt{\\frac{d}{d t}\\left(\\frac{1}{2} \\sqrt{\\frac{d}{d t} \\operatorname{xx}{\\left (t \\right )}^{2} + 4 \\frac{d}{d t} \\operatorname{xx}{\\left (t \\right )} - 4 \\frac{d^{2}}{d t^{2}}  \\operatorname{xx}{\\left (t \\right )}} + \\frac{1}{2} \\frac{d}{d t} \\operatorname{xx}{\\left (t \\right )}\\right)^{2} + 4 \\frac{d}{d t}\\left(\\frac{1}{2} \\sqrt{\\frac{d}{d t} \\operatorname{xx}{\\left (t \\right )}^{2} + 4 \\frac{d}{d t} \\operatorname{xx}{\\left (t \\right )} - 4 \\frac{d^{2}}{d t^{2}}  \\operatorname{xx}{\\left (t \\right )}} + \\frac{1}{2} \\frac{d}{d t} \\operatorname{xx}{\\left (t \\right )}\\right) - 4 \\frac{d^{2}}{d t^{2}} \\left(\\frac{1}{2} \\sqrt{\\frac{d}{d t} \\operatorname{xx}{\\left (t \\right )}^{2} + 4 \\frac{d}{d t} \\operatorname{xx}{\\left (t \\right )} - 4 \\frac{d^{2}}{d t^{2}}  \\operatorname{xx}{\\left (t \\right )}} + \\frac{1}{2} \\frac{d}{d t} \\operatorname{xx}{\\left (t \\right )}\\right)} + \\frac{1}{2} \\frac{d}{d t}\\left(\\frac{1}{2} \\sqrt{\\frac{d}{d t} \\operatorname{xx}{\\left (t \\right )}^{2} + 4 \\frac{d}{d t} \\operatorname{xx}{\\left (t \\right )} - 4 \\frac{d^{2}}{d t^{2}}  \\operatorname{xx}{\\left (t \\right )}} + \\frac{1}{2} \\frac{d}{d t} \\operatorname{xx}{\\left (t \\right )}\\right), \\quad - \\frac{1}{2} \\sqrt{\\frac{d}{d t}\\left(\\frac{1}{2} \\sqrt{\\frac{d}{d t} \\operatorname{xx}{\\left (t \\right )}^{2} + 4 \\frac{d}{d t} \\operatorname{xx}{\\left (t \\right )} - 4 \\frac{d^{2}}{d t^{2}}  \\operatorname{xx}{\\left (t \\right )}} + \\frac{1}{2} \\frac{d}{d t} \\operatorname{xx}{\\left (t \\right )}\\right)^{2} + 4 \\frac{d}{d t}\\left(\\frac{1}{2} \\sqrt{\\frac{d}{d t} \\operatorname{xx}{\\left (t \\right )}^{2} + 4 \\frac{d}{d t} \\operatorname{xx}{\\left (t \\right )} - 4 \\frac{d^{2}}{d t^{2}}  \\operatorname{xx}{\\left (t \\right )}} + \\frac{1}{2} \\frac{d}{d t} \\operatorname{xx}{\\left (t \\right )}\\right) - 4 \\frac{d^{2}}{d t^{2}} \\left(\\frac{1}{2} \\sqrt{\\frac{d}{d t} \\operatorname{xx}{\\left (t \\right )}^{2} + 4 \\frac{d}{d t} \\operatorname{xx}{\\left (t \\right )} - 4 \\frac{d^{2}}{d t^{2}}  \\operatorname{xx}{\\left (t \\right )}} + \\frac{1}{2} \\frac{d}{d t} \\operatorname{xx}{\\left (t \\right )}\\right)} + \\frac{1}{2} \\frac{d}{d t}\\left(\\frac{1}{2} \\sqrt{\\frac{d}{d t} \\operatorname{xx}{\\left (t \\right )}^{2} + 4 \\frac{d}{d t} \\operatorname{xx}{\\left (t \\right )} - 4 \\frac{d^{2}}{d t^{2}}  \\operatorname{xx}{\\left (t \\right )}} + \\frac{1}{2} \\frac{d}{d t} \\operatorname{xx}{\\left (t \\right )}\\right)\\right )\\right ]$$"
      ],
      "text/plain": [
       "⎡⎛             _______________________________________________________________\n",
       "⎢⎜            ╱                                                               \n",
       "⎢⎜           ╱  ⎛  ⎛        ___________________________________________       \n",
       "⎢⎜          ╱   ⎜  ⎜       ╱            2                     2               \n",
       "⎢⎜         ╱    ⎜  ⎜      ╱  ⎛d        ⎞      d              d                \n",
       "⎢⎜        ╱     ⎜  ⎜     ╱   ⎜──(xx(t))⎟  + 4⋅──(xx(t)) - 4⋅───(xx(t))    d   \n",
       "⎢⎜       ╱      ⎜  ⎜    ╱    ⎝dt       ⎠      dt              2           ──(x\n",
       "⎢⎜      ╱       ⎜d ⎜  ╲╱                                    dt            dt  \n",
       "⎢⎜     ╱        ⎜──⎜- ───────────────────────────────────────────────── + ────\n",
       "⎢⎜    ╱         ⎝dt⎝                          2                               \n",
       "⎢⎜  ╲╱                                                                        \n",
       "⎢⎜- ──────────────────────────────────────────────────────────────────────────\n",
       "⎣⎝                                                                            \n",
       "\n",
       "______________________________________________________________________________\n",
       "       2                                                                      \n",
       "     ⎞⎞        ⎛        ___________________________________________           \n",
       "     ⎟⎟        ⎜       ╱            2                     2                   \n",
       "     ⎟⎟        ⎜      ╱  ⎛d        ⎞      d              d                    \n",
       "     ⎟⎟        ⎜     ╱   ⎜──(xx(t))⎟  + 4⋅──(xx(t)) - 4⋅───(xx(t))    d       \n",
       "x(t))⎟⎟        ⎜    ╱    ⎝dt       ⎠      dt              2           ──(xx(t)\n",
       "     ⎟⎟      d ⎜  ╲╱                                    dt            dt      \n",
       "─────⎟⎟  + 4⋅──⎜- ───────────────────────────────────────────────── + ────────\n",
       "2    ⎠⎠      dt⎝                          2                               2   \n",
       "                                                                              \n",
       "──────────────────────────────────────────────────────────────────────────────\n",
       "                                       2                                      \n",
       "\n",
       "____________________________________________________________________________  \n",
       "                                                                              \n",
       " ⎞        ⎛        ___________________________________________            ⎞   \n",
       " ⎟        ⎜       ╱            2                     2                    ⎟   \n",
       " ⎟        ⎜      ╱  ⎛d        ⎞      d              d                     ⎟   \n",
       " ⎟        ⎜     ╱   ⎜──(xx(t))⎟  + 4⋅──(xx(t)) - 4⋅───(xx(t))    d        ⎟   \n",
       ")⎟       2⎜    ╱    ⎝dt       ⎠      dt              2           ──(xx(t))⎟   \n",
       " ⎟      d ⎜  ╲╱                                    dt            dt       ⎟   \n",
       "─⎟ - 4⋅───⎜- ───────────────────────────────────────────────── + ─────────⎟   \n",
       " ⎠       2⎝                          2                               2    ⎠   \n",
       "       dt                                                                     \n",
       "──────────────────────────────────────────────────────────────────────────── +\n",
       "                                                                              \n",
       "\n",
       "                                                                              \n",
       "                                                                              \n",
       "                                                                              \n",
       "   ⎛        ___________________________________________            ⎞          \n",
       "   ⎜       ╱            2                     2                    ⎟         ╱\n",
       "   ⎜      ╱  ⎛d        ⎞      d              d                     ⎟        ╱ \n",
       "   ⎜     ╱   ⎜──(xx(t))⎟  + 4⋅──(xx(t)) - 4⋅───(xx(t))    d        ⎟       ╱  \n",
       "   ⎜    ╱    ⎝dt       ⎠      dt              2           ──(xx(t))⎟      ╱   \n",
       " d ⎜  ╲╱                                    dt            dt       ⎟     ╱    \n",
       " ──⎜- ───────────────────────────────────────────────── + ─────────⎟    ╱     \n",
       " dt⎝                          2                               2    ⎠  ╲╱      \n",
       " ───────────────────────────────────────────────────────────────────, ────────\n",
       "                                  2                                           \n",
       "\n",
       "   ___________________________________________________________________________\n",
       "  ╱                                                                      2    \n",
       " ╱  ⎛  ⎛        ___________________________________________            ⎞⎞     \n",
       "╱   ⎜  ⎜       ╱            2                     2                    ⎟⎟     \n",
       "    ⎜  ⎜      ╱  ⎛d        ⎞      d              d                     ⎟⎟     \n",
       "    ⎜  ⎜     ╱   ⎜──(xx(t))⎟  + 4⋅──(xx(t)) - 4⋅───(xx(t))    d        ⎟⎟     \n",
       "    ⎜  ⎜    ╱    ⎝dt       ⎠      dt              2           ──(xx(t))⎟⎟     \n",
       "    ⎜d ⎜  ╲╱                                    dt            dt       ⎟⎟     \n",
       "    ⎜──⎜- ───────────────────────────────────────────────── + ─────────⎟⎟  + 4\n",
       "    ⎝dt⎝                          2                               2    ⎠⎠     \n",
       "                                                                              \n",
       "──────────────────────────────────────────────────────────────────────────────\n",
       "                                                                              \n",
       "\n",
       "______________________________________________________________________________\n",
       "                                                                              \n",
       "   ⎛        ___________________________________________            ⎞        ⎛ \n",
       "   ⎜       ╱            2                     2                    ⎟        ⎜ \n",
       "   ⎜      ╱  ⎛d        ⎞      d              d                     ⎟        ⎜ \n",
       "   ⎜     ╱   ⎜──(xx(t))⎟  + 4⋅──(xx(t)) - 4⋅───(xx(t))    d        ⎟        ⎜ \n",
       "   ⎜    ╱    ⎝dt       ⎠      dt              2           ──(xx(t))⎟       2⎜ \n",
       " d ⎜  ╲╱                                    dt            dt       ⎟      d ⎜ \n",
       "⋅──⎜- ───────────────────────────────────────────────── + ─────────⎟ - 4⋅───⎜-\n",
       " dt⎝                          2                               2    ⎠       2⎝ \n",
       "                                                                         dt   \n",
       "──────────────────────────────────────────────────────────────────────────────\n",
       "                           2                                                  \n",
       "\n",
       "________________________________________________________________              \n",
       "                                                                              \n",
       "       ___________________________________________            ⎞               \n",
       "      ╱            2                     2                    ⎟      ⎛        \n",
       "     ╱  ⎛d        ⎞      d              d                     ⎟      ⎜       ╱\n",
       "    ╱   ⎜──(xx(t))⎟  + 4⋅──(xx(t)) - 4⋅───(xx(t))    d        ⎟      ⎜      ╱ \n",
       "   ╱    ⎝dt       ⎠      dt              2           ──(xx(t))⎟      ⎜     ╱  \n",
       " ╲╱                                    dt            dt       ⎟      ⎜    ╱   \n",
       " ───────────────────────────────────────────────── + ─────────⎟    d ⎜  ╲╱    \n",
       "                         2                               2    ⎠    ──⎜- ──────\n",
       "                                                                   dt⎝        \n",
       "──────────────────────────────────────────────────────────────── + ───────────\n",
       "                                                                              \n",
       "\n",
       "                                                        ⎞  ⎛           _______\n",
       "                                                        ⎟  ⎜          ╱       \n",
       "                                                        ⎟  ⎜         ╱  ⎛  ⎛  \n",
       "___________________________________________            ⎞⎟  ⎜        ╱   ⎜  ⎜  \n",
       "            2                     2                    ⎟⎟  ⎜       ╱    ⎜  ⎜  \n",
       " ⎛d        ⎞      d              d                     ⎟⎟  ⎜      ╱     ⎜  ⎜  \n",
       " ⎜──(xx(t))⎟  + 4⋅──(xx(t)) - 4⋅───(xx(t))    d        ⎟⎟  ⎜     ╱      ⎜  ⎜  \n",
       " ⎝dt       ⎠      dt              2           ──(xx(t))⎟⎟  ⎜    ╱       ⎜d ⎜╲╱\n",
       "                                dt            dt       ⎟⎟  ⎜   ╱        ⎜──⎜──\n",
       "─────────────────────────────────────────── + ─────────⎟⎟  ⎜  ╱         ⎝dt⎝  \n",
       "                  2                               2    ⎠⎟  ⎜╲╱                \n",
       "────────────────────────────────────────────────────────⎟, ⎜──────────────────\n",
       "                      2                                 ⎠  ⎝                  \n",
       "\n",
       "______________________________________________________________________________\n",
       "                                                             2                \n",
       "    ___________________________________________            ⎞⎞        ⎛      __\n",
       "   ╱            2                     2                    ⎟⎟        ⎜     ╱  \n",
       "  ╱  ⎛d        ⎞      d              d                     ⎟⎟        ⎜    ╱  ⎛\n",
       " ╱   ⎜──(xx(t))⎟  + 4⋅──(xx(t)) - 4⋅───(xx(t))    d        ⎟⎟        ⎜   ╱   ⎜\n",
       "╱    ⎝dt       ⎠      dt              2           ──(xx(t))⎟⎟        ⎜  ╱    ⎝\n",
       "                                    dt            dt       ⎟⎟      d ⎜╲╱      \n",
       "─────────────────────────────────────────────── + ─────────⎟⎟  + 4⋅──⎜────────\n",
       "                      2                               2    ⎠⎠      dt⎝        \n",
       "                                                                              \n",
       "──────────────────────────────────────────────────────────────────────────────\n",
       "                                                                              \n",
       "\n",
       "______________________________________________________________________________\n",
       "                                                                              \n",
       "_________________________________________            ⎞        ⎛      _________\n",
       "          2                     2                    ⎟        ⎜     ╱         \n",
       "d        ⎞      d              d                     ⎟        ⎜    ╱  ⎛d      \n",
       "──(xx(t))⎟  + 4⋅──(xx(t)) - 4⋅───(xx(t))    d        ⎟        ⎜   ╱   ⎜──(xx(t\n",
       "dt       ⎠      dt              2           ──(xx(t))⎟       2⎜  ╱    ⎝dt     \n",
       "                              dt            dt       ⎟      d ⎜╲╱             \n",
       "───────────────────────────────────────── + ─────────⎟ - 4⋅───⎜───────────────\n",
       "                2                               2    ⎠       2⎝               \n",
       "                                                           dt                 \n",
       "──────────────────────────────────────────────────────────────────────────────\n",
       "              2                                                               \n",
       "\n",
       "________________________________________________                              \n",
       "                                                                              \n",
       "__________________________________            ⎞                               \n",
       "   2                     2                    ⎟      ⎛      __________________\n",
       "  ⎞      d              d                     ⎟      ⎜     ╱            2     \n",
       "))⎟  + 4⋅──(xx(t)) - 4⋅───(xx(t))    d        ⎟      ⎜    ╱  ⎛d        ⎞      \n",
       "  ⎠      dt              2           ──(xx(t))⎟      ⎜   ╱   ⎜──(xx(t))⎟  + 4⋅\n",
       "                       dt            dt       ⎟      ⎜  ╱    ⎝dt       ⎠      \n",
       "────────────────────────────────── + ─────────⎟    d ⎜╲╱                      \n",
       "         2                               2    ⎠    ──⎜────────────────────────\n",
       "                                                   dt⎝                        \n",
       "──────────────────────────────────────────────── + ───────────────────────────\n",
       "                                                                              \n",
       "\n",
       "                                                     _________________________\n",
       "                                                    ╱                         \n",
       "                                                   ╱  ⎛  ⎛      ______________\n",
       "_________________________            ⎞            ╱   ⎜  ⎜     ╱            2 \n",
       "                2                    ⎟           ╱    ⎜  ⎜    ╱  ⎛d        ⎞  \n",
       "d              d                     ⎟          ╱     ⎜  ⎜   ╱   ⎜──(xx(t))⎟  \n",
       "──(xx(t)) - 4⋅───(xx(t))    d        ⎟         ╱      ⎜  ⎜  ╱    ⎝dt       ⎠  \n",
       "dt              2           ──(xx(t))⎟        ╱       ⎜d ⎜╲╱                  \n",
       "              dt            dt       ⎟       ╱        ⎜──⎜────────────────────\n",
       "───────────────────────── + ─────────⎟      ╱         ⎝dt⎝                    \n",
       "2                               2    ⎠    ╲╱                                  \n",
       "──────────────────────────────────────, - ────────────────────────────────────\n",
       "     2                                                                        \n",
       "\n",
       "______________________________________________________________________________\n",
       "                                           2                                  \n",
       "_____________________________            ⎞⎞        ⎛      ____________________\n",
       "                    2                    ⎟⎟        ⎜     ╱            2       \n",
       "    d              d                     ⎟⎟        ⎜    ╱  ⎛d        ⎞      d \n",
       "+ 4⋅──(xx(t)) - 4⋅───(xx(t))    d        ⎟⎟        ⎜   ╱   ⎜──(xx(t))⎟  + 4⋅──\n",
       "    dt              2           ──(xx(t))⎟⎟        ⎜  ╱    ⎝dt       ⎠      dt\n",
       "                  dt            dt       ⎟⎟      d ⎜╲╱                        \n",
       "───────────────────────────── + ─────────⎟⎟  + 4⋅──⎜──────────────────────────\n",
       "    2                               2    ⎠⎠      dt⎝                        2 \n",
       "                                                                              \n",
       "──────────────────────────────────────────────────────────────────────────────\n",
       "                                                                          2   \n",
       "\n",
       "______________________________________________________________________________\n",
       "                                                                              \n",
       "_______________________            ⎞        ⎛      ___________________________\n",
       "              2                    ⎟        ⎜     ╱            2              \n",
       "             d                     ⎟        ⎜    ╱  ⎛d        ⎞      d        \n",
       "(xx(t)) - 4⋅───(xx(t))    d        ⎟        ⎜   ╱   ⎜──(xx(t))⎟  + 4⋅──(xx(t))\n",
       "              2           ──(xx(t))⎟       2⎜  ╱    ⎝dt       ⎠      dt       \n",
       "            dt            dt       ⎟      d ⎜╲╱                               \n",
       "─────────────────────── + ─────────⎟ - 4⋅───⎜─────────────────────────────────\n",
       "                              2    ⎠       2⎝                        2        \n",
       "                                         dt                                   \n",
       "──────────────────────────────────────────────────────────────────────────────\n",
       "                                                                              \n",
       "\n",
       "______________________________                                                \n",
       "                                                                              \n",
       "________________            ⎞                                                 \n",
       "       2                    ⎟      ⎛      ____________________________________\n",
       "      d                     ⎟      ⎜     ╱            2                     2 \n",
       " - 4⋅───(xx(t))    d        ⎟      ⎜    ╱  ⎛d        ⎞      d              d  \n",
       "       2           ──(xx(t))⎟      ⎜   ╱   ⎜──(xx(t))⎟  + 4⋅──(xx(t)) - 4⋅───(\n",
       "     dt            dt       ⎟      ⎜  ╱    ⎝dt       ⎠      dt              2 \n",
       "──────────────── + ─────────⎟    d ⎜╲╱                                    dt  \n",
       "                       2    ⎠    ──⎜──────────────────────────────────────────\n",
       "                                 dt⎝                        2                 \n",
       "────────────────────────────── + ─────────────────────────────────────────────\n",
       "                                                                 2            \n",
       "\n",
       "                    ⎞⎤\n",
       "                    ⎟⎥\n",
       "                    ⎟⎥\n",
       "_______            ⎞⎟⎥\n",
       "                   ⎟⎟⎥\n",
       "                   ⎟⎟⎥\n",
       "xx(t))    d        ⎟⎟⎥\n",
       "          ──(xx(t))⎟⎟⎥\n",
       "          dt       ⎟⎟⎥\n",
       "─────── + ─────────⎟⎟⎥\n",
       "              2    ⎠⎟⎥\n",
       "────────────────────⎟⎥\n",
       "                    ⎠⎦"
      ]
     },
     "execution_count": 90,
     "metadata": {},
     "output_type": "execute_result"
    }
   ],
   "source": [
    "solve([ec1,ec21],[xx,yy])"
   ]
  }
 ],
 "metadata": {
  "kernelspec": {
   "display_name": "Python 3",
   "language": "python",
   "name": "python3"
  },
  "language_info": {
   "codemirror_mode": {
    "name": "ipython",
    "version": 3
   },
   "file_extension": ".py",
   "mimetype": "text/x-python",
   "name": "python",
   "nbconvert_exporter": "python",
   "pygments_lexer": "ipython3",
   "version": "3.6.0"
  }
 },
 "nbformat": 4,
 "nbformat_minor": 2
}
