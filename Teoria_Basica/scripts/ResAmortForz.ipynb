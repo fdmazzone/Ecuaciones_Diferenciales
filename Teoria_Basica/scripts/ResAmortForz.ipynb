{
 "cells": [
  {
   "cell_type": "code",
   "execution_count": 24,
   "metadata": {
    "collapsed": false
   },
   "outputs": [
    {
     "name": "stdout",
     "output_type": "stream",
     "text": [
      "- 4 \\mu^{2} \\omega_{0}^{2} - \\omega^{4} + 2 \\omega^{2} \\omega_{0}^{2} - \\omega_{0}^{4}\n"
     ]
    }
   ],
   "source": [
    "from sympy import *\n",
    "init_printing()\n",
    "var('t,mu,omega,omega0,F0,A,B')\n",
    "x=A*cos(omega0*t)+B*sin(omega0*t)\n",
    "eq=x.diff(t,2)+2*mu*x.diff(t)+omega**2*x-F0*cos(omega0*t)\n",
    "eqL1=eq.factor().coeff(sin(omega0*t))\n",
    "eqL2=eq.factor().coeff(cos(omega0*t))\n",
    "Incog=[A,B]\n",
    "Ecuas=[eqL1,eqL2]\n",
    "M=Matrix([[ecu.coeff(inco) for inco in Incog] for ecu in Ecuas])\n",
    "print(latex(M.det()))"
   ]
  },
  {
   "cell_type": "code",
   "execution_count": 26,
   "metadata": {
    "collapsed": false
   },
   "outputs": [
    {
     "name": "stdout",
     "output_type": "stream",
     "text": [
      "\\left [ - \\sqrt{- 2 i \\mu \\omega_{0} + \\omega_{0}^{2}}, \\quad \\sqrt{- 2 i \\mu \\omega_{0} + \\omega_{0}^{2}}, \\quad - \\sqrt{2 i \\mu \\omega_{0} + \\omega_{0}^{2}}, \\quad \\sqrt{2 i \\mu \\omega_{0} + \\omega_{0}^{2}}\\right ]\n"
     ]
    }
   ],
   "source": [
    "print(latex(solve(M.det(),omega)))"
   ]
  },
  {
   "cell_type": "code",
   "execution_count": 29,
   "metadata": {
    "collapsed": false
   },
   "outputs": [
    {
     "data": {
      "image/png": "[encoded data removed]",
      "text/latex": [
       "$$\\frac{2 F_{0} \\mu \\omega_{0} \\sin{\\left (\\omega_{0} t \\right )}}{4 \\mu^{2} \\omega_{0}^{2} + \\left(\\omega^{2} - \\omega_{0}^{2}\\right)^{2}} + \\frac{F_{0} \\left(\\omega^{2} - \\omega_{0}^{2}\\right) \\cos{\\left (\\omega_{0} t \\right )}}{4 \\mu^{2} \\omega_{0}^{2} + \\left(\\omega^{2} - \\omega_{0}^{2}\\right)^{2}}$$"
      ],
      "text/plain": [
       "                            ⎛ 2     2⎞          \n",
       " 2⋅F₀⋅μ⋅ω₀⋅sin(ω₀⋅t)     F₀⋅⎝ω  - ω₀ ⎠⋅cos(ω₀⋅t)\n",
       "────────────────────── + ───────────────────────\n",
       "                     2                         2\n",
       "   2   2   ⎛ 2     2⎞        2   2   ⎛ 2     2⎞ \n",
       "4⋅μ ⋅ω₀  + ⎝ω  - ω₀ ⎠     4⋅μ ⋅ω₀  + ⎝ω  - ω₀ ⎠ "
      ]
     },
     "execution_count": 29,
     "metadata": {},
     "output_type": "execute_result"
    }
   ],
   "source": [
    "SolAB=solve([eqL1,eqL2],[A,B])  \n",
    "x.subs(SolAB)\n"
   ]
  },
  {
   "cell_type": "code",
   "execution_count": 32,
   "metadata": {
    "collapsed": false
   },
   "outputs": [
    {
     "data": {
      "image/png": "[encoded data removed]",
      "text/latex": [
       "$$\\sqrt{\\frac{F_{0}^{2}}{4 \\mu^{2} \\omega_{0}^{2} + \\left(\\omega^{2} - \\omega_{0}^{2}\\right)^{2}}}$$"
      ],
      "text/plain": [
       "       ________________________\n",
       "      ╱            2           \n",
       "     ╱           F₀            \n",
       "    ╱   ────────────────────── \n",
       "   ╱                         2 \n",
       "  ╱        2   2   ⎛ 2     2⎞  \n",
       "╲╱      4⋅μ ⋅ω₀  + ⎝ω  - ω₀ ⎠  "
      ]
     },
     "execution_count": 32,
     "metadata": {},
     "output_type": "execute_result"
    }
   ],
   "source": [
    "rho=sqrt(A**2+B**2).subs(SolAB).simplify()\n",
    "rho"
   ]
  },
  {
   "cell_type": "code",
   "execution_count": 36,
   "metadata": {
    "collapsed": false
   },
   "outputs": [
    {
     "data": {
      "text/plain": [
       "<sympy.plotting.plot.Plot at 0x7fd4d05bb490>"
      ]
     },
     "execution_count": 36,
     "metadata": {},
     "output_type": "execute_result"
    }
   ],
   "source": [
    "plot(rho.subs({F0:1, mu:.1,omega:5}),(omega0,0,10) )"
   ]
  },
  {
   "cell_type": "code",
   "execution_count": 57,
   "metadata": {
    "collapsed": false
   },
   "outputs": [
    {
     "data": {
      "image/png": "[encoded data removed]",
      "text/latex": [
       "$$\\left [ 0, \\quad - \\sqrt{- 2 \\mu^{2} + \\omega^{2}}, \\quad \\sqrt{- 2 \\mu^{2} + \\omega^{2}}, \\quad - \\sqrt{\\tilde{\\infty} \\sqrt{F_{0}^{2}} - 2 \\mu^{2} + \\omega^{2}}, \\quad \\sqrt{\\tilde{\\infty} \\sqrt{F_{0}^{2}} - 2 \\mu^{2} + \\omega^{2}}\\right ]$$"
      ],
      "text/plain": [
       "⎡                                             __________________________      \n",
       "⎢       _____________     _____________      ╱        _____                  ╱\n",
       "⎢      ╱      2    2     ╱      2    2      ╱        ╱   2       2    2     ╱ \n",
       "⎣0, -╲╱  - 2⋅μ  + ω  , ╲╱  - 2⋅μ  + ω  , -╲╱   zoo⋅╲╱  F₀   - 2⋅μ  + ω  , ╲╱  \n",
       "\n",
       "__________________________⎤\n",
       "        _____             ⎥\n",
       "       ╱   2       2    2 ⎥\n",
       " zoo⋅╲╱  F₀   - 2⋅μ  + ω  ⎦"
      ]
     },
     "execution_count": 57,
     "metadata": {},
     "output_type": "execute_result"
    }
   ],
   "source": [
    "sol=solve(rho.diff(omega0),omega0)\n",
    "sol"
   ]
  },
  {
   "cell_type": "code",
   "execution_count": 61,
   "metadata": {
    "collapsed": false
   },
   "outputs": [
    {
     "data": {
      "image/png": "[encoded data removed]",
      "text/latex": [
       "$$\\frac{2 \\sqrt{\\frac{F_{0}^{2}}{4 \\mu^{4} + 4 \\mu^{2} \\left(- 2 \\mu^{2} + \\omega^{2}\\right)}} \\left(4 \\mu^{2} - 2 \\omega^{2}\\right)}{4 \\mu^{4} + 4 \\mu^{2} \\left(- 2 \\mu^{2} + \\omega^{2}\\right)}$$"
      ],
      "text/plain": [
       "        ___________________________              \n",
       "       ╱              2                          \n",
       "      ╱             F₀              ⎛   2      2⎞\n",
       "2⋅   ╱   ───────────────────────── ⋅⎝4⋅μ  - 2⋅ω ⎠\n",
       "    ╱       4      2 ⎛     2    2⎞               \n",
       "  ╲╱     4⋅μ  + 4⋅μ ⋅⎝- 2⋅μ  + ω ⎠               \n",
       "─────────────────────────────────────────────────\n",
       "               4      2 ⎛     2    2⎞            \n",
       "            4⋅μ  + 4⋅μ ⋅⎝- 2⋅μ  + ω ⎠            "
      ]
     },
     "execution_count": 61,
     "metadata": {},
     "output_type": "execute_result"
    }
   ],
   "source": [
    "rho.diff(omega0,2).subs(omega0,sol[2])"
   ]
  },
  {
   "cell_type": "code",
   "execution_count": 63,
   "metadata": {
    "collapsed": false
   },
   "outputs": [
    {
     "data": {
      "image/png": "[encoded data removed]",
      "text/latex": [
       "$$\\frac{1}{2} \\sqrt{\\frac{F_{0}^{2}}{\\mu^{2} \\left(- \\mu^{2} + \\omega^{2}\\right)}}$$"
      ],
      "text/plain": [
       "      ________________\n",
       "     ╱        2       \n",
       "    ╱       F₀        \n",
       "   ╱   ────────────── \n",
       "  ╱     2 ⎛   2    2⎞ \n",
       "╲╱     μ ⋅⎝- μ  + ω ⎠ \n",
       "──────────────────────\n",
       "          2           "
      ]
     },
     "execution_count": 63,
     "metadata": {},
     "output_type": "execute_result"
    }
   ],
   "source": [
    "ho.subs(omega0,sol[2]).simplify()\n"
   ]
  },
  {
   "cell_type": "code",
   "execution_count": 64,
   "metadata": {
    "collapsed": false
   },
   "outputs": [
    {
     "data": {
      "image/png": "[encoded data removed]",
      "text/latex": [
       "$$\\sqrt{\\frac{F_{0}^{2}}{\\omega^{4}}}$$"
      ],
      "text/plain": [
       "      _____\n",
       "     ╱   2 \n",
       "    ╱  F₀  \n",
       "   ╱   ─── \n",
       "  ╱      4 \n",
       "╲╱      ω  "
      ]
     },
     "execution_count": 64,
     "metadata": {},
     "output_type": "execute_result"
    }
   ],
   "source": [
    "rho.subs(omega0,0).simplify()"
   ]
  },
  {
   "cell_type": "code",
   "execution_count": 67,
   "metadata": {
    "collapsed": false
   },
   "outputs": [
    {
     "data": {
      "image/png": "[encoded data removed]",
      "text/latex": [
       "$$0$$"
      ],
      "text/plain": [
       "0"
      ]
     },
     "execution_count": 67,
     "metadata": {},
     "output_type": "execute_result"
    }
   ],
   "source": [
    "limit(rho,omega0,oo)"
   ]
  },
  {
   "cell_type": "code",
   "execution_count": 69,
   "metadata": {
    "collapsed": false
   },
   "outputs": [
    {
     "data": {
      "image/png": "[encoded data removed]",
      "text/latex": [
       "$$4.99799959983992$$"
      ],
      "text/plain": [
       "4.99799959983992"
      ]
     },
     "execution_count": 69,
     "metadata": {},
     "output_type": "execute_result"
    }
   ],
   "source": [
    "sol[2].subs({mu:.1,omega:5})"
   ]
  },
  {
   "cell_type": "code",
   "execution_count": null,
   "metadata": {
    "collapsed": true
   },
   "outputs": [],
   "source": []
  }
 ],
 "metadata": {
  "kernelspec": {
   "display_name": "Python 2",
   "language": "python",
   "name": "python2"
  },
  "language_info": {
   "codemirror_mode": {
    "name": "ipython",
    "version": 2
   },
   "file_extension": ".py",
   "mimetype": "text/x-python",
   "name": "python",
   "nbconvert_exporter": "python",
   "pygments_lexer": "ipython2",
   "version": "2.7.15"
  }
 },
 "nbformat": 4,
 "nbformat_minor": 2
}
