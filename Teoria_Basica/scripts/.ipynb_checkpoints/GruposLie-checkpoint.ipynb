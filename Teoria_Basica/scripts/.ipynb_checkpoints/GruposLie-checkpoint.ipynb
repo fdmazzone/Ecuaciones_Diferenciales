{
 "cells": [
  {
   "cell_type": "markdown",
   "metadata": {},
   "source": [
    "<h2> Ejercicios varios relacionados con grupos de Lie </h2>\n",
    "\n"
   ]
  },
  {
   "cell_type": "code",
   "execution_count": 1,
   "metadata": {},
   "outputs": [],
   "source": [
    "from sympy import *\n",
    "init_printing() #muestra símbolos más agradab\n",
    "R=lambda n,d: Rational(n,d)"
   ]
  },
  {
   "cell_type": "markdown",
   "metadata": {},
   "source": [
    "**Ejercicio (1ª parcial 2018):** Resolver $\\frac{dy}{dx}=\\frac{x y^{4}}{3} - \\frac{2 y}{3 x} + \\frac{1}{3 x^{3} y^{2}}$. \n",
    "\n",
    "Intentaremos con la heuística $$\\xi=ax+cy+e$$ y $$\\eta=bx+dy+f$$ para encontrar las simetrías \n",
    "    \n",
    "    \n",
    "    \n",
    "\n",
    "    \n",
    " "
   ]
  },
  {
   "cell_type": "code",
   "execution_count": 2,
   "metadata": {
    "collapsed": false
   },
   "outputs": [
    {
     "data": {
      "image/png": "[encoded data removed]",
      "text/latex": [
       "$$\\frac{x y^{4}}{3} - \\frac{2 y}{3 x} + \\frac{1}{3 x^{3} y^{2}}$$"
      ],
      "text/plain": [
       "   4                \n",
       "x⋅y    2⋅y      1   \n",
       "──── - ─── + ───────\n",
       " 3     3⋅x      3  2\n",
       "             3⋅x ⋅y "
      ]
     },
     "execution_count": 2,
     "metadata": {},
     "output_type": "execute_result"
    }
   ],
   "source": [
    "x,y,a,b,c,d,e,f=symbols('x,y,a,b,c,d,e,f',real=true)\n",
    "#cargamos la función\n",
    "F=x*y**4/3-R(2,3)*y/x+R(1,3)/x**3/y**2\n",
    "F"
   ]
  },
  {
   "cell_type": "markdown",
   "metadata": {},
   "source": [
    "Hacemos  $\\xi=ax+cy+e$ y $\\eta=bx+dy+f$"
   ]
  },
  {
   "cell_type": "code",
   "execution_count": 3,
   "metadata": {
    "collapsed": false
   },
   "outputs": [
    {
     "data": {
      "image/png": "[encoded data removed]",
      "text/latex": [
       "$$\\left ( a x + c y + e, \\quad b x + d y + f\\right )$$"
      ],
      "text/plain": [
       "(a⋅x + c⋅y + e, b⋅x + d⋅y + f)"
      ]
     },
     "execution_count": 3,
     "metadata": {},
     "output_type": "execute_result"
    }
   ],
   "source": [
    "xi=a*x+c*y+e\n",
    "eta=b*x+d*y+f\n",
    "xi, eta"
   ]
  },
  {
   "cell_type": "markdown",
   "metadata": {},
   "source": [
    "Condición de simetría linealizada"
   ]
  },
  {
   "cell_type": "code",
   "execution_count": 4,
   "metadata": {
    "collapsed": false
   },
   "outputs": [
    {
     "data": {
      "image/png": "[encoded data removed]",
      "text/latex": [
       "$$- a \\left(\\frac{x y^{4}}{3} - \\frac{2 y}{3 x} + \\frac{1}{3 x^{3} y^{2}}\\right) + b + \\left(\\frac{y^{4}}{3} + \\frac{2 y}{3 x^{2}} - \\frac{1}{x^{4} y^{2}}\\right) \\left(- a x - c y - e\\right) + \\left(- c \\left(\\frac{x y^{4}}{3} - \\frac{2 y}{3 x} + \\frac{1}{3 x^{3} y^{2}}\\right) + d + \\left(- a x - c y - e\\right) \\left(\\frac{4 x y^{3}}{3} - \\frac{2}{3 x} - \\frac{2}{3 x^{3} y^{3}}\\right)\\right) \\left(\\frac{x y^{4}}{3} - \\frac{2 y}{3 x} + \\frac{1}{3 x^{3} y^{2}}\\right) - \\left(\\frac{4 x y^{3}}{3} - \\frac{2}{3 x} - \\frac{2}{3 x^{3} y^{3}}\\right) \\left(b x + d y + f - \\left(a x + c y + e\\right) \\left(\\frac{x y^{4}}{3} - \\frac{2 y}{3 x} + \\frac{1}{3 x^{3} y^{2}}\\right)\\right)$$"
      ],
      "text/plain": [
       "    ⎛   4                ⎞       ⎛ 4               ⎞                    ⎛    ⎛\n",
       "    ⎜x⋅y    2⋅y      1   ⎟       ⎜y    2⋅y      1  ⎟                    ⎜    ⎜\n",
       "- a⋅⎜──── - ─── + ───────⎟ + b + ⎜── + ──── - ─────⎟⋅(-a⋅x - c⋅y - e) + ⎜- c⋅⎜\n",
       "    ⎜ 3     3⋅x      3  2⎟       ⎜3       2    4  2⎟                    ⎜    ⎜\n",
       "    ⎝             3⋅x ⋅y ⎠       ⎝     3⋅x    x ⋅y ⎠                    ⎝    ⎝\n",
       "\n",
       "   4                ⎞                        ⎛     3                ⎞⎞ ⎛   4  \n",
       "x⋅y    2⋅y      1   ⎟                        ⎜4⋅x⋅y     2       2   ⎟⎟ ⎜x⋅y   \n",
       "──── - ─── + ───────⎟ + d + (-a⋅x - c⋅y - e)⋅⎜────── - ─── - ───────⎟⎟⋅⎜──── -\n",
       " 3     3⋅x      3  2⎟                        ⎜  3      3⋅x      3  3⎟⎟ ⎜ 3    \n",
       "             3⋅x ⋅y ⎠                        ⎝               3⋅x ⋅y ⎠⎠ ⎝      \n",
       "\n",
       "              ⎞   ⎛     3                ⎞ ⎛                                ⎛ \n",
       " 2⋅y      1   ⎟   ⎜4⋅x⋅y     2       2   ⎟ ⎜                                ⎜x\n",
       " ─── + ───────⎟ - ⎜────── - ─── - ───────⎟⋅⎜b⋅x + d⋅y + f - (a⋅x + c⋅y + e)⋅⎜─\n",
       " 3⋅x      3  2⎟   ⎜  3      3⋅x      3  3⎟ ⎜                                ⎜ \n",
       "       3⋅x ⋅y ⎠   ⎝               3⋅x ⋅y ⎠ ⎝                                ⎝ \n",
       "\n",
       "  4                ⎞⎞\n",
       "⋅y    2⋅y      1   ⎟⎟\n",
       "─── - ─── + ───────⎟⎟\n",
       "3     3⋅x      3  2⎟⎟\n",
       "            3⋅x ⋅y ⎠⎠"
      ]
     },
     "execution_count": 4,
     "metadata": {},
     "output_type": "execute_result"
    }
   ],
   "source": [
    "Q=eta-xi*F\n",
    "CondSim=Q.diff(x)+F*Q.diff(y)-F.diff(y)*Q\n",
    "CondSim"
   ]
  },
  {
   "cell_type": "code",
   "execution_count": 5,
   "metadata": {},
   "outputs": [
    {
     "data": {
      "image/png": "[encoded data removed]",
      "text/latex": [
       "$$- \\frac{6 a x^{7} y^{8} - 6 a x^{3} y^{2} + 12 b x^{8} y^{7} - 15 b x^{6} y^{4} - 6 b x^{4} y + c x^{8} y^{12} - c x^{6} y^{9} + 12 c x^{4} y^{6} - 13 c x^{2} y^{3} + c + 9 d x^{7} y^{8} - 9 d x^{3} y^{2} + 3 e x^{6} y^{8} + 6 e x^{4} y^{5} - 9 e x^{2} y^{2} + 12 f x^{7} y^{7} - 6 f x^{5} y^{4} - 6 f x^{3} y}{9 x^{6} y^{4}}$$"
      ],
      "text/plain": [
       " ⎛     7  8        3  2         8  7         6  4        4        8  12      6\n",
       "-⎝6⋅a⋅x ⋅y  - 6⋅a⋅x ⋅y  + 12⋅b⋅x ⋅y  - 15⋅b⋅x ⋅y  - 6⋅b⋅x ⋅y + c⋅x ⋅y   - c⋅x \n",
       "──────────────────────────────────────────────────────────────────────────────\n",
       "                                                                              \n",
       "                                                                              \n",
       "\n",
       "  9         4  6         2  3            7  8        3  2        6  8        4\n",
       "⋅y  + 12⋅c⋅x ⋅y  - 13⋅c⋅x ⋅y  + c + 9⋅d⋅x ⋅y  - 9⋅d⋅x ⋅y  + 3⋅e⋅x ⋅y  + 6⋅e⋅x \n",
       "──────────────────────────────────────────────────────────────────────────────\n",
       "                          6  4                                                \n",
       "                       9⋅x ⋅y                                                 \n",
       "\n",
       "  5        2  2         7  7        5  4        3  ⎞ \n",
       "⋅y  - 9⋅e⋅x ⋅y  + 12⋅f⋅x ⋅y  - 6⋅f⋅x ⋅y  - 6⋅f⋅x ⋅y⎠ \n",
       "─────────────────────────────────────────────────────\n",
       "                                                     \n",
       "                                                     "
      ]
     },
     "execution_count": 5,
     "metadata": {},
     "output_type": "execute_result"
    }
   ],
   "source": [
    "CondSim=CondSim.factor()\n",
    "CondSim"
   ]
  },
  {
   "cell_type": "code",
   "execution_count": 6,
   "metadata": {},
   "outputs": [
    {
     "data": {
      "image/png": "[encoded data removed]",
      "text/latex": [
       "$$- 6 a x^{7} y^{8} + 6 a x^{3} y^{2} - 12 b x^{8} y^{7} + 15 b x^{6} y^{4} + 6 b x^{4} y - c x^{8} y^{12} + c x^{6} y^{9} - 12 c x^{4} y^{6} + 13 c x^{2} y^{3} - c - 9 d x^{7} y^{8} + 9 d x^{3} y^{2} - 3 e x^{6} y^{8} - 6 e x^{4} y^{5} + 9 e x^{2} y^{2} - 12 f x^{7} y^{7} + 6 f x^{5} y^{4} + 6 f x^{3} y$$"
      ],
      "text/plain": [
       "       7  8        3  2         8  7         6  4        4        8  12      6\n",
       "- 6⋅a⋅x ⋅y  + 6⋅a⋅x ⋅y  - 12⋅b⋅x ⋅y  + 15⋅b⋅x ⋅y  + 6⋅b⋅x ⋅y - c⋅x ⋅y   + c⋅x \n",
       "\n",
       "  9         4  6         2  3            7  8        3  2        6  8        4\n",
       "⋅y  - 12⋅c⋅x ⋅y  + 13⋅c⋅x ⋅y  - c - 9⋅d⋅x ⋅y  + 9⋅d⋅x ⋅y  - 3⋅e⋅x ⋅y  - 6⋅e⋅x \n",
       "\n",
       "  5        2  2         7  7        5  4        3  \n",
       "⋅y  + 9⋅e⋅x ⋅y  - 12⋅f⋅x ⋅y  + 6⋅f⋅x ⋅y  + 6⋅f⋅x ⋅y"
      ]
     },
     "execution_count": 6,
     "metadata": {},
     "output_type": "execute_result"
    }
   ],
   "source": [
    "CondSim1,nosirvo=fraction(CondSim)\n",
    "CondSim1"
   ]
  },
  {
   "cell_type": "code",
   "execution_count": 7,
   "metadata": {},
   "outputs": [
    {
     "data": {
      "image/png": "[encoded data removed]",
      "text/latex": [
       "$$- 12 f$$"
      ],
      "text/plain": [
       "-12⋅f"
      ]
     },
     "execution_count": 7,
     "metadata": {},
     "output_type": "execute_result"
    }
   ],
   "source": [
    "e1=CondSim1.coeff(x**7).coeff(y**7)\n",
    "e1"
   ]
  },
  {
   "cell_type": "markdown",
   "metadata": {},
   "source": [
    "debe ser $f=0$"
   ]
  },
  {
   "cell_type": "code",
   "execution_count": 8,
   "metadata": {},
   "outputs": [
    {
     "data": {
      "image/png": "[encoded data removed]",
      "text/latex": [
       "$$- 6 a x^{7} y^{8} + 6 a x^{3} y^{2} - 12 b x^{8} y^{7} + 15 b x^{6} y^{4} + 6 b x^{4} y - c x^{8} y^{12} + c x^{6} y^{9} - 12 c x^{4} y^{6} + 13 c x^{2} y^{3} - c - 9 d x^{7} y^{8} + 9 d x^{3} y^{2} - 3 e x^{6} y^{8} - 6 e x^{4} y^{5} + 9 e x^{2} y^{2}$$"
      ],
      "text/plain": [
       "       7  8        3  2         8  7         6  4        4        8  12      6\n",
       "- 6⋅a⋅x ⋅y  + 6⋅a⋅x ⋅y  - 12⋅b⋅x ⋅y  + 15⋅b⋅x ⋅y  + 6⋅b⋅x ⋅y - c⋅x ⋅y   + c⋅x \n",
       "\n",
       "  9         4  6         2  3            7  8        3  2        6  8        4\n",
       "⋅y  - 12⋅c⋅x ⋅y  + 13⋅c⋅x ⋅y  - c - 9⋅d⋅x ⋅y  + 9⋅d⋅x ⋅y  - 3⋅e⋅x ⋅y  - 6⋅e⋅x \n",
       "\n",
       "  5        2  2\n",
       "⋅y  + 9⋅e⋅x ⋅y "
      ]
     },
     "execution_count": 8,
     "metadata": {},
     "output_type": "execute_result"
    }
   ],
   "source": [
    "CondSim2=CondSim1.subs(f,0)\n",
    "CondSim2"
   ]
  },
  {
   "cell_type": "code",
   "execution_count": 10,
   "metadata": {},
   "outputs": [
    {
     "data": {
      "image/png": "[encoded data removed]",
      "text/latex": [
       "$$- 6 a - 9 d$$"
      ],
      "text/plain": [
       "-6⋅a - 9⋅d"
      ]
     },
     "execution_count": 10,
     "metadata": {},
     "output_type": "execute_result"
    }
   ],
   "source": [
    "e2=CondSim2.coeff(x**7).coeff(y**8)\n",
    "e2"
   ]
  },
  {
   "cell_type": "markdown",
   "metadata": {},
   "source": [
    "Vemos que $d=-2/3a$."
   ]
  },
  {
   "cell_type": "code",
   "execution_count": 12,
   "metadata": {},
   "outputs": [
    {
     "data": {
      "image/png": "[encoded data removed]",
      "text/latex": [
       "$$- 12 b x^{8} y^{7} + 15 b x^{6} y^{4} + 6 b x^{4} y - c x^{8} y^{12} + c x^{6} y^{9} - 12 c x^{4} y^{6} + 13 c x^{2} y^{3} - c - 3 e x^{6} y^{8} - 6 e x^{4} y^{5} + 9 e x^{2} y^{2}$$"
      ],
      "text/plain": [
       "        8  7         6  4        4        8  12      6  9         4  6        \n",
       "- 12⋅b⋅x ⋅y  + 15⋅b⋅x ⋅y  + 6⋅b⋅x ⋅y - c⋅x ⋅y   + c⋅x ⋅y  - 12⋅c⋅x ⋅y  + 13⋅c⋅\n",
       "\n",
       " 2  3            6  8        4  5        2  2\n",
       "x ⋅y  - c - 3⋅e⋅x ⋅y  - 6⋅e⋅x ⋅y  + 9⋅e⋅x ⋅y "
      ]
     },
     "execution_count": 12,
     "metadata": {},
     "output_type": "execute_result"
    }
   ],
   "source": [
    "CondSim3=CondSim2.subs(d,-2*a/3)\n",
    "CondSim3"
   ]
  },
  {
   "cell_type": "markdown",
   "metadata": {},
   "source": [
    "debe ser $c=0$."
   ]
  },
  {
   "cell_type": "code",
   "execution_count": 13,
   "metadata": {},
   "outputs": [
    {
     "data": {
      "image/png": "[encoded data removed]",
      "text/latex": [
       "$$- 12 b x^{8} y^{7} + 15 b x^{6} y^{4} + 6 b x^{4} y - 3 e x^{6} y^{8} - 6 e x^{4} y^{5} + 9 e x^{2} y^{2}$$"
      ],
      "text/plain": [
       "        8  7         6  4        4          6  8        4  5        2  2\n",
       "- 12⋅b⋅x ⋅y  + 15⋅b⋅x ⋅y  + 6⋅b⋅x ⋅y - 3⋅e⋅x ⋅y  - 6⋅e⋅x ⋅y  + 9⋅e⋅x ⋅y "
      ]
     },
     "execution_count": 13,
     "metadata": {},
     "output_type": "execute_result"
    }
   ],
   "source": [
    "CondSim4=CondSim3.subs(c,0)\n",
    "CondSim4"
   ]
  },
  {
   "cell_type": "code",
   "execution_count": 14,
   "metadata": {},
   "outputs": [
    {
     "data": {
      "image/png": "[encoded data removed]",
      "text/latex": [
       "$$- 12 b$$"
      ],
      "text/plain": [
       "-12⋅b"
      ]
     },
     "execution_count": 14,
     "metadata": {},
     "output_type": "execute_result"
    }
   ],
   "source": [
    "e3=CondSim4.coeff(x**8).coeff(y**7)\n",
    "e3"
   ]
  },
  {
   "cell_type": "markdown",
   "metadata": {},
   "source": [
    "Vemos que  $b=0$."
   ]
  },
  {
   "cell_type": "code",
   "execution_count": 15,
   "metadata": {},
   "outputs": [
    {
     "data": {
      "image/png": "[encoded data removed]",
      "text/latex": [
       "$$- 3 e x^{6} y^{8} - 6 e x^{4} y^{5} + 9 e x^{2} y^{2}$$"
      ],
      "text/plain": [
       "       6  8        4  5        2  2\n",
       "- 3⋅e⋅x ⋅y  - 6⋅e⋅x ⋅y  + 9⋅e⋅x ⋅y "
      ]
     },
     "execution_count": 15,
     "metadata": {},
     "output_type": "execute_result"
    }
   ],
   "source": [
    "CondSim5=CondSim4.subs(b,0)\n",
    "CondSim5"
   ]
  },
  {
   "cell_type": "markdown",
   "metadata": {},
   "source": [
    "Se cumple si $e=0$. "
   ]
  },
  {
   "cell_type": "code",
   "execution_count": 16,
   "metadata": {},
   "outputs": [
    {
     "data": {
      "image/png": "[encoded data removed]",
      "text/latex": [
       "$$\\left ( x, \\quad - \\frac{2 y}{3}\\right )$$"
      ],
      "text/plain": [
       "⎛   -2⋅y ⎞\n",
       "⎜x, ─────⎟\n",
       "⎝     3  ⎠"
      ]
     },
     "execution_count": 16,
     "metadata": {},
     "output_type": "execute_result"
    }
   ],
   "source": [
    "xi=xi.subs({c:0,f:0,e:0,a:1,b:0,d:-R(2,3)})\n",
    "eta=eta.subs({c:0,f:0,e:0,a:1,b:0,d:-R(2,3)})\n",
    "xi,eta"
   ]
  },
  {
   "cell_type": "markdown",
   "metadata": {},
   "source": [
    "**Puntos invariantes:**  $(0,0)$.  Allí no tendremos coordenadas canónicas.  \n",
    "\n",
    "Para hallar la coordenada invariante resolvemos\n",
    "$$y'=\\frac{\\eta}{\\xi}.$$"
   ]
  },
  {
   "cell_type": "code",
   "execution_count": 17,
   "metadata": {
    "collapsed": false
   },
   "outputs": [
    {
     "data": {
      "image/png": "[encoded data removed]",
      "text/latex": [
       "$$f{\\left (x \\right )} = \\frac{C_{1}}{x^{\\frac{2}{3}}}$$"
      ],
      "text/plain": [
       "        C₁ \n",
       "f(x) = ────\n",
       "        2/3\n",
       "       x   "
      ]
     },
     "execution_count": 17,
     "metadata": {},
     "output_type": "execute_result"
    }
   ],
   "source": [
    "f=Function('f')(x)\n",
    "xi2=xi.subs(y,f)\n",
    "eta2=eta.subs(y,f)\n",
    "dsolve(Eq(f.diff(x),eta2/xi2),f)\n"
   ]
  },
  {
   "cell_type": "markdown",
   "metadata": {},
   "source": [
    "Esto nos indica que $r=x^{\\frac{2}{3}}y$ es una solución. Como $H(r)$ también sirve cualquiera sea la $H$, con $H'\\neq 0$. Eligiendo $F(r)=r^3$ podemos suponer $r= x^2y^3$."
   ]
  },
  {
   "cell_type": "code",
   "execution_count": 23,
   "metadata": {
    "collapsed": false
   },
   "outputs": [
    {
     "data": {
      "image/png": "[encoded data removed]",
      "text/latex": [
       "$$x^{2} y^{3}$$"
      ],
      "text/plain": [
       " 2  3\n",
       "x ⋅y "
      ]
     },
     "execution_count": 23,
     "metadata": {},
     "output_type": "execute_result"
    }
   ],
   "source": [
    "r=x**2*y**3\n",
    "r"
   ]
  },
  {
   "cell_type": "markdown",
   "metadata": {},
   "source": [
    "Para hallar $s$ resolvemos\n",
    "$$s=\\int\\frac{1}{\\xi}dx.$$"
   ]
  },
  {
   "cell_type": "code",
   "execution_count": 24,
   "metadata": {
    "collapsed": false
   },
   "outputs": [
    {
     "data": {
      "image/png": "[encoded data removed]",
      "text/latex": [
       "$$\\log{\\left (x \\right )}$$"
      ],
      "text/plain": [
       "log(x)"
      ]
     },
     "execution_count": 24,
     "metadata": {},
     "output_type": "execute_result"
    }
   ],
   "source": [
    "s=integrate(xi2**(-1),x)\n",
    "s"
   ]
  },
  {
   "cell_type": "markdown",
   "metadata": {},
   "source": [
    "Sympy no integra bien el logarítmo"
   ]
  },
  {
   "cell_type": "code",
   "execution_count": 32,
   "metadata": {
    "collapsed": false
   },
   "outputs": [
    {
     "data": {
      "image/png": "[encoded data removed]",
      "text/latex": [
       "$$\\left ( x^{2} y^{3}, \\quad \\log{\\left (x \\right )}\\right )$$"
      ],
      "text/plain": [
       "⎛ 2  3        ⎞\n",
       "⎝x ⋅y , log(x)⎠"
      ]
     },
     "execution_count": 32,
     "metadata": {},
     "output_type": "execute_result"
    }
   ],
   "source": [
    "s=log(x)\n",
    "r, s"
   ]
  },
  {
   "cell_type": "markdown",
   "metadata": {},
   "source": [
    "Reemplacemos en la fórmula de cambios de variables\n",
    "$$\\frac{ds}{dr}=\\left.\\frac{s_x+s_y F}{r_x+r_y F}\\right|_{x=e^s,y=r^{1/3}e^{-2/3s}}.$$\n"
   ]
  },
  {
   "cell_type": "code",
   "execution_count": 35,
   "metadata": {
    "collapsed": false
   },
   "outputs": [
    {
     "data": {
      "image/png": "[encoded data removed]",
      "text/latex": [
       "$$\\frac{1}{r_{1}^{2} + 1}$$"
      ],
      "text/plain": [
       "   1   \n",
       "───────\n",
       "  2    \n",
       "r₁  + 1"
      ]
     },
     "execution_count": 35,
     "metadata": {},
     "output_type": "execute_result"
    }
   ],
   "source": [
    "r1,s1=symbols('r1,s1')\n",
    "( (s.diff(x)+s.diff(y)*F)/(r.diff(x)+r.diff(y)*F)).subs({x:exp(s1),y:r1**R(1,3)*exp(-R(2,3)*s1)}) .simplify()"
   ]
  },
  {
   "cell_type": "markdown",
   "metadata": {},
   "source": [
    "Resolvamos $\\frac{dr}{ds}=\\frac{1}{1+r^2}$. La solucón gral es $\\arctan(r)=s+C$. Expresemos la ecuación en coordenadas cartesianas\n",
    "\n",
    "$$\\arctan(x^2y^3)=\\log(|x|)+C.$$"
   ]
  },
  {
   "cell_type": "code",
   "execution_count": null,
   "metadata": {},
   "outputs": [],
   "source": []
  }
 ],
 "metadata": {
  "kernelspec": {
   "display_name": "Python 2",
   "language": "python",
   "name": "python2"
  },
  "language_info": {
   "codemirror_mode": {
    "name": "ipython",
    "version": 2
   },
   "file_extension": ".py",
   "mimetype": "text/x-python",
   "name": "python",
   "nbconvert_exporter": "python",
   "pygments_lexer": "ipython2",
   "version": "2.7.15"
  }
 },
 "nbformat": 4,
 "nbformat_minor": 2
}
