{
 "cells": [
  {
   "cell_type": "markdown",
   "metadata": {},
   "source": [
    "**Ejercicio 1** Resolver el siguiente problema de valores iniciales para una ecuación en derivadas parciales\n",
    "$$x\\frac{\\partial u}{\\partial x}+y\\frac{\\partial u}{\\partial y}=3x^2y$$\n",
    "$$u(x,1)=0$$\n",
    "La ecuación de las características es\n",
    "$$\\frac{dy}{dx}=\\frac{y}{x}\\Rightarrow \\frac{dy}{y}=\\frac{dx}{x}\\Rightarrow \\ln(|y|)=\\ln(|x|)+C_1,\\quad \\text{donde } C_1\\in\\mathbb{R} $$\n",
    "Luego \n",
    "$$|y|=e^{C_1}|x|\\Rightarrow |y|=\\pm C_2|x|,\\quad \\text{con } C_2=e^{C_1}>0 \\Rightarrow y= C_3 x,\\quad \\text{con } C_3\\in\\mathbb{R}$$ \n",
    "Ahora para $u$ tenemos\n",
    "$$\\frac{du}{dx}=\\frac{3x^2y}{x}=3xy=3C_3x^2\\Rightarrow u=\\int du=C_3\\int 3x^2dx=C_3x^3+f(C_3)=yx^2+f\\left(\\frac{y}{x}\\right)$$ \n",
    "Ahora\n",
    "$$u(x,1)=0\\Rightarrow x^2+f\\left(\\frac{1}{x}\\right)=0\\Rightarrow f\\left(\\frac{1}{x}\\right)=-x^2\\Rightarrow f\\left(z\\right)=-\\frac{1}{z^2}\\quad (\\text{hice } z=\\frac{1}{x})$$\n",
    "Finalmente\n",
    "$$u= yx^2-\\frac{x^2}{y^2}$$\n",
    "Chequeemos"
   ]
  },
  {
   "cell_type": "code",
   "execution_count": 5,
   "metadata": {
    "collapsed": false
   },
   "outputs": [
    {
     "data": {
      "image/png": "[encoded data removed]",
      "text/latex": [
       "$$3 x^{2} y$$"
      ],
      "text/plain": [
       "   2  \n",
       "3⋅x ⋅y"
      ]
     },
     "execution_count": 5,
     "metadata": {},
     "output_type": "execute_result"
    }
   ],
   "source": [
    "from sympy import *\n",
    "init_printing()\n",
    "x,y=symbols('x,y')\n",
    "u=y*x**2-x**2/y**2\n",
    "(x*u.diff(x)+y*u.diff(y)).simplify()"
   ]
  },
  {
   "cell_type": "code",
   "execution_count": 6,
   "metadata": {
    "collapsed": false
   },
   "outputs": [
    {
     "data": {
      "image/png": "[encoded data removed]",
      "text/latex": [
       "$$0$$"
      ],
      "text/plain": [
       "0"
      ]
     },
     "execution_count": 6,
     "metadata": {},
     "output_type": "execute_result"
    }
   ],
   "source": [
    "u.subs(y,1)"
   ]
  },
  {
   "cell_type": "markdown",
   "metadata": {},
   "source": [
    "**Ejercicio 2** Dada la ecuación\n",
    "$$x^3y'''(x)-6xy'(x)+12y=0.$$\n",
    "proponer una solución de la forma $y=x^r$ y demostrar que existen tres soluciones linealmente independientes de esa forma."
   ]
  },
  {
   "cell_type": "code",
   "execution_count": 10,
   "metadata": {
    "collapsed": false
   },
   "outputs": [
    {
     "data": {
      "image/png": "[encoded data removed]",
      "text/latex": [
       "$$r x^{r} \\left(r^{2} - 3 r + 2\\right) - 6 r x^{r} + 12 x^{r}$$"
      ],
      "text/plain": [
       "   r ⎛ 2          ⎞        r       r\n",
       "r⋅x ⋅⎝r  - 3⋅r + 2⎠ - 6⋅r⋅x  + 12⋅x "
      ]
     },
     "execution_count": 10,
     "metadata": {},
     "output_type": "execute_result"
    }
   ],
   "source": [
    "x,r=symbols('x,r',real=True)\n",
    "y=x**r\n",
    "Ecua=x**3*y.diff(x,3)-6*x*y.diff(x)+12*y\n",
    "Ecua"
   ]
  },
  {
   "cell_type": "code",
   "execution_count": 11,
   "metadata": {
    "collapsed": false
   },
   "outputs": [
    {
     "data": {
      "image/png": "[encoded data removed]",
      "text/latex": [
       "$$x^{r} \\left(r - 3\\right) \\left(r - 2\\right) \\left(r + 2\\right)$$"
      ],
      "text/plain": [
       " r                        \n",
       "x ⋅(r - 3)⋅(r - 2)⋅(r + 2)"
      ]
     },
     "execution_count": 11,
     "metadata": {},
     "output_type": "execute_result"
    }
   ],
   "source": [
    "Ecua.factor()"
   ]
  },
  {
   "cell_type": "markdown",
   "metadata": {},
   "source": [
    "Claramente, la expresión nos dice que debe ser $r=3,2,-2$. Veamos que estos valores de $r$ determinan soluciones linealmente independientes.  Usamos el wronskiano"
   ]
  },
  {
   "cell_type": "code",
   "execution_count": 16,
   "metadata": {
    "collapsed": false
   },
   "outputs": [
    {
     "data": {
      "image/png": "[encoded data removed]",
      "text/latex": [
       "$$20$$"
      ],
      "text/plain": [
       "20"
      ]
     },
     "execution_count": 16,
     "metadata": {},
     "output_type": "execute_result"
    }
   ],
   "source": [
    "y1=x**2\n",
    "y2=x**3\n",
    "y3=x**(-2)\n",
    "A=Matrix([[y1,y2,y3],[y1.diff(x,1),y2.diff(x,1),y3.diff(x,1) ],[y1.diff(x,2),y2.diff(x,2),y3.diff(x,2) ]  ])\n",
    "A.det()\n"
   ]
  },
  {
   "cell_type": "markdown",
   "metadata": {},
   "source": [
    "Como $W\\neq 0$ son linealmente independientes"
   ]
  },
  {
   "cell_type": "markdown",
   "metadata": {},
   "source": [
    "**Ejercicio 3** La siguiente ecuación:\n",
    "$$xy''+(b-x)y'-ay=0,$$\n",
    "\n",
    "con $a,b\\in\\mathbb{R}$, se conoce como Ecuación de Kummer. \n",
    "* Justificar que $x=0$ es un punto regular singular para esta ecuación.\n",
    "* Encontrar y hallar las soluciones de la ecuación indicial (Respuesta $m=0$ y $m=1-b$).\n",
    "* Justificar que cuando $b\\notin \\mathbb{Z}$ la ecuación tiene dos soluciones linealmente independientes que se desarrollan en serie de Frobenius. El radio de convergencia de estas series es infinito.\n",
    "* Justificar que,  cuando $b$ no es un entero menor o igual a cero, obtenemos una solución que es una función entera, que eligiendo convenientemente la condición inicial, es: \n",
    "\t\n",
    "\t$$\n",
    "    M(a,b;x)=1+\\frac{a}{b}x+\\frac{a(a+1)}{b(b+1)}\\frac{x^2}{2!}+\\cdots+\\frac{a(a+1)\\cdots(a+n)}{b(b+1)\\cdots\n",
    "    (b+n)}\\frac{x^n}{n!}+\\cdots$$\n",
    "    \n",
    " Esta función se conoce con el pomposo nombre de **función hipergeométrica confluente de Kummer**.\n",
    " \n",
    " **Solución**\n",
    " \n",
    " tenemos que $p(x)=\\frac{b-x}{x}$ y $q(x)=-\\frac{a}{x}$. Luego $x=0$ es un punto singular de la ecuación. Además\n",
    " $xp(x)=b-x$ y $x^2q(x)=-ax$ son polinomios y por lo tanto funciones analíticas. De esta manera $x=0$ es un punto regular singular. \n",
    " En lo que sigue nos apoyaremos en SymPy\n",
    " "
   ]
  },
  {
   "cell_type": "code",
   "execution_count": 94,
   "metadata": {
    "collapsed": false
   },
   "outputs": [],
   "source": [
    "orden=5\n",
    "coef=symbols('a:5')"
   ]
  },
  {
   "cell_type": "raw",
   "metadata": {},
   "source": [
    "Hoy me di cuenta que\n",
    ">>>coef=symbols('x:10')\n",
    "produce lo mismo que \n",
    ">>>Lista=['a%s' %i for i in range(10)]\n",
    ">>> coef=symbols(Lista)\n",
    "como hacíamos antes"
   ]
  },
  {
   "cell_type": "code",
   "execution_count": 95,
   "metadata": {
    "collapsed": false
   },
   "outputs": [
    {
     "data": {
      "image/png": "[encoded data removed]",
      "text/latex": [
       "$$\\begin{pmatrix}a_{0}, & a_{1}, & a_{2}, & a_{3}, & a_{4}\\end{pmatrix}$$"
      ],
      "text/plain": [
       "(a₀, a₁, a₂, a₃, a₄)"
      ]
     },
     "execution_count": 95,
     "metadata": {},
     "output_type": "execute_result"
    }
   ],
   "source": [
    "coef"
   ]
  },
  {
   "cell_type": "code",
   "execution_count": 96,
   "metadata": {
    "collapsed": false
   },
   "outputs": [
    {
     "data": {
      "image/png": "[encoded data removed]",
      "text/latex": [
       "$$x^{m} \\left(a_{0} + a_{1} x + a_{2} x^{2} + a_{3} x^{3} + a_{4} x^{4}\\right)$$"
      ],
      "text/plain": [
       " m ⎛                2       3       4⎞\n",
       "x ⋅⎝a₀ + a₁⋅x + a₂⋅x  + a₃⋅x  + a₄⋅x ⎠"
      ]
     },
     "execution_count": 96,
     "metadata": {},
     "output_type": "execute_result"
    }
   ],
   "source": [
    "m=symbols('m',real=True)\n",
    "y=x**m* sum([coef[i]*x**i for i in range(orden)])\n",
    "y"
   ]
  },
  {
   "cell_type": "code",
   "execution_count": 97,
   "metadata": {
    "collapsed": false
   },
   "outputs": [
    {
     "data": {
      "image/png": "[encoded data removed]",
      "text/latex": [
       "$$- a a_{0} x - a a_{1} x^{2} - a a_{2} x^{3} - a a_{3} x^{4} - a a_{4} x^{5} + a_{0} b m + a_{0} m^{2} - a_{0} m x - a_{0} m + a_{1} b m x + a_{1} b x + a_{1} m^{2} x - a_{1} m x^{2} + a_{1} m x - a_{1} x^{2} + a_{2} b m x^{2} + 2 a_{2} b x^{2} + a_{2} m^{2} x^{2} - a_{2} m x^{3} + 3 a_{2} m x^{2} - 2 a_{2} x^{3} + 2 a_{2} x^{2} + a_{3} b m x^{3} + 3 a_{3} b x^{3} + a_{3} m^{2} x^{3} - a_{3} m x^{4} + 5 a_{3} m x^{3} - 3 a_{3} x^{4} + 6 a_{3} x^{3} + a_{4} b m x^{4} + 4 a_{4} b x^{4} + a_{4} m^{2} x^{4} - a_{4} m x^{5} + 7 a_{4} m x^{4} - 4 a_{4} x^{5} + 12 a_{4} x^{4}$$"
      ],
      "text/plain": [
       "                2         3         4         5                2              \n",
       "-a⋅a₀⋅x - a⋅a₁⋅x  - a⋅a₂⋅x  - a⋅a₃⋅x  - a⋅a₄⋅x  + a₀⋅b⋅m + a₀⋅m  - a₀⋅m⋅x - a₀\n",
       "\n",
       "                             2           2                2           2       \n",
       "⋅m + a₁⋅b⋅m⋅x + a₁⋅b⋅x + a₁⋅m ⋅x - a₁⋅m⋅x  + a₁⋅m⋅x - a₁⋅x  + a₂⋅b⋅m⋅x  + 2⋅a₂\n",
       "\n",
       "    2       2  2         3           2         3         2           3        \n",
       "⋅b⋅x  + a₂⋅m ⋅x  - a₂⋅m⋅x  + 3⋅a₂⋅m⋅x  - 2⋅a₂⋅x  + 2⋅a₂⋅x  + a₃⋅b⋅m⋅x  + 3⋅a₃⋅\n",
       "\n",
       "   3       2  3         4           3         4         3           4         \n",
       "b⋅x  + a₃⋅m ⋅x  - a₃⋅m⋅x  + 5⋅a₃⋅m⋅x  - 3⋅a₃⋅x  + 6⋅a₃⋅x  + a₄⋅b⋅m⋅x  + 4⋅a₄⋅b\n",
       "\n",
       "  4       2  4         5           4         5          4\n",
       "⋅x  + a₄⋅m ⋅x  - a₄⋅m⋅x  + 7⋅a₄⋅m⋅x  - 4⋅a₄⋅x  + 12⋅a₄⋅x "
      ]
     },
     "execution_count": 97,
     "metadata": {},
     "output_type": "execute_result"
    }
   ],
   "source": [
    "a,b=symbols('a,b',real=True)\n",
    "Ecua=y.diff(x,2)+(b-x)/x*y.diff(x)-a/x*y\n",
    "Ecua=Ecua/x**(m-2)\n",
    "Ecua=Ecua.expand()\n",
    "Ecua"
   ]
  },
  {
   "cell_type": "code",
   "execution_count": 98,
   "metadata": {
    "collapsed": false
   },
   "outputs": [
    {
     "data": {
      "image/png": "[encoded data removed]",
      "text/latex": [
       "$$\\begin{bmatrix}a_{0} b m + a_{0} m^{2} - a_{0} m, & - a a_{0} - a_{0} m + a_{1} b m + a_{1} b + a_{1} m^{2} + a_{1} m, & - a a_{1} - a_{1} m - a_{1} + a_{2} b m + 2 a_{2} b + a_{2} m^{2} + 3 a_{2} m + 2 a_{2}, & - a a_{2} - a_{2} m - 2 a_{2} + a_{3} b m + 3 a_{3} b + a_{3} m^{2} + 5 a_{3} m + 6 a_{3}, & - a a_{3} - a_{3} m - 3 a_{3} + a_{4} b m + 4 a_{4} b + a_{4} m^{2} + 7 a_{4} m + 12 a_{4}\\end{bmatrix}$$"
      ],
      "text/plain": [
       "⎡             2                                            2                  \n",
       "⎣a₀⋅b⋅m + a₀⋅m  - a₀⋅m, -a⋅a₀ - a₀⋅m + a₁⋅b⋅m + a₁⋅b + a₁⋅m  + a₁⋅m, -a⋅a₁ - a\n",
       "\n",
       "                                 2                                            \n",
       "₁⋅m - a₁ + a₂⋅b⋅m + 2⋅a₂⋅b + a₂⋅m  + 3⋅a₂⋅m + 2⋅a₂, -a⋅a₂ - a₂⋅m - 2⋅a₂ + a₃⋅b\n",
       "\n",
       "                  2                                                           \n",
       "⋅m + 3⋅a₃⋅b + a₃⋅m  + 5⋅a₃⋅m + 6⋅a₃, -a⋅a₃ - a₃⋅m - 3⋅a₃ + a₄⋅b⋅m + 4⋅a₄⋅b + a\n",
       "\n",
       "   2                 ⎤\n",
       "₄⋅m  + 7⋅a₄⋅m + 12⋅a₄⎦"
      ]
     },
     "execution_count": 98,
     "metadata": {},
     "output_type": "execute_result"
    }
   ],
   "source": [
    "Ecuaciones=[Ecua.diff(x,i).subs(x,0)/factorial(i) for i in range(orden)]\n",
    "Ecuaciones"
   ]
  },
  {
   "cell_type": "markdown",
   "metadata": {},
   "source": [
    "Hallemos las soluciones de la ecuación indicial"
   ]
  },
  {
   "cell_type": "code",
   "execution_count": 99,
   "metadata": {
    "collapsed": false
   },
   "outputs": [
    {
     "data": {
      "image/png": "[encoded data removed]",
      "text/latex": [
       "$$\\begin{bmatrix}0, & - b + 1\\end{bmatrix}$$"
      ],
      "text/plain": [
       "[0, -b + 1]"
      ]
     },
     "execution_count": 99,
     "metadata": {},
     "output_type": "execute_result"
    }
   ],
   "source": [
    "Sol_Ecua_Ind=solve(Ecuaciones[0],m)\n",
    "Sol_Ecua_Ind"
   ]
  },
  {
   "cell_type": "markdown",
   "metadata": {},
   "source": [
    "Esto resuelve el inciso 2 del ejercicio. Para obtener la relación de recurrencia debemos despejar $a_n$ de cada ecuación. \n"
   ]
  },
  {
   "cell_type": "code",
   "execution_count": 100,
   "metadata": {
    "collapsed": false
   },
   "outputs": [
    {
     "name": "stdout",
     "output_type": "stream",
     "text": [
      "a₁\n",
      "   a₀⋅(a + m)  \n",
      "───────────────\n",
      "(b + m)⋅(m + 1)\n",
      "a₂\n",
      "   a₁⋅(a + m + 1)  \n",
      "───────────────────\n",
      "(m + 2)⋅(b + m + 1)\n",
      "a₃\n",
      "   a₂⋅(a + m + 2)  \n",
      "───────────────────\n",
      "(m + 3)⋅(b + m + 2)\n",
      "a₄\n",
      "   a₃⋅(a + m + 3)  \n",
      "───────────────────\n",
      "(m + 4)⋅(b + m + 3)\n"
     ]
    }
   ],
   "source": [
    "for i in range(1,orden):\n",
    "    Recu=solve(Ecuaciones[i],coef[i])[0].factor()\n",
    "    pprint(coef[i])\n",
    "    pprint(Recu)\n",
    "    \n",
    "    "
   ]
  },
  {
   "cell_type": "markdown",
   "metadata": {},
   "source": [
    "Obtenemos\n",
    "$$a_n=\\frac{a+m+n-1}{(m+n)(b+m+n-1)}a_{n-1}$$\n",
    "Si $b\\notin\\mathbb{Z}$ entonces la diferencia entre las raíces de la ecuación indicial $0-(1-b)=b\\notin\\mathbb{Z}$. Así por el Teorema que hemos visto tenemos dos soluciones en serie de Frobenius \n",
    "$$y_1=x^0\\sum\\limits_{n=0}^{\\infty}a_nx^n=\\sum\\limits_{n=0}^{\\infty}a_nx^n,\\quad\\text{con }a_0\\neq 0$$\n",
    "y\n",
    "$$y_2=x^{1-b}\\sum\\limits_{n=0}^{\\infty}b_nx^n=\\sum\\limits_{n=0}^{\\infty}b_nx^n,\\quad\\text{con }b_0\\neq 0$$\n",
    "Son linealmente independientes (esto creo que en algún lugar del teórico está dicho) pues como $1-b\\neq 0$\n",
    "$$\\lim_{x\\to 0^+}\\frac{y_1}{y_2}=\\lim_{x\\to 0^+}\\frac{1}{x^{1-b}}\\frac{a_0}{b_0}$$\n",
    "y este límite es 0 o $\\infty$ acorde a que $1-b<0$ o $1-b>0$ respectivamente. Entonces $y_1/y_2$ no puede ser constante. \n",
    "\n",
    "Cuando $b\\notin \\mathbb{Z}$ tenemos que $m=0$ determina una solución. Pero, si $b$ es entero positivo, la raíz $m=0$ es mayor o igual que la raíz $m=1-b$ y entonces, en este caso también, $m=0$ nos da una solución en serie de Frobenius.   \n",
    "\n",
    "En cualquier caso el radio de convergencia es infinito pues \n",
    "\n",
    "$$\\lim_{n\\to\\infty}\\frac{|a_n||x|^n}{|a_{n-1}||x|^{n-1}}=\\lim_{n\\to\\infty}\\frac{a+m+n-1}{(m+n)(b+m+n-1)}|x|=0$$\n",
    "\n",
    "y se invoca el criterio del cociente\n",
    "\n",
    "\n",
    "\n",
    "\n"
   ]
  },
  {
   "cell_type": "code",
   "execution_count": 101,
   "metadata": {
    "collapsed": false
   },
   "outputs": [
    {
     "data": {
      "image/png": "[encoded data removed]",
      "text/latex": [
       "$$\\frac{a a_{0} x^{4} \\left(a + 1\\right) \\left(a + 2\\right) \\left(a + 3\\right)}{b \\left(2 b + 2\\right) \\left(3 b + 6\\right) \\left(4 b + 12\\right)} + \\frac{a a_{0} x^{3} \\left(a + 1\\right) \\left(a + 2\\right)}{b \\left(2 b + 2\\right) \\left(3 b + 6\\right)} + \\frac{a a_{0} x^{2} \\left(a + 1\\right)}{b \\left(2 b + 2\\right)} + \\frac{a a_{0}}{b} x + a_{0}$$"
      ],
      "text/plain": [
       "      4                                  3                         2          \n",
       "a⋅a₀⋅x ⋅(a + 1)⋅(a + 2)⋅(a + 3)    a⋅a₀⋅x ⋅(a + 1)⋅(a + 2)   a⋅a₀⋅x ⋅(a + 1)  \n",
       "──────────────────────────────── + ─────────────────────── + ─────────────── +\n",
       "b⋅(2⋅b + 2)⋅(3⋅b + 6)⋅(4⋅b + 12)    b⋅(2⋅b + 2)⋅(3⋅b + 6)      b⋅(2⋅b + 2)    \n",
       "\n",
       "            \n",
       " a⋅a₀⋅x     \n",
       " ────── + a₀\n",
       "   b        "
      ]
     },
     "execution_count": 101,
     "metadata": {},
     "output_type": "execute_result"
    }
   ],
   "source": [
    "Sol_a_n=solve(Ecuaciones,coef[1:])\n",
    "y.subs(Sol_a_n).subs(m,0)"
   ]
  },
  {
   "cell_type": "markdown",
   "metadata": {},
   "source": [
    "Para que quede lo que dice el ejercicio, debemos elegir $a_0=1$"
   ]
  },
  {
   "cell_type": "code",
   "execution_count": 102,
   "metadata": {
    "collapsed": false
   },
   "outputs": [
    {
     "data": {
      "image/png": "[encoded data removed]",
      "text/latex": [
       "$$\\frac{a x^{4} \\left(a + 1\\right) \\left(a + 2\\right) \\left(a + 3\\right)}{b \\left(2 b + 2\\right) \\left(3 b + 6\\right) \\left(4 b + 12\\right)} + \\frac{a x^{3} \\left(a + 1\\right) \\left(a + 2\\right)}{b \\left(2 b + 2\\right) \\left(3 b + 6\\right)} + \\frac{a x^{2} \\left(a + 1\\right)}{b \\left(2 b + 2\\right)} + \\frac{a x}{b} + 1$$"
      ],
      "text/plain": [
       "     4                                 3                      2               \n",
       "  a⋅x ⋅(a + 1)⋅(a + 2)⋅(a + 3)      a⋅x ⋅(a + 1)⋅(a + 2)   a⋅x ⋅(a + 1)   a⋅x \n",
       "──────────────────────────────── + ───────────────────── + ──────────── + ─── \n",
       "b⋅(2⋅b + 2)⋅(3⋅b + 6)⋅(4⋅b + 12)   b⋅(2⋅b + 2)⋅(3⋅b + 6)   b⋅(2⋅b + 2)     b  \n",
       "\n",
       "   \n",
       "   \n",
       "+ 1\n",
       "   "
      ]
     },
     "execution_count": 102,
     "metadata": {},
     "output_type": "execute_result"
    }
   ],
   "source": [
    "y.subs(Sol_a_n).subs(m,0).subs(coef[0],1)"
   ]
  },
  {
   "cell_type": "markdown",
   "metadata": {},
   "source": [
    "Si de la misma forma si $b\\notin \\mathbb{Z}$ o $b$ es entero menor o igual que cero, $m=1-b$ da una solución en serie de Frobenius. Hallémosla\n"
   ]
  },
  {
   "cell_type": "code",
   "execution_count": 103,
   "metadata": {
    "collapsed": false
   },
   "outputs": [
    {
     "data": {
      "image/png": "[encoded data removed]",
      "text/latex": [
       "$$x^{- b + 1} \\left(\\frac{a_{0} x^{4} \\left(a - b + 1\\right) \\left(a - b + 2\\right) \\left(a - b + 3\\right) \\left(a - b + 4\\right)}{\\left(b \\left(- b + 1\\right) + \\left(- b + 1\\right)^{2} + 1\\right) \\left(b \\left(- b + 1\\right) - 3 b + \\left(- b + 1\\right)^{2} + 19\\right) \\left(b \\left(- b + 1\\right) - 2 b + \\left(- b + 1\\right)^{2} + 11\\right) \\left(b \\left(- b + 1\\right) - b + \\left(- b + 1\\right)^{2} + 5\\right)} + \\frac{a_{0} x^{3} \\left(a - b + 1\\right) \\left(a - b + 2\\right) \\left(a - b + 3\\right)}{\\left(b \\left(- b + 1\\right) + \\left(- b + 1\\right)^{2} + 1\\right) \\left(b \\left(- b + 1\\right) - 2 b + \\left(- b + 1\\right)^{2} + 11\\right) \\left(b \\left(- b + 1\\right) - b + \\left(- b + 1\\right)^{2} + 5\\right)} + \\frac{a_{0} x^{2} \\left(a - b + 1\\right) \\left(a - b + 2\\right)}{\\left(b \\left(- b + 1\\right) + \\left(- b + 1\\right)^{2} + 1\\right) \\left(b \\left(- b + 1\\right) - b + \\left(- b + 1\\right)^{2} + 5\\right)} + \\frac{a_{0} x \\left(a - b + 1\\right)}{b \\left(- b + 1\\right) + \\left(- b + 1\\right)^{2} + 1} + a_{0}\\right)$$"
      ],
      "text/plain": [
       "        ⎛                                            4                        \n",
       " -b + 1 ⎜                                        a₀⋅x ⋅(a - b + 1)⋅(a - b + 2)\n",
       "x      ⋅⎜─────────────────────────────────────────────────────────────────────\n",
       "        ⎜⎛                     2    ⎞ ⎛                           2     ⎞ ⎛   \n",
       "        ⎝⎝b⋅(-b + 1) + (-b + 1)  + 1⎠⋅⎝b⋅(-b + 1) - 3⋅b + (-b + 1)  + 19⎠⋅⎝b⋅(\n",
       "\n",
       "                                                                              \n",
       "⋅(a - b + 3)⋅(a - b + 4)                                                      \n",
       "──────────────────────────────────────────────────────────────── + ───────────\n",
       "                        2     ⎞ ⎛                         2    ⎞   ⎛          \n",
       "-b + 1) - 2⋅b + (-b + 1)  + 11⎠⋅⎝b⋅(-b + 1) - b + (-b + 1)  + 5⎠   ⎝b⋅(-b + 1)\n",
       "\n",
       "                     3                                                        \n",
       "                 a₀⋅x ⋅(a - b + 1)⋅(a - b + 2)⋅(a - b + 3)                    \n",
       "──────────────────────────────────────────────────────────────────────────────\n",
       "           2    ⎞ ⎛                           2     ⎞ ⎛                       \n",
       " + (-b + 1)  + 1⎠⋅⎝b⋅(-b + 1) - 2⋅b + (-b + 1)  + 11⎠⋅⎝b⋅(-b + 1) - b + (-b + \n",
       "\n",
       "                               2                                              \n",
       "                           a₀⋅x ⋅(a - b + 1)⋅(a - b + 2)                      \n",
       "──────── + ───────────────────────────────────────────────────────────── + ───\n",
       "  2    ⎞   ⎛                     2    ⎞ ⎛                         2    ⎞      \n",
       "1)  + 5⎠   ⎝b⋅(-b + 1) + (-b + 1)  + 1⎠⋅⎝b⋅(-b + 1) - b + (-b + 1)  + 5⎠   b⋅(\n",
       "\n",
       "                            ⎞\n",
       "  a₀⋅x⋅(a - b + 1)          ⎟\n",
       "─────────────────────── + a₀⎟\n",
       "                  2         ⎟\n",
       "-b + 1) + (-b + 1)  + 1     ⎠"
      ]
     },
     "execution_count": 103,
     "metadata": {},
     "output_type": "execute_result"
    }
   ],
   "source": [
    "y.subs(Sol_a_n).subs(m,1-b)"
   ]
  },
  {
   "cell_type": "markdown",
   "metadata": {},
   "source": [
    "No está muy claro el patrón que sigue la expresión porque SyPy no muestra los denominadores factorizados. Pidamos que lo haga y, de paso, sustituyamos $m$ por $1-b$"
   ]
  },
  {
   "cell_type": "code",
   "execution_count": 92,
   "metadata": {
    "collapsed": false
   },
   "outputs": [],
   "source": [
    "for an in coef[1:]:\n",
    "    Sol_a_n[an]=Sol_a_n[an].factor().subs(m,1-b)"
   ]
  },
  {
   "cell_type": "code",
   "execution_count": 93,
   "metadata": {
    "collapsed": false
   },
   "outputs": [
    {
     "data": {
      "image/png": "[encoded data removed]",
      "text/latex": [
       "$$x^{m} \\left(\\frac{a_{0} x^{9} \\left(a - b + 1\\right) \\left(a - b + 2\\right) \\left(a - b + 3\\right) \\left(a - b + 4\\right) \\left(a - b + 5\\right) \\left(a - b + 6\\right) \\left(a - b + 7\\right) \\left(a - b + 8\\right) \\left(a - b + 9\\right)}{362880 \\left(- b + 2\\right) \\left(- b + 3\\right) \\left(- b + 4\\right) \\left(- b + 5\\right) \\left(- b + 6\\right) \\left(- b + 7\\right) \\left(- b + 8\\right) \\left(- b + 9\\right) \\left(- b + 10\\right)} + \\frac{a_{0} x^{8} \\left(a - b + 1\\right) \\left(a - b + 2\\right) \\left(a - b + 3\\right) \\left(a - b + 4\\right) \\left(a - b + 5\\right) \\left(a - b + 6\\right) \\left(a - b + 7\\right) \\left(a - b + 8\\right)}{40320 \\left(- b + 2\\right) \\left(- b + 3\\right) \\left(- b + 4\\right) \\left(- b + 5\\right) \\left(- b + 6\\right) \\left(- b + 7\\right) \\left(- b + 8\\right) \\left(- b + 9\\right)} + \\frac{a_{0} x^{7} \\left(a - b + 1\\right) \\left(a - b + 2\\right) \\left(a - b + 3\\right) \\left(a - b + 4\\right) \\left(a - b + 5\\right) \\left(a - b + 6\\right) \\left(a - b + 7\\right)}{5040 \\left(- b + 2\\right) \\left(- b + 3\\right) \\left(- b + 4\\right) \\left(- b + 5\\right) \\left(- b + 6\\right) \\left(- b + 7\\right) \\left(- b + 8\\right)} + \\frac{a_{0} x^{6} \\left(a - b + 1\\right) \\left(a - b + 2\\right) \\left(a - b + 3\\right) \\left(a - b + 4\\right) \\left(a - b + 5\\right) \\left(a - b + 6\\right)}{720 \\left(- b + 2\\right) \\left(- b + 3\\right) \\left(- b + 4\\right) \\left(- b + 5\\right) \\left(- b + 6\\right) \\left(- b + 7\\right)} + \\frac{a_{0} x^{5} \\left(a - b + 1\\right) \\left(a - b + 2\\right) \\left(a - b + 3\\right) \\left(a - b + 4\\right) \\left(a - b + 5\\right)}{120 \\left(- b + 2\\right) \\left(- b + 3\\right) \\left(- b + 4\\right) \\left(- b + 5\\right) \\left(- b + 6\\right)} + \\frac{a_{0} x^{4} \\left(a - b + 1\\right) \\left(a - b + 2\\right) \\left(a - b + 3\\right) \\left(a - b + 4\\right)}{24 \\left(- b + 2\\right) \\left(- b + 3\\right) \\left(- b + 4\\right) \\left(- b + 5\\right)} + \\frac{a_{0} x^{3} \\left(a - b + 1\\right) \\left(a - b + 2\\right) \\left(a - b + 3\\right)}{6 \\left(- b + 2\\right) \\left(- b + 3\\right) \\left(- b + 4\\right)} + \\frac{a_{0} x^{2} \\left(a - b + 1\\right) \\left(a - b + 2\\right)}{2 \\left(- b + 2\\right) \\left(- b + 3\\right)} + \\frac{a_{0} x \\left(a - b + 1\\right)}{- b + 2} + a_{0}\\right)$$"
      ],
      "text/plain": [
       "   ⎛    9                                                                     \n",
       " m ⎜a₀⋅x ⋅(a - b + 1)⋅(a - b + 2)⋅(a - b + 3)⋅(a - b + 4)⋅(a - b + 5)⋅(a - b +\n",
       "x ⋅⎜──────────────────────────────────────────────────────────────────────────\n",
       "   ⎝             362880⋅(-b + 2)⋅(-b + 3)⋅(-b + 4)⋅(-b + 5)⋅(-b + 6)⋅(-b + 7)⋅\n",
       "\n",
       "                                              8                               \n",
       " 6)⋅(a - b + 7)⋅(a - b + 8)⋅(a - b + 9)   a₀⋅x ⋅(a - b + 1)⋅(a - b + 2)⋅(a - b\n",
       "─────────────────────────────────────── + ────────────────────────────────────\n",
       "(-b + 8)⋅(-b + 9)⋅(-b + 10)                           40320⋅(-b + 2)⋅(-b + 3)⋅\n",
       "\n",
       "                                                                        7     \n",
       " + 3)⋅(a - b + 4)⋅(a - b + 5)⋅(a - b + 6)⋅(a - b + 7)⋅(a - b + 8)   a₀⋅x ⋅(a -\n",
       "───────────────────────────────────────────────────────────────── + ──────────\n",
       "(-b + 4)⋅(-b + 5)⋅(-b + 6)⋅(-b + 7)⋅(-b + 8)⋅(-b + 9)                         \n",
       "\n",
       "                                                                              \n",
       " b + 1)⋅(a - b + 2)⋅(a - b + 3)⋅(a - b + 4)⋅(a - b + 5)⋅(a - b + 6)⋅(a - b + 7\n",
       "──────────────────────────────────────────────────────────────────────────────\n",
       " 5040⋅(-b + 2)⋅(-b + 3)⋅(-b + 4)⋅(-b + 5)⋅(-b + 6)⋅(-b + 7)⋅(-b + 8)          \n",
       "\n",
       "        6                                                                     \n",
       ")   a₀⋅x ⋅(a - b + 1)⋅(a - b + 2)⋅(a - b + 3)⋅(a - b + 4)⋅(a - b + 5)⋅(a - b +\n",
       "─ + ──────────────────────────────────────────────────────────────────────────\n",
       "              720⋅(-b + 2)⋅(-b + 3)⋅(-b + 4)⋅(-b + 5)⋅(-b + 6)⋅(-b + 7)       \n",
       "\n",
       "          5                                                                   \n",
       " 6)   a₀⋅x ⋅(a - b + 1)⋅(a - b + 2)⋅(a - b + 3)⋅(a - b + 4)⋅(a - b + 5)   a₀⋅x\n",
       "─── + ───────────────────────────────────────────────────────────────── + ────\n",
       "               120⋅(-b + 2)⋅(-b + 3)⋅(-b + 4)⋅(-b + 5)⋅(-b + 6)               \n",
       "\n",
       "4                                                       3                     \n",
       " ⋅(a - b + 1)⋅(a - b + 2)⋅(a - b + 3)⋅(a - b + 4)   a₀⋅x ⋅(a - b + 1)⋅(a - b +\n",
       "───────────────────────────────────────────────── + ──────────────────────────\n",
       "    24⋅(-b + 2)⋅(-b + 3)⋅(-b + 4)⋅(-b + 5)                 6⋅(-b + 2)⋅(-b + 3)\n",
       "\n",
       "                      2                                                ⎞\n",
       " 2)⋅(a - b + 3)   a₀⋅x ⋅(a - b + 1)⋅(a - b + 2)   a₀⋅x⋅(a - b + 1)     ⎟\n",
       "─────────────── + ───────────────────────────── + ──────────────── + a₀⎟\n",
       "⋅(-b + 4)              2⋅(-b + 2)⋅(-b + 3)             -b + 2          ⎠"
      ]
     },
     "execution_count": 93,
     "metadata": {},
     "output_type": "execute_result"
    }
   ],
   "source": [
    "y.subs(Sol_a_n)"
   ]
  },
  {
   "cell_type": "markdown",
   "metadata": {},
   "source": [
    "De esto se ve que, tomando $a_0=1$, la otra solución es\n",
    "$$y=1+\\sum_{n=1}^{\\infty}\\frac{(a-b+1)(a-b+2)\\cdots(a-b+n)}{n!(2-b)(3-b)\\cdots (n+1-b)}x^n$$"
   ]
  },
  {
   "cell_type": "markdown",
   "metadata": {},
   "source": [
    " **Ejercicio 4** Considerar  el PVI:\n",
    "$$y''=y'+y,\\quad y(0)=0,\\quad y'(0)=1.$$\n",
    "\n",
    "* Derivar la solución en serie de potencias\n",
    "$$y(x)=\\sum\\limits_{n=1}^{\\infty} \\frac{F_n}{n!}x^n,$$\n",
    "donde $F_n$ es la sucesión de números de Fibonacci, definidos por $F_1=1$, $F_2=1$ y $F_n=F_{n-1}+F_{n-2}$.\n",
    "* Demostrar que la serie anterior tiene radio de convergencia infinito.\n",
    "\n",
    "**Solución**\n",
    "Hallemos la relación de recurrencia"
   ]
  },
  {
   "cell_type": "code",
   "execution_count": 106,
   "metadata": {
    "collapsed": false
   },
   "outputs": [
    {
     "data": {
      "image/png": "[encoded data removed]",
      "text/latex": [
       "$$- a_{0} - a_{1} x - a_{1} - a_{2} x^{2} - 2 a_{2} x - a_{3} x^{3} - 3 a_{3} x^{2} - a_{4} x^{4} - 4 a_{4} x^{3} - a_{5} x^{5} - 5 a_{5} x^{4} - a_{6} x^{6} - 6 a_{6} x^{5} - a_{7} x^{7} - 7 a_{7} x^{6} - a_{8} x^{8} - 8 a_{8} x^{7} - a_{9} x^{9} - 9 a_{9} x^{8} + 2 \\left(a_{2} + 3 a_{3} x + 6 a_{4} x^{2} + 10 a_{5} x^{3} + 15 a_{6} x^{4} + 21 a_{7} x^{5} + 28 a_{8} x^{6} + 36 a_{9} x^{7}\\right)$$"
      ],
      "text/plain": [
       "                      2                3         2       4         3       5  \n",
       "-a₀ - a₁⋅x - a₁ - a₂⋅x  - 2⋅a₂⋅x - a₃⋅x  - 3⋅a₃⋅x  - a₄⋅x  - 4⋅a₄⋅x  - a₅⋅x  -\n",
       "\n",
       "       4       6         5       7         6       8         7       9        \n",
       " 5⋅a₅⋅x  - a₆⋅x  - 6⋅a₆⋅x  - a₇⋅x  - 7⋅a₇⋅x  - a₈⋅x  - 8⋅a₈⋅x  - a₉⋅x  - 9⋅a₉⋅\n",
       "\n",
       " 8     ⎛                    2          3          4          5          6     \n",
       "x  + 2⋅⎝a₂ + 3⋅a₃⋅x + 6⋅a₄⋅x  + 10⋅a₅⋅x  + 15⋅a₆⋅x  + 21⋅a₇⋅x  + 28⋅a₈⋅x  + 36\n",
       "\n",
       "     7⎞\n",
       "⋅a₉⋅x ⎠"
      ]
     },
     "execution_count": 106,
     "metadata": {},
     "output_type": "execute_result"
    }
   ],
   "source": [
    "orden=10\n",
    "coef=symbols('a:10')\n",
    "y=sum([coef[i]*x**i for i in range(orden)])\n",
    "a,b=symbols('a,b',real=True)\n",
    "Ecua=y.diff(x,2)-y.diff(x)-y\n",
    "Ecua"
   ]
  },
  {
   "cell_type": "code",
   "execution_count": 107,
   "metadata": {
    "collapsed": false
   },
   "outputs": [
    {
     "data": {
      "image/png": "[encoded data removed]",
      "text/latex": [
       "$$\\begin{bmatrix}- a_{0} - a_{1} + 2 a_{2}, & - a_{1} - 2 a_{2} + 6 a_{3}, & - a_{2} - 3 a_{3} + 12 a_{4}, & - a_{3} - 4 a_{4} + 20 a_{5}, & - a_{4} - 5 a_{5} + 30 a_{6}, & - a_{5} - 6 a_{6} + 42 a_{7}, & - a_{6} - 7 a_{7} + 56 a_{8}, & - a_{7} - 8 a_{8} + 72 a_{9}, & - a_{8} - 9 a_{9}, & - a_{9}\\end{bmatrix}$$"
      ],
      "text/plain": [
       "[-a₀ - a₁ + 2⋅a₂, -a₁ - 2⋅a₂ + 6⋅a₃, -a₂ - 3⋅a₃ + 12⋅a₄, -a₃ - 4⋅a₄ + 20⋅a₅, -\n",
       "a₄ - 5⋅a₅ + 30⋅a₆, -a₅ - 6⋅a₆ + 42⋅a₇, -a₆ - 7⋅a₇ + 56⋅a₈, -a₇ - 8⋅a₈ + 72⋅a₉,\n",
       " -a₈ - 9⋅a₉, -a₉]"
      ]
     },
     "execution_count": 107,
     "metadata": {},
     "output_type": "execute_result"
    }
   ],
   "source": [
    "Ecuaciones=[Ecua.diff(x,i).subs(x,0)/factorial(i) for i in range(orden)]\n",
    "Ecuaciones"
   ]
  },
  {
   "cell_type": "markdown",
   "metadata": {},
   "source": [
    "Las dos últimas ecuaciones no sirven"
   ]
  },
  {
   "cell_type": "code",
   "execution_count": 109,
   "metadata": {
    "collapsed": false
   },
   "outputs": [
    {
     "data": {
      "image/png": "[encoded data removed]",
      "text/latex": [
       "$$\\begin{bmatrix}- a_{0} - a_{1} + 2 a_{2}, & - a_{1} - 2 a_{2} + 6 a_{3}, & - a_{2} - 3 a_{3} + 12 a_{4}, & - a_{3} - 4 a_{4} + 20 a_{5}, & - a_{4} - 5 a_{5} + 30 a_{6}, & - a_{5} - 6 a_{6} + 42 a_{7}\\end{bmatrix}$$"
      ],
      "text/plain": [
       "[-a₀ - a₁ + 2⋅a₂, -a₁ - 2⋅a₂ + 6⋅a₃, -a₂ - 3⋅a₃ + 12⋅a₄, -a₃ - 4⋅a₄ + 20⋅a₅, -\n",
       "a₄ - 5⋅a₅ + 30⋅a₆, -a₅ - 6⋅a₆ + 42⋅a₇]"
      ]
     },
     "execution_count": 109,
     "metadata": {},
     "output_type": "execute_result"
    }
   ],
   "source": [
    "Ecuaciones=Ecuaciones[:-2]\n",
    "Ecuaciones"
   ]
  },
  {
   "cell_type": "code",
   "execution_count": 112,
   "metadata": {
    "collapsed": false
   },
   "outputs": [
    {
     "name": "stdout",
     "output_type": "stream",
     "text": [
      "a₂\n",
      "a₀ + a₁\n",
      "───────\n",
      "   2   \n",
      "a₃\n",
      "a₁ + 2⋅a₂\n",
      "─────────\n",
      "    6    \n",
      "a₄\n",
      "a₂ + 3⋅a₃\n",
      "─────────\n",
      "    12   \n",
      "a₅\n",
      "a₃ + 4⋅a₄\n",
      "─────────\n",
      "    20   \n",
      "a₆\n",
      "a₄ + 5⋅a₅\n",
      "─────────\n",
      "    30   \n",
      "a₇\n",
      "a₅ + 6⋅a₆\n",
      "─────────\n",
      "    42   \n"
     ]
    }
   ],
   "source": [
    "for i in range(6):\n",
    "    Recu=solve(Ecuaciones[i],coef[i+2])[0].factor()\n",
    "    pprint(coef[i+2])\n",
    "    pprint(Recu)"
   ]
  },
  {
   "cell_type": "markdown",
   "metadata": {},
   "source": [
    "Vemos que\n",
    "$$a_n=\\frac{a_{n-2}+(n-1)a_{n-1}}{n(n-1)}$$\n",
    "\n",
    "Recordemos que debemos tener $a_0=0$ y $a_1=1$. Hay que demostrar que $b_n:=n!a_n$ es la sucesión de Fibonacci $F_n$.  Multiplicando la relación de recurrencia por $n!$ obtengo una relación de recurrencia para los $b_n$\n",
    "$$b_n=n!a_n=(n-2)! (a_{n-2}+(n-1)a_{n-1})= (n-2)! a_{n-2}+(n-1)!a_{n-1}=b_{n-2}+b_{n-1}$$\n",
    "Que resulta ser la misma relación de recurrencia que los números de Fibonacci. Además como $b_1=F_1=1$ y (hay que hacer la cuenta) $b_2=F_2=1$, por un Lemma del Teórico sobre relaciones de recurrencia $F_n=b_n$.\n",
    "\n",
    "Para el radio de convergencia notemos que \n",
    "$$F_n=F_{n-1}+F_{n-2} \\leq F_{n-1}+F_{n-1}=2F_{n-1}\\Rightarrow 0\\leq \\frac{F_{n}}{F_{n-1}}\\leq 2$$\n",
    "Vale decir, $F_n/F_{n-1}$ está acotada. Entonces\n",
    "$$\\lim_{n\\to\\infty}\\frac{ \\frac{F_n}{n!}|x|^n}{\\frac{F_{n-1}}{(n-1)!}|x|^{n-1}}=\\lim_{n\\to\\infty} \\frac{F_{n}}{n F_{n-1}}|x|=0 $$\n",
    "Nuevamente el criterio del cociente nos dice que el radio de convergencia es infinito.\n",
    "\n",
    "El límite\n",
    "\n",
    "$$\\lim_{n\\to\\infty}\\frac{F_{n}}{F_{n-1}}$$\n",
    "\n",
    "se puede calcular, y de hecho es la razón aurea (ver el [artículo en wikipedia](https://es.wikipedia.org/?title=Sucesi%C3%B3n_de_Fibonacci#Propiedades_de_la_sucesi.C3.B3n)). Pero no necesitamos saber eso para el ejercicio. \n"
   ]
  },
  {
   "cell_type": "code",
   "execution_count": null,
   "metadata": {
    "collapsed": false
   },
   "outputs": [],
   "source": []
  }
 ],
 "metadata": {
  "kernelspec": {
   "display_name": "Python 2",
   "language": "python",
   "name": "python2"
  },
  "language_info": {
   "codemirror_mode": {
    "name": "ipython",
    "version": 2
   },
   "file_extension": ".py",
   "mimetype": "text/x-python",
   "name": "python",
   "nbconvert_exporter": "python",
   "pygments_lexer": "ipython2",
   "version": "2.7.13"
  }
 },
 "nbformat": 4,
 "nbformat_minor": 0
}
