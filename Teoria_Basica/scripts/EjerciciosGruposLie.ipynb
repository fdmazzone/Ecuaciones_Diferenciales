{
 "cells": [
  {
   "cell_type": "markdown",
   "metadata": {},
   "source": [
    "**Ejercicio N° 5**  Recuperatorio Primer Parcial 2015\n",
    "\n",
    "Las siguientes relaciones\n",
    "\n",
    "$$\\hat{x}=\\frac{x(x+y)}{x+y+\\epsilon}$$\n",
    "$$\\hat{y}=\\frac{(x+y)(\\epsilon x+y)}{x+y+\\epsilon}$$\n",
    "definen un grupo de Lie uniparamétrico. Usando SymPy demostrar que $(\\hat{x},\\hat{y})$ son simetrías de la ecuación   \n",
    "\n",
    "$$y'=\\frac{ x^2\\sin(x + y) + y}{x(1-x\\sin(x + y))}.$$\n",
    "\n",
    "Encontrar variables canónicas asocidas a las simetrías.  Resolver la ecuación diferencial.\n"
   ]
  },
  {
   "cell_type": "markdown",
   "metadata": {},
   "source": [
    "#### Primero veamos si el grupo propuesto es simetría de la ecuación."
   ]
  },
  {
   "cell_type": "code",
   "execution_count": 2,
   "metadata": {
    "collapsed": false
   },
   "outputs": [],
   "source": [
    "from sympy import *\n",
    "init_printing()\n",
    "x,epsilon=symbols('x,epsilon')\n",
    "y=Function('y')(x)\n",
    "x1=x*(x+y)/(y+(1+epsilon)*x)\n",
    "y1=(epsilon*x+y)*(x+y)/(y+(1+epsilon)*x)\n",
    "exp1=y1.diff(x)/x1.diff(x)\n",
    "exp2=exp1.subs(y.diff(x),(x**2*sin(x+y)+y)/x/(1-x*sin(x+y)))\n",
    "x1,y1=symbols('x1,y1')\n",
    "exp2=exp2.simplify()\n",
    "exp3=exp2.subs({y:(-epsilon*x1+y1)*(x1+y1)/(y1+(1-epsilon)*x1),x:x1*(x1+y1)/(y1+(1-epsilon)*x1)})\n"
   ]
  },
  {
   "cell_type": "markdown",
   "metadata": {},
   "source": [
    "#### En exp3 tenemos el resultado del cambio de varibles en la ecuación. Veamos que tiene"
   ]
  },
  {
   "cell_type": "code",
   "execution_count": 4,
   "metadata": {
    "collapsed": false
   },
   "outputs": [
    {
     "data": {
      "image/png": "[encoded data removed]",
      "text/latex": [
       "$$\\frac{\\left(x_{1} \\left(- \\epsilon + 1\\right) + y_{1}\\right) \\left(\\frac{\\epsilon^{2} x_{1}^{2} \\left(x_{1} + y_{1}\\right)^{2}}{\\left(x_{1} \\left(- \\epsilon + 1\\right) + y_{1}\\right)^{2}} + \\frac{\\epsilon x_{1}^{2} \\left(x_{1} + y_{1}\\right)^{2}}{\\left(x_{1} \\left(- \\epsilon + 1\\right) + y_{1}\\right)^{2}} + \\frac{2 \\epsilon x_{1} \\left(x_{1} + y_{1}\\right)^{2} \\left(- \\epsilon x_{1} + y_{1}\\right)}{\\left(x_{1} \\left(- \\epsilon + 1\\right) + y_{1}\\right)^{2}} + \\frac{x_{1}^{3} \\left(x_{1} + y_{1}\\right)^{3}}{\\left(x_{1} \\left(- \\epsilon + 1\\right) + y_{1}\\right)^{3}} \\sin{\\left (\\frac{x_{1} \\left(x_{1} + y_{1}\\right)}{x_{1} \\left(- \\epsilon + 1\\right) + y_{1}} + \\frac{\\left(x_{1} + y_{1}\\right) \\left(- \\epsilon x_{1} + y_{1}\\right)}{x_{1} \\left(- \\epsilon + 1\\right) + y_{1}} \\right )} + \\frac{x_{1}^{2} \\left(x_{1} + y_{1}\\right)^{3}}{\\left(x_{1} \\left(- \\epsilon + 1\\right) + y_{1}\\right)^{3}} \\left(- \\epsilon x_{1} + y_{1}\\right) \\sin{\\left (\\frac{x_{1} \\left(x_{1} + y_{1}\\right)}{x_{1} \\left(- \\epsilon + 1\\right) + y_{1}} + \\frac{\\left(x_{1} + y_{1}\\right) \\left(- \\epsilon x_{1} + y_{1}\\right)}{x_{1} \\left(- \\epsilon + 1\\right) + y_{1}} \\right )} + \\frac{x_{1} \\left(x_{1} + y_{1}\\right)^{2} \\left(- \\epsilon x_{1} + y_{1}\\right)}{\\left(x_{1} \\left(- \\epsilon + 1\\right) + y_{1}\\right)^{2}} + \\frac{\\left(x_{1} + y_{1}\\right)^{2} \\left(- \\epsilon x_{1} + y_{1}\\right)^{2}}{\\left(x_{1} \\left(- \\epsilon + 1\\right) + y_{1}\\right)^{2}}\\right)}{x_{1} \\left(x_{1} + y_{1}\\right) \\left(\\frac{\\epsilon x_{1} \\left(x_{1} + y_{1}\\right)}{x_{1} \\left(- \\epsilon + 1\\right) + y_{1}} - \\frac{x_{1}^{2} \\left(x_{1} + y_{1}\\right)^{2}}{\\left(x_{1} \\left(- \\epsilon + 1\\right) + y_{1}\\right)^{2}} \\sin{\\left (\\frac{x_{1} \\left(x_{1} + y_{1}\\right)}{x_{1} \\left(- \\epsilon + 1\\right) + y_{1}} + \\frac{\\left(x_{1} + y_{1}\\right) \\left(- \\epsilon x_{1} + y_{1}\\right)}{x_{1} \\left(- \\epsilon + 1\\right) + y_{1}} \\right )} - \\frac{x_{1} \\left(x_{1} + y_{1}\\right)^{2}}{\\left(x_{1} \\left(- \\epsilon + 1\\right) + y_{1}\\right)^{2}} \\left(- \\epsilon x_{1} + y_{1}\\right) \\sin{\\left (\\frac{x_{1} \\left(x_{1} + y_{1}\\right)}{x_{1} \\left(- \\epsilon + 1\\right) + y_{1}} + \\frac{\\left(x_{1} + y_{1}\\right) \\left(- \\epsilon x_{1} + y_{1}\\right)}{x_{1} \\left(- \\epsilon + 1\\right) + y_{1}} \\right )} + \\frac{x_{1} \\left(x_{1} + y_{1}\\right)}{x_{1} \\left(- \\epsilon + 1\\right) + y_{1}} + \\frac{\\left(x_{1} + y_{1}\\right) \\left(- \\epsilon x_{1} + y_{1}\\right)}{x_{1} \\left(- \\epsilon + 1\\right) + y_{1}}\\right)}$$"
      ],
      "text/plain": [
       "                   ⎛                                                          \n",
       "                   ⎜  2   2          2          2          2                  \n",
       "                   ⎜ ε ⋅x₁ ⋅(x₁ + y₁)       ε⋅x₁ ⋅(x₁ + y₁)     2⋅ε⋅x₁⋅(x₁ + y\n",
       "(x₁⋅(-ε + 1) + y₁)⋅⎜─────────────────── + ─────────────────── + ──────────────\n",
       "                   ⎜                  2                     2                 \n",
       "                   ⎝(x₁⋅(-ε + 1) + y₁)    (x₁⋅(-ε + 1) + y₁)         (x₁⋅(-ε +\n",
       "──────────────────────────────────────────────────────────────────────────────\n",
       "                                                   ⎛                     2    \n",
       "                                                   ⎜                   x₁ ⋅(x₁\n",
       "                                                   ⎜ ε⋅x₁⋅(x₁ + y₁)           \n",
       "                                      x₁⋅(x₁ + y₁)⋅⎜──────────────── - ───────\n",
       "                                                   ⎜x₁⋅(-ε + 1) + y₁          \n",
       "                                                   ⎝                          \n",
       "\n",
       "                     3          3    ⎛  x₁⋅(x₁ + y₁)     (x₁ + y₁)⋅(-ε⋅x₁ + y₁\n",
       "  2                x₁ ⋅(x₁ + y₁) ⋅sin⎜──────────────── + ─────────────────────\n",
       "₁) ⋅(-ε⋅x₁ + y₁)                     ⎝x₁⋅(-ε + 1) + y₁      x₁⋅(-ε + 1) + y₁  \n",
       "──────────────── + ───────────────────────────────────────────────────────────\n",
       "         2                                                3                   \n",
       " 1) + y₁)                               (x₁⋅(-ε + 1) + y₁)                    \n",
       "──────────────────────────────────────────────────────────────────────────────\n",
       "      2    ⎛  x₁⋅(x₁ + y₁)     (x₁ + y₁)⋅(-ε⋅x₁ + y₁)⎞               2        \n",
       " + y₁) ⋅sin⎜──────────────── + ──────────────────────⎟   x₁⋅(x₁ + y₁) ⋅(-ε⋅x₁ \n",
       "           ⎝x₁⋅(-ε + 1) + y₁      x₁⋅(-ε + 1) + y₁   ⎠                        \n",
       "────────────────────────────────────────────────────── - ─────────────────────\n",
       "                                2                                             \n",
       "              (x₁⋅(-ε + 1) + y₁)                                              \n",
       "\n",
       ")⎞     2          3                 ⎛  x₁⋅(x₁ + y₁)     (x₁ + y₁)⋅(-ε⋅x₁ + y₁)\n",
       "─⎟   x₁ ⋅(x₁ + y₁) ⋅(-ε⋅x₁ + y₁)⋅sin⎜──────────────── + ──────────────────────\n",
       " ⎠                                  ⎝x₁⋅(-ε + 1) + y₁      x₁⋅(-ε + 1) + y₁   \n",
       "── + ─────────────────────────────────────────────────────────────────────────\n",
       "                                                  3                           \n",
       "                                (x₁⋅(-ε + 1) + y₁)                            \n",
       "──────────────────────────────────────────────────────────────────────────────\n",
       "         ⎛  x₁⋅(x₁ + y₁)     (x₁ + y₁)⋅(-ε⋅x₁ + y₁)⎞                          \n",
       "+ y₁)⋅sin⎜──────────────── + ──────────────────────⎟                          \n",
       "         ⎝x₁⋅(-ε + 1) + y₁      x₁⋅(-ε + 1) + y₁   ⎠     x₁⋅(x₁ + y₁)     (x₁ \n",
       "──────────────────────────────────────────────────── + ──────────────── + ────\n",
       "                        2                              x₁⋅(-ε + 1) + y₁      x\n",
       "      (x₁⋅(-ε + 1) + y₁)                                                      \n",
       "\n",
       "⎞                                                        ⎞\n",
       "⎟               2                         2             2⎟\n",
       "⎠   x₁⋅(x₁ + y₁) ⋅(-ε⋅x₁ + y₁)   (x₁ + y₁) ⋅(-ε⋅x₁ + y₁) ⎟\n",
       "─ + ────────────────────────── + ────────────────────────⎟\n",
       "                         2                           2   ⎟\n",
       "       (x₁⋅(-ε + 1) + y₁)          (x₁⋅(-ε + 1) + y₁)    ⎠\n",
       "──────────────────────────────────────────────────────────\n",
       "                  ⎞                                       \n",
       "                  ⎟                                       \n",
       "+ y₁)⋅(-ε⋅x₁ + y₁)⎟                                       \n",
       "──────────────────⎟                                       \n",
       "₁⋅(-ε + 1) + y₁   ⎟                                       \n",
       "                  ⎠                                       "
      ]
     },
     "execution_count": 4,
     "metadata": {},
     "output_type": "execute_result"
    }
   ],
   "source": [
    "exp3"
   ]
  },
  {
   "cell_type": "markdown",
   "metadata": {},
   "source": [
    "#### Verdaderamente asusta. Veamos si lo simplifica"
   ]
  },
  {
   "cell_type": "code",
   "execution_count": 5,
   "metadata": {
    "collapsed": false
   },
   "outputs": [
    {
     "data": {
      "image/png": "[encoded data removed]",
      "text/latex": [
       "$$\\frac{- x_{1}^{2} \\sin{\\left (\\frac{1}{\\epsilon x_{1} - x_{1} - y_{1}} \\left(- \\epsilon x_{1}^{2} - \\epsilon x_{1} y_{1} + x_{1}^{2} + 2 x_{1} y_{1} + y_{1}^{2}\\right) \\right )} + y_{1}}{x_{1} \\left(x_{1} \\sin{\\left (\\frac{1}{\\epsilon x_{1} - x_{1} - y_{1}} \\left(- \\epsilon x_{1}^{2} - \\epsilon x_{1} y_{1} + x_{1}^{2} + 2 x_{1} y_{1} + y_{1}^{2}\\right) \\right )} + 1\\right)}$$"
      ],
      "text/plain": [
       "         ⎛      2               2               2⎞      \n",
       "    2    ⎜- ε⋅x₁  - ε⋅x₁⋅y₁ + x₁  + 2⋅x₁⋅y₁ + y₁ ⎟      \n",
       "- x₁ ⋅sin⎜───────────────────────────────────────⎟ + y₁ \n",
       "         ⎝             ε⋅x₁ - x₁ - y₁            ⎠      \n",
       "────────────────────────────────────────────────────────\n",
       "   ⎛      ⎛      2               2               2⎞    ⎞\n",
       "   ⎜      ⎜- ε⋅x₁  - ε⋅x₁⋅y₁ + x₁  + 2⋅x₁⋅y₁ + y₁ ⎟    ⎟\n",
       "x₁⋅⎜x₁⋅sin⎜───────────────────────────────────────⎟ + 1⎟\n",
       "   ⎝      ⎝             ε⋅x₁ - x₁ - y₁            ⎠    ⎠"
      ]
     },
     "execution_count": 5,
     "metadata": {},
     "output_type": "execute_result"
    }
   ],
   "source": [
    "exp4=exp3.simplify()\n",
    "exp4"
   ]
  },
  {
   "cell_type": "markdown",
   "metadata": {},
   "source": [
    "#### La ecuación luce parecida a la original, pero lamentablemete no simplifica el argumento de la función sen. Tomo esos argumentos por separado y le pido que me los simplifique"
   ]
  },
  {
   "cell_type": "code",
   "execution_count": 6,
   "metadata": {
    "collapsed": false
   },
   "outputs": [
    {
     "data": {
      "image/png": "[encoded data removed]",
      "text/latex": [
       "$$- x_{1} - y_{1}$$"
      ],
      "text/plain": [
       "-x₁ - y₁"
      ]
     },
     "execution_count": 6,
     "metadata": {},
     "output_type": "execute_result"
    }
   ],
   "source": [
    "((-epsilon*x1**2 - epsilon*x1*y1 + x1**2 + 2*x1*y1 + y1**2)/(epsilon*x1 - x1 - y1)).simplify()"
   ]
  },
  {
   "cell_type": "markdown",
   "metadata": {},
   "source": [
    "#### Los argumentos de la función sen es -x1-y1 que es justo lo que necesito para que quede la ecuación original.   Ahora hallemos coordenadas canónicas"
   ]
  },
  {
   "cell_type": "code",
   "execution_count": 7,
   "metadata": {
    "collapsed": false
   },
   "outputs": [
    {
     "data": {
      "image/png": "[encoded data removed]",
      "text/latex": [
       "$$\\begin{pmatrix}- \\frac{x^{2}}{x + y{\\left (x \\right )}}, & x - \\frac{x y{\\left (x \\right )}}{x + y{\\left (x \\right )}}\\end{pmatrix}$$"
      ],
      "text/plain": [
       "⎛    2                 ⎞\n",
       "⎜  -x           x⋅y(x) ⎟\n",
       "⎜────────, x - ────────⎟\n",
       "⎝x + y(x)      x + y(x)⎠"
      ]
     },
     "execution_count": 7,
     "metadata": {},
     "output_type": "execute_result"
    }
   ],
   "source": [
    "x1=x*(x+y)/(y+(1+epsilon)*x)\n",
    "y1=(epsilon*x+y)*(x+y)/(y+(1+epsilon)*x)\n",
    "xi=x1.diff(epsilon).subs(epsilon,0)\n",
    "eta=y1.diff(epsilon).subs(epsilon,0)\n",
    "xi,eta\n"
   ]
  },
  {
   "cell_type": "code",
   "execution_count": 8,
   "metadata": {
    "collapsed": false
   },
   "outputs": [
    {
     "data": {
      "image/png": "[encoded data removed]",
      "text/latex": [
       "$$-1$$"
      ],
      "text/plain": [
       "-1"
      ]
     },
     "execution_count": 8,
     "metadata": {},
     "output_type": "execute_result"
    }
   ],
   "source": [
    "(eta/xi).simplify()"
   ]
  },
  {
   "cell_type": "code",
   "execution_count": 9,
   "metadata": {
    "collapsed": false
   },
   "outputs": [
    {
     "data": {
      "image/png": "[encoded data removed]",
      "text/latex": [
       "$$y{\\left (x \\right )} = C_{1} - x$$"
      ],
      "text/plain": [
       "y(x) = C₁ - x"
      ]
     },
     "execution_count": 9,
     "metadata": {},
     "output_type": "execute_result"
    }
   ],
   "source": [
    "dsolve(y.diff(x)-eta/xi,y)"
   ]
  },
  {
   "cell_type": "markdown",
   "metadata": {},
   "source": [
    "#### Vemos que r=y+x"
   ]
  },
  {
   "cell_type": "code",
   "execution_count": 10,
   "metadata": {
    "collapsed": false
   },
   "outputs": [
    {
     "data": {
      "image/png": "[encoded data removed]",
      "text/latex": [
       "$$\\frac{r}{x}$$"
      ],
      "text/plain": [
       "r\n",
       "─\n",
       "x"
      ]
     },
     "execution_count": 10,
     "metadata": {},
     "output_type": "execute_result"
    }
   ],
   "source": [
    "r=symbols('r')\n",
    "s=Integral((1/xi).subs(y,r-x),x).doit()\n",
    "s"
   ]
  },
  {
   "cell_type": "code",
   "execution_count": 11,
   "metadata": {
    "collapsed": false
   },
   "outputs": [
    {
     "data": {
      "image/png": "[encoded data removed]",
      "text/latex": [
       "$$\\frac{1}{x} \\left(x + y{\\left (x \\right )}\\right)$$"
      ],
      "text/plain": [
       "x + y(x)\n",
       "────────\n",
       "   x    "
      ]
     },
     "execution_count": 11,
     "metadata": {},
     "output_type": "execute_result"
    }
   ],
   "source": [
    "s=s.subs(r,x+y)\n",
    "s"
   ]
  },
  {
   "cell_type": "code",
   "execution_count": 12,
   "metadata": {
    "collapsed": false
   },
   "outputs": [
    {
     "data": {
      "image/png": "[encoded data removed]",
      "text/latex": [
       "$$1 + \\frac{1}{x} y{\\left (x \\right )}$$"
      ],
      "text/plain": [
       "    y(x)\n",
       "1 + ────\n",
       "     x  "
      ]
     },
     "execution_count": 12,
     "metadata": {},
     "output_type": "execute_result"
    }
   ],
   "source": [
    "s.expand()\n"
   ]
  },
  {
   "cell_type": "markdown",
   "metadata": {},
   "source": [
    "#### La variable s sería 1+y/x. Pero las variables canónicas no son únicas, vimos que (F(r),G(r)+s) es canónica, para cualquier F no nula y G.En particular si tomamos F(r)=r y G(r)=-1, vemos que podemos elegir como coordenadas canónicas r=x+y y s=y/x.  Hagamos la sustitución en coordenadas canónicas"
   ]
  },
  {
   "cell_type": "code",
   "execution_count": 13,
   "metadata": {
    "collapsed": false
   },
   "outputs": [
    {
     "data": {
      "image/png": "[encoded data removed]",
      "text/latex": [
       "$$\\frac{1}{\\sin{\\left (x + y{\\left (x \\right )} \\right )}}$$"
      ],
      "text/plain": [
       "      1      \n",
       "─────────────\n",
       "sin(x + y(x))"
      ]
     },
     "execution_count": 13,
     "metadata": {},
     "output_type": "execute_result"
    }
   ],
   "source": [
    "r=x+y\n",
    "s=y/x\n",
    "exp5=r.diff(x)/s.diff(x)\n",
    "exp6=exp5.subs(y.diff(x),(x**2*sin(x+y)+y)/x/(1-x*sin(x+y)))\n",
    "exp6.simplify()\n"
   ]
  },
  {
   "cell_type": "markdown",
   "metadata": {},
   "source": [
    "#### Vemos que el resultado es 1/sen(r). No obstante hagamos, de curiosidad, la sustitución como si no nos hubiesemos dado cuenta todavía del resultado. Hallemos los cambios inversos (r,s)->(x,y)"
   ]
  },
  {
   "cell_type": "code",
   "execution_count": 14,
   "metadata": {
    "collapsed": false
   },
   "outputs": [
    {
     "data": {
      "image/png": "[encoded data removed]",
      "text/latex": [
       "$$\\begin{Bmatrix}x_{2} : \\frac{r_{2}}{s_{2} + 1}, & y_{2} : \\frac{r_{2} s_{2}}{s_{2} + 1}\\end{Bmatrix}$$"
      ],
      "text/plain": [
       "⎧      r₂        r₂⋅s₂ ⎫\n",
       "⎨x₂: ──────, y₂: ──────⎬\n",
       "⎩    s₂ + 1      s₂ + 1⎭"
      ]
     },
     "execution_count": 14,
     "metadata": {},
     "output_type": "execute_result"
    }
   ],
   "source": [
    "r2,s2,x2,y2=symbols('r2,s2,x2,y2')\n",
    "solve([r2-x2-y2,s2-y2/x2],[x2,y2])"
   ]
  },
  {
   "cell_type": "code",
   "execution_count": 15,
   "metadata": {
    "collapsed": false
   },
   "outputs": [
    {
     "data": {
      "image/png": "[encoded data removed]",
      "text/latex": [
       "$$\\frac{1}{\\sin{\\left (r_{2} \\right )}}$$"
      ],
      "text/plain": [
       "   1   \n",
       "───────\n",
       "sin(r₂)"
      ]
     },
     "execution_count": 15,
     "metadata": {},
     "output_type": "execute_result"
    }
   ],
   "source": [
    "exp6.subs({y:r2*s2/(s2+1),x:r2/(s2+1)}).simplify()"
   ]
  },
  {
   "cell_type": "markdown",
   "metadata": {},
   "source": [
    "#### La ecuación que resulta r'=1/sen(r) se resuelve facilmente a mano. Nos queda cos(r)=s+C  ->  cos(x+y)=y/x+C que es la solución de la ecuación original"
   ]
  },
  {
   "cell_type": "markdown",
   "metadata": {},
   "source": [
    "**Ejercicio 2.2(c) p. 41 de Hydon**. Hay que hallar el grupo de Lie cuyo generador infintesimal es\n",
    "$$X=2xy\\partial_x+(y^2-x^2)\\partial_y$$\n",
    "La idea es\n",
    "\n",
    "1) Hallar coordenadas canónicas\n",
    "\n",
    "2) Usar que en canónicas el grupo de simetrías satisface \n",
    "\n",
    "$$\\hat{r}=r\\quad\\text{y}\\quad\\hat{s}=s+\\epsilon$$\n",
    "\n",
    "3) Escribir las relaciones anteriores en las variables originales."
   ]
  },
  {
   "cell_type": "code",
   "execution_count": 3,
   "metadata": {
    "collapsed": false
   },
   "outputs": [
    {
     "data": {
      "image/png": "[encoded data removed]",
      "text/latex": [
       "$$f{\\left (x \\right )} = \\sqrt{x \\left(C_{1} - x\\right)}$$"
      ],
      "text/plain": [
       "         ____________\n",
       "f(x) = ╲╱ x⋅(C₁ - x) "
      ]
     },
     "execution_count": 3,
     "metadata": {},
     "output_type": "execute_result"
    }
   ],
   "source": [
    "x,y,r,s=symbols('x,y,r,s')\n",
    "f=Function('f')(x)\n",
    "dsolve(f.diff(x)-(f**2-x**2)/2/x/f)"
   ]
  },
  {
   "cell_type": "code",
   "execution_count": 4,
   "metadata": {
    "collapsed": false
   },
   "outputs": [
    {
     "data": {
      "image/png": "[encoded data removed]",
      "text/latex": [
       "$$\\frac{1}{2} \\int \\frac{1}{x \\sqrt{r x - x^{2}}}\\, dx$$"
      ],
      "text/plain": [
       "⌠                   \n",
       "⎮        1          \n",
       "⎮ ─────────────── dx\n",
       "⎮      __________   \n",
       "⎮     ╱        2    \n",
       "⎮ x⋅╲╱  r⋅x - x     \n",
       "⌡                   \n",
       "────────────────────\n",
       "         2          "
      ]
     },
     "execution_count": 4,
     "metadata": {},
     "output_type": "execute_result"
    }
   ],
   "source": [
    "Integral(1/(2*x*sqrt(x*(r-x))),x).doit()"
   ]
  },
  {
   "cell_type": "markdown",
   "metadata": {},
   "source": [
    "No lo sabe hacer. Si hacemos la sustitución $x=u^2$ nos queda\n",
    "$$\\int\\frac{dx}{2x\\sqrt{x(r-x)}}=\\int\\frac{du}{u^2\\sqrt{r-u^2}}.$$\n",
    "Y esta si la sabe resolver."
   ]
  },
  {
   "cell_type": "code",
   "execution_count": 5,
   "metadata": {
    "collapsed": false
   },
   "outputs": [
    {
     "data": {
      "image/png": "[encoded data removed]",
      "text/latex": [
       "$$\\begin{cases} - \\frac{1}{r} \\sqrt{\\frac{r}{u^{2}} - 1} & \\text{for}\\: \\left|{\\frac{r}{u^{2}}}\\right| > 1 \\\\- \\frac{i}{r} \\sqrt{- \\frac{r}{u^{2}} + 1} & \\text{otherwise} \\end{cases}$$"
      ],
      "text/plain": [
       "⎧        ________                 \n",
       "⎪       ╱ r                       \n",
       "⎪  -   ╱  ── - 1                  \n",
       "⎪     ╱    2                      \n",
       "⎪   ╲╱    u               │r │    \n",
       "⎪  ───────────────    for │──│ > 1\n",
       "⎪         r               │ 2│    \n",
       "⎪                         │u │    \n",
       "⎨                                 \n",
       "⎪        __________               \n",
       "⎪       ╱   r                     \n",
       "⎪-ⅈ⋅   ╱  - ── + 1                \n",
       "⎪     ╱      2                    \n",
       "⎪   ╲╱      u                     \n",
       "⎪───────────────────   otherwise  \n",
       "⎪         r                       \n",
       "⎩                                 "
      ]
     },
     "execution_count": 5,
     "metadata": {},
     "output_type": "execute_result"
    }
   ],
   "source": [
    "u=symbols('u')\n",
    "Integral(1/u**2/sqrt(r-u**2),u).doit()"
   ]
  },
  {
   "cell_type": "markdown",
   "metadata": {},
   "source": [
    "$s=-\\frac{1}{r}\\sqrt{\\frac{r}{u^2}-1}=  -\\frac{1}{r} \\sqrt{  \\frac{r-x}{x}}=  -\\frac{x}{x^2+y^2} \\sqrt{  \\frac{y^2/x}{x}}=-\\frac{y}{x^2+y^2}$\n",
    "\n",
    "Ahora escribimos\n",
    "$$\\hat{r}=r\\quad\\text{y}\\quad\\hat{s}=s+\\epsilon$$\n",
    "en $x,y$."
   ]
  },
  {
   "cell_type": "code",
   "execution_count": 11,
   "metadata": {
    "collapsed": false
   },
   "outputs": [
    {
     "data": {
      "image/png": "[encoded data removed]",
      "text/latex": [
       "$$\\left [ \\left ( \\frac{x}{\\epsilon^{2} x^{2} + \\epsilon^{2} y^{2} - 2 \\epsilon y + 1}, \\quad \\frac{- \\epsilon x^{2} - \\epsilon y^{2} + y}{\\epsilon^{2} x^{2} + \\epsilon^{2} y^{2} - 2 \\epsilon y + 1}\\right )\\right ]$$"
      ],
      "text/plain": [
       "⎡⎛                                    2      2        ⎞⎤\n",
       "⎢⎜            x                  - ε⋅x  - ε⋅y  + y    ⎟⎥\n",
       "⎢⎜─────────────────────────, ─────────────────────────⎟⎥\n",
       "⎢⎜ 2  2    2  2               2  2    2  2            ⎟⎥\n",
       "⎣⎝ε ⋅x  + ε ⋅y  - 2⋅ε⋅y + 1  ε ⋅x  + ε ⋅y  - 2⋅ε⋅y + 1⎠⎦"
      ]
     },
     "execution_count": 11,
     "metadata": {},
     "output_type": "execute_result"
    }
   ],
   "source": [
    "x,y,xn,yn,epsilon=symbols('x,y,\\hat{x},\\hat{y},epsilon')\n",
    "A=solve([(xn**2+yn**2)/xn-(x**2+y**2)/x , -yn/(xn**2+yn**2)+y/(x**2+y**2)-epsilon],[xn,yn])\n",
    "A"
   ]
  },
  {
   "cell_type": "code",
   "execution_count": 12,
   "metadata": {
    "collapsed": false
   },
   "outputs": [
    {
     "data": {
      "image/png": "[encoded data removed]",
      "text/latex": [
       "$$\\left ( \\frac{x}{\\epsilon^{2} x^{2} + \\epsilon^{2} y^{2} - 2 \\epsilon y + 1}, \\quad \\frac{- \\epsilon x^{2} - \\epsilon y^{2} + y}{\\epsilon^{2} x^{2} + \\epsilon^{2} y^{2} - 2 \\epsilon y + 1}\\right )$$"
      ],
      "text/plain": [
       "⎛                                    2      2        ⎞\n",
       "⎜            x                  - ε⋅x  - ε⋅y  + y    ⎟\n",
       "⎜─────────────────────────, ─────────────────────────⎟\n",
       "⎜ 2  2    2  2               2  2    2  2            ⎟\n",
       "⎝ε ⋅x  + ε ⋅y  - 2⋅ε⋅y + 1  ε ⋅x  + ε ⋅y  - 2⋅ε⋅y + 1⎠"
      ]
     },
     "execution_count": 12,
     "metadata": {},
     "output_type": "execute_result"
    }
   ],
   "source": [
    "A[0]"
   ]
  },
  {
   "cell_type": "code",
   "execution_count": 13,
   "metadata": {
    "collapsed": false
   },
   "outputs": [
    {
     "data": {
      "image/png": "[encoded data removed]",
      "text/latex": [
       "$$\\left[\\begin{matrix}\\frac{x}{\\epsilon^{2} x^{2} + \\epsilon^{2} y^{2} - 2 \\epsilon y + 1}\\\\\\frac{- \\epsilon x^{2} - \\epsilon y^{2} + y}{\\epsilon^{2} x^{2} + \\epsilon^{2} y^{2} - 2 \\epsilon y + 1}\\end{matrix}\\right]$$"
      ],
      "text/plain": [
       "⎡            x            ⎤\n",
       "⎢─────────────────────────⎥\n",
       "⎢ 2  2    2  2            ⎥\n",
       "⎢ε ⋅x  + ε ⋅y  - 2⋅ε⋅y + 1⎥\n",
       "⎢                         ⎥\n",
       "⎢         2      2        ⎥\n",
       "⎢    - ε⋅x  - ε⋅y  + y    ⎥\n",
       "⎢─────────────────────────⎥\n",
       "⎢ 2  2    2  2            ⎥\n",
       "⎣ε ⋅x  + ε ⋅y  - 2⋅ε⋅y + 1⎦"
      ]
     },
     "execution_count": 13,
     "metadata": {},
     "output_type": "execute_result"
    }
   ],
   "source": [
    "A=Matrix(A[0])\n",
    "A"
   ]
  },
  {
   "cell_type": "markdown",
   "metadata": {},
   "source": [
    "Chequeemos que $\\left.\\frac{d}{d\\epsilon}(\\hat{x},\\hat{y})\\right|_{\\epsilon=0}=(2xy,y^2-x^2)$"
   ]
  },
  {
   "cell_type": "code",
   "execution_count": 14,
   "metadata": {
    "collapsed": false
   },
   "outputs": [
    {
     "data": {
      "image/png": "[encoded data removed]",
      "text/latex": [
       "$$\\left[\\begin{matrix}2 x y\\\\- x^{2} + y^{2}\\end{matrix}\\right]$$"
      ],
      "text/plain": [
       "⎡  2⋅x⋅y  ⎤\n",
       "⎢         ⎥\n",
       "⎢   2    2⎥\n",
       "⎣- x  + y ⎦"
      ]
     },
     "execution_count": 14,
     "metadata": {},
     "output_type": "execute_result"
    }
   ],
   "source": [
    "A.diff(epsilon).subs(epsilon,0)"
   ]
  },
  {
   "cell_type": "markdown",
   "metadata": {},
   "source": [
    "Chequeemos la propiedad de grupo de Lie. Definimos el operador $T$ con lambda"
   ]
  },
  {
   "cell_type": "code",
   "execution_count": 15,
   "metadata": {
    "collapsed": false
   },
   "outputs": [],
   "source": [
    "T=lambda x,y,epsilon: Matrix([ x/(epsilon**2*(x**2+y**2)-2*epsilon*y+1),-(epsilon*x**2+epsilon*y**2-y)/(epsilon**2*(x**2+y**2)-2*epsilon*y+1)])"
   ]
  },
  {
   "cell_type": "code",
   "execution_count": 16,
   "metadata": {
    "collapsed": false
   },
   "outputs": [
    {
     "data": {
      "image/png": "[encoded data removed]",
      "text/latex": [
       "$$\\left[\\begin{matrix}- \\frac{x}{- y \\left(2 \\epsilon_{1} + 2 \\epsilon_{2}\\right) + \\left(\\epsilon_{1} + \\epsilon_{2}\\right)^{2} \\left(x^{2} + y^{2}\\right) + 1} + \\frac{x}{\\left(\\epsilon_{1}^{2} \\left(x^{2} + y^{2}\\right) - 2 \\epsilon_{1} y + 1\\right) \\left(\\epsilon_{2}^{2} \\left(\\frac{x^{2}}{\\left(\\epsilon_{1}^{2} \\left(x^{2} + y^{2}\\right) - 2 \\epsilon_{1} y + 1\\right)^{2}} + \\frac{\\left(- \\epsilon_{1} x^{2} - \\epsilon_{1} y^{2} + y\\right)^{2}}{\\left(\\epsilon_{1}^{2} \\left(x^{2} + y^{2}\\right) - 2 \\epsilon_{1} y + 1\\right)^{2}}\\right) - \\frac{2 \\epsilon_{2} \\left(- \\epsilon_{1} x^{2} - \\epsilon_{1} y^{2} + y\\right)}{\\epsilon_{1}^{2} \\left(x^{2} + y^{2}\\right) - 2 \\epsilon_{1} y + 1} + 1\\right)}\\\\- \\frac{- x^{2} \\left(\\epsilon_{1} + \\epsilon_{2}\\right) - y^{2} \\left(\\epsilon_{1} + \\epsilon_{2}\\right) + y}{- y \\left(2 \\epsilon_{1} + 2 \\epsilon_{2}\\right) + \\left(\\epsilon_{1} + \\epsilon_{2}\\right)^{2} \\left(x^{2} + y^{2}\\right) + 1} + \\frac{- \\frac{\\epsilon_{2} x^{2}}{\\left(\\epsilon_{1}^{2} \\left(x^{2} + y^{2}\\right) - 2 \\epsilon_{1} y + 1\\right)^{2}} - \\frac{\\epsilon_{2} \\left(- \\epsilon_{1} x^{2} - \\epsilon_{1} y^{2} + y\\right)^{2}}{\\left(\\epsilon_{1}^{2} \\left(x^{2} + y^{2}\\right) - 2 \\epsilon_{1} y + 1\\right)^{2}} + \\frac{- \\epsilon_{1} x^{2} - \\epsilon_{1} y^{2} + y}{\\epsilon_{1}^{2} \\left(x^{2} + y^{2}\\right) - 2 \\epsilon_{1} y + 1}}{\\epsilon_{2}^{2} \\left(\\frac{x^{2}}{\\left(\\epsilon_{1}^{2} \\left(x^{2} + y^{2}\\right) - 2 \\epsilon_{1} y + 1\\right)^{2}} + \\frac{\\left(- \\epsilon_{1} x^{2} - \\epsilon_{1} y^{2} + y\\right)^{2}}{\\left(\\epsilon_{1}^{2} \\left(x^{2} + y^{2}\\right) - 2 \\epsilon_{1} y + 1\\right)^{2}}\\right) - \\frac{2 \\epsilon_{2} \\left(- \\epsilon_{1} x^{2} - \\epsilon_{1} y^{2} + y\\right)}{\\epsilon_{1}^{2} \\left(x^{2} + y^{2}\\right) - 2 \\epsilon_{1} y + 1} + 1}\\end{matrix}\\right]$$"
      ],
      "text/plain": [
       "⎡                       x                                                     \n",
       "⎢- ─────────────────────────────────────────── + ─────────────────────────────\n",
       "⎢                              2 ⎛ 2    2⎞                                    \n",
       "⎢  -y⋅(2⋅ε₁ + 2⋅ε₂) + (ε₁ + ε₂) ⋅⎝x  + y ⎠ + 1                                \n",
       "⎢                                                ⎛  2 ⎛ 2    2⎞             ⎞ \n",
       "⎢                                                ⎝ε₁ ⋅⎝x  + y ⎠ - 2⋅ε₁⋅y + 1⎠⋅\n",
       "⎢                                                                             \n",
       "⎢                                                                             \n",
       "⎢                                                                             \n",
       "⎢                                                                             \n",
       "⎢                                                                             \n",
       "⎢                                                                             \n",
       "⎢                                                                             \n",
       "⎢                                                                   - ────────\n",
       "⎢                                                                             \n",
       "⎢                         2              2                            ⎛  2 ⎛ 2\n",
       "⎢                      - x ⋅(ε₁ + ε₂) - y ⋅(ε₁ + ε₂) + y              ⎝ε₁ ⋅⎝x \n",
       "⎢               - ─────────────────────────────────────────── + ──────────────\n",
       "⎢                                             2 ⎛ 2    2⎞           ⎛         \n",
       "⎢                 -y⋅(2⋅ε₁ + 2⋅ε₂) + (ε₁ + ε₂) ⋅⎝x  + y ⎠ + 1       ⎜         \n",
       "⎢                                                                 2 ⎜         \n",
       "⎢                                                               ε₂ ⋅⎜─────────\n",
       "⎢                                                                   ⎜         \n",
       "⎢                                                                   ⎜⎛  2 ⎛ 2 \n",
       "⎣                                                                   ⎝⎝ε₁ ⋅⎝x  \n",
       "\n",
       "                                    x                                         \n",
       "──────────────────────────────────────────────────────────────────────────────\n",
       "⎛    ⎛                                                         2   ⎞          \n",
       "⎜    ⎜               2                    ⎛      2       2    ⎞    ⎟        ⎛ \n",
       "⎜  2 ⎜              x                     ⎝- ε₁⋅x  - ε₁⋅y  + y⎠    ⎟   2⋅ε₂⋅⎝-\n",
       "⎜ε₂ ⋅⎜───────────────────────────── + ─────────────────────────────⎟ - ───────\n",
       "⎜    ⎜                            2                               2⎟     2 ⎛ 2\n",
       "⎜    ⎜⎛  2 ⎛ 2    2⎞             ⎞    ⎛  2 ⎛ 2    2⎞             ⎞ ⎟   ε₁ ⋅⎝x \n",
       "⎝    ⎝⎝ε₁ ⋅⎝x  + y ⎠ - 2⋅ε₁⋅y + 1⎠    ⎝ε₁ ⋅⎝x  + y ⎠ - 2⋅ε₁⋅y + 1⎠ ⎠          \n",
       "                                                                              \n",
       "                                                  2                           \n",
       "        2                    ⎛      2       2    ⎞               2       2    \n",
       "    ε₂⋅x                  ε₂⋅⎝- ε₁⋅x  - ε₁⋅y  + y⎠         - ε₁⋅x  - ε₁⋅y  + y\n",
       "───────────────────── - ───────────────────────────── + ──────────────────────\n",
       "                    2                               2     2 ⎛ 2    2⎞         \n",
       "    2⎞             ⎞    ⎛  2 ⎛ 2    2⎞             ⎞    ε₁ ⋅⎝x  + y ⎠ - 2⋅ε₁⋅y\n",
       " + y ⎠ - 2⋅ε₁⋅y + 1⎠    ⎝ε₁ ⋅⎝x  + y ⎠ - 2⋅ε₁⋅y + 1⎠                          \n",
       "──────────────────────────────────────────────────────────────────────────────\n",
       "                                                2   ⎞                         \n",
       "      2                    ⎛      2       2    ⎞    ⎟        ⎛      2       2 \n",
       "     x                     ⎝- ε₁⋅x  - ε₁⋅y  + y⎠    ⎟   2⋅ε₂⋅⎝- ε₁⋅x  - ε₁⋅y  \n",
       "──────────────────── + ─────────────────────────────⎟ - ──────────────────────\n",
       "                   2                               2⎟     2 ⎛ 2    2⎞         \n",
       "   2⎞             ⎞    ⎛  2 ⎛ 2    2⎞             ⎞ ⎟   ε₁ ⋅⎝x  + y ⎠ - 2⋅ε₁⋅y\n",
       "+ y ⎠ - 2⋅ε₁⋅y + 1⎠    ⎝ε₁ ⋅⎝x  + y ⎠ - 2⋅ε₁⋅y + 1⎠ ⎠                         \n",
       "\n",
       "                        ⎤\n",
       "────────────────────────⎥\n",
       "                       ⎞⎥\n",
       "     2       2    ⎞    ⎟⎥\n",
       " ε₁⋅x  - ε₁⋅y  + y⎠    ⎟⎥\n",
       "─────────────────── + 1⎟⎥\n",
       "    2⎞                 ⎟⎥\n",
       " + y ⎠ - 2⋅ε₁⋅y + 1    ⎟⎥\n",
       "                       ⎠⎥\n",
       "                        ⎥\n",
       "                        ⎥\n",
       "                        ⎥\n",
       "                        ⎥\n",
       "────                    ⎥\n",
       "                        ⎥\n",
       " + 1                    ⎥\n",
       "                        ⎥\n",
       "────────                ⎥\n",
       "                        ⎥\n",
       "   ⎞                    ⎥\n",
       "+ y⎠                    ⎥\n",
       "──── + 1                ⎥\n",
       "                        ⎥\n",
       " + 1                    ⎥\n",
       "                        ⎦"
      ]
     },
     "execution_count": 16,
     "metadata": {},
     "output_type": "execute_result"
    }
   ],
   "source": [
    "epsilon_1,epsilon_2=symbols('epsilon_1,epsilon_2')\n",
    "expr=T(T(x,y,epsilon_1)[0],T(x,y,epsilon_1)[1],epsilon_2)-T(x,y,epsilon_1+epsilon_2)\n",
    "expr"
   ]
  },
  {
   "cell_type": "code",
   "execution_count": 17,
   "metadata": {
    "collapsed": false
   },
   "outputs": [
    {
     "data": {
      "image/png": "[encoded data removed]",
      "text/latex": [
       "$$\\left[\\begin{matrix}0\\\\0\\end{matrix}\\right]$$"
      ],
      "text/plain": [
       "⎡0⎤\n",
       "⎢ ⎥\n",
       "⎣0⎦"
      ]
     },
     "execution_count": 17,
     "metadata": {},
     "output_type": "execute_result"
    }
   ],
   "source": [
    "simplify(expr)"
   ]
  },
  {
   "cell_type": "code",
   "execution_count": null,
   "metadata": {
    "collapsed": false
   },
   "outputs": [],
   "source": []
  }
 ],
 "metadata": {
  "kernelspec": {
   "display_name": "Python 2",
   "language": "python",
   "name": "python2"
  },
  "language_info": {
   "codemirror_mode": {
    "name": "ipython",
    "version": 2
   },
   "file_extension": ".py",
   "mimetype": "text/x-python",
   "name": "python",
   "nbconvert_exporter": "python",
   "pygments_lexer": "ipython2",
   "version": "2.7.15"
  }
 },
 "nbformat": 4,
 "nbformat_minor": 2
}
