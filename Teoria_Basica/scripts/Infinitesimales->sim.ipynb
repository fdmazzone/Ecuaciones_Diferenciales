{
 "cells": [
  {
   "cell_type": "code",
   "execution_count": 35,
   "metadata": {
    "collapsed": true
   },
   "outputs": [],
   "source": [
    "from sympy import *\n",
    "init_printing()"
   ]
  },
  {
   "cell_type": "code",
   "execution_count": 36,
   "metadata": {
    "collapsed": false
   },
   "outputs": [
    {
     "data": {
      "image/png": "[encoded data removed]",
      "text/latex": [
       "$$\\hat{y}{\\left (\\hat{x} \\right )} = \\sqrt{\\hat{x} \\left(C_{1} - \\hat{x}\\right)}$$"
      ],
      "text/plain": [
       "                     ________________________\n",
       "\\hat{y}(\\hat{x}) = ╲╱ \\hat{x}⋅(C₁ - \\hat{x}) "
      ]
     },
     "execution_count": 36,
     "metadata": {},
     "output_type": "execute_result"
    }
   ],
   "source": [
    "xn=symbols('\\hat{x}')\n",
    "yn=Function('\\hat{y}')(xn)\n",
    "dsolve(yn.diff()-(yn**2-xn**2)/2/xn/yn,yn)\n"
   ]
  },
  {
   "cell_type": "code",
   "execution_count": 37,
   "metadata": {
    "collapsed": false
   },
   "outputs": [
    {
     "data": {
      "image/png": "[encoded data removed]",
      "text/latex": [
       "$$\\sqrt{\\hat{x} \\left(- \\hat{x} + c_{1}\\right)}$$"
      ],
      "text/plain": [
       "  _________________________\n",
       "╲╱ \\hat{x}⋅(-\\hat{x} + c₁) "
      ]
     },
     "execution_count": 37,
     "metadata": {},
     "output_type": "execute_result"
    }
   ],
   "source": [
    "c1=symbols('c1')\n",
    "yn=sqrt(xn*(c1-xn))\n",
    "yn"
   ]
  },
  {
   "cell_type": "code",
   "execution_count": 38,
   "metadata": {
    "collapsed": false
   },
   "outputs": [
    {
     "data": {
      "image/png": "[encoded data removed]",
      "text/latex": [
       "$$\\int^{\\hat{x}{\\left (\\epsilon \\right )}} \\frac{1}{y \\sqrt{y \\left(- y + c_{1}\\right)}}\\, dy = C_{1} + 2 \\epsilon$$"
      ],
      "text/plain": [
       "\\hat{x}(ε)                                \n",
       "    ⌠                                     \n",
       "    ⎮              1                      \n",
       "    ⎮      ───────────────── dy = C₁ + 2⋅ε\n",
       "    ⎮          _____________              \n",
       "    ⎮      y⋅╲╱ y⋅(-y + c₁)               \n",
       "    ⌡                                     \n",
       "                                          "
      ]
     },
     "execution_count": 38,
     "metadata": {},
     "output_type": "execute_result"
    }
   ],
   "source": [
    "eps=symbols('epsilon')\n",
    "xn=Function('\\hat{x}')(eps)\n",
    "dsolve(xn.diff()-2*xn*sqrt(xn*(c1-xn)),xn)"
   ]
  },
  {
   "cell_type": "code",
   "execution_count": 39,
   "metadata": {
    "collapsed": false
   },
   "outputs": [
    {
     "data": {
      "image/png": "[encoded data removed]",
      "text/latex": [
       "$$\\frac{1}{y^{\\frac{3}{2}} \\sqrt{c_{1} - y}}$$"
      ],
      "text/plain": [
       "       1       \n",
       "───────────────\n",
       " 3/2   ________\n",
       "y   ⋅╲╱ c₁ - y "
      ]
     },
     "execution_count": 39,
     "metadata": {},
     "output_type": "execute_result"
    }
   ],
   "source": [
    "(-2/c1*sqrt((c1-y)/y)).diff(y).simplify()"
   ]
  },
  {
   "cell_type": "code",
   "execution_count": 43,
   "metadata": {
    "collapsed": false
   },
   "outputs": [
    {
     "data": {
      "image/png": "[encoded data removed]",
      "text/latex": [
       "$$- \\frac{2}{c_{1}} \\sqrt{\\frac{c_{1} - \\hat{x}{\\left (\\epsilon \\right )}}{\\hat{x}{\\left (\\epsilon \\right )}}}$$"
      ],
      "text/plain": [
       "       _________________ \n",
       "      ╱ c₁ - \\hat{x}(ε)  \n",
       "-2⋅  ╱  ───────────────  \n",
       "   ╲╱      \\hat{x}(ε)    \n",
       "─────────────────────────\n",
       "            c₁           "
      ]
     },
     "execution_count": 43,
     "metadata": {},
     "output_type": "execute_result"
    }
   ],
   "source": [
    "c1,c2=symbols('c1,c2')\n",
    "exp2=-2/c1*sqrt((c1-xn)/xn)\n",
    "exp2"
   ]
  },
  {
   "cell_type": "code",
   "execution_count": 54,
   "metadata": {
    "collapsed": false
   },
   "outputs": [
    {
     "data": {
      "image/png": "[encoded data removed]",
      "text/latex": [
       "$$\\left [ \\right ]$$"
      ],
      "text/plain": [
       "[]"
      ]
     },
     "execution_count": 54,
     "metadata": {},
     "output_type": "execute_result"
    }
   ],
   "source": [
    "solve(exp2-c2-2*eps,xn)\n",
    "\n"
   ]
  },
  {
   "cell_type": "code",
   "execution_count": 57,
   "metadata": {
    "collapsed": false
   },
   "outputs": [
    {
     "data": {
      "image/png": "[encoded data removed]",
      "text/latex": [
       "$$\\frac{c_{1}}{\\frac{c_{1}^{2}}{4} \\left(c_{2} + 2 \\epsilon\\right)^{2} + 1}$$"
      ],
      "text/plain": [
       "         c₁        \n",
       "───────────────────\n",
       "  2           2    \n",
       "c₁ ⋅(c₂ + 2⋅ε)     \n",
       "─────────────── + 1\n",
       "       4           "
      ]
     },
     "execution_count": 57,
     "metadata": {},
     "output_type": "execute_result"
    }
   ],
   "source": [
    "xn=c1/(c1**2/4*(c2+2*eps)**2+1).simplify()\n",
    "xn"
   ]
  },
  {
   "cell_type": "code",
   "execution_count": 58,
   "metadata": {
    "collapsed": false
   },
   "outputs": [
    {
     "data": {
      "image/png": "[encoded data removed]",
      "text/latex": [
       "$$2 \\sqrt{\\frac{c_{1}^{4} \\left(c_{2} + 2 \\epsilon\\right)^{2}}{\\left(c_{1}^{2} \\left(c_{2} + 2 \\epsilon\\right)^{2} + 4\\right)^{2}}}$$"
      ],
      "text/plain": [
       "         ________________________\n",
       "        ╱      4           2     \n",
       "       ╱     c₁ ⋅(c₂ + 2⋅ε)      \n",
       "2⋅    ╱   ────────────────────── \n",
       "     ╱                         2 \n",
       "    ╱     ⎛  2           2    ⎞  \n",
       "  ╲╱      ⎝c₁ ⋅(c₂ + 2⋅ε)  + 4⎠  "
      ]
     },
     "execution_count": 58,
     "metadata": {},
     "output_type": "execute_result"
    }
   ],
   "source": [
    "yn=sqrt(xn*(c1-xn)).simplify()\n",
    "yn"
   ]
  },
  {
   "cell_type": "code",
   "execution_count": 60,
   "metadata": {
    "collapsed": false
   },
   "outputs": [
    {
     "data": {
      "image/png": "[encoded data removed]",
      "text/latex": [
       "$$- \\frac{16 c_{1}}{\\left(c_{1}^{2} \\left(c_{2} + 2 \\epsilon\\right)^{2} + 4\\right)^{2}} \\left(c_{1}^{2} \\left(c_{2} + 2 \\epsilon\\right) + \\sqrt{\\frac{c_{1}^{4} \\left(c_{2} + 2 \\epsilon\\right)^{2}}{\\left(c_{1}^{2} \\left(c_{2} + 2 \\epsilon\\right)^{2} + 4\\right)^{2}}} \\left(c_{1}^{2} \\left(c_{2} + 2 \\epsilon\\right)^{2} + 4\\right)\\right)$$"
      ],
      "text/plain": [
       "       ⎛                        ________________________                      \n",
       "       ⎜                       ╱      4           2                           \n",
       "       ⎜  2                   ╱     c₁ ⋅(c₂ + 2⋅ε)       ⎛  2           2    ⎞\n",
       "-16⋅c₁⋅⎜c₁ ⋅(c₂ + 2⋅ε) +     ╱   ────────────────────── ⋅⎝c₁ ⋅(c₂ + 2⋅ε)  + 4⎠\n",
       "       ⎜                    ╱                         2                       \n",
       "       ⎜                   ╱     ⎛  2           2    ⎞                        \n",
       "       ⎝                 ╲╱      ⎝c₁ ⋅(c₂ + 2⋅ε)  + 4⎠                        \n",
       "──────────────────────────────────────────────────────────────────────────────\n",
       "                                                  2                           \n",
       "                             ⎛  2           2    ⎞                            \n",
       "                             ⎝c₁ ⋅(c₂ + 2⋅ε)  + 4⎠                            \n",
       "\n",
       "⎞ \n",
       "⎟ \n",
       "⎟ \n",
       "⎟ \n",
       "⎟ \n",
       "⎟ \n",
       "⎠ \n",
       "──\n",
       "  \n",
       "  \n",
       "  "
      ]
     },
     "execution_count": 60,
     "metadata": {},
     "output_type": "execute_result"
    }
   ],
   "source": [
    "(xn.diff(eps)-2*xn*yn).simplify()"
   ]
  },
  {
   "cell_type": "code",
   "execution_count": null,
   "metadata": {
    "collapsed": true
   },
   "outputs": [],
   "source": []
  },
  {
   "cell_type": "code",
   "execution_count": 11,
   "metadata": {
    "collapsed": false
   },
   "outputs": [
    {
     "data": {
      "image/png": "[encoded data removed]",
      "text/latex": [
       "$$\\frac{1}{y^{\\frac{3}{2}} \\sqrt{c_{1} - y}}$$"
      ],
      "text/plain": [
       "       1       \n",
       "───────────────\n",
       " 3/2   ________\n",
       "y   ⋅╲╱ c₁ - y "
      ]
     },
     "execution_count": 11,
     "metadata": {},
     "output_type": "execute_result"
    }
   ],
   "source": [
    "x,y=symbols('x,y',positive=True)\n",
    "\n"
   ]
  },
  {
   "cell_type": "code",
   "execution_count": 12,
   "metadata": {
    "collapsed": false
   },
   "outputs": [
    {
     "data": {
      "image/png": "[encoded data removed]",
      "text/latex": [
       "$$- \\frac{2 \\sqrt{c_{1} - \\hat{x}{\\left (\\epsilon \\right )}}}{c_{1} \\sqrt{\\hat{x}{\\left (\\epsilon \\right )}}}$$"
      ],
      "text/plain": [
       "     _________________ \n",
       "-2⋅╲╱ c₁ - \\hat{x}(ε)  \n",
       "───────────────────────\n",
       "        ____________   \n",
       "   c₁⋅╲╱ \\hat{x}(ε)    "
      ]
     },
     "execution_count": 12,
     "metadata": {},
     "output_type": "execute_result"
    }
   ],
   "source": []
  },
  {
   "cell_type": "code",
   "execution_count": 15,
   "metadata": {
    "collapsed": false
   },
   "outputs": [
    {
     "data": {
      "image/png": "[encoded data removed]",
      "text/latex": [
       "$$- \\frac{2 y}{x^{2} + y^{2}}$$"
      ],
      "text/plain": [
       " -2⋅y  \n",
       "───────\n",
       " 2    2\n",
       "x  + y "
      ]
     },
     "execution_count": 15,
     "metadata": {},
     "output_type": "execute_result"
    }
   ],
   "source": [
    "c2=exp2.subs({xn:x,c1:(y**2+x**2)/x}).simplify()\n",
    "c2"
   ]
  },
  {
   "cell_type": "code",
   "execution_count": 21,
   "metadata": {
    "collapsed": false
   },
   "outputs": [
    {
     "data": {
      "image/png": "[encoded data removed]",
      "text/latex": [
       "$$\\frac{x}{\\epsilon^{2} x^{2} + \\epsilon^{2} y^{2} - 2 \\epsilon y + 1}$$"
      ],
      "text/plain": [
       "            x            \n",
       "─────────────────────────\n",
       " 2  2    2  2            \n",
       "ε ⋅x  + ε ⋅y  - 2⋅ε⋅y + 1"
      ]
     },
     "execution_count": 21,
     "metadata": {},
     "output_type": "execute_result"
    }
   ],
   "source": []
  },
  {
   "cell_type": "code",
   "execution_count": 31,
   "metadata": {
    "collapsed": false
   },
   "outputs": [
    {
     "data": {
      "image/png": "[encoded data removed]",
      "text/latex": [
       "$$\\sqrt{\\frac{- x^{2} + \\left(x^{2} + y^{2}\\right) \\left(\\epsilon^{2} x^{2} + \\epsilon^{2} y^{2} - 2 \\epsilon y + 1\\right)}{\\left(\\epsilon^{2} x^{2} + \\epsilon^{2} y^{2} - 2 \\epsilon y + 1\\right)^{2}}}$$"
      ],
      "text/plain": [
       "       ______________________________________________\n",
       "      ╱    2   ⎛ 2    2⎞ ⎛ 2  2    2  2            ⎞ \n",
       "     ╱  - x  + ⎝x  + y ⎠⋅⎝ε ⋅x  + ε ⋅y  - 2⋅ε⋅y + 1⎠ \n",
       "    ╱   ──────────────────────────────────────────── \n",
       "   ╱                                       2         \n",
       "  ╱             ⎛ 2  2    2  2            ⎞          \n",
       "╲╱              ⎝ε ⋅x  + ε ⋅y  - 2⋅ε⋅y + 1⎠          "
      ]
     },
     "execution_count": 31,
     "metadata": {},
     "output_type": "execute_result"
    }
   ],
   "source": [
    "yn=sqrt(xn*((y**2+x**2)/x-xn)).simplify()\n",
    "yn\n"
   ]
  },
  {
   "cell_type": "code",
   "execution_count": 32,
   "metadata": {
    "collapsed": false
   },
   "outputs": [
    {
     "data": {
      "image/png": "[encoded data removed]",
      "text/latex": [
       "$$y$$"
      ],
      "text/plain": [
       "y"
      ]
     },
     "execution_count": 32,
     "metadata": {},
     "output_type": "execute_result"
    }
   ],
   "source": [
    "yn.subs(eps,0)"
   ]
  },
  {
   "cell_type": "code",
   "execution_count": 34,
   "metadata": {
    "collapsed": false
   },
   "outputs": [
    {
     "data": {
      "image/png": "[encoded data removed]",
      "text/latex": [
       "$$\\frac{2 x}{\\left(\\epsilon^{2} x^{2} + \\epsilon^{2} y^{2} - 2 \\epsilon y + 1\\right) \\left(\\epsilon^{4} x^{4} + 2 \\epsilon^{4} x^{2} y^{2} + \\epsilon^{4} y^{4} - 4 \\epsilon^{3} x^{2} y - 4 \\epsilon^{3} y^{3} + 2 \\epsilon^{2} x^{2} + 6 \\epsilon^{2} y^{2} - 4 \\epsilon y + 1\\right)} \\left(- \\sqrt{\\frac{\\epsilon^{2} x^{4} + 2 \\epsilon^{2} x^{2} y^{2} + \\epsilon^{2} y^{4} - 2 \\epsilon x^{2} y - 2 \\epsilon y^{3} + y^{2}}{\\epsilon^{4} x^{4} + 2 \\epsilon^{4} x^{2} y^{2} + \\epsilon^{4} y^{4} - 4 \\epsilon^{3} x^{2} y - 4 \\epsilon^{3} y^{3} + 2 \\epsilon^{2} x^{2} + 6 \\epsilon^{2} y^{2} - 4 \\epsilon y + 1}} \\left(\\epsilon^{4} x^{4} + 2 \\epsilon^{4} x^{2} y^{2} + \\epsilon^{4} y^{4} - 4 \\epsilon^{3} x^{2} y - 4 \\epsilon^{3} y^{3} + 2 \\epsilon^{2} x^{2} + 6 \\epsilon^{2} y^{2} - 4 \\epsilon y + 1\\right) + \\left(- \\epsilon x^{2} - \\epsilon y^{2} + y\\right) \\left(\\epsilon^{2} x^{2} + \\epsilon^{2} y^{2} - 2 \\epsilon y + 1\\right)\\right)$$"
      ],
      "text/plain": [
       "    ⎛        _________________________________________________________________\n",
       "    ⎜       ╱                2  4      2  2  2    2  4        2          3    \n",
       "    ⎜      ╱                ε ⋅x  + 2⋅ε ⋅x ⋅y  + ε ⋅y  - 2⋅ε⋅x ⋅y - 2⋅ε⋅y  + y\n",
       "2⋅x⋅⎜-    ╱   ────────────────────────────────────────────────────────────────\n",
       "    ⎜    ╱     4  4      4  2  2    4  4      3  2        3  3      2  2      \n",
       "    ⎝  ╲╱     ε ⋅x  + 2⋅ε ⋅x ⋅y  + ε ⋅y  - 4⋅ε ⋅x ⋅y - 4⋅ε ⋅y  + 2⋅ε ⋅x  + 6⋅ε\n",
       "──────────────────────────────────────────────────────────────────────────────\n",
       "                                                            ⎛ 2  2    2  2    \n",
       "                                                            ⎝ε ⋅x  + ε ⋅y  - 2\n",
       "\n",
       "_________________                                                             \n",
       "2                                                                             \n",
       "                  ⎛ 4  4      4  2  2    4  4      3  2        3  3      2  2 \n",
       "──────────────── ⋅⎝ε ⋅x  + 2⋅ε ⋅x ⋅y  + ε ⋅y  - 4⋅ε ⋅x ⋅y - 4⋅ε ⋅y  + 2⋅ε ⋅x  \n",
       "2  2                                                                          \n",
       " ⋅y  - 4⋅ε⋅y + 1                                                              \n",
       "──────────────────────────────────────────────────────────────────────────────\n",
       "        ⎞ ⎛ 4  4      4  2  2    4  4      3  2        3  3      2  2      2  \n",
       "⋅ε⋅y + 1⎠⋅⎝ε ⋅x  + 2⋅ε ⋅x ⋅y  + ε ⋅y  - 4⋅ε ⋅x ⋅y - 4⋅ε ⋅y  + 2⋅ε ⋅x  + 6⋅ε ⋅y\n",
       "\n",
       "                                                                        ⎞\n",
       "                                                                        ⎟\n",
       "     2  2            ⎞   ⎛     2      2    ⎞ ⎛ 2  2    2  2            ⎞⎟\n",
       "+ 6⋅ε ⋅y  - 4⋅ε⋅y + 1⎠ + ⎝- ε⋅x  - ε⋅y  + y⎠⋅⎝ε ⋅x  + ε ⋅y  - 2⋅ε⋅y + 1⎠⎟\n",
       "                                                                        ⎟\n",
       "                                                                        ⎠\n",
       "─────────────────────────────────────────────────────────────────────────\n",
       "2            ⎞                                                           \n",
       "  - 4⋅ε⋅y + 1⎠                                                           "
      ]
     },
     "execution_count": 34,
     "metadata": {},
     "output_type": "execute_result"
    }
   ],
   "source": [
    "(xn.diff(eps)-2*xn*yn).expand().simplify()"
   ]
  },
  {
   "cell_type": "code",
   "execution_count": null,
   "metadata": {
    "collapsed": true
   },
   "outputs": [],
   "source": []
  }
 ],
 "metadata": {
  "kernelspec": {
   "display_name": "Python 2",
   "language": "python",
   "name": "python2"
  },
  "language_info": {
   "codemirror_mode": {
    "name": "ipython",
    "version": 2
   },
   "file_extension": ".py",
   "mimetype": "text/x-python",
   "name": "python",
   "nbconvert_exporter": "python",
   "pygments_lexer": "ipython2",
   "version": "2.7.11"
  }
 },
 "nbformat": 4,
 "nbformat_minor": 0
}
