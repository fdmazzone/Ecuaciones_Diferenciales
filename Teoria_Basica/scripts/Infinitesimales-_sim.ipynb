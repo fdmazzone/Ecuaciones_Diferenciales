{
 "cells": [
  {
   "cell_type": "code",
   "execution_count": 1,
   "metadata": {
    "collapsed": true
   },
   "outputs": [],
   "source": [
    "from sympy import *\n",
    "init_printing()"
   ]
  },
  {
   "cell_type": "code",
   "execution_count": 2,
   "metadata": {
    "collapsed": false
   },
   "outputs": [
    {
     "data": {
      "image/png": "[encoded data removed]",
      "text/latex": [
       "$$\\hat{y}{\\left (\\hat{x} \\right )} = \\sqrt{\\hat{x} \\left(C_{1} - \\hat{x}\\right)}$$"
      ],
      "text/plain": [
       "                     ________________________\n",
       "\\hat{y}(\\hat{x}) = ╲╱ \\hat{x}⋅(C₁ - \\hat{x}) "
      ]
     },
     "execution_count": 2,
     "metadata": {},
     "output_type": "execute_result"
    }
   ],
   "source": [
    "xn=symbols('\\hat{x}',real=True)\n",
    "yn=Function('\\hat{y}',real=True)(xn)\n",
    "dsolve(yn.diff()-(yn**2-xn**2)/2/xn/yn,yn)\n"
   ]
  },
  {
   "cell_type": "code",
   "execution_count": 3,
   "metadata": {
    "collapsed": false
   },
   "outputs": [
    {
     "data": {
      "image/png": "[encoded data removed]",
      "text/latex": [
       "$$\\sqrt{\\left(c_{1} - \\hat{x}{\\left (\\epsilon \\right )}\\right) \\hat{x}{\\left (\\epsilon \\right )}}$$"
      ],
      "text/plain": [
       "  ______________________________\n",
       "╲╱ (c₁ - \\hat{x}(ε))⋅\\hat{x}(ε) "
      ]
     },
     "execution_count": 3,
     "metadata": {},
     "output_type": "execute_result"
    }
   ],
   "source": [
    "c1=symbols('c1',real=True)\n",
    "eps=symbols('epsilon',real=True)\n",
    "xn=Function('\\hat{x}',real=True)(eps)\n",
    "yn=sqrt(xn*(c1-xn))\n",
    "yn"
   ]
  },
  {
   "cell_type": "code",
   "execution_count": 4,
   "metadata": {
    "collapsed": false
   },
   "outputs": [
    {
     "data": {
      "image/png": "[encoded data removed]",
      "text/latex": [
       "$$\\int^{\\hat{x}{\\left (\\epsilon \\right )}} \\frac{1}{y \\sqrt{y \\left(- y + c_{1}\\right)}}\\, dy = C_{1} + 2 \\epsilon$$"
      ],
      "text/plain": [
       "\\hat{x}(ε)                                \n",
       "    ⌠                                     \n",
       "    ⎮              1                      \n",
       "    ⎮      ───────────────── dy = C₁ + 2⋅ε\n",
       "    ⎮          _____________              \n",
       "    ⎮      y⋅╲╱ y⋅(-y + c₁)               \n",
       "    ⌡                                     \n",
       "                                          "
      ]
     },
     "execution_count": 4,
     "metadata": {},
     "output_type": "execute_result"
    }
   ],
   "source": [
    "dsolve(xn.diff()-2*xn*yn,xn)"
   ]
  },
  {
   "cell_type": "markdown",
   "metadata": {},
   "source": [
    "Calculamos a mano la primitiva y encontramos que es\n",
    "\n",
    "$$\\int\\frac{1}{y\\sqrt{y(c_1-y)}}dy=-\\frac{2}{c_1}\\sqrt{\\frac{c_1-y}{y}}$$"
   ]
  },
  {
   "cell_type": "code",
   "execution_count": 5,
   "metadata": {
    "collapsed": false
   },
   "outputs": [
    {
     "data": {
      "image/png": "[encoded data removed]",
      "text/latex": [
       "$$- \\frac{2}{c_{1}} \\sqrt{\\frac{c_{1} - \\hat{x}{\\left (\\epsilon \\right )}}{\\hat{x}{\\left (\\epsilon \\right )}}}$$"
      ],
      "text/plain": [
       "       _________________ \n",
       "      ╱ c₁ - \\hat{x}(ε)  \n",
       "-2⋅  ╱  ───────────────  \n",
       "   ╲╱      \\hat{x}(ε)    \n",
       "─────────────────────────\n",
       "            c₁           "
      ]
     },
     "execution_count": 5,
     "metadata": {},
     "output_type": "execute_result"
    }
   ],
   "source": [
    "c2=symbols('c2',real=True)\n",
    "exp2=-2/c1*sqrt((c1-xn)/xn)\n",
    "exp2"
   ]
  },
  {
   "cell_type": "markdown",
   "metadata": {},
   "source": [
    "Hay que despejar\n",
    "$$- \\frac{2}{c_{1}} \\sqrt{\\frac{c_{1} - \\hat{x}{\\left (\\epsilon \\right )}}{\\hat{x}{\\left (\\epsilon \\right )}}}=c_2+2\\epsilon$$\n",
    "\n",
    "Notar que si asumimos $x>0$ entonces $c_1>0$ y $c_2+2\\epsilon<0$.  Pasa algo raro, sympy no sabe desdejar!!!!!!\n",
    "Lo resuelvo de manera media rara"
   ]
  },
  {
   "cell_type": "code",
   "execution_count": 6,
   "metadata": {
    "collapsed": false
   },
   "outputs": [
    {
     "data": {
      "image/png": "[encoded data removed]",
      "text/latex": [
       "$$\\frac{4 c_{1}}{c_{1}^{2} \\left(- c_{2} - 2 \\epsilon\\right)^{2} + 4}$$"
      ],
      "text/plain": [
       "        4⋅c₁        \n",
       "────────────────────\n",
       "  2            2    \n",
       "c₁ ⋅(-c₂ - 2⋅ε)  + 4"
      ]
     },
     "execution_count": 6,
     "metadata": {},
     "output_type": "execute_result"
    }
   ],
   "source": [
    "(solve(exp2+2*eps+c2,xn)[0]).subs({eps:-eps,c2:-c2})\n",
    "\n"
   ]
  },
  {
   "cell_type": "code",
   "execution_count": 7,
   "metadata": {
    "collapsed": false
   },
   "outputs": [
    {
     "data": {
      "image/png": "[encoded data removed]",
      "text/latex": [
       "$$\\frac{4 c_{1}}{c_{1}^{2} \\left(- c_{2} - 2 \\epsilon\\right)^{2} + 4}$$"
      ],
      "text/plain": [
       "        4⋅c₁        \n",
       "────────────────────\n",
       "  2            2    \n",
       "c₁ ⋅(-c₂ - 2⋅ε)  + 4"
      ]
     },
     "execution_count": 7,
     "metadata": {},
     "output_type": "execute_result"
    }
   ],
   "source": [
    "xn=4*c1/(c1**2*(-c2 - 2*eps)**2 + 4)\n",
    "xn"
   ]
  },
  {
   "cell_type": "markdown",
   "metadata": {},
   "source": [
    "Al $\\hat{y}$ lo despejé yo, sympy no toma en consideración el problema del signo"
   ]
  },
  {
   "cell_type": "code",
   "execution_count": 8,
   "metadata": {
    "collapsed": false
   },
   "outputs": [
    {
     "data": {
      "image/png": "[encoded data removed]",
      "text/latex": [
       "$$- \\frac{2 c_{1}^{2} \\left(c_{2} + 2 \\epsilon\\right)}{c_{1}^{2} \\left(c_{2} + 2 \\epsilon\\right)^{2} + 4}$$"
      ],
      "text/plain": [
       "      2            \n",
       " -2⋅c₁ ⋅(c₂ + 2⋅ε) \n",
       "───────────────────\n",
       "  2           2    \n",
       "c₁ ⋅(c₂ + 2⋅ε)  + 4"
      ]
     },
     "execution_count": 8,
     "metadata": {},
     "output_type": "execute_result"
    }
   ],
   "source": [
    "yn=-2*c1**2*(c2 + 2*eps)/(c1**2*(c2 + 2*eps)**2 + 4)\n",
    "yn"
   ]
  },
  {
   "cell_type": "code",
   "execution_count": 9,
   "metadata": {
    "collapsed": false
   },
   "outputs": [
    {
     "data": {
      "image/png": "[encoded data removed]",
      "text/latex": [
       "$$0$$"
      ],
      "text/plain": [
       "0"
      ]
     },
     "execution_count": 9,
     "metadata": {},
     "output_type": "execute_result"
    }
   ],
   "source": [
    "(xn.diff(eps)-2*xn*yn).simplify()"
   ]
  },
  {
   "cell_type": "code",
   "execution_count": 10,
   "metadata": {
    "collapsed": false
   },
   "outputs": [
    {
     "data": {
      "image/png": "[encoded data removed]",
      "text/latex": [
       "$$0$$"
      ],
      "text/plain": [
       "0"
      ]
     },
     "execution_count": 10,
     "metadata": {},
     "output_type": "execute_result"
    }
   ],
   "source": [
    "(yn.diff(eps)-(yn**2-xn**2)).simplify()"
   ]
  },
  {
   "cell_type": "code",
   "execution_count": 11,
   "metadata": {
    "collapsed": false
   },
   "outputs": [
    {
     "data": {
      "image/png": "[encoded data removed]",
      "text/latex": [
       "$$\\left ( x + \\frac{y^{2}}{x}, \\quad - \\frac{2 y}{x^{2} + y^{2}}\\right )$$"
      ],
      "text/plain": [
       "⎛     2         ⎞\n",
       "⎜    y    -2⋅y  ⎟\n",
       "⎜x + ──, ───────⎟\n",
       "⎜    x    2    2⎟\n",
       "⎝        x  + y ⎠"
      ]
     },
     "execution_count": 11,
     "metadata": {},
     "output_type": "execute_result"
    }
   ],
   "source": [
    "x,y=symbols('x,y',positive=True)\n",
    "C1,C2=solve([xn.subs(eps,0)-x,yn.subs(eps,0)-y],[c1,c2])[0]\n",
    "C1,C2"
   ]
  },
  {
   "cell_type": "code",
   "execution_count": 12,
   "metadata": {
    "collapsed": false
   },
   "outputs": [
    {
     "data": {
      "image/png": "[encoded data removed]",
      "text/latex": [
       "$$\\left ( \\frac{x}{\\epsilon^{2} x^{2} + \\epsilon^{2} y^{2} - 2 \\epsilon y + 1}, \\quad - \\frac{\\left(x^{2} + y^{2}\\right) \\left(\\epsilon \\left(x^{2} + y^{2}\\right) - y\\right)}{x^{2} + \\left(\\epsilon \\left(x^{2} + y^{2}\\right) - y\\right)^{2}}\\right )$$"
      ],
      "text/plain": [
       "⎛                            ⎛ 2    2⎞ ⎛  ⎛ 2    2⎞    ⎞ ⎞\n",
       "⎜            x              -⎝x  + y ⎠⋅⎝ε⋅⎝x  + y ⎠ - y⎠ ⎟\n",
       "⎜─────────────────────────, ─────────────────────────────⎟\n",
       "⎜ 2  2    2  2                                       2   ⎟\n",
       "⎜ε ⋅x  + ε ⋅y  - 2⋅ε⋅y + 1      2   ⎛  ⎛ 2    2⎞    ⎞    ⎟\n",
       "⎝                              x  + ⎝ε⋅⎝x  + y ⎠ - y⎠    ⎠"
      ]
     },
     "execution_count": 12,
     "metadata": {},
     "output_type": "execute_result"
    }
   ],
   "source": [
    "xn=xn.subs({c1:C1,c2:C2}).simplify()\n",
    "yn=yn.subs({c1:C1,c2:C2}).simplify()\n",
    "xn,yn\n",
    "\n"
   ]
  },
  {
   "cell_type": "code",
   "execution_count": 14,
   "metadata": {
    "collapsed": false
   },
   "outputs": [
    {
     "data": {
      "image/png": "[encoded data removed]",
      "text/latex": [
       "$$- \\frac{x}{x^{2} \\left(\\epsilon_{1} + \\epsilon_{2}\\right)^{2} + y^{2} \\left(\\epsilon_{1} + \\epsilon_{2}\\right)^{2} - 2 y \\left(\\epsilon_{1} + \\epsilon_{2}\\right) + 1} + \\frac{x}{\\left(\\epsilon_{1}^{2} x^{2} + \\frac{\\epsilon_{1}^{2} \\left(x^{2} + y^{2}\\right)^{2} \\left(\\epsilon_{1} \\left(x^{2} + y^{2}\\right) - y\\right)^{2}}{\\left(x^{2} + \\left(\\epsilon_{1} \\left(x^{2} + y^{2}\\right) - y\\right)^{2}\\right)^{2}} + \\frac{2 \\epsilon_{1} \\left(x^{2} + y^{2}\\right) \\left(\\epsilon_{1} \\left(x^{2} + y^{2}\\right) - y\\right)}{x^{2} + \\left(\\epsilon_{1} \\left(x^{2} + y^{2}\\right) - y\\right)^{2}} + 1\\right) \\left(\\frac{\\epsilon_{2}^{2} x^{2}}{\\left(\\epsilon_{1}^{2} x^{2} + \\frac{\\epsilon_{1}^{2} \\left(x^{2} + y^{2}\\right)^{2} \\left(\\epsilon_{1} \\left(x^{2} + y^{2}\\right) - y\\right)^{2}}{\\left(x^{2} + \\left(\\epsilon_{1} \\left(x^{2} + y^{2}\\right) - y\\right)^{2}\\right)^{2}} + \\frac{2 \\epsilon_{1} \\left(x^{2} + y^{2}\\right) \\left(\\epsilon_{1} \\left(x^{2} + y^{2}\\right) - y\\right)}{x^{2} + \\left(\\epsilon_{1} \\left(x^{2} + y^{2}\\right) - y\\right)^{2}} + 1\\right)^{2}} + \\frac{\\epsilon_{2}^{2} \\left(x^{2} + y^{2}\\right)^{2} \\left(\\epsilon_{1} \\left(x^{2} + y^{2}\\right) - y\\right)^{2}}{\\left(x^{2} + \\left(\\epsilon_{1} \\left(x^{2} + y^{2}\\right) - y\\right)^{2}\\right)^{2}} + \\frac{2 \\epsilon_{2} \\left(x^{2} + y^{2}\\right) \\left(\\epsilon_{1} \\left(x^{2} + y^{2}\\right) - y\\right)}{x^{2} + \\left(\\epsilon_{1} \\left(x^{2} + y^{2}\\right) - y\\right)^{2}} + 1\\right)}$$"
      ],
      "text/plain": [
       "                          x                                                   \n",
       "- ───────────────────────────────────────────────── + ────────────────────────\n",
       "   2          2    2          2                       ⎛                      2\n",
       "  x ⋅(ε₁ + ε₂)  + y ⋅(ε₁ + ε₂)  - 2⋅y⋅(ε₁ + ε₂) + 1   ⎜           2 ⎛ 2    2⎞ \n",
       "                                                      ⎜  2  2   ε₁ ⋅⎝x  + y ⎠ \n",
       "                                                      ⎜ε₁ ⋅x  + ──────────────\n",
       "                                                      ⎜                       \n",
       "                                                      ⎜            ⎛          \n",
       "                                                      ⎜            ⎜ 2   ⎛   ⎛\n",
       "                                                      ⎝            ⎝x  + ⎝ε₁⋅⎝\n",
       "                                                                              \n",
       "                                                                              \n",
       "                                                                              \n",
       "                                                                              \n",
       "                                                                              \n",
       "\n",
       "                                                                              \n",
       "──────────────────────────────────────────────────────────────────────────────\n",
       "                   2                                        ⎞ ⎛               \n",
       " ⎛   ⎛ 2    2⎞    ⎞         ⎛ 2    2⎞ ⎛   ⎛ 2    2⎞    ⎞    ⎟ ⎜               \n",
       "⋅⎝ε₁⋅⎝x  + y ⎠ - y⎠    2⋅ε₁⋅⎝x  + y ⎠⋅⎝ε₁⋅⎝x  + y ⎠ - y⎠    ⎟ ⎜               \n",
       "──────────────────── + ───────────────────────────────── + 1⎟⋅⎜───────────────\n",
       "               2                                   2        ⎟ ⎜               \n",
       "             2⎞              2   ⎛   ⎛ 2    2⎞    ⎞         ⎟ ⎜⎛              \n",
       " 2    2⎞    ⎞ ⎟             x  + ⎝ε₁⋅⎝x  + y ⎠ - y⎠         ⎟ ⎜⎜           2 ⎛\n",
       "x  + y ⎠ - y⎠ ⎠                                             ⎠ ⎜⎜  2  2   ε₁ ⋅⎝\n",
       "                                                              ⎜⎜ε₁ ⋅x  + ─────\n",
       "                                                              ⎜⎜              \n",
       "                                                              ⎜⎜            ⎛ \n",
       "                                                              ⎜⎜            ⎜ \n",
       "                                                              ⎝⎝            ⎝x\n",
       "\n",
       "                       x                                                      \n",
       "──────────────────────────────────────────────────────────────────────────────\n",
       "                                                                              \n",
       "                           2  2                                             2 \n",
       "                         ε₂ ⋅x                                            ε₂ ⋅\n",
       "─────────────────────────────────────────────────────────────────────── + ────\n",
       "                                                                      2       \n",
       "        2                   2                                        ⎞       ⎛\n",
       " 2    2⎞  ⎛   ⎛ 2    2⎞    ⎞         ⎛ 2    2⎞ ⎛   ⎛ 2    2⎞    ⎞    ⎟       ⎜\n",
       "x  + y ⎠ ⋅⎝ε₁⋅⎝x  + y ⎠ - y⎠    2⋅ε₁⋅⎝x  + y ⎠⋅⎝ε₁⋅⎝x  + y ⎠ - y⎠    ⎟       ⎝\n",
       "───────────────────────────── + ───────────────────────────────── + 1⎟        \n",
       "                        2                                   2        ⎟        \n",
       "                      2⎞              2   ⎛   ⎛ 2    2⎞    ⎞         ⎟        \n",
       "2   ⎛   ⎛ 2    2⎞    ⎞ ⎟             x  + ⎝ε₁⋅⎝x  + y ⎠ - y⎠         ⎟        \n",
       "  + ⎝ε₁⋅⎝x  + y ⎠ - y⎠ ⎠                                             ⎠        \n",
       "\n",
       "                                                                       \n",
       "───────────────────────────────────────────────────────────────────────\n",
       "         2                   2                                        ⎞\n",
       "⎛ 2    2⎞  ⎛   ⎛ 2    2⎞    ⎞         ⎛ 2    2⎞ ⎛   ⎛ 2    2⎞    ⎞    ⎟\n",
       "⎝x  + y ⎠ ⋅⎝ε₁⋅⎝x  + y ⎠ - y⎠    2⋅ε₂⋅⎝x  + y ⎠⋅⎝ε₁⋅⎝x  + y ⎠ - y⎠    ⎟\n",
       "────────────────────────────── + ───────────────────────────────── + 1⎟\n",
       "                         2                                   2        ⎟\n",
       "                       2⎞              2   ⎛   ⎛ 2    2⎞    ⎞         ⎟\n",
       " 2   ⎛   ⎛ 2    2⎞    ⎞ ⎟             x  + ⎝ε₁⋅⎝x  + y ⎠ - y⎠         ⎟\n",
       "x  + ⎝ε₁⋅⎝x  + y ⎠ - y⎠ ⎠                                             ⎟\n",
       "                                                                      ⎟\n",
       "                                                                      ⎟\n",
       "                                                                      ⎟\n",
       "                                                                      ⎟\n",
       "                                                                      ⎠"
      ]
     },
     "execution_count": 14,
     "metadata": {},
     "output_type": "execute_result"
    }
   ],
   "source": [
    "eps1,eps2=symbols('epsilon_1,epsilon_2',real=True)\n",
    "Sus={x:xn.subs(eps,eps1),y:yn.subs(eps,eps1)}\n",
    "(xn.subs(eps,eps2).subs(Sus)-xn.subs(eps,eps1+eps2)).simplify()"
   ]
  },
  {
   "cell_type": "code",
   "execution_count": null,
   "metadata": {
    "collapsed": true
   },
   "outputs": [],
   "source": []
  }
 ],
 "metadata": {
  "kernelspec": {
   "display_name": "Python 2",
   "language": "python",
   "name": "python2"
  },
  "language_info": {
   "codemirror_mode": {
    "name": "ipython",
    "version": 2
   },
   "file_extension": ".py",
   "mimetype": "text/x-python",
   "name": "python",
   "nbconvert_exporter": "python",
   "pygments_lexer": "ipython2",
   "version": "2.7.15"
  }
 },
 "nbformat": 4,
 "nbformat_minor": 2
}
