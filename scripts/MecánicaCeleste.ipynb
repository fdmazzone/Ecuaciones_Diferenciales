{
 "metadata": {
  "name": "",
  "signature": "sha256:ed4d3e77424d6ae1d34f98f3c86fde2ad6330d12fb5e54eb51c67805989524eb"
 },
 "nbformat": 3,
 "nbformat_minor": 0,
 "worksheets": [
  {
   "cells": [
    {
     "cell_type": "markdown",
     "metadata": {},
     "source": [
      "\n",
      "<h2>Un poco de mec\u00e1nica celeste</h2>\n",
      "\n",
      "Vamos a usar coordenadas polares $(r,\\theta)$ y los versores $\\overrightarrow{u}_r:=(\\cos\\theta,\\sin\\theta)$ y $\\overrightarrow{u}_{\\theta}:=(-\\sin\\theta, \\cos\\theta)$. Notar que\n",
      "$\\overrightarrow{u}_r \\perp \\overrightarrow{u}_{\\theta}$ y por consiguiente $\\mathcal{B}:=\\{\\overrightarrow{u}_r , \\overrightarrow{u}_{\\theta}\\}$ forma una base del espacio euclideano 2-dimensional. Usaremos este hecho\n",
      "para representar distintos vectores como combinaci\u00f3n lineal de vectores de la base. Los c\u00e1lculos, como es ya habitual, se los dejaremos a SAGE, pero esta vez\n",
      "usaremos <a href=\"http://ipython.org/\">IPython</a> como interfaz de SymPy.\n",
      "IPython permite  trabajar con notebooks, que son documentos que se visualizan con un navegador y permiten mezclar c\u00f3digo Python (u otros lenguajes), con c\u00f3digo html y Latex.\n",
      "\n",
      "\n",
      "Los mismos c\u00e1lculos se efectuaron con SAGE, y se pueden encontrar en el script \\texttt{2cuerpos.sage} dentro de la carpeta scripts en\n",
      "el repositorio de <a href=\"https://github.com/fdmazzone/Ecuaciones_Diferenciales\"> GitHub</a> que mantiene materiales de este curso. Ver el siguiente enlace\n",
      "\\href{https://github.com/fdmazzone/Ecuaciones_Diferenciales}{https//github.com/fdmazzone/Ecuaciones\\_Diferenciales}"
     ]
    },
    {
     "cell_type": "code",
     "collapsed": false,
     "input": [
      "from sympy import *\n",
      "t,mu=symbols('t,mu')\n",
      "x=Function('x')(t)\n",
      "y=Function('y')(t)\n",
      "r=Function('r')(t)\n",
      "theta=Function('theta')(t)\n",
      "u_r=Matrix([cos(theta),sin(theta)])\n",
      "init_printing()\n",
      "u_r\n"
     ],
     "language": "python",
     "metadata": {},
     "outputs": [
      {
       "latex": [
        "$$\\left[\\begin{matrix}\\cos{\\left (\\theta{\\left (t \\right )} \\right )}\\\\\\sin{\\left (\\theta{\\left (t \\right )} \\right )}\\end{matrix}\\right]$$"
       ],
       "metadata": {},
       "output_type": "pyout",
       "png": "[encoded data removed]",
       "prompt_number": 3,
       "text": [
        "\u23a1cos(\u03b8(t))\u23a4\n",
        "\u23a2         \u23a5\n",
        "\u23a3sin(\u03b8(t))\u23a6"
       ]
      }
     ],
     "prompt_number": 3
    },
    {
     "cell_type": "code",
     "collapsed": false,
     "input": [
      "u_theta=Matrix([-sin(theta),cos(theta)])\n",
      "u_theta"
     ],
     "language": "python",
     "metadata": {},
     "outputs": [
      {
       "latex": [
        "$$\\left[\\begin{matrix}- \\sin{\\left (\\theta{\\left (t \\right )} \\right )}\\\\\\cos{\\left (\\theta{\\left (t \\right )} \\right )}\\end{matrix}\\right]$$"
       ],
       "metadata": {},
       "output_type": "pyout",
       "png": "[encoded data removed]",
       "prompt_number": 4,
       "text": [
        "\u23a1-sin(\u03b8(t))\u23a4\n",
        "\u23a2          \u23a5\n",
        "\u23a3cos(\u03b8(t)) \u23a6"
       ]
      }
     ],
     "prompt_number": 4
    },
    {
     "cell_type": "code",
     "collapsed": false,
     "input": [],
     "language": "python",
     "metadata": {},
     "outputs": []
    }
   ],
   "metadata": {}
  }
 ]
}