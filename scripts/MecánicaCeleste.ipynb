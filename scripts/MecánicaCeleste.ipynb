{
 "metadata": {
  "name": "",
  "signature": "sha256:2223d3ce627b917744387c6b2a1208ba67225fda898a841b7ee23a70069ddf5a"
 },
 "nbformat": 3,
 "nbformat_minor": 0,
 "worksheets": [
  {
   "cells": [
    {
     "cell_type": "markdown",
     "metadata": {},
     "source": [
      "\n",
      "<h2>Un poco de mec\u00e1nica celeste</h2>\n",
      "\n",
      " Los c\u00e1lculos, como es ya habitual, se los dejaremos a SymPy, pero esta vez\n",
      "usaremos <a href=\"http://ipython.org/\">IPython</a> como interfaz de SymPy.\n",
      "IPython permite  trabajar con notebooks, que son documentos que se visualizan con un navegador y permiten mezclar c\u00f3digo Python (u otros lenguajes), con c\u00f3digo html y LateX. La presente notebook se aloja en el siguiente <a href=\"https://github.com/fdmazzone/Ecuaciones_Diferenciales/blob/master/scripts/Mec%C3%A1nicaCeleste.ipynb\">enlace</a>.\n",
      "\n",
      "Los mismos c\u00e1lculos se efectuaron con SAGE, y se pueden encontrar en el script 2cuerpos.sage dentro de la carpeta scripts en\n",
      "el repositorio de <a href=\"https://github.com/fdmazzone/Ecuaciones_Diferenciales\"> GitHub</a> que mantiene materiales de este curso. Ver el siguiente \n",
      "<a href=\"https://github.com/fdmazzone/Ecuaciones_Diferenciales}{https//github.com/fdmazzone/Ecuaciones_Diferenciales\"> enlace </a>\n",
      "\n",
      "Supondremos que el movimiento del planeta se realiza en un plano. Esta suposici\u00f3n no entra\u00f1a una p\u00e9rdida de generalidad, dado que es posible demostrar que es cierta. Esta demostraci\u00f3n es sencilla, pero nos alejar\u00eda de nuestro objetivo, por tanto la omitiremos. \n",
      "Vamos a usar coordenadas polares $(r,\\theta)$ y los versores $\\overrightarrow{u}_r:=(\\cos\\theta,\\sin\\theta)$ y $\\overrightarrow{u}_{\\theta}:=(-\\sin\\theta, \\cos\\theta)$. Notar que\n",
      "$\\overrightarrow{u}_r \\perp \\overrightarrow{u}_{\\theta}$ y por consiguiente $\\mathcal{B}:=\\{\\overrightarrow{u}_r , \\overrightarrow{u}_{\\theta}\\}$ forma una base del espacio euclideano 2-dimensional. Usaremos este hecho\n",
      "para representar distintos vectores como combinaci\u00f3n lineal de vectores de la base."
     ]
    },
    {
     "cell_type": "code",
     "collapsed": false,
     "input": [
      "from sympy import *\n",
      "t,mu=symbols('t,mu')\n",
      "x=Function('x')(t)\n",
      "y=Function('y')(t)\n",
      "r=Function('r')(t)\n",
      "theta=Function('theta')(t)\n",
      "u_r=Matrix([cos(theta),sin(theta)])\n",
      "init_printing()\n",
      "u_r\n"
     ],
     "language": "python",
     "metadata": {},
     "outputs": [
      {
       "latex": [
        "$$\\left[\\begin{matrix}\\cos{\\left (\\theta{\\left (t \\right )} \\right )}\\\\\\sin{\\left (\\theta{\\left (t \\right )} \\right )}\\end{matrix}\\right]$$"
       ],
       "metadata": {},
       "output_type": "pyout",
       "png": "[encoded data removed]",
       "prompt_number": 3,
       "text": [
        "\u23a1cos(\u03b8(t))\u23a4\n",
        "\u23a2         \u23a5\n",
        "\u23a3sin(\u03b8(t))\u23a6"
       ]
      }
     ],
     "prompt_number": 3
    },
    {
     "cell_type": "code",
     "collapsed": false,
     "input": [
      "u_theta=Matrix([-sin(theta),cos(theta)])\n",
      "u_theta"
     ],
     "language": "python",
     "metadata": {},
     "outputs": [
      {
       "latex": [
        "$$\\left[\\begin{matrix}- \\sin{\\left (\\theta{\\left (t \\right )} \\right )}\\\\\\cos{\\left (\\theta{\\left (t \\right )} \\right )}\\end{matrix}\\right]$$"
       ],
       "metadata": {},
       "output_type": "pyout",
       "png": "[encoded data removed]",
       "prompt_number": 4,
       "text": [
        "\u23a1-sin(\u03b8(t))\u23a4\n",
        "\u23a2          \u23a5\n",
        "\u23a3cos(\u03b8(t)) \u23a6"
       ]
      }
     ],
     "prompt_number": 4
    },
    {
     "cell_type": "markdown",
     "metadata": {},
     "source": [
      "Vamos a representar  el vector aceleraci\u00f3n $\\overrightarrow{a}=\\frac{d^2\\overrightarrow{u}}{dt^2}$"
     ]
    },
    {
     "cell_type": "code",
     "collapsed": false,
     "input": [
      "pos=r*u_r\n",
      "a1,a2=symbols('a1,a2')\n",
      "sol=solve(a1*u_r+a2*u_theta-pos.diff(t,2),[a1,a2])\n",
      "sol"
     ],
     "language": "python",
     "metadata": {},
     "outputs": [
      {
       "latex": [
        "$$\\begin{Bmatrix}a_{1} : - r{\\left (t \\right )} \\left(\\frac{d}{d t} \\theta{\\left (t \\right )}\\right)^{2} + \\frac{d^{2}}{d t^{2}}  r{\\left (t \\right )}, & a_{2} : r{\\left (t \\right )} \\frac{d^{2}}{d t^{2}}  \\theta{\\left (t \\right )} + 2 \\frac{d}{d t} r{\\left (t \\right )} \\frac{d}{d t} \\theta{\\left (t \\right )}\\end{Bmatrix}$$"
       ],
       "metadata": {},
       "output_type": "pyout",
       "png": "[encoded data removed]",
       "prompt_number": 6,
       "text": [
        "\u23a7                     2     2                   2                            \u23ab\n",
        "\u23aa           \u239bd       \u239e     d                   d            d        d       \u23aa\n",
        "\u23a8a\u2081: - r(t)\u22c5\u239c\u2500\u2500(\u03b8(t))\u239f  + \u2500\u2500\u2500(r(t)), a\u2082: r(t)\u22c5\u2500\u2500\u2500(\u03b8(t)) + 2\u22c5\u2500\u2500(r(t))\u22c5\u2500\u2500(\u03b8(t))\u23ac\n",
        "\u23aa           \u239ddt      \u23a0      2                   2           dt       dt      \u23aa\n",
        "\u23a9                         dt                  dt                             \u23ad"
       ]
      }
     ],
     "prompt_number": 6
    },
    {
     "cell_type": "code",
     "collapsed": false,
     "input": [
      "sol[a1]"
     ],
     "language": "python",
     "metadata": {},
     "outputs": [
      {
       "latex": [
        "$$- r{\\left (t \\right )} \\left(\\frac{d}{d t} \\theta{\\left (t \\right )}\\right)^{2} + \\frac{d^{2}}{d t^{2}}  r{\\left (t \\right )}$$"
       ],
       "metadata": {},
       "output_type": "pyout",
       "png": "[encoded data removed]",
       "prompt_number": 7,
       "text": [
        "                 2     2      \n",
        "       \u239bd       \u239e     d       \n",
        "- r(t)\u22c5\u239c\u2500\u2500(\u03b8(t))\u239f  + \u2500\u2500\u2500(r(t))\n",
        "       \u239ddt      \u23a0      2      \n",
        "                     dt       "
       ]
      }
     ],
     "prompt_number": 7
    },
    {
     "cell_type": "code",
     "collapsed": false,
     "input": [
      "sol[a2]"
     ],
     "language": "python",
     "metadata": {},
     "outputs": [
      {
       "latex": [
        "$$r{\\left (t \\right )} \\frac{d^{2}}{d t^{2}}  \\theta{\\left (t \\right )} + 2 \\frac{d}{d t} r{\\left (t \\right )} \\frac{d}{d t} \\theta{\\left (t \\right )}$$"
       ],
       "metadata": {},
       "output_type": "pyout",
       "png": "[encoded data removed]",
       "prompt_number": 8,
       "text": [
        "       2                            \n",
        "      d            d        d       \n",
        "r(t)\u22c5\u2500\u2500\u2500(\u03b8(t)) + 2\u22c5\u2500\u2500(r(t))\u22c5\u2500\u2500(\u03b8(t))\n",
        "       2           dt       dt      \n",
        "     dt                             "
       ]
      }
     ],
     "prompt_number": 8
    },
    {
     "cell_type": "markdown",
     "metadata": {},
     "source": [
      "El vector aceleraci\u00f3n debe ser igual a la fuerza por unidad de masa $-\\mu \\overrightarrow{r}/r^3$. Notemos que esta fuerza es\n",
      "<a href=\"http://es.wikipedia.org/wiki/Campo_central\">central</a>, es decir tiene componente nula\n",
      "respecto al vector $\\overrightarrow{u}_{\\theta}$. Por consiguiente se debe satisfacer que\n",
      "\n",
      "$$\\frac{1}{r}\\frac{d}{dt} \\left( r^2\\dot{\\theta} \\right)=0\\Longleftrightarrow \\exists h\\in\\mathbb{R}: \\boxed{ r^2\\dot{\\theta}=h}. $$\n",
      "\n",
      "Hemos derivado la <a href=http://es.wikipedia.org/wiki/Leyes_de_Kepler>Segunda Ley de Kepler</a>: El radio vector barre \u00e1reas iguales en tiempos iguales.\n",
      "\n",
      "<img src=\"https://github.com/fdmazzone/Ecuaciones_Diferenciales/blob/master/imagenes/2leykepler.jpeg\">\n",
      "\n",
      "En la direcci\u00f3n radial $\\overrightarrow{u}_r$ la componente de la fuerza es $-\\mu/r^2$. Es decir se satisface la ecuaci\u00f3n\n",
      "$$\n",
      "\\ddot{r}-r\\dot{\\theta}^2=-\\frac{\\mu}{r^2}\n",
      "$$\n",
      "\n",
      "Notar que esta ecuaci\u00f3n entra\u00f1a dos incognitas $r$ y $\\theta$, pero $\\dot{\\theta}$ puede ser remplazado por $h/r^2$ por la segunda Ley de Kepler.\n",
      "Declaremos la variable $h$ que juega un rol importante y reemplacemos $\\dot{\\theta}$ en la ecuaci\u00f3n\n",
      "\n"
     ]
    },
    {
     "cell_type": "code",
     "collapsed": false,
     "input": [
      "h=symbols('h')\n",
      "ed=(sol[a1]).subs(theta.diff(t),h/r**2)\n",
      "ed"
     ],
     "language": "python",
     "metadata": {},
     "outputs": [
      {
       "latex": [
        "$$- \\frac{h^{2}}{r^{3}{\\left (t \\right )}} + \\frac{d^{2}}{d t^{2}}  r{\\left (t \\right )}$$"
       ],
       "metadata": {},
       "output_type": "pyout",
       "png": "[encoded data removed]",
       "prompt_number": 9,
       "text": [
        "     2      2      \n",
        "    h      d       \n",
        "- \u2500\u2500\u2500\u2500\u2500 + \u2500\u2500\u2500(r(t))\n",
        "   3        2      \n",
        "  r (t)   dt       "
       ]
      }
     ],
     "prompt_number": 9
    },
    {
     "cell_type": "markdown",
     "metadata": {},
     "source": [
      "Conseguimos una ecuaci\u00f3n no lineal de segundo orden para $r$. De los m\u00e9todos que hemos visto, ninguno se aplica a esta ecuaci\u00f3n.\n",
      "El truco m\u00e1gico consiste en considerar la nueva variable dependiente $z=1/r$ y la nueva variable independiente\n",
      "$\\theta$."
     ]
    },
    {
     "cell_type": "code",
     "collapsed": false,
     "input": [
      "z=Function('z')(theta)\n",
      "r=1/z\n",
      "ed2=r.diff(t,2)+mu/r**2-h**2/r**3\n",
      "ed2"
     ],
     "language": "python",
     "metadata": {},
     "outputs": [
      {
       "latex": [
        "$$- h^{2} z^{3}{\\left (\\theta{\\left (t \\right )} \\right )} + \\mu z^{2}{\\left (\\theta{\\left (t \\right )} \\right )} + \\frac{1}{z^{2}{\\left (\\theta{\\left (t \\right )} \\right )}} \\left(- \\left(\\frac{d}{d t} \\theta{\\left (t \\right )}\\right)^{2} \\left. \\frac{d^{2}}{d \\xi_{1}^{2}}  z{\\left (\\xi_{1} \\right )} \\right|_{\\substack{ \\xi_{1}=\\theta{\\left (t \\right )} }} - \\frac{d^{2}}{d t^{2}}  \\theta{\\left (t \\right )} \\left. \\frac{d}{d \\xi_{1}} z{\\left (\\xi_{1} \\right )} \\right|_{\\substack{ \\xi_{1}=\\theta{\\left (t \\right )} }} + \\frac{2 \\left(\\frac{d}{d t} \\theta{\\left (t \\right )}\\right)^{2}}{z{\\left (\\theta{\\left (t \\right )} \\right )}} \\left(\\left. \\frac{d}{d \\xi_{1}} z{\\left (\\xi_{1} \\right )} \\right|_{\\substack{ \\xi_{1}=\\theta{\\left (t \\right )} }}\\right)^{2}\\right)$$"
       ],
       "metadata": {},
       "output_type": "pyout",
       "png": "[encoded data removed]",
       "prompt_number": 10,
       "text": [
        "                                                                              \n",
        "                                                                              \n",
        "                                         2 \u239b  2        \u239e\u2502            2        \n",
        "                               \u239bd       \u239e  \u239c d         \u239f\u2502           d        \u239b\n",
        "                             - \u239c\u2500\u2500(\u03b8(t))\u239f \u22c5\u239c\u2500\u2500\u2500\u2500(z(\u03be\u2081))\u239f\u2502        - \u2500\u2500\u2500(\u03b8(t))\u22c5\u239c\n",
        "                               \u239ddt      \u23a0  \u239c   2       \u239f\u2502            2       \u239d\n",
        "   2  3            2                       \u239dd\u03be\u2081        \u23a0\u2502\u03be\u2081=\u03b8(t)   dt         \n",
        "- h \u22c5z (\u03b8(t)) + \u03bc\u22c5z (\u03b8(t)) + \u2500\u2500\u2500\u2500\u2500\u2500\u2500\u2500\u2500\u2500\u2500\u2500\u2500\u2500\u2500\u2500\u2500\u2500\u2500\u2500\u2500\u2500\u2500\u2500\u2500\u2500\u2500\u2500\u2500\u2500\u2500\u2500\u2500\u2500\u2500\u2500\u2500\u2500\u2500\u2500\u2500\u2500\u2500\u2500\u2500\u2500\u2500\u2500\u2500\n",
        "                                                                              \n",
        "                                                                              \n",
        "\n",
        "                                  2                     2\n",
        "                        \u239bd       \u239e  \u239b d        \u239e\u2502        \n",
        "                      2\u22c5\u239c\u2500\u2500(\u03b8(t))\u239f \u22c5\u239c\u2500\u2500\u2500(z(\u03be\u2081))\u239f\u2502        \n",
        " d        \u239e\u2502            \u239ddt      \u23a0  \u239dd\u03be\u2081       \u23a0\u2502\u03be\u2081=\u03b8(t) \n",
        "\u2500\u2500\u2500(z(\u03be\u2081))\u239f\u2502        + \u2500\u2500\u2500\u2500\u2500\u2500\u2500\u2500\u2500\u2500\u2500\u2500\u2500\u2500\u2500\u2500\u2500\u2500\u2500\u2500\u2500\u2500\u2500\u2500\u2500\u2500\u2500\u2500\u2500\u2500\u2500\u2500\u2500\u2500\u2500\n",
        "d\u03be\u2081       \u23a0\u2502\u03be\u2081=\u03b8(t)                 z(\u03b8(t))              \n",
        "                                                         \n",
        "\u2500\u2500\u2500\u2500\u2500\u2500\u2500\u2500\u2500\u2500\u2500\u2500\u2500\u2500\u2500\u2500\u2500\u2500\u2500\u2500\u2500\u2500\u2500\u2500\u2500\u2500\u2500\u2500\u2500\u2500\u2500\u2500\u2500\u2500\u2500\u2500\u2500\u2500\u2500\u2500\u2500\u2500\u2500\u2500\u2500\u2500\u2500\u2500\u2500\u2500\u2500\u2500\u2500\u2500\u2500\u2500\u2500\n",
        " 2                                                       \n",
        "z (\u03b8(t))                                                 "
       ]
      }
     ],
     "prompt_number": 10
    },
    {
     "cell_type": "markdown",
     "metadata": {},
     "source": [
      "En la ecuaci\u00f3n resultante, nuevamente aparece $\\dot{\\theta}$ y adem\u00e1s ahora aparece $\\ddot{\\theta}$. Tenemos que reemplazar\n",
      "$\\dot{\\theta}$ por $hz^2$ y $\\ddot{\\theta}$ por $\\tfrac{d}{dt}hz^2$."
     ]
    },
    {
     "cell_type": "code",
     "collapsed": false,
     "input": [
      "theta2diff=(h*z**2).diff(t).subs(theta.diff(t),h*z**2)\n",
      "ed3=ed2.subs(theta.diff(t,2),theta2diff)\n",
      "ed3=ed3.subs(theta.diff(t),h*z**2)\n",
      "ed3"
     ],
     "language": "python",
     "metadata": {},
     "outputs": [
      {
       "latex": [
        "$$- h^{2} z^{3}{\\left (\\theta{\\left (t \\right )} \\right )} - h^{2} z^{2}{\\left (\\theta{\\left (t \\right )} \\right )} \\left. \\frac{d^{2}}{d \\xi_{1}^{2}}  z{\\left (\\xi_{1} \\right )} \\right|_{\\substack{ \\xi_{1}=\\theta{\\left (t \\right )} }} + \\mu z^{2}{\\left (\\theta{\\left (t \\right )} \\right )}$$"
       ],
       "metadata": {},
       "output_type": "pyout",
       "png": "[encoded data removed]",
       "prompt_number": 11,
       "text": [
        "                            \u239b  2        \u239e\u2502                    \n",
        "   2  3          2  2       \u239c d         \u239f\u2502             2      \n",
        "- h \u22c5z (\u03b8(t)) - h \u22c5z (\u03b8(t))\u22c5\u239c\u2500\u2500\u2500\u2500(z(\u03be\u2081))\u239f\u2502        + \u03bc\u22c5z (\u03b8(t))\n",
        "                            \u239c   2       \u239f\u2502                    \n",
        "                            \u239dd\u03be\u2081        \u23a0\u2502\u03be\u2081=\u03b8(t)             "
       ]
      }
     ],
     "prompt_number": 11
    },
    {
     "cell_type": "code",
     "collapsed": false,
     "input": [
      "(ed3/h**2/z**2).expand()"
     ],
     "language": "python",
     "metadata": {},
     "outputs": [
      {
       "latex": [
        "$$- z{\\left (\\theta{\\left (t \\right )} \\right )} - \\left. \\frac{d^{2}}{d \\xi_{1}^{2}}  z{\\left (\\xi_{1} \\right )} \\right|_{\\substack{ \\xi_{1}=\\theta{\\left (t \\right )} }} + \\frac{\\mu}{h^{2}}$$"
       ],
       "metadata": {},
       "output_type": "pyout",
       "png": "[encoded data removed]",
       "prompt_number": 12,
       "text": [
        "           \u239b  2        \u239e\u2502            \n",
        "           \u239c d         \u239f\u2502          \u03bc \n",
        "-z(\u03b8(t)) - \u239c\u2500\u2500\u2500\u2500(z(\u03be\u2081))\u239f\u2502        + \u2500\u2500\n",
        "           \u239c   2       \u239f\u2502           2\n",
        "           \u239dd\u03be\u2081        \u23a0\u2502\u03be\u2081=\u03b8(t)   h "
       ]
      }
     ],
     "prompt_number": 12
    },
    {
     "cell_type": "code",
     "collapsed": false,
     "input": [],
     "language": "python",
     "metadata": {},
     "outputs": []
    }
   ],
   "metadata": {}
  }
 ]
}