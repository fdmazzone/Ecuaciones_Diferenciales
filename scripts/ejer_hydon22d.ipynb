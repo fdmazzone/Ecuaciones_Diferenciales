{
 "cells": [
  {
   "cell_type": "markdown",
   "metadata": {},
   "source": [
    "En esta notebook resolvemos el ejercicio 2.2(c) p. 41 de Hydon. Hay que hallar el grupo de Lie cuyo generador infintesimal es\n",
    "$$X=2xy\\partial_x+(y^2-x^2)\\partial_y$$\n",
    "La idea es\n",
    "\n",
    "1) Hallar coordenadas canónicas\n",
    "\n",
    "2) Usar que en canónicas el grupo de simetrías satisface \n",
    "\n",
    "$$\\hat{r}=r\\quad\\text{y}\\quad\\hat{s}=s+\\epsilon$$\n",
    "\n",
    "3) Escribir las relaciones anteriores en las variables originales."
   ]
  },
  {
   "cell_type": "code",
   "execution_count": 2,
   "metadata": {
    "collapsed": true
   },
   "outputs": [],
   "source": [
    "from sympy import *\n",
    "init_printing()\n",
    "x,y,r,s=symbols('x,y,r,s')"
   ]
  },
  {
   "cell_type": "code",
   "execution_count": 3,
   "metadata": {
    "collapsed": false
   },
   "outputs": [
    {
     "data": {
      "image/png": "[encoded data removed]",
      "text/latex": [
       "$$f{\\left (x \\right )} = \\sqrt{x \\left(C_{1} - x\\right)}$$"
      ],
      "text/plain": [
       "         ____________\n",
       "f(x) = ╲╱ x⋅(C₁ - x) "
      ]
     },
     "execution_count": 3,
     "metadata": {},
     "output_type": "execute_result"
    }
   ],
   "source": [
    "f=Function('f')(x)\n",
    "dsolve(f.diff(x)-(f**2-x**2)/2/x/f)"
   ]
  },
  {
   "cell_type": "code",
   "execution_count": null,
   "metadata": {
    "collapsed": true
   },
   "outputs": [],
   "source": []
  }
 ],
 "metadata": {
  "kernelspec": {
   "display_name": "Python 3",
   "language": "python",
   "name": "python3"
  },
  "language_info": {
   "codemirror_mode": {
    "name": "ipython",
    "version": 3
   },
   "file_extension": ".py",
   "mimetype": "text/x-python",
   "name": "python",
   "nbconvert_exporter": "python",
   "pygments_lexer": "ipython3",
   "version": "3.4.3"
  }
 },
 "nbformat": 4,
 "nbformat_minor": 0
}
