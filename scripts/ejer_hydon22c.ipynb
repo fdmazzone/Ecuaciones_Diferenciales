{
 "metadata": {
  "name": "Untitled0"
 },
 "nbformat": 3,
 "nbformat_minor": 0,
 "worksheets": [
  {
   "cells": [
    {
     "cell_type": "markdown",
     "metadata": {},
     "source": "En esta notebook resolvemos el ejercicio 2.2(c) p. 41 de Hydon. Hay que hallar el grupo de Lie cuyo generador infintesimal es\n$$X=2xy\\partial_x+(y^2-x^2)\\partial_y$$\nLa idea es\n\n1) Hallar coordenadas can\u00f3nicas\n\n2) Usar que en can\u00f3nicas el grupo de simetr\u00edas satisface \n\n$$\\hat{r}=r\\quad\\text{y}\\quad\\hat{s}=s+\\epsilon$$\n\n3) Escribir las relaciones anteriores en las variables originales.\n"
    },
    {
     "cell_type": "code",
     "collapsed": false,
     "input": "from sympy import *\ninit_printing()\nx,y,r,s=symbols('x,y,r,s')\n",
     "language": "python",
     "metadata": {},
     "outputs": [],
     "prompt_number": "*"
    },
    {
     "cell_type": "code",
     "collapsed": false,
     "input": "f=Function('f')(x)\ndsolve(f.diff(x)-(f**2-x**2)/2/x/f)",
     "language": "python",
     "metadata": {},
     "outputs": [],
     "prompt_number": "*"
    },
    {
     "cell_type": "markdown",
     "metadata": {},
     "source": "$$r=\\frac{y^2+x^2}{x}$$"
    },
    {
     "cell_type": "code",
     "collapsed": false,
     "input": "Integral(1/(2*x*sqrt(x*(r-x))),x).doit()",
     "language": "python",
     "metadata": {},
     "outputs": [],
     "prompt_number": "*"
    },
    {
     "cell_type": "markdown",
     "metadata": {},
     "source": "No lo sabe hacer. Si hacemos la sustituci\u00f3n $x=u^2$ nos queda\n$$\\int\\frac{dx}{2x\\sqrt{x(r-x)}}=\\int\\frac{du}{u^2\\sqrt{r-u^2}}.$$\nY esta si la sabe resolver (y yo no)"
    },
    {
     "cell_type": "code",
     "collapsed": false,
     "input": "u=symbols('u')\nIntegral(1/u**2/sqrt(r-u**2),u).doit()",
     "language": "python",
     "metadata": {},
     "outputs": [],
     "prompt_number": "*"
    },
    {
     "cell_type": "markdown",
     "metadata": {},
     "source": "$s=-\\frac{1}{r}\\sqrt{\\frac{r}{u^2}-1}=  -\\frac{1}{r} \\sqrt{  \\frac{r-x}{x}}=  -\\frac{x}{x^2+y^2} \\sqrt{  \\frac{y^2/x}{x}}=-\\frac{y}{x^2+y^2}$\n\nAhora escribimos\n$$\\hat{r}=r\\quad\\text{y}\\quad\\hat{s}=s+\\epsilon$$\nen $x,y$."
    },
    {
     "cell_type": "code",
     "collapsed": false,
     "input": "x,y,z,w,epsilon=symbols('x,y,z,w,epsilon')\nA=solve([z/(z**2+w**2)-x/(x**2+y**2) , w/(z**2+w**2)-y/(x**2+y**2)+epsilon],[z,w])\nA",
     "language": "python",
     "metadata": {},
     "outputs": [],
     "prompt_number": "*"
    },
    {
     "cell_type": "code",
     "collapsed": false,
     "input": "A[1]",
     "language": "python",
     "metadata": {},
     "outputs": [],
     "prompt_number": "*"
    },
    {
     "cell_type": "code",
     "collapsed": false,
     "input": "A=Matrix(A[1])\nA",
     "language": "python",
     "metadata": {},
     "outputs": [],
     "prompt_number": "*"
    },
    {
     "cell_type": "markdown",
     "metadata": {},
     "source": "Chequeemos que $\\left.\\frac{d}{d\\epsilon}(\\hat{x},\\hat{y})\\right|_{\\epsilon=0}=(2xy,y^2-x^2)$"
    },
    {
     "cell_type": "code",
     "collapsed": false,
     "input": "A.diff(epsilon).subs(epsilon,0)",
     "language": "python",
     "metadata": {},
     "outputs": [],
     "prompt_number": "*"
    },
    {
     "cell_type": "markdown",
     "metadata": {},
     "source": "Chequeemos la propiedad de grupo de Lie. Definimos el operador $T$ con lambda"
    },
    {
     "cell_type": "code",
     "collapsed": false,
     "input": "T=lambda x,y,epsilon: Matrix([ x/(epsilon**2*(x**2+y**2)-2*epsilon*y+1),-(epsilon*x**2+epsilon*y**2-y)/(epsilon**2*(x**2+y**2)-2*epsilon*y+1)])",
     "language": "python",
     "metadata": {},
     "outputs": [],
     "prompt_number": "*"
    },
    {
     "cell_type": "code",
     "collapsed": false,
     "input": "epsilon_1,epsilon_2=symbols('epsilon_1,epsilon_2')\nexpr=T(T(x,y,epsilon_1)[0],T(x,y,epsilon_1)[1],epsilon_2)-T(x,y,epsilon_1+epsilon_2)\nexpr",
     "language": "python",
     "metadata": {},
     "outputs": [],
     "prompt_number": "*"
    },
    {
     "cell_type": "code",
     "collapsed": false,
     "input": "simplify(expr)",
     "language": "python",
     "metadata": {},
     "outputs": [],
     "prompt_number": "*"
    },
    {
     "cell_type": "code",
     "collapsed": false,
     "input": "from IPython.core.display import HTML\ndef css_styling():\n    styles = open('../styles/custom.css', 'r').read()\n    return HTML(styles)\ncss_styling()\n\n",
     "language": "python",
     "metadata": {},
     "outputs": [],
     "prompt_number": "*"
    },
    {
     "cell_type": "code",
     "collapsed": false,
     "input": "",
     "language": "python",
     "metadata": {},
     "outputs": [],
     "prompt_number": "*"
    },
    {
     "cell_type": "code",
     "collapsed": false,
     "input": "",
     "language": "python",
     "metadata": {},
     "outputs": [],
     "prompt_number": "*"
    },
    {
     "cell_type": "code",
     "collapsed": false,
     "input": "",
     "language": "python",
     "metadata": {},
     "outputs": []
    }
   ],
   "metadata": {}
  }
 ]
}