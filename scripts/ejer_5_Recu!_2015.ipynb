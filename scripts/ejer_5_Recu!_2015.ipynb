{
 "metadata": {
  "name": "ejer_5_Recu!_2015"
 },
 "nbformat": 3,
 "nbformat_minor": 0,
 "worksheets": [
  {
   "cells": [
    {
     "cell_type": "markdown",
     "metadata": {},
     "source": "**Ejercicio N\u00b0 5**  Recuperatorio Primer Parcial 2015\n\nLas siguientes relaciones\n\n$$\\hat{x}=\\frac{x(x+y)}{x+y+\\epsilon}$$\n$$\\hat{y}=\\frac{(x+y)(\\epsilon x+y)}{x+y+\\epsilon}$$\ndefinen un grupo de Lie uniparamerico. Usando SymPy demostrar que $(\\hat{x},\\hat{y})$ son simetr\u00edas de la ecuaci\u00f3n   \n\n$$y'=\\frac{ x^2\\sin(x + y) + y}{x(1-x\\sin(x + y))}.$$\n\nEncontrar variables can\u00f3nicas asocidas a las simetr\u00edas.  Resolver la ecuaci\u00f3n diferencial.\n"
    },
    {
     "cell_type": "heading",
     "level": 4,
     "metadata": {},
     "source": "Primero veamos si el grupo propuesto es simetr\u00eda de la ecuaci\u00f3n."
    },
    {
     "cell_type": "code",
     "collapsed": false,
     "input": "from sympy import *\ninit_printing()\nx,epsilon=symbols('x,epsilon')\ny=Function('y')(x)\nx1=x*(x+y)/(y+(1+epsilon)*x)\ny1=(epsilon*x+y)*(x+y)/(y+(1+epsilon)*x)\nexp1=y1.diff(x)/x1.diff(x)\nexp2=exp1.subs(y.diff(x),(x**2*sin(x+y)+y)/x/(1-x*sin(x+y)))\nx1,y1=symbols('x1,y1')\nexp2=exp2.simplify()\nexp3=exp2.subs({y:(-epsilon*x1+y1)*(x1+y1)/(y1+(1-epsilon)*x1),x:x1*(x1+y1)/(y1+(1-epsilon)*x1)})\n",
     "language": "python",
     "metadata": {},
     "outputs": [],
     "prompt_number": 1
    },
    {
     "cell_type": "heading",
     "level": 4,
     "metadata": {},
     "source": "En exp3 tenemos el resultado del cambio de varibles en la ecuaci\u00f3n. Veamos que tiene"
    },
    {
     "cell_type": "code",
     "collapsed": false,
     "input": "exp3",
     "language": "python",
     "metadata": {},
     "outputs": [
      {
       "latex": "$$\\frac{\\left(x_{1} \\left(- \\epsilon + 1\\right) + y_{1}\\right) \\left(\\frac{\\epsilon^{2} x_{1}^{2} \\left(x_{1} + y_{1}\\right)^{2}}{\\left(x_{1} \\left(- \\epsilon + 1\\right) + y_{1}\\right)^{2}} + \\frac{\\epsilon x_{1}^{2} \\left(x_{1} + y_{1}\\right)^{2}}{\\left(x_{1} \\left(- \\epsilon + 1\\right) + y_{1}\\right)^{2}} + \\frac{2 \\epsilon x_{1} \\left(x_{1} + y_{1}\\right)^{2} \\left(- \\epsilon x_{1} + y_{1}\\right)}{\\left(x_{1} \\left(- \\epsilon + 1\\right) + y_{1}\\right)^{2}} + \\frac{x_{1}^{3} \\left(x_{1} + y_{1}\\right)^{3}}{\\left(x_{1} \\left(- \\epsilon + 1\\right) + y_{1}\\right)^{3}} \\sin{\\left (\\frac{x_{1} \\left(x_{1} + y_{1}\\right)}{x_{1} \\left(- \\epsilon + 1\\right) + y_{1}} + \\frac{\\left(x_{1} + y_{1}\\right) \\left(- \\epsilon x_{1} + y_{1}\\right)}{x_{1} \\left(- \\epsilon + 1\\right) + y_{1}} \\right )} + \\frac{x_{1}^{2} \\left(x_{1} + y_{1}\\right)^{3}}{\\left(x_{1} \\left(- \\epsilon + 1\\right) + y_{1}\\right)^{3}} \\left(- \\epsilon x_{1} + y_{1}\\right) \\sin{\\left (\\frac{x_{1} \\left(x_{1} + y_{1}\\right)}{x_{1} \\left(- \\epsilon + 1\\right) + y_{1}} + \\frac{\\left(x_{1} + y_{1}\\right) \\left(- \\epsilon x_{1} + y_{1}\\right)}{x_{1} \\left(- \\epsilon + 1\\right) + y_{1}} \\right )} + \\frac{x_{1} \\left(x_{1} + y_{1}\\right)^{2} \\left(- \\epsilon x_{1} + y_{1}\\right)}{\\left(x_{1} \\left(- \\epsilon + 1\\right) + y_{1}\\right)^{2}} + \\frac{\\left(x_{1} + y_{1}\\right)^{2} \\left(- \\epsilon x_{1} + y_{1}\\right)^{2}}{\\left(x_{1} \\left(- \\epsilon + 1\\right) + y_{1}\\right)^{2}}\\right)}{x_{1} \\left(x_{1} + y_{1}\\right) \\left(\\frac{\\epsilon x_{1} \\left(x_{1} + y_{1}\\right)}{x_{1} \\left(- \\epsilon + 1\\right) + y_{1}} - \\frac{x_{1}^{2} \\left(x_{1} + y_{1}\\right)^{2}}{\\left(x_{1} \\left(- \\epsilon + 1\\right) + y_{1}\\right)^{2}} \\sin{\\left (\\frac{x_{1} \\left(x_{1} + y_{1}\\right)}{x_{1} \\left(- \\epsilon + 1\\right) + y_{1}} + \\frac{\\left(x_{1} + y_{1}\\right) \\left(- \\epsilon x_{1} + y_{1}\\right)}{x_{1} \\left(- \\epsilon + 1\\right) + y_{1}} \\right )} - \\frac{x_{1} \\left(x_{1} + y_{1}\\right)^{2}}{\\left(x_{1} \\left(- \\epsilon + 1\\right) + y_{1}\\right)^{2}} \\left(- \\epsilon x_{1} + y_{1}\\right) \\sin{\\left (\\frac{x_{1} \\left(x_{1} + y_{1}\\right)}{x_{1} \\left(- \\epsilon + 1\\right) + y_{1}} + \\frac{\\left(x_{1} + y_{1}\\right) \\left(- \\epsilon x_{1} + y_{1}\\right)}{x_{1} \\left(- \\epsilon + 1\\right) + y_{1}} \\right )} + \\frac{x_{1} \\left(x_{1} + y_{1}\\right)}{x_{1} \\left(- \\epsilon + 1\\right) + y_{1}} + \\frac{\\left(x_{1} + y_{1}\\right) \\left(- \\epsilon x_{1} + y_{1}\\right)}{x_{1} \\left(- \\epsilon + 1\\right) + y_{1}}\\right)}$$",
       "metadata": {},
       "output_type": "pyout",
       "png": "[encoded data removed]",
       "prompt_number": 2,
       "text": "                   \u239b                                                          \n                   \u239c  2   2          2          2          2                  \n                   \u239c \u03b5 \u22c5x\u2081 \u22c5(x\u2081 + y\u2081)       \u03b5\u22c5x\u2081 \u22c5(x\u2081 + y\u2081)     2\u22c5\u03b5\u22c5x\u2081\u22c5(x\u2081 + y\n(x\u2081\u22c5(-\u03b5 + 1) + y\u2081)\u22c5\u239c\u2500\u2500\u2500\u2500\u2500\u2500\u2500\u2500\u2500\u2500\u2500\u2500\u2500\u2500\u2500\u2500\u2500\u2500\u2500 + \u2500\u2500\u2500\u2500\u2500\u2500\u2500\u2500\u2500\u2500\u2500\u2500\u2500\u2500\u2500\u2500\u2500\u2500\u2500 + \u2500\u2500\u2500\u2500\u2500\u2500\u2500\u2500\u2500\u2500\u2500\u2500\u2500\u2500\n                   \u239c                  2                     2                 \n                   \u239d(x\u2081\u22c5(-\u03b5 + 1) + y\u2081)    (x\u2081\u22c5(-\u03b5 + 1) + y\u2081)         (x\u2081\u22c5(-\u03b5 +\n\u2500\u2500\u2500\u2500\u2500\u2500\u2500\u2500\u2500\u2500\u2500\u2500\u2500\u2500\u2500\u2500\u2500\u2500\u2500\u2500\u2500\u2500\u2500\u2500\u2500\u2500\u2500\u2500\u2500\u2500\u2500\u2500\u2500\u2500\u2500\u2500\u2500\u2500\u2500\u2500\u2500\u2500\u2500\u2500\u2500\u2500\u2500\u2500\u2500\u2500\u2500\u2500\u2500\u2500\u2500\u2500\u2500\u2500\u2500\u2500\u2500\u2500\u2500\u2500\u2500\u2500\u2500\u2500\u2500\u2500\u2500\u2500\u2500\u2500\u2500\u2500\u2500\u2500\n                                                   \u239b                     2    \n                                                   \u239c                   x\u2081 \u22c5(x\u2081\n                                                   \u239c \u03b5\u22c5x\u2081\u22c5(x\u2081 + y\u2081)           \n                                      x\u2081\u22c5(x\u2081 + y\u2081)\u22c5\u239c\u2500\u2500\u2500\u2500\u2500\u2500\u2500\u2500\u2500\u2500\u2500\u2500\u2500\u2500\u2500\u2500 - \u2500\u2500\u2500\u2500\u2500\u2500\u2500\n                                                   \u239cx\u2081\u22c5(-\u03b5 + 1) + y\u2081          \n                                                   \u239d                          \n\n                     3          3    \u239b  x\u2081\u22c5(x\u2081 + y\u2081)     (x\u2081 + y\u2081)\u22c5(-\u03b5\u22c5x\u2081 + y\u2081\n  2                x\u2081 \u22c5(x\u2081 + y\u2081) \u22c5sin\u239c\u2500\u2500\u2500\u2500\u2500\u2500\u2500\u2500\u2500\u2500\u2500\u2500\u2500\u2500\u2500\u2500 + \u2500\u2500\u2500\u2500\u2500\u2500\u2500\u2500\u2500\u2500\u2500\u2500\u2500\u2500\u2500\u2500\u2500\u2500\u2500\u2500\u2500\n\u2081) \u22c5(-\u03b5\u22c5x\u2081 + y\u2081)                     \u239dx\u2081\u22c5(-\u03b5 + 1) + y\u2081      x\u2081\u22c5(-\u03b5 + 1) + y\u2081  \n\u2500\u2500\u2500\u2500\u2500\u2500\u2500\u2500\u2500\u2500\u2500\u2500\u2500\u2500\u2500\u2500 + \u2500\u2500\u2500\u2500\u2500\u2500\u2500\u2500\u2500\u2500\u2500\u2500\u2500\u2500\u2500\u2500\u2500\u2500\u2500\u2500\u2500\u2500\u2500\u2500\u2500\u2500\u2500\u2500\u2500\u2500\u2500\u2500\u2500\u2500\u2500\u2500\u2500\u2500\u2500\u2500\u2500\u2500\u2500\u2500\u2500\u2500\u2500\u2500\u2500\u2500\u2500\u2500\u2500\u2500\u2500\u2500\u2500\u2500\u2500\n         2                                                3                   \n 1) + y\u2081)                               (x\u2081\u22c5(-\u03b5 + 1) + y\u2081)                    \n\u2500\u2500\u2500\u2500\u2500\u2500\u2500\u2500\u2500\u2500\u2500\u2500\u2500\u2500\u2500\u2500\u2500\u2500\u2500\u2500\u2500\u2500\u2500\u2500\u2500\u2500\u2500\u2500\u2500\u2500\u2500\u2500\u2500\u2500\u2500\u2500\u2500\u2500\u2500\u2500\u2500\u2500\u2500\u2500\u2500\u2500\u2500\u2500\u2500\u2500\u2500\u2500\u2500\u2500\u2500\u2500\u2500\u2500\u2500\u2500\u2500\u2500\u2500\u2500\u2500\u2500\u2500\u2500\u2500\u2500\u2500\u2500\u2500\u2500\u2500\u2500\u2500\u2500\n      2    \u239b  x\u2081\u22c5(x\u2081 + y\u2081)     (x\u2081 + y\u2081)\u22c5(-\u03b5\u22c5x\u2081 + y\u2081)\u239e               2        \n + y\u2081) \u22c5sin\u239c\u2500\u2500\u2500\u2500\u2500\u2500\u2500\u2500\u2500\u2500\u2500\u2500\u2500\u2500\u2500\u2500 + \u2500\u2500\u2500\u2500\u2500\u2500\u2500\u2500\u2500\u2500\u2500\u2500\u2500\u2500\u2500\u2500\u2500\u2500\u2500\u2500\u2500\u2500\u239f   x\u2081\u22c5(x\u2081 + y\u2081) \u22c5(-\u03b5\u22c5x\u2081 \n           \u239dx\u2081\u22c5(-\u03b5 + 1) + y\u2081      x\u2081\u22c5(-\u03b5 + 1) + y\u2081   \u23a0                        \n\u2500\u2500\u2500\u2500\u2500\u2500\u2500\u2500\u2500\u2500\u2500\u2500\u2500\u2500\u2500\u2500\u2500\u2500\u2500\u2500\u2500\u2500\u2500\u2500\u2500\u2500\u2500\u2500\u2500\u2500\u2500\u2500\u2500\u2500\u2500\u2500\u2500\u2500\u2500\u2500\u2500\u2500\u2500\u2500\u2500\u2500\u2500\u2500\u2500\u2500\u2500\u2500\u2500\u2500 - \u2500\u2500\u2500\u2500\u2500\u2500\u2500\u2500\u2500\u2500\u2500\u2500\u2500\u2500\u2500\u2500\u2500\u2500\u2500\u2500\u2500\n                                2                                             \n              (x\u2081\u22c5(-\u03b5 + 1) + y\u2081)                                              \n\n)\u239e     2          3                 \u239b  x\u2081\u22c5(x\u2081 + y\u2081)     (x\u2081 + y\u2081)\u22c5(-\u03b5\u22c5x\u2081 + y\u2081)\n\u2500\u239f   x\u2081 \u22c5(x\u2081 + y\u2081) \u22c5(-\u03b5\u22c5x\u2081 + y\u2081)\u22c5sin\u239c\u2500\u2500\u2500\u2500\u2500\u2500\u2500\u2500\u2500\u2500\u2500\u2500\u2500\u2500\u2500\u2500 + \u2500\u2500\u2500\u2500\u2500\u2500\u2500\u2500\u2500\u2500\u2500\u2500\u2500\u2500\u2500\u2500\u2500\u2500\u2500\u2500\u2500\u2500\n \u23a0                                  \u239dx\u2081\u22c5(-\u03b5 + 1) + y\u2081      x\u2081\u22c5(-\u03b5 + 1) + y\u2081   \n\u2500\u2500 + \u2500\u2500\u2500\u2500\u2500\u2500\u2500\u2500\u2500\u2500\u2500\u2500\u2500\u2500\u2500\u2500\u2500\u2500\u2500\u2500\u2500\u2500\u2500\u2500\u2500\u2500\u2500\u2500\u2500\u2500\u2500\u2500\u2500\u2500\u2500\u2500\u2500\u2500\u2500\u2500\u2500\u2500\u2500\u2500\u2500\u2500\u2500\u2500\u2500\u2500\u2500\u2500\u2500\u2500\u2500\u2500\u2500\u2500\u2500\u2500\u2500\u2500\u2500\u2500\u2500\u2500\u2500\u2500\u2500\u2500\u2500\u2500\u2500\n                                                  3                           \n                                (x\u2081\u22c5(-\u03b5 + 1) + y\u2081)                            \n\u2500\u2500\u2500\u2500\u2500\u2500\u2500\u2500\u2500\u2500\u2500\u2500\u2500\u2500\u2500\u2500\u2500\u2500\u2500\u2500\u2500\u2500\u2500\u2500\u2500\u2500\u2500\u2500\u2500\u2500\u2500\u2500\u2500\u2500\u2500\u2500\u2500\u2500\u2500\u2500\u2500\u2500\u2500\u2500\u2500\u2500\u2500\u2500\u2500\u2500\u2500\u2500\u2500\u2500\u2500\u2500\u2500\u2500\u2500\u2500\u2500\u2500\u2500\u2500\u2500\u2500\u2500\u2500\u2500\u2500\u2500\u2500\u2500\u2500\u2500\u2500\u2500\u2500\n         \u239b  x\u2081\u22c5(x\u2081 + y\u2081)     (x\u2081 + y\u2081)\u22c5(-\u03b5\u22c5x\u2081 + y\u2081)\u239e                          \n+ y\u2081)\u22c5sin\u239c\u2500\u2500\u2500\u2500\u2500\u2500\u2500\u2500\u2500\u2500\u2500\u2500\u2500\u2500\u2500\u2500 + \u2500\u2500\u2500\u2500\u2500\u2500\u2500\u2500\u2500\u2500\u2500\u2500\u2500\u2500\u2500\u2500\u2500\u2500\u2500\u2500\u2500\u2500\u239f                          \n         \u239dx\u2081\u22c5(-\u03b5 + 1) + y\u2081      x\u2081\u22c5(-\u03b5 + 1) + y\u2081   \u23a0     x\u2081\u22c5(x\u2081 + y\u2081)     (x\u2081 \n\u2500\u2500\u2500\u2500\u2500\u2500\u2500\u2500\u2500\u2500\u2500\u2500\u2500\u2500\u2500\u2500\u2500\u2500\u2500\u2500\u2500\u2500\u2500\u2500\u2500\u2500\u2500\u2500\u2500\u2500\u2500\u2500\u2500\u2500\u2500\u2500\u2500\u2500\u2500\u2500\u2500\u2500\u2500\u2500\u2500\u2500\u2500\u2500\u2500\u2500\u2500\u2500 + \u2500\u2500\u2500\u2500\u2500\u2500\u2500\u2500\u2500\u2500\u2500\u2500\u2500\u2500\u2500\u2500 + \u2500\u2500\u2500\u2500\n                        2                              x\u2081\u22c5(-\u03b5 + 1) + y\u2081      x\n      (x\u2081\u22c5(-\u03b5 + 1) + y\u2081)                                                      \n\n\u239e                                                        \u239e\n\u239f               2                         2             2\u239f\n\u23a0   x\u2081\u22c5(x\u2081 + y\u2081) \u22c5(-\u03b5\u22c5x\u2081 + y\u2081)   (x\u2081 + y\u2081) \u22c5(-\u03b5\u22c5x\u2081 + y\u2081) \u239f\n\u2500 + \u2500\u2500\u2500\u2500\u2500\u2500\u2500\u2500\u2500\u2500\u2500\u2500\u2500\u2500\u2500\u2500\u2500\u2500\u2500\u2500\u2500\u2500\u2500\u2500\u2500\u2500 + \u2500\u2500\u2500\u2500\u2500\u2500\u2500\u2500\u2500\u2500\u2500\u2500\u2500\u2500\u2500\u2500\u2500\u2500\u2500\u2500\u2500\u2500\u2500\u2500\u239f\n                         2                           2   \u239f\n       (x\u2081\u22c5(-\u03b5 + 1) + y\u2081)          (x\u2081\u22c5(-\u03b5 + 1) + y\u2081)    \u23a0\n\u2500\u2500\u2500\u2500\u2500\u2500\u2500\u2500\u2500\u2500\u2500\u2500\u2500\u2500\u2500\u2500\u2500\u2500\u2500\u2500\u2500\u2500\u2500\u2500\u2500\u2500\u2500\u2500\u2500\u2500\u2500\u2500\u2500\u2500\u2500\u2500\u2500\u2500\u2500\u2500\u2500\u2500\u2500\u2500\u2500\u2500\u2500\u2500\u2500\u2500\u2500\u2500\u2500\u2500\u2500\u2500\u2500\u2500\n                  \u239e                                       \n                  \u239f                                       \n+ y\u2081)\u22c5(-\u03b5\u22c5x\u2081 + y\u2081)\u239f                                       \n\u2500\u2500\u2500\u2500\u2500\u2500\u2500\u2500\u2500\u2500\u2500\u2500\u2500\u2500\u2500\u2500\u2500\u2500\u239f                                       \n\u2081\u22c5(-\u03b5 + 1) + y\u2081   \u239f                                       \n                  \u23a0                                       "
      }
     ],
     "prompt_number": 2
    },
    {
     "cell_type": "heading",
     "level": 4,
     "metadata": {},
     "source": "Verdaderamente asusta. Veamos si lo simplifica"
    },
    {
     "cell_type": "code",
     "collapsed": false,
     "input": "exp4=exp3.simplify()\nexp4",
     "language": "python",
     "metadata": {},
     "outputs": [
      {
       "latex": "$$\\frac{- x_{1}^{2} \\sin{\\left (\\frac{1}{\\epsilon x_{1} - x_{1} - y_{1}} \\left(- \\epsilon x_{1}^{2} - \\epsilon x_{1} y_{1} + x_{1}^{2} + 2 x_{1} y_{1} + y_{1}^{2}\\right) \\right )} + y_{1}}{x_{1} \\left(x_{1} \\sin{\\left (\\frac{1}{\\epsilon x_{1} - x_{1} - y_{1}} \\left(- \\epsilon x_{1}^{2} - \\epsilon x_{1} y_{1} + x_{1}^{2} + 2 x_{1} y_{1} + y_{1}^{2}\\right) \\right )} + 1\\right)}$$",
       "metadata": {},
       "output_type": "pyout",
       "png": "[encoded data removed]",
       "prompt_number": 3,
       "text": "         \u239b      2               2               2\u239e      \n    2    \u239c- \u03b5\u22c5x\u2081  - \u03b5\u22c5x\u2081\u22c5y\u2081 + x\u2081  + 2\u22c5x\u2081\u22c5y\u2081 + y\u2081 \u239f      \n- x\u2081 \u22c5sin\u239c\u2500\u2500\u2500\u2500\u2500\u2500\u2500\u2500\u2500\u2500\u2500\u2500\u2500\u2500\u2500\u2500\u2500\u2500\u2500\u2500\u2500\u2500\u2500\u2500\u2500\u2500\u2500\u2500\u2500\u2500\u2500\u2500\u2500\u2500\u2500\u2500\u2500\u2500\u2500\u239f + y\u2081 \n         \u239d             \u03b5\u22c5x\u2081 - x\u2081 - y\u2081            \u23a0      \n\u2500\u2500\u2500\u2500\u2500\u2500\u2500\u2500\u2500\u2500\u2500\u2500\u2500\u2500\u2500\u2500\u2500\u2500\u2500\u2500\u2500\u2500\u2500\u2500\u2500\u2500\u2500\u2500\u2500\u2500\u2500\u2500\u2500\u2500\u2500\u2500\u2500\u2500\u2500\u2500\u2500\u2500\u2500\u2500\u2500\u2500\u2500\u2500\u2500\u2500\u2500\u2500\u2500\u2500\u2500\u2500\n   \u239b      \u239b      2               2               2\u239e    \u239e\n   \u239c      \u239c- \u03b5\u22c5x\u2081  - \u03b5\u22c5x\u2081\u22c5y\u2081 + x\u2081  + 2\u22c5x\u2081\u22c5y\u2081 + y\u2081 \u239f    \u239f\nx\u2081\u22c5\u239cx\u2081\u22c5sin\u239c\u2500\u2500\u2500\u2500\u2500\u2500\u2500\u2500\u2500\u2500\u2500\u2500\u2500\u2500\u2500\u2500\u2500\u2500\u2500\u2500\u2500\u2500\u2500\u2500\u2500\u2500\u2500\u2500\u2500\u2500\u2500\u2500\u2500\u2500\u2500\u2500\u2500\u2500\u2500\u239f + 1\u239f\n   \u239d      \u239d             \u03b5\u22c5x\u2081 - x\u2081 - y\u2081            \u23a0    \u23a0"
      }
     ],
     "prompt_number": 3
    },
    {
     "cell_type": "heading",
     "level": 4,
     "metadata": {},
     "source": "La ecuaci\u00f3n luce parecida a la original, pero lamentablemete no simplifica el argumento de la funci\u00f3n sen. Tomo esos argumentos por separado y le pido que me los simplifique"
    },
    {
     "cell_type": "code",
     "collapsed": false,
     "input": "((-epsilon*x1**2 - epsilon*x1*y1 + x1**2 + 2*x1*y1 + y1**2)/(epsilon*x1 - x1 - y1)).simplify()",
     "language": "python",
     "metadata": {},
     "outputs": [
      {
       "latex": "$$- x_{1} - y_{1}$$",
       "metadata": {},
       "output_type": "pyout",
       "png": "[encoded data removed]",
       "prompt_number": 4,
       "text": "-x\u2081 - y\u2081"
      }
     ],
     "prompt_number": 4
    },
    {
     "cell_type": "heading",
     "level": 4,
     "metadata": {},
     "source": "Los argumentos de la funci\u00f3n sen es -x1-y1 que es justo lo que necesito para que quede la ecuaci\u00f3n original. \n\nAhora hallemos coordenadas can\u00f3nicas"
    },
    {
     "cell_type": "code",
     "collapsed": false,
     "input": "x1=x*(x+y)/(y+(1+epsilon)*x)\ny1=(epsilon*x+y)*(x+y)/(y+(1+epsilon)*x)\nxi=x1.diff(epsilon).subs(epsilon,0)\neta=y1.diff(epsilon).subs(epsilon,0)\nxi,eta\n",
     "language": "python",
     "metadata": {},
     "outputs": [
      {
       "latex": "$$\\begin{pmatrix}- \\frac{x^{2}}{x + y{\\left (x \\right )}}, & x - \\frac{x y{\\left (x \\right )}}{x + y{\\left (x \\right )}}\\end{pmatrix}$$",
       "metadata": {},
       "output_type": "pyout",
       "png": "[encoded data removed]",
       "prompt_number": 5,
       "text": "\u239b    2                 \u239e\n\u239c  -x           x\u22c5y(x) \u239f\n\u239c\u2500\u2500\u2500\u2500\u2500\u2500\u2500\u2500, x - \u2500\u2500\u2500\u2500\u2500\u2500\u2500\u2500\u239f\n\u239dx + y(x)      x + y(x)\u23a0"
      }
     ],
     "prompt_number": 5
    },
    {
     "cell_type": "code",
     "collapsed": false,
     "input": "(eta/xi).simplify()",
     "language": "python",
     "metadata": {},
     "outputs": [
      {
       "latex": "$$-1$$",
       "metadata": {},
       "output_type": "pyout",
       "png": "[encoded data removed]",
       "prompt_number": 6,
       "text": "-1"
      }
     ],
     "prompt_number": 6
    },
    {
     "cell_type": "code",
     "collapsed": false,
     "input": "dsolve(y.diff(x)-eta/xi,y)",
     "language": "python",
     "metadata": {},
     "outputs": [
      {
       "latex": "$$y{\\left (x \\right )} = C_{1} - x$$",
       "metadata": {},
       "output_type": "pyout",
       "png": "[encoded data removed]",
       "prompt_number": 7,
       "text": "y(x) = C\u2081 - x"
      }
     ],
     "prompt_number": 7
    },
    {
     "cell_type": "heading",
     "level": 4,
     "metadata": {},
     "source": "Vemos que r=y+x"
    },
    {
     "cell_type": "code",
     "collapsed": false,
     "input": "r=symbols('r')\ns=Integral((1/xi).subs(y,r-x),x).doit()\ns",
     "language": "python",
     "metadata": {},
     "outputs": [
      {
       "latex": "$$\\frac{r}{x}$$",
       "metadata": {},
       "output_type": "pyout",
       "png": "[encoded data removed]",
       "prompt_number": 8,
       "text": "r\n\u2500\nx"
      }
     ],
     "prompt_number": 8
    },
    {
     "cell_type": "code",
     "collapsed": false,
     "input": "s=s.subs(r,x+y)\ns",
     "language": "python",
     "metadata": {},
     "outputs": [
      {
       "latex": "$$\\frac{1}{x} \\left(x + y{\\left (x \\right )}\\right)$$",
       "metadata": {},
       "output_type": "pyout",
       "png": "[encoded data removed]",
       "prompt_number": 9,
       "text": "x + y(x)\n\u2500\u2500\u2500\u2500\u2500\u2500\u2500\u2500\n   x    "
      }
     ],
     "prompt_number": 9
    },
    {
     "cell_type": "code",
     "collapsed": false,
     "input": "s.expand()\n",
     "language": "python",
     "metadata": {},
     "outputs": [
      {
       "latex": "$$1 + \\frac{1}{x} y{\\left (x \\right )}$$",
       "metadata": {},
       "output_type": "pyout",
       "png": "[encoded data removed]",
       "prompt_number": 10,
       "text": "    y(x)\n1 + \u2500\u2500\u2500\u2500\n     x  "
      }
     ],
     "prompt_number": 10
    },
    {
     "cell_type": "heading",
     "level": 4,
     "metadata": {},
     "source": "La variable s ser\u00eda 1+y/x. Pero las variables can\u00f3nicas no son \u00fanicas, vimos que (F(r),G(r)+s) es can\u00f3nica, para cualquier F no nula y G.En particular si tomamos F(r)=r y G(r)=-1, vemos que podemos elegir como coordenadas can\u00f3nicas r=x+y y s=y/x.\n\nHagamos la sustituci\u00f3n en coordenadas can\u00f3nicas"
    },
    {
     "cell_type": "code",
     "collapsed": false,
     "input": "r=x+y\ns=y/x\nexp5=r.diff(x)/s.diff(x)\nexp6=exp5.subs(y.diff(x),(x**2*sin(x+y)+y)/x/(1-x*sin(x+y)))\nexp6.simplify()\n",
     "language": "python",
     "metadata": {},
     "outputs": [
      {
       "latex": "$$\\frac{1}{\\sin{\\left (x + y{\\left (x \\right )} \\right )}}$$",
       "metadata": {},
       "output_type": "pyout",
       "png": "[encoded data removed]",
       "prompt_number": 11,
       "text": "      1      \n\u2500\u2500\u2500\u2500\u2500\u2500\u2500\u2500\u2500\u2500\u2500\u2500\u2500\nsin(x + y(x))"
      }
     ],
     "prompt_number": 11
    },
    {
     "cell_type": "heading",
     "level": 4,
     "metadata": {},
     "source": "Vemos que el resultado es 1/sen(r). No obstante hagamos, de curiosidad, la sustituci\u00f3n como si no nos hubiesemos dado cuenta todav\u00eda del resultado. Hallemos los cambios inversos (r,s)->(x,y)"
    },
    {
     "cell_type": "code",
     "collapsed": false,
     "input": "r2,s2,x2,y2=symbols('r2,s2,x2,y2')\nsolve([r2-x2-y2,s2-y2/x2],[x2,y2])",
     "language": "python",
     "metadata": {},
     "outputs": [
      {
       "latex": "$$\\begin{Bmatrix}x_{2} : \\frac{r_{2}}{s_{2} + 1}, & y_{2} : \\frac{r_{2} s_{2}}{s_{2} + 1}\\end{Bmatrix}$$",
       "metadata": {},
       "output_type": "pyout",
       "png": "[encoded data removed]",
       "prompt_number": 12,
       "text": "\u23a7      r\u2082        r\u2082\u22c5s\u2082 \u23ab\n\u23a8x\u2082: \u2500\u2500\u2500\u2500\u2500\u2500, y\u2082: \u2500\u2500\u2500\u2500\u2500\u2500\u23ac\n\u23a9    s\u2082 + 1      s\u2082 + 1\u23ad"
      }
     ],
     "prompt_number": 12
    },
    {
     "cell_type": "code",
     "collapsed": false,
     "input": "exp6.subs({y:r2*s2/(s2+1),x:r2/(s2+1)}).simplify()",
     "language": "python",
     "metadata": {},
     "outputs": [
      {
       "latex": "$$\\frac{1}{\\sin{\\left (r_{2} \\right )}}$$",
       "metadata": {},
       "output_type": "pyout",
       "png": "[encoded data removed]",
       "prompt_number": 13,
       "text": "   1   \n\u2500\u2500\u2500\u2500\u2500\u2500\u2500\nsin(r\u2082)"
      }
     ],
     "prompt_number": 13
    },
    {
     "cell_type": "heading",
     "level": 4,
     "metadata": {},
     "source": "La ecuaci\u00f3n que resulta r'=1/sen(r) se resuelve facilmente a mano. Nos queda cos(r)=s+C  ->  cos(x+y)=y/x+C que es la soluci\u00f3n de la ecuaci\u00f3n original"
    },
    {
     "cell_type": "code",
     "collapsed": false,
     "input": "",
     "language": "python",
     "metadata": {},
     "outputs": [],
     "prompt_number": 13
    }
   ],
   "metadata": {}
  }
 ]
}